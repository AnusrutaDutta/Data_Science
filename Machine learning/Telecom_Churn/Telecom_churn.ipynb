{
 "cells": [
  {
   "cell_type": "markdown",
   "metadata": {},
   "source": [
    "# 1. Import the Warning"
   ]
  },
  {
   "cell_type": "code",
   "execution_count": 211,
   "metadata": {},
   "outputs": [],
   "source": [
    "import warnings\n",
    "warnings.filterwarnings('ignore')"
   ]
  },
  {
   "cell_type": "markdown",
   "metadata": {},
   "source": [
    "# 2. Importing Another libraries"
   ]
  },
  {
   "cell_type": "code",
   "execution_count": 212,
   "metadata": {},
   "outputs": [],
   "source": [
    "import numpy as np\n",
    "import pandas as pd\n",
    "import matplotlib.pyplot as plt\n",
    "import seaborn as sns\n",
    "%matplotlib inline"
   ]
  },
  {
   "cell_type": "markdown",
   "metadata": {},
   "source": [
    "# 3. Read the Details"
   ]
  },
  {
   "cell_type": "code",
   "execution_count": 213,
   "metadata": {},
   "outputs": [],
   "source": [
    "details=pd.read_csv('Telecom Churn Data Dictionary.csv',encoding = \"ISO-8859-1\")"
   ]
  },
  {
   "cell_type": "code",
   "execution_count": 214,
   "metadata": {},
   "outputs": [
    {
     "data": {
      "text/html": [
       "<div>\n",
       "<style scoped>\n",
       "    .dataframe tbody tr th:only-of-type {\n",
       "        vertical-align: middle;\n",
       "    }\n",
       "\n",
       "    .dataframe tbody tr th {\n",
       "        vertical-align: top;\n",
       "    }\n",
       "\n",
       "    .dataframe thead th {\n",
       "        text-align: right;\n",
       "    }\n",
       "</style>\n",
       "<table border=\"1\" class=\"dataframe\">\n",
       "  <thead>\n",
       "    <tr style=\"text-align: right;\">\n",
       "      <th></th>\n",
       "      <th>S.No.</th>\n",
       "      <th>Variable Name</th>\n",
       "      <th>Meaning</th>\n",
       "    </tr>\n",
       "  </thead>\n",
       "  <tbody>\n",
       "    <tr>\n",
       "      <th>0</th>\n",
       "      <td>1</td>\n",
       "      <td>CustomerID</td>\n",
       "      <td>The unique ID of each customer</td>\n",
       "    </tr>\n",
       "    <tr>\n",
       "      <th>1</th>\n",
       "      <td>2</td>\n",
       "      <td>Gender</td>\n",
       "      <td>The gender of a person</td>\n",
       "    </tr>\n",
       "    <tr>\n",
       "      <th>2</th>\n",
       "      <td>3</td>\n",
       "      <td>SeniorCitizen</td>\n",
       "      <td>Whether a customer can be classified as a seni...</td>\n",
       "    </tr>\n",
       "    <tr>\n",
       "      <th>3</th>\n",
       "      <td>4</td>\n",
       "      <td>Partner</td>\n",
       "      <td>If a customer is married/ in a live-in relatio...</td>\n",
       "    </tr>\n",
       "    <tr>\n",
       "      <th>4</th>\n",
       "      <td>5</td>\n",
       "      <td>Dependents</td>\n",
       "      <td>If a customer has dependents (children/ retire...</td>\n",
       "    </tr>\n",
       "    <tr>\n",
       "      <th>5</th>\n",
       "      <td>6</td>\n",
       "      <td>Tenure</td>\n",
       "      <td>The time for which a customer has been using t...</td>\n",
       "    </tr>\n",
       "    <tr>\n",
       "      <th>6</th>\n",
       "      <td>7</td>\n",
       "      <td>PhoneService</td>\n",
       "      <td>Whether a customer has a landline phone servic...</td>\n",
       "    </tr>\n",
       "    <tr>\n",
       "      <th>7</th>\n",
       "      <td>8</td>\n",
       "      <td>MultipleLines</td>\n",
       "      <td>Whether a customer has multiple lines of inter...</td>\n",
       "    </tr>\n",
       "    <tr>\n",
       "      <th>8</th>\n",
       "      <td>9</td>\n",
       "      <td>InternetService</td>\n",
       "      <td>The type of internet services chosen by the cu...</td>\n",
       "    </tr>\n",
       "    <tr>\n",
       "      <th>9</th>\n",
       "      <td>10</td>\n",
       "      <td>OnlineSecurity</td>\n",
       "      <td>Specifies if a customer has online security.</td>\n",
       "    </tr>\n",
       "    <tr>\n",
       "      <th>10</th>\n",
       "      <td>11</td>\n",
       "      <td>OnlineBackup</td>\n",
       "      <td>Specifies if a customer has online backup.</td>\n",
       "    </tr>\n",
       "    <tr>\n",
       "      <th>11</th>\n",
       "      <td>12</td>\n",
       "      <td>DeviceProtection</td>\n",
       "      <td>Specifies if a customer has opted for device p...</td>\n",
       "    </tr>\n",
       "    <tr>\n",
       "      <th>12</th>\n",
       "      <td>13</td>\n",
       "      <td>TechSupport</td>\n",
       "      <td>Whether a customer has opted for tech support ...</td>\n",
       "    </tr>\n",
       "    <tr>\n",
       "      <th>13</th>\n",
       "      <td>14</td>\n",
       "      <td>StreamingTV</td>\n",
       "      <td>Whether a customer has an option of TV streaming.</td>\n",
       "    </tr>\n",
       "    <tr>\n",
       "      <th>14</th>\n",
       "      <td>15</td>\n",
       "      <td>StreamingMovies</td>\n",
       "      <td>Whether a customer has an option of Movie stre...</td>\n",
       "    </tr>\n",
       "    <tr>\n",
       "      <th>15</th>\n",
       "      <td>16</td>\n",
       "      <td>Contract</td>\n",
       "      <td>The type of contract a customer has chosen.</td>\n",
       "    </tr>\n",
       "    <tr>\n",
       "      <th>16</th>\n",
       "      <td>17</td>\n",
       "      <td>PaperlessBilling</td>\n",
       "      <td>Whether a customer has opted for paperless bil...</td>\n",
       "    </tr>\n",
       "    <tr>\n",
       "      <th>17</th>\n",
       "      <td>18</td>\n",
       "      <td>PaymentMethod</td>\n",
       "      <td>Specifies the method by which bills are paid.</td>\n",
       "    </tr>\n",
       "    <tr>\n",
       "      <th>18</th>\n",
       "      <td>19</td>\n",
       "      <td>MonthlyCharges</td>\n",
       "      <td>Specifies the money paid by a customer each mo...</td>\n",
       "    </tr>\n",
       "    <tr>\n",
       "      <th>19</th>\n",
       "      <td>20</td>\n",
       "      <td>TotalCharges</td>\n",
       "      <td>The total money paid by the customer to the co...</td>\n",
       "    </tr>\n",
       "    <tr>\n",
       "      <th>20</th>\n",
       "      <td>21</td>\n",
       "      <td>Churn</td>\n",
       "      <td>This is the target variable which specifies if...</td>\n",
       "    </tr>\n",
       "  </tbody>\n",
       "</table>\n",
       "</div>"
      ],
      "text/plain": [
       "    S.No.      Variable Name   \\\n",
       "0       1         CustomerID    \n",
       "1       2             Gender    \n",
       "2       3       SeniorCitizen   \n",
       "3       4            Partner    \n",
       "4       5          Dependents   \n",
       "5       6              Tenure   \n",
       "6       7      PhoneService     \n",
       "7       8       MultipleLines   \n",
       "8       9    InternetService    \n",
       "9      10     OnlineSecurity    \n",
       "10     11       OnlineBackup    \n",
       "11     12   DeviceProtection    \n",
       "12     13        TechSupport    \n",
       "13     14         StreamingTV   \n",
       "14     15    StreamingMovies    \n",
       "15     16          Contract     \n",
       "16     17  PaperlessBilling     \n",
       "17     18      PaymentMethod    \n",
       "18     19     MonthlyCharges    \n",
       "19     20       TotalCharges    \n",
       "20     21             Churn     \n",
       "\n",
       "                                              Meaning  \n",
       "0                      The unique ID of each customer  \n",
       "1                              The gender of a person  \n",
       "2   Whether a customer can be classified as a seni...  \n",
       "3   If a customer is married/ in a live-in relatio...  \n",
       "4   If a customer has dependents (children/ retire...  \n",
       "5   The time for which a customer has been using t...  \n",
       "6   Whether a customer has a landline phone servic...  \n",
       "7   Whether a customer has multiple lines of inter...  \n",
       "8   The type of internet services chosen by the cu...  \n",
       "9        Specifies if a customer has online security.  \n",
       "10         Specifies if a customer has online backup.  \n",
       "11  Specifies if a customer has opted for device p...  \n",
       "12  Whether a customer has opted for tech support ...  \n",
       "13  Whether a customer has an option of TV streaming.  \n",
       "14  Whether a customer has an option of Movie stre...  \n",
       "15        The type of contract a customer has chosen.  \n",
       "16  Whether a customer has opted for paperless bil...  \n",
       "17      Specifies the method by which bills are paid.  \n",
       "18  Specifies the money paid by a customer each mo...  \n",
       "19  The total money paid by the customer to the co...  \n",
       "20  This is the target variable which specifies if...  "
      ]
     },
     "execution_count": 214,
     "metadata": {},
     "output_type": "execute_result"
    }
   ],
   "source": [
    "details"
   ]
  },
  {
   "cell_type": "markdown",
   "metadata": {},
   "source": [
    "# 4.Read the Internate dataset"
   ]
  },
  {
   "cell_type": "code",
   "execution_count": 215,
   "metadata": {},
   "outputs": [
    {
     "data": {
      "text/html": [
       "<div>\n",
       "<style scoped>\n",
       "    .dataframe tbody tr th:only-of-type {\n",
       "        vertical-align: middle;\n",
       "    }\n",
       "\n",
       "    .dataframe tbody tr th {\n",
       "        vertical-align: top;\n",
       "    }\n",
       "\n",
       "    .dataframe thead th {\n",
       "        text-align: right;\n",
       "    }\n",
       "</style>\n",
       "<table border=\"1\" class=\"dataframe\">\n",
       "  <thead>\n",
       "    <tr style=\"text-align: right;\">\n",
       "      <th></th>\n",
       "      <th>customerID</th>\n",
       "      <th>MultipleLines</th>\n",
       "      <th>InternetService</th>\n",
       "      <th>OnlineSecurity</th>\n",
       "      <th>OnlineBackup</th>\n",
       "      <th>DeviceProtection</th>\n",
       "      <th>TechSupport</th>\n",
       "      <th>StreamingTV</th>\n",
       "      <th>StreamingMovies</th>\n",
       "    </tr>\n",
       "  </thead>\n",
       "  <tbody>\n",
       "    <tr>\n",
       "      <th>0</th>\n",
       "      <td>7590-VHVEG</td>\n",
       "      <td>No phone service</td>\n",
       "      <td>DSL</td>\n",
       "      <td>No</td>\n",
       "      <td>Yes</td>\n",
       "      <td>No</td>\n",
       "      <td>No</td>\n",
       "      <td>No</td>\n",
       "      <td>No</td>\n",
       "    </tr>\n",
       "    <tr>\n",
       "      <th>1</th>\n",
       "      <td>5575-GNVDE</td>\n",
       "      <td>No</td>\n",
       "      <td>DSL</td>\n",
       "      <td>Yes</td>\n",
       "      <td>No</td>\n",
       "      <td>Yes</td>\n",
       "      <td>No</td>\n",
       "      <td>No</td>\n",
       "      <td>No</td>\n",
       "    </tr>\n",
       "    <tr>\n",
       "      <th>2</th>\n",
       "      <td>3668-QPYBK</td>\n",
       "      <td>No</td>\n",
       "      <td>DSL</td>\n",
       "      <td>Yes</td>\n",
       "      <td>Yes</td>\n",
       "      <td>No</td>\n",
       "      <td>No</td>\n",
       "      <td>No</td>\n",
       "      <td>No</td>\n",
       "    </tr>\n",
       "    <tr>\n",
       "      <th>3</th>\n",
       "      <td>7795-CFOCW</td>\n",
       "      <td>No phone service</td>\n",
       "      <td>DSL</td>\n",
       "      <td>Yes</td>\n",
       "      <td>No</td>\n",
       "      <td>Yes</td>\n",
       "      <td>Yes</td>\n",
       "      <td>No</td>\n",
       "      <td>No</td>\n",
       "    </tr>\n",
       "    <tr>\n",
       "      <th>4</th>\n",
       "      <td>9237-HQITU</td>\n",
       "      <td>No</td>\n",
       "      <td>Fiber optic</td>\n",
       "      <td>No</td>\n",
       "      <td>No</td>\n",
       "      <td>No</td>\n",
       "      <td>No</td>\n",
       "      <td>No</td>\n",
       "      <td>No</td>\n",
       "    </tr>\n",
       "  </tbody>\n",
       "</table>\n",
       "</div>"
      ],
      "text/plain": [
       "   customerID     MultipleLines InternetService OnlineSecurity OnlineBackup  \\\n",
       "0  7590-VHVEG  No phone service             DSL             No          Yes   \n",
       "1  5575-GNVDE                No             DSL            Yes           No   \n",
       "2  3668-QPYBK                No             DSL            Yes          Yes   \n",
       "3  7795-CFOCW  No phone service             DSL            Yes           No   \n",
       "4  9237-HQITU                No     Fiber optic             No           No   \n",
       "\n",
       "  DeviceProtection TechSupport StreamingTV StreamingMovies  \n",
       "0               No          No          No              No  \n",
       "1              Yes          No          No              No  \n",
       "2               No          No          No              No  \n",
       "3              Yes         Yes          No              No  \n",
       "4               No          No          No              No  "
      ]
     },
     "execution_count": 215,
     "metadata": {},
     "output_type": "execute_result"
    }
   ],
   "source": [
    "int_df=pd.read_csv('internet_data.csv')\n",
    "int_df.head()"
   ]
  },
  {
   "cell_type": "markdown",
   "metadata": {},
   "source": [
    "# 5. Read the Churn Dataset"
   ]
  },
  {
   "cell_type": "code",
   "execution_count": 216,
   "metadata": {},
   "outputs": [],
   "source": [
    "churn_df=pd.read_csv('churn_data.csv')"
   ]
  },
  {
   "cell_type": "code",
   "execution_count": 217,
   "metadata": {},
   "outputs": [
    {
     "data": {
      "text/html": [
       "<div>\n",
       "<style scoped>\n",
       "    .dataframe tbody tr th:only-of-type {\n",
       "        vertical-align: middle;\n",
       "    }\n",
       "\n",
       "    .dataframe tbody tr th {\n",
       "        vertical-align: top;\n",
       "    }\n",
       "\n",
       "    .dataframe thead th {\n",
       "        text-align: right;\n",
       "    }\n",
       "</style>\n",
       "<table border=\"1\" class=\"dataframe\">\n",
       "  <thead>\n",
       "    <tr style=\"text-align: right;\">\n",
       "      <th></th>\n",
       "      <th>customerID</th>\n",
       "      <th>tenure</th>\n",
       "      <th>PhoneService</th>\n",
       "      <th>Contract</th>\n",
       "      <th>PaperlessBilling</th>\n",
       "      <th>PaymentMethod</th>\n",
       "      <th>MonthlyCharges</th>\n",
       "      <th>TotalCharges</th>\n",
       "      <th>Churn</th>\n",
       "    </tr>\n",
       "  </thead>\n",
       "  <tbody>\n",
       "    <tr>\n",
       "      <th>0</th>\n",
       "      <td>7590-VHVEG</td>\n",
       "      <td>1</td>\n",
       "      <td>No</td>\n",
       "      <td>Month-to-month</td>\n",
       "      <td>Yes</td>\n",
       "      <td>Electronic check</td>\n",
       "      <td>29.85</td>\n",
       "      <td>29.85</td>\n",
       "      <td>No</td>\n",
       "    </tr>\n",
       "    <tr>\n",
       "      <th>1</th>\n",
       "      <td>5575-GNVDE</td>\n",
       "      <td>34</td>\n",
       "      <td>Yes</td>\n",
       "      <td>One year</td>\n",
       "      <td>No</td>\n",
       "      <td>Mailed check</td>\n",
       "      <td>56.95</td>\n",
       "      <td>1889.5</td>\n",
       "      <td>No</td>\n",
       "    </tr>\n",
       "    <tr>\n",
       "      <th>2</th>\n",
       "      <td>3668-QPYBK</td>\n",
       "      <td>2</td>\n",
       "      <td>Yes</td>\n",
       "      <td>Month-to-month</td>\n",
       "      <td>Yes</td>\n",
       "      <td>Mailed check</td>\n",
       "      <td>53.85</td>\n",
       "      <td>108.15</td>\n",
       "      <td>Yes</td>\n",
       "    </tr>\n",
       "    <tr>\n",
       "      <th>3</th>\n",
       "      <td>7795-CFOCW</td>\n",
       "      <td>45</td>\n",
       "      <td>No</td>\n",
       "      <td>One year</td>\n",
       "      <td>No</td>\n",
       "      <td>Bank transfer (automatic)</td>\n",
       "      <td>42.30</td>\n",
       "      <td>1840.75</td>\n",
       "      <td>No</td>\n",
       "    </tr>\n",
       "    <tr>\n",
       "      <th>4</th>\n",
       "      <td>9237-HQITU</td>\n",
       "      <td>2</td>\n",
       "      <td>Yes</td>\n",
       "      <td>Month-to-month</td>\n",
       "      <td>Yes</td>\n",
       "      <td>Electronic check</td>\n",
       "      <td>70.70</td>\n",
       "      <td>151.65</td>\n",
       "      <td>Yes</td>\n",
       "    </tr>\n",
       "  </tbody>\n",
       "</table>\n",
       "</div>"
      ],
      "text/plain": [
       "   customerID  tenure PhoneService        Contract PaperlessBilling  \\\n",
       "0  7590-VHVEG       1           No  Month-to-month              Yes   \n",
       "1  5575-GNVDE      34          Yes        One year               No   \n",
       "2  3668-QPYBK       2          Yes  Month-to-month              Yes   \n",
       "3  7795-CFOCW      45           No        One year               No   \n",
       "4  9237-HQITU       2          Yes  Month-to-month              Yes   \n",
       "\n",
       "               PaymentMethod  MonthlyCharges TotalCharges Churn  \n",
       "0           Electronic check           29.85        29.85    No  \n",
       "1               Mailed check           56.95       1889.5    No  \n",
       "2               Mailed check           53.85       108.15   Yes  \n",
       "3  Bank transfer (automatic)           42.30      1840.75    No  \n",
       "4           Electronic check           70.70       151.65   Yes  "
      ]
     },
     "execution_count": 217,
     "metadata": {},
     "output_type": "execute_result"
    }
   ],
   "source": [
    "churn_df.head()"
   ]
  },
  {
   "cell_type": "markdown",
   "metadata": {},
   "source": [
    "# 6. Read Customer Data"
   ]
  },
  {
   "cell_type": "code",
   "execution_count": 218,
   "metadata": {},
   "outputs": [
    {
     "data": {
      "text/html": [
       "<div>\n",
       "<style scoped>\n",
       "    .dataframe tbody tr th:only-of-type {\n",
       "        vertical-align: middle;\n",
       "    }\n",
       "\n",
       "    .dataframe tbody tr th {\n",
       "        vertical-align: top;\n",
       "    }\n",
       "\n",
       "    .dataframe thead th {\n",
       "        text-align: right;\n",
       "    }\n",
       "</style>\n",
       "<table border=\"1\" class=\"dataframe\">\n",
       "  <thead>\n",
       "    <tr style=\"text-align: right;\">\n",
       "      <th></th>\n",
       "      <th>customerID</th>\n",
       "      <th>gender</th>\n",
       "      <th>SeniorCitizen</th>\n",
       "      <th>Partner</th>\n",
       "      <th>Dependents</th>\n",
       "    </tr>\n",
       "  </thead>\n",
       "  <tbody>\n",
       "    <tr>\n",
       "      <th>0</th>\n",
       "      <td>7590-VHVEG</td>\n",
       "      <td>Female</td>\n",
       "      <td>0</td>\n",
       "      <td>Yes</td>\n",
       "      <td>No</td>\n",
       "    </tr>\n",
       "    <tr>\n",
       "      <th>1</th>\n",
       "      <td>5575-GNVDE</td>\n",
       "      <td>Male</td>\n",
       "      <td>0</td>\n",
       "      <td>No</td>\n",
       "      <td>No</td>\n",
       "    </tr>\n",
       "    <tr>\n",
       "      <th>2</th>\n",
       "      <td>3668-QPYBK</td>\n",
       "      <td>Male</td>\n",
       "      <td>0</td>\n",
       "      <td>No</td>\n",
       "      <td>No</td>\n",
       "    </tr>\n",
       "    <tr>\n",
       "      <th>3</th>\n",
       "      <td>7795-CFOCW</td>\n",
       "      <td>Male</td>\n",
       "      <td>0</td>\n",
       "      <td>No</td>\n",
       "      <td>No</td>\n",
       "    </tr>\n",
       "    <tr>\n",
       "      <th>4</th>\n",
       "      <td>9237-HQITU</td>\n",
       "      <td>Female</td>\n",
       "      <td>0</td>\n",
       "      <td>No</td>\n",
       "      <td>No</td>\n",
       "    </tr>\n",
       "  </tbody>\n",
       "</table>\n",
       "</div>"
      ],
      "text/plain": [
       "   customerID  gender  SeniorCitizen Partner Dependents\n",
       "0  7590-VHVEG  Female              0     Yes         No\n",
       "1  5575-GNVDE    Male              0      No         No\n",
       "2  3668-QPYBK    Male              0      No         No\n",
       "3  7795-CFOCW    Male              0      No         No\n",
       "4  9237-HQITU  Female              0      No         No"
      ]
     },
     "execution_count": 218,
     "metadata": {},
     "output_type": "execute_result"
    }
   ],
   "source": [
    "customer_df= pd.read_csv('customer_data.csv')\n",
    "customer_df.head()"
   ]
  },
  {
   "cell_type": "markdown",
   "metadata": {},
   "source": [
    "# 7. Marge the internate data and churn data on customerId"
   ]
  },
  {
   "cell_type": "code",
   "execution_count": 219,
   "metadata": {},
   "outputs": [
    {
     "data": {
      "text/html": [
       "<div>\n",
       "<style scoped>\n",
       "    .dataframe tbody tr th:only-of-type {\n",
       "        vertical-align: middle;\n",
       "    }\n",
       "\n",
       "    .dataframe tbody tr th {\n",
       "        vertical-align: top;\n",
       "    }\n",
       "\n",
       "    .dataframe thead th {\n",
       "        text-align: right;\n",
       "    }\n",
       "</style>\n",
       "<table border=\"1\" class=\"dataframe\">\n",
       "  <thead>\n",
       "    <tr style=\"text-align: right;\">\n",
       "      <th></th>\n",
       "      <th>customerID</th>\n",
       "      <th>MultipleLines</th>\n",
       "      <th>InternetService</th>\n",
       "      <th>OnlineSecurity</th>\n",
       "      <th>OnlineBackup</th>\n",
       "      <th>DeviceProtection</th>\n",
       "      <th>TechSupport</th>\n",
       "      <th>StreamingTV</th>\n",
       "      <th>StreamingMovies</th>\n",
       "      <th>tenure</th>\n",
       "      <th>PhoneService</th>\n",
       "      <th>Contract</th>\n",
       "      <th>PaperlessBilling</th>\n",
       "      <th>PaymentMethod</th>\n",
       "      <th>MonthlyCharges</th>\n",
       "      <th>TotalCharges</th>\n",
       "      <th>Churn</th>\n",
       "    </tr>\n",
       "  </thead>\n",
       "  <tbody>\n",
       "    <tr>\n",
       "      <th>0</th>\n",
       "      <td>7590-VHVEG</td>\n",
       "      <td>No phone service</td>\n",
       "      <td>DSL</td>\n",
       "      <td>No</td>\n",
       "      <td>Yes</td>\n",
       "      <td>No</td>\n",
       "      <td>No</td>\n",
       "      <td>No</td>\n",
       "      <td>No</td>\n",
       "      <td>1</td>\n",
       "      <td>No</td>\n",
       "      <td>Month-to-month</td>\n",
       "      <td>Yes</td>\n",
       "      <td>Electronic check</td>\n",
       "      <td>29.85</td>\n",
       "      <td>29.85</td>\n",
       "      <td>No</td>\n",
       "    </tr>\n",
       "    <tr>\n",
       "      <th>1</th>\n",
       "      <td>5575-GNVDE</td>\n",
       "      <td>No</td>\n",
       "      <td>DSL</td>\n",
       "      <td>Yes</td>\n",
       "      <td>No</td>\n",
       "      <td>Yes</td>\n",
       "      <td>No</td>\n",
       "      <td>No</td>\n",
       "      <td>No</td>\n",
       "      <td>34</td>\n",
       "      <td>Yes</td>\n",
       "      <td>One year</td>\n",
       "      <td>No</td>\n",
       "      <td>Mailed check</td>\n",
       "      <td>56.95</td>\n",
       "      <td>1889.5</td>\n",
       "      <td>No</td>\n",
       "    </tr>\n",
       "    <tr>\n",
       "      <th>2</th>\n",
       "      <td>3668-QPYBK</td>\n",
       "      <td>No</td>\n",
       "      <td>DSL</td>\n",
       "      <td>Yes</td>\n",
       "      <td>Yes</td>\n",
       "      <td>No</td>\n",
       "      <td>No</td>\n",
       "      <td>No</td>\n",
       "      <td>No</td>\n",
       "      <td>2</td>\n",
       "      <td>Yes</td>\n",
       "      <td>Month-to-month</td>\n",
       "      <td>Yes</td>\n",
       "      <td>Mailed check</td>\n",
       "      <td>53.85</td>\n",
       "      <td>108.15</td>\n",
       "      <td>Yes</td>\n",
       "    </tr>\n",
       "    <tr>\n",
       "      <th>3</th>\n",
       "      <td>7795-CFOCW</td>\n",
       "      <td>No phone service</td>\n",
       "      <td>DSL</td>\n",
       "      <td>Yes</td>\n",
       "      <td>No</td>\n",
       "      <td>Yes</td>\n",
       "      <td>Yes</td>\n",
       "      <td>No</td>\n",
       "      <td>No</td>\n",
       "      <td>45</td>\n",
       "      <td>No</td>\n",
       "      <td>One year</td>\n",
       "      <td>No</td>\n",
       "      <td>Bank transfer (automatic)</td>\n",
       "      <td>42.30</td>\n",
       "      <td>1840.75</td>\n",
       "      <td>No</td>\n",
       "    </tr>\n",
       "    <tr>\n",
       "      <th>4</th>\n",
       "      <td>9237-HQITU</td>\n",
       "      <td>No</td>\n",
       "      <td>Fiber optic</td>\n",
       "      <td>No</td>\n",
       "      <td>No</td>\n",
       "      <td>No</td>\n",
       "      <td>No</td>\n",
       "      <td>No</td>\n",
       "      <td>No</td>\n",
       "      <td>2</td>\n",
       "      <td>Yes</td>\n",
       "      <td>Month-to-month</td>\n",
       "      <td>Yes</td>\n",
       "      <td>Electronic check</td>\n",
       "      <td>70.70</td>\n",
       "      <td>151.65</td>\n",
       "      <td>Yes</td>\n",
       "    </tr>\n",
       "  </tbody>\n",
       "</table>\n",
       "</div>"
      ],
      "text/plain": [
       "   customerID     MultipleLines InternetService OnlineSecurity OnlineBackup  \\\n",
       "0  7590-VHVEG  No phone service             DSL             No          Yes   \n",
       "1  5575-GNVDE                No             DSL            Yes           No   \n",
       "2  3668-QPYBK                No             DSL            Yes          Yes   \n",
       "3  7795-CFOCW  No phone service             DSL            Yes           No   \n",
       "4  9237-HQITU                No     Fiber optic             No           No   \n",
       "\n",
       "  DeviceProtection TechSupport StreamingTV StreamingMovies  tenure  \\\n",
       "0               No          No          No              No       1   \n",
       "1              Yes          No          No              No      34   \n",
       "2               No          No          No              No       2   \n",
       "3              Yes         Yes          No              No      45   \n",
       "4               No          No          No              No       2   \n",
       "\n",
       "  PhoneService        Contract PaperlessBilling              PaymentMethod  \\\n",
       "0           No  Month-to-month              Yes           Electronic check   \n",
       "1          Yes        One year               No               Mailed check   \n",
       "2          Yes  Month-to-month              Yes               Mailed check   \n",
       "3           No        One year               No  Bank transfer (automatic)   \n",
       "4          Yes  Month-to-month              Yes           Electronic check   \n",
       "\n",
       "   MonthlyCharges TotalCharges Churn  \n",
       "0           29.85        29.85    No  \n",
       "1           56.95       1889.5    No  \n",
       "2           53.85       108.15   Yes  \n",
       "3           42.30      1840.75    No  \n",
       "4           70.70       151.65   Yes  "
      ]
     },
     "execution_count": 219,
     "metadata": {},
     "output_type": "execute_result"
    }
   ],
   "source": [
    "tel_df=pd.merge(int_df,churn_df,on='customerID')\n",
    "tel_df.head()"
   ]
  },
  {
   "cell_type": "code",
   "execution_count": 220,
   "metadata": {},
   "outputs": [
    {
     "data": {
      "text/plain": [
       "(7043, 17)"
      ]
     },
     "execution_count": 220,
     "metadata": {},
     "output_type": "execute_result"
    }
   ],
   "source": [
    "tel_df.shape"
   ]
  },
  {
   "cell_type": "markdown",
   "metadata": {},
   "source": [
    "# 8. Marge the Customer Data"
   ]
  },
  {
   "cell_type": "code",
   "execution_count": 221,
   "metadata": {},
   "outputs": [],
   "source": [
    "tel_df=pd.merge(tel_df,customer_df, on='customerID')"
   ]
  },
  {
   "cell_type": "code",
   "execution_count": 222,
   "metadata": {},
   "outputs": [
    {
     "data": {
      "text/plain": [
       "(7043, 21)"
      ]
     },
     "execution_count": 222,
     "metadata": {},
     "output_type": "execute_result"
    }
   ],
   "source": [
    "tel_df.shape"
   ]
  },
  {
   "cell_type": "code",
   "execution_count": 223,
   "metadata": {},
   "outputs": [
    {
     "data": {
      "text/plain": [
       "tenure            0.239540\n",
       "MonthlyCharges   -0.220524\n",
       "SeniorCitizen     1.833633\n",
       "dtype: float64"
      ]
     },
     "execution_count": 223,
     "metadata": {},
     "output_type": "execute_result"
    }
   ],
   "source": [
    "tel_df.skew()"
   ]
  },
  {
   "cell_type": "code",
   "execution_count": 224,
   "metadata": {},
   "outputs": [
    {
     "data": {
      "text/html": [
       "<div>\n",
       "<style scoped>\n",
       "    .dataframe tbody tr th:only-of-type {\n",
       "        vertical-align: middle;\n",
       "    }\n",
       "\n",
       "    .dataframe tbody tr th {\n",
       "        vertical-align: top;\n",
       "    }\n",
       "\n",
       "    .dataframe thead th {\n",
       "        text-align: right;\n",
       "    }\n",
       "</style>\n",
       "<table border=\"1\" class=\"dataframe\">\n",
       "  <thead>\n",
       "    <tr style=\"text-align: right;\">\n",
       "      <th></th>\n",
       "      <th>customerID</th>\n",
       "      <th>MultipleLines</th>\n",
       "      <th>InternetService</th>\n",
       "      <th>OnlineSecurity</th>\n",
       "      <th>OnlineBackup</th>\n",
       "      <th>DeviceProtection</th>\n",
       "      <th>TechSupport</th>\n",
       "      <th>StreamingTV</th>\n",
       "      <th>StreamingMovies</th>\n",
       "      <th>tenure</th>\n",
       "      <th>...</th>\n",
       "      <th>Contract</th>\n",
       "      <th>PaperlessBilling</th>\n",
       "      <th>PaymentMethod</th>\n",
       "      <th>MonthlyCharges</th>\n",
       "      <th>TotalCharges</th>\n",
       "      <th>Churn</th>\n",
       "      <th>gender</th>\n",
       "      <th>SeniorCitizen</th>\n",
       "      <th>Partner</th>\n",
       "      <th>Dependents</th>\n",
       "    </tr>\n",
       "  </thead>\n",
       "  <tbody>\n",
       "    <tr>\n",
       "      <th>0</th>\n",
       "      <td>7590-VHVEG</td>\n",
       "      <td>No phone service</td>\n",
       "      <td>DSL</td>\n",
       "      <td>No</td>\n",
       "      <td>Yes</td>\n",
       "      <td>No</td>\n",
       "      <td>No</td>\n",
       "      <td>No</td>\n",
       "      <td>No</td>\n",
       "      <td>1</td>\n",
       "      <td>...</td>\n",
       "      <td>Month-to-month</td>\n",
       "      <td>Yes</td>\n",
       "      <td>Electronic check</td>\n",
       "      <td>29.85</td>\n",
       "      <td>29.85</td>\n",
       "      <td>No</td>\n",
       "      <td>Female</td>\n",
       "      <td>0</td>\n",
       "      <td>Yes</td>\n",
       "      <td>No</td>\n",
       "    </tr>\n",
       "    <tr>\n",
       "      <th>1</th>\n",
       "      <td>5575-GNVDE</td>\n",
       "      <td>No</td>\n",
       "      <td>DSL</td>\n",
       "      <td>Yes</td>\n",
       "      <td>No</td>\n",
       "      <td>Yes</td>\n",
       "      <td>No</td>\n",
       "      <td>No</td>\n",
       "      <td>No</td>\n",
       "      <td>34</td>\n",
       "      <td>...</td>\n",
       "      <td>One year</td>\n",
       "      <td>No</td>\n",
       "      <td>Mailed check</td>\n",
       "      <td>56.95</td>\n",
       "      <td>1889.5</td>\n",
       "      <td>No</td>\n",
       "      <td>Male</td>\n",
       "      <td>0</td>\n",
       "      <td>No</td>\n",
       "      <td>No</td>\n",
       "    </tr>\n",
       "    <tr>\n",
       "      <th>2</th>\n",
       "      <td>3668-QPYBK</td>\n",
       "      <td>No</td>\n",
       "      <td>DSL</td>\n",
       "      <td>Yes</td>\n",
       "      <td>Yes</td>\n",
       "      <td>No</td>\n",
       "      <td>No</td>\n",
       "      <td>No</td>\n",
       "      <td>No</td>\n",
       "      <td>2</td>\n",
       "      <td>...</td>\n",
       "      <td>Month-to-month</td>\n",
       "      <td>Yes</td>\n",
       "      <td>Mailed check</td>\n",
       "      <td>53.85</td>\n",
       "      <td>108.15</td>\n",
       "      <td>Yes</td>\n",
       "      <td>Male</td>\n",
       "      <td>0</td>\n",
       "      <td>No</td>\n",
       "      <td>No</td>\n",
       "    </tr>\n",
       "    <tr>\n",
       "      <th>3</th>\n",
       "      <td>7795-CFOCW</td>\n",
       "      <td>No phone service</td>\n",
       "      <td>DSL</td>\n",
       "      <td>Yes</td>\n",
       "      <td>No</td>\n",
       "      <td>Yes</td>\n",
       "      <td>Yes</td>\n",
       "      <td>No</td>\n",
       "      <td>No</td>\n",
       "      <td>45</td>\n",
       "      <td>...</td>\n",
       "      <td>One year</td>\n",
       "      <td>No</td>\n",
       "      <td>Bank transfer (automatic)</td>\n",
       "      <td>42.30</td>\n",
       "      <td>1840.75</td>\n",
       "      <td>No</td>\n",
       "      <td>Male</td>\n",
       "      <td>0</td>\n",
       "      <td>No</td>\n",
       "      <td>No</td>\n",
       "    </tr>\n",
       "    <tr>\n",
       "      <th>4</th>\n",
       "      <td>9237-HQITU</td>\n",
       "      <td>No</td>\n",
       "      <td>Fiber optic</td>\n",
       "      <td>No</td>\n",
       "      <td>No</td>\n",
       "      <td>No</td>\n",
       "      <td>No</td>\n",
       "      <td>No</td>\n",
       "      <td>No</td>\n",
       "      <td>2</td>\n",
       "      <td>...</td>\n",
       "      <td>Month-to-month</td>\n",
       "      <td>Yes</td>\n",
       "      <td>Electronic check</td>\n",
       "      <td>70.70</td>\n",
       "      <td>151.65</td>\n",
       "      <td>Yes</td>\n",
       "      <td>Female</td>\n",
       "      <td>0</td>\n",
       "      <td>No</td>\n",
       "      <td>No</td>\n",
       "    </tr>\n",
       "    <tr>\n",
       "      <th>5</th>\n",
       "      <td>9305-CDSKC</td>\n",
       "      <td>Yes</td>\n",
       "      <td>Fiber optic</td>\n",
       "      <td>No</td>\n",
       "      <td>No</td>\n",
       "      <td>Yes</td>\n",
       "      <td>No</td>\n",
       "      <td>Yes</td>\n",
       "      <td>Yes</td>\n",
       "      <td>8</td>\n",
       "      <td>...</td>\n",
       "      <td>Month-to-month</td>\n",
       "      <td>Yes</td>\n",
       "      <td>Electronic check</td>\n",
       "      <td>99.65</td>\n",
       "      <td>820.5</td>\n",
       "      <td>Yes</td>\n",
       "      <td>Female</td>\n",
       "      <td>0</td>\n",
       "      <td>No</td>\n",
       "      <td>No</td>\n",
       "    </tr>\n",
       "    <tr>\n",
       "      <th>6</th>\n",
       "      <td>1452-KIOVK</td>\n",
       "      <td>Yes</td>\n",
       "      <td>Fiber optic</td>\n",
       "      <td>No</td>\n",
       "      <td>Yes</td>\n",
       "      <td>No</td>\n",
       "      <td>No</td>\n",
       "      <td>Yes</td>\n",
       "      <td>No</td>\n",
       "      <td>22</td>\n",
       "      <td>...</td>\n",
       "      <td>Month-to-month</td>\n",
       "      <td>Yes</td>\n",
       "      <td>Credit card (automatic)</td>\n",
       "      <td>89.10</td>\n",
       "      <td>1949.4</td>\n",
       "      <td>No</td>\n",
       "      <td>Male</td>\n",
       "      <td>0</td>\n",
       "      <td>No</td>\n",
       "      <td>Yes</td>\n",
       "    </tr>\n",
       "    <tr>\n",
       "      <th>7</th>\n",
       "      <td>6713-OKOMC</td>\n",
       "      <td>No phone service</td>\n",
       "      <td>DSL</td>\n",
       "      <td>Yes</td>\n",
       "      <td>No</td>\n",
       "      <td>No</td>\n",
       "      <td>No</td>\n",
       "      <td>No</td>\n",
       "      <td>No</td>\n",
       "      <td>10</td>\n",
       "      <td>...</td>\n",
       "      <td>Month-to-month</td>\n",
       "      <td>No</td>\n",
       "      <td>Mailed check</td>\n",
       "      <td>29.75</td>\n",
       "      <td>301.9</td>\n",
       "      <td>No</td>\n",
       "      <td>Female</td>\n",
       "      <td>0</td>\n",
       "      <td>No</td>\n",
       "      <td>No</td>\n",
       "    </tr>\n",
       "    <tr>\n",
       "      <th>8</th>\n",
       "      <td>7892-POOKP</td>\n",
       "      <td>Yes</td>\n",
       "      <td>Fiber optic</td>\n",
       "      <td>No</td>\n",
       "      <td>No</td>\n",
       "      <td>Yes</td>\n",
       "      <td>Yes</td>\n",
       "      <td>Yes</td>\n",
       "      <td>Yes</td>\n",
       "      <td>28</td>\n",
       "      <td>...</td>\n",
       "      <td>Month-to-month</td>\n",
       "      <td>Yes</td>\n",
       "      <td>Electronic check</td>\n",
       "      <td>104.80</td>\n",
       "      <td>3046.05</td>\n",
       "      <td>Yes</td>\n",
       "      <td>Female</td>\n",
       "      <td>0</td>\n",
       "      <td>Yes</td>\n",
       "      <td>No</td>\n",
       "    </tr>\n",
       "    <tr>\n",
       "      <th>9</th>\n",
       "      <td>6388-TABGU</td>\n",
       "      <td>No</td>\n",
       "      <td>DSL</td>\n",
       "      <td>Yes</td>\n",
       "      <td>Yes</td>\n",
       "      <td>No</td>\n",
       "      <td>No</td>\n",
       "      <td>No</td>\n",
       "      <td>No</td>\n",
       "      <td>62</td>\n",
       "      <td>...</td>\n",
       "      <td>One year</td>\n",
       "      <td>No</td>\n",
       "      <td>Bank transfer (automatic)</td>\n",
       "      <td>56.15</td>\n",
       "      <td>3487.95</td>\n",
       "      <td>No</td>\n",
       "      <td>Male</td>\n",
       "      <td>0</td>\n",
       "      <td>No</td>\n",
       "      <td>Yes</td>\n",
       "    </tr>\n",
       "    <tr>\n",
       "      <th>10</th>\n",
       "      <td>9763-GRSKD</td>\n",
       "      <td>No</td>\n",
       "      <td>DSL</td>\n",
       "      <td>Yes</td>\n",
       "      <td>No</td>\n",
       "      <td>No</td>\n",
       "      <td>No</td>\n",
       "      <td>No</td>\n",
       "      <td>No</td>\n",
       "      <td>13</td>\n",
       "      <td>...</td>\n",
       "      <td>Month-to-month</td>\n",
       "      <td>Yes</td>\n",
       "      <td>Mailed check</td>\n",
       "      <td>49.95</td>\n",
       "      <td>587.45</td>\n",
       "      <td>No</td>\n",
       "      <td>Male</td>\n",
       "      <td>0</td>\n",
       "      <td>Yes</td>\n",
       "      <td>Yes</td>\n",
       "    </tr>\n",
       "    <tr>\n",
       "      <th>11</th>\n",
       "      <td>7469-LKBCI</td>\n",
       "      <td>No</td>\n",
       "      <td>No</td>\n",
       "      <td>No internet service</td>\n",
       "      <td>No internet service</td>\n",
       "      <td>No internet service</td>\n",
       "      <td>No internet service</td>\n",
       "      <td>No internet service</td>\n",
       "      <td>No internet service</td>\n",
       "      <td>16</td>\n",
       "      <td>...</td>\n",
       "      <td>Two year</td>\n",
       "      <td>No</td>\n",
       "      <td>Credit card (automatic)</td>\n",
       "      <td>18.95</td>\n",
       "      <td>326.8</td>\n",
       "      <td>No</td>\n",
       "      <td>Male</td>\n",
       "      <td>0</td>\n",
       "      <td>No</td>\n",
       "      <td>No</td>\n",
       "    </tr>\n",
       "    <tr>\n",
       "      <th>12</th>\n",
       "      <td>8091-TTVAX</td>\n",
       "      <td>Yes</td>\n",
       "      <td>Fiber optic</td>\n",
       "      <td>No</td>\n",
       "      <td>No</td>\n",
       "      <td>Yes</td>\n",
       "      <td>No</td>\n",
       "      <td>Yes</td>\n",
       "      <td>Yes</td>\n",
       "      <td>58</td>\n",
       "      <td>...</td>\n",
       "      <td>One year</td>\n",
       "      <td>No</td>\n",
       "      <td>Credit card (automatic)</td>\n",
       "      <td>100.35</td>\n",
       "      <td>5681.1</td>\n",
       "      <td>No</td>\n",
       "      <td>Male</td>\n",
       "      <td>0</td>\n",
       "      <td>Yes</td>\n",
       "      <td>No</td>\n",
       "    </tr>\n",
       "    <tr>\n",
       "      <th>13</th>\n",
       "      <td>0280-XJGEX</td>\n",
       "      <td>Yes</td>\n",
       "      <td>Fiber optic</td>\n",
       "      <td>No</td>\n",
       "      <td>Yes</td>\n",
       "      <td>Yes</td>\n",
       "      <td>No</td>\n",
       "      <td>Yes</td>\n",
       "      <td>Yes</td>\n",
       "      <td>49</td>\n",
       "      <td>...</td>\n",
       "      <td>Month-to-month</td>\n",
       "      <td>Yes</td>\n",
       "      <td>Bank transfer (automatic)</td>\n",
       "      <td>103.70</td>\n",
       "      <td>5036.3</td>\n",
       "      <td>Yes</td>\n",
       "      <td>Male</td>\n",
       "      <td>0</td>\n",
       "      <td>No</td>\n",
       "      <td>No</td>\n",
       "    </tr>\n",
       "    <tr>\n",
       "      <th>14</th>\n",
       "      <td>5129-JLPIS</td>\n",
       "      <td>No</td>\n",
       "      <td>Fiber optic</td>\n",
       "      <td>Yes</td>\n",
       "      <td>No</td>\n",
       "      <td>Yes</td>\n",
       "      <td>Yes</td>\n",
       "      <td>Yes</td>\n",
       "      <td>Yes</td>\n",
       "      <td>25</td>\n",
       "      <td>...</td>\n",
       "      <td>Month-to-month</td>\n",
       "      <td>Yes</td>\n",
       "      <td>Electronic check</td>\n",
       "      <td>105.50</td>\n",
       "      <td>2686.05</td>\n",
       "      <td>No</td>\n",
       "      <td>Male</td>\n",
       "      <td>0</td>\n",
       "      <td>No</td>\n",
       "      <td>No</td>\n",
       "    </tr>\n",
       "  </tbody>\n",
       "</table>\n",
       "<p>15 rows × 21 columns</p>\n",
       "</div>"
      ],
      "text/plain": [
       "    customerID     MultipleLines InternetService       OnlineSecurity  \\\n",
       "0   7590-VHVEG  No phone service             DSL                   No   \n",
       "1   5575-GNVDE                No             DSL                  Yes   \n",
       "2   3668-QPYBK                No             DSL                  Yes   \n",
       "3   7795-CFOCW  No phone service             DSL                  Yes   \n",
       "4   9237-HQITU                No     Fiber optic                   No   \n",
       "5   9305-CDSKC               Yes     Fiber optic                   No   \n",
       "6   1452-KIOVK               Yes     Fiber optic                   No   \n",
       "7   6713-OKOMC  No phone service             DSL                  Yes   \n",
       "8   7892-POOKP               Yes     Fiber optic                   No   \n",
       "9   6388-TABGU                No             DSL                  Yes   \n",
       "10  9763-GRSKD                No             DSL                  Yes   \n",
       "11  7469-LKBCI                No              No  No internet service   \n",
       "12  8091-TTVAX               Yes     Fiber optic                   No   \n",
       "13  0280-XJGEX               Yes     Fiber optic                   No   \n",
       "14  5129-JLPIS                No     Fiber optic                  Yes   \n",
       "\n",
       "           OnlineBackup     DeviceProtection          TechSupport  \\\n",
       "0                   Yes                   No                   No   \n",
       "1                    No                  Yes                   No   \n",
       "2                   Yes                   No                   No   \n",
       "3                    No                  Yes                  Yes   \n",
       "4                    No                   No                   No   \n",
       "5                    No                  Yes                   No   \n",
       "6                   Yes                   No                   No   \n",
       "7                    No                   No                   No   \n",
       "8                    No                  Yes                  Yes   \n",
       "9                   Yes                   No                   No   \n",
       "10                   No                   No                   No   \n",
       "11  No internet service  No internet service  No internet service   \n",
       "12                   No                  Yes                   No   \n",
       "13                  Yes                  Yes                   No   \n",
       "14                   No                  Yes                  Yes   \n",
       "\n",
       "            StreamingTV      StreamingMovies  tenure  ...        Contract  \\\n",
       "0                    No                   No       1  ...  Month-to-month   \n",
       "1                    No                   No      34  ...        One year   \n",
       "2                    No                   No       2  ...  Month-to-month   \n",
       "3                    No                   No      45  ...        One year   \n",
       "4                    No                   No       2  ...  Month-to-month   \n",
       "5                   Yes                  Yes       8  ...  Month-to-month   \n",
       "6                   Yes                   No      22  ...  Month-to-month   \n",
       "7                    No                   No      10  ...  Month-to-month   \n",
       "8                   Yes                  Yes      28  ...  Month-to-month   \n",
       "9                    No                   No      62  ...        One year   \n",
       "10                   No                   No      13  ...  Month-to-month   \n",
       "11  No internet service  No internet service      16  ...        Two year   \n",
       "12                  Yes                  Yes      58  ...        One year   \n",
       "13                  Yes                  Yes      49  ...  Month-to-month   \n",
       "14                  Yes                  Yes      25  ...  Month-to-month   \n",
       "\n",
       "   PaperlessBilling              PaymentMethod MonthlyCharges  TotalCharges  \\\n",
       "0               Yes           Electronic check          29.85         29.85   \n",
       "1                No               Mailed check          56.95        1889.5   \n",
       "2               Yes               Mailed check          53.85        108.15   \n",
       "3                No  Bank transfer (automatic)          42.30       1840.75   \n",
       "4               Yes           Electronic check          70.70        151.65   \n",
       "5               Yes           Electronic check          99.65         820.5   \n",
       "6               Yes    Credit card (automatic)          89.10        1949.4   \n",
       "7                No               Mailed check          29.75         301.9   \n",
       "8               Yes           Electronic check         104.80       3046.05   \n",
       "9                No  Bank transfer (automatic)          56.15       3487.95   \n",
       "10              Yes               Mailed check          49.95        587.45   \n",
       "11               No    Credit card (automatic)          18.95         326.8   \n",
       "12               No    Credit card (automatic)         100.35        5681.1   \n",
       "13              Yes  Bank transfer (automatic)         103.70        5036.3   \n",
       "14              Yes           Electronic check         105.50       2686.05   \n",
       "\n",
       "   Churn  gender SeniorCitizen  Partner Dependents  \n",
       "0     No  Female             0      Yes         No  \n",
       "1     No    Male             0       No         No  \n",
       "2    Yes    Male             0       No         No  \n",
       "3     No    Male             0       No         No  \n",
       "4    Yes  Female             0       No         No  \n",
       "5    Yes  Female             0       No         No  \n",
       "6     No    Male             0       No        Yes  \n",
       "7     No  Female             0       No         No  \n",
       "8    Yes  Female             0      Yes         No  \n",
       "9     No    Male             0       No        Yes  \n",
       "10    No    Male             0      Yes        Yes  \n",
       "11    No    Male             0       No         No  \n",
       "12    No    Male             0      Yes         No  \n",
       "13   Yes    Male             0       No         No  \n",
       "14    No    Male             0       No         No  \n",
       "\n",
       "[15 rows x 21 columns]"
      ]
     },
     "execution_count": 224,
     "metadata": {},
     "output_type": "execute_result"
    }
   ],
   "source": [
    "tel_df.head(15)"
   ]
  },
  {
   "cell_type": "code",
   "execution_count": 225,
   "metadata": {},
   "outputs": [
    {
     "name": "stdout",
     "output_type": "stream",
     "text": [
      "<class 'pandas.core.frame.DataFrame'>\n",
      "Int64Index: 7043 entries, 0 to 7042\n",
      "Data columns (total 21 columns):\n",
      "customerID          7043 non-null object\n",
      "MultipleLines       7043 non-null object\n",
      "InternetService     7043 non-null object\n",
      "OnlineSecurity      7043 non-null object\n",
      "OnlineBackup        7043 non-null object\n",
      "DeviceProtection    7043 non-null object\n",
      "TechSupport         7043 non-null object\n",
      "StreamingTV         7043 non-null object\n",
      "StreamingMovies     7043 non-null object\n",
      "tenure              7043 non-null int64\n",
      "PhoneService        7043 non-null object\n",
      "Contract            7043 non-null object\n",
      "PaperlessBilling    7043 non-null object\n",
      "PaymentMethod       7043 non-null object\n",
      "MonthlyCharges      7043 non-null float64\n",
      "TotalCharges        7043 non-null object\n",
      "Churn               7043 non-null object\n",
      "gender              7043 non-null object\n",
      "SeniorCitizen       7043 non-null int64\n",
      "Partner             7043 non-null object\n",
      "Dependents          7043 non-null object\n",
      "dtypes: float64(1), int64(2), object(18)\n",
      "memory usage: 1.2+ MB\n"
     ]
    }
   ],
   "source": [
    "tel_df.info()"
   ]
  },
  {
   "cell_type": "code",
   "execution_count": 226,
   "metadata": {},
   "outputs": [
    {
     "data": {
      "text/html": [
       "<div>\n",
       "<style scoped>\n",
       "    .dataframe tbody tr th:only-of-type {\n",
       "        vertical-align: middle;\n",
       "    }\n",
       "\n",
       "    .dataframe tbody tr th {\n",
       "        vertical-align: top;\n",
       "    }\n",
       "\n",
       "    .dataframe thead th {\n",
       "        text-align: right;\n",
       "    }\n",
       "</style>\n",
       "<table border=\"1\" class=\"dataframe\">\n",
       "  <thead>\n",
       "    <tr style=\"text-align: right;\">\n",
       "      <th></th>\n",
       "      <th>tenure</th>\n",
       "      <th>MonthlyCharges</th>\n",
       "      <th>SeniorCitizen</th>\n",
       "    </tr>\n",
       "  </thead>\n",
       "  <tbody>\n",
       "    <tr>\n",
       "      <th>count</th>\n",
       "      <td>7043.000000</td>\n",
       "      <td>7043.000000</td>\n",
       "      <td>7043.000000</td>\n",
       "    </tr>\n",
       "    <tr>\n",
       "      <th>mean</th>\n",
       "      <td>32.371149</td>\n",
       "      <td>64.761692</td>\n",
       "      <td>0.162147</td>\n",
       "    </tr>\n",
       "    <tr>\n",
       "      <th>std</th>\n",
       "      <td>24.559481</td>\n",
       "      <td>30.090047</td>\n",
       "      <td>0.368612</td>\n",
       "    </tr>\n",
       "    <tr>\n",
       "      <th>min</th>\n",
       "      <td>0.000000</td>\n",
       "      <td>18.250000</td>\n",
       "      <td>0.000000</td>\n",
       "    </tr>\n",
       "    <tr>\n",
       "      <th>25%</th>\n",
       "      <td>9.000000</td>\n",
       "      <td>35.500000</td>\n",
       "      <td>0.000000</td>\n",
       "    </tr>\n",
       "    <tr>\n",
       "      <th>50%</th>\n",
       "      <td>29.000000</td>\n",
       "      <td>70.350000</td>\n",
       "      <td>0.000000</td>\n",
       "    </tr>\n",
       "    <tr>\n",
       "      <th>75%</th>\n",
       "      <td>55.000000</td>\n",
       "      <td>89.850000</td>\n",
       "      <td>0.000000</td>\n",
       "    </tr>\n",
       "    <tr>\n",
       "      <th>max</th>\n",
       "      <td>72.000000</td>\n",
       "      <td>118.750000</td>\n",
       "      <td>1.000000</td>\n",
       "    </tr>\n",
       "  </tbody>\n",
       "</table>\n",
       "</div>"
      ],
      "text/plain": [
       "            tenure  MonthlyCharges  SeniorCitizen\n",
       "count  7043.000000     7043.000000    7043.000000\n",
       "mean     32.371149       64.761692       0.162147\n",
       "std      24.559481       30.090047       0.368612\n",
       "min       0.000000       18.250000       0.000000\n",
       "25%       9.000000       35.500000       0.000000\n",
       "50%      29.000000       70.350000       0.000000\n",
       "75%      55.000000       89.850000       0.000000\n",
       "max      72.000000      118.750000       1.000000"
      ]
     },
     "execution_count": 226,
     "metadata": {},
     "output_type": "execute_result"
    }
   ],
   "source": [
    "tel_df.describe()"
   ]
  },
  {
   "cell_type": "markdown",
   "metadata": {},
   "source": [
    "# 9. Check the null Values"
   ]
  },
  {
   "cell_type": "code",
   "execution_count": 227,
   "metadata": {},
   "outputs": [
    {
     "data": {
      "text/plain": [
       "customerID          0\n",
       "MultipleLines       0\n",
       "InternetService     0\n",
       "OnlineSecurity      0\n",
       "OnlineBackup        0\n",
       "DeviceProtection    0\n",
       "TechSupport         0\n",
       "StreamingTV         0\n",
       "StreamingMovies     0\n",
       "tenure              0\n",
       "PhoneService        0\n",
       "Contract            0\n",
       "PaperlessBilling    0\n",
       "PaymentMethod       0\n",
       "MonthlyCharges      0\n",
       "TotalCharges        0\n",
       "Churn               0\n",
       "gender              0\n",
       "SeniorCitizen       0\n",
       "Partner             0\n",
       "Dependents          0\n",
       "dtype: int64"
      ]
     },
     "execution_count": 227,
     "metadata": {},
     "output_type": "execute_result"
    }
   ],
   "source": [
    "tel_df.isnull().sum()"
   ]
  },
  {
   "cell_type": "code",
   "execution_count": 228,
   "metadata": {},
   "outputs": [
    {
     "data": {
      "text/plain": [
       "Index(['customerID', 'MultipleLines', 'InternetService', 'OnlineSecurity',\n",
       "       'OnlineBackup', 'DeviceProtection', 'TechSupport', 'StreamingTV',\n",
       "       'StreamingMovies', 'tenure', 'PhoneService', 'Contract',\n",
       "       'PaperlessBilling', 'PaymentMethod', 'MonthlyCharges', 'TotalCharges',\n",
       "       'Churn', 'gender', 'SeniorCitizen', 'Partner', 'Dependents'],\n",
       "      dtype='object')"
      ]
     },
     "execution_count": 228,
     "metadata": {},
     "output_type": "execute_result"
    }
   ],
   "source": [
    "tel_df.columns"
   ]
  },
  {
   "cell_type": "markdown",
   "metadata": {},
   "source": [
    "# 10. drop the Customer Id Column"
   ]
  },
  {
   "cell_type": "code",
   "execution_count": 229,
   "metadata": {},
   "outputs": [
    {
     "data": {
      "text/html": [
       "<div>\n",
       "<style scoped>\n",
       "    .dataframe tbody tr th:only-of-type {\n",
       "        vertical-align: middle;\n",
       "    }\n",
       "\n",
       "    .dataframe tbody tr th {\n",
       "        vertical-align: top;\n",
       "    }\n",
       "\n",
       "    .dataframe thead th {\n",
       "        text-align: right;\n",
       "    }\n",
       "</style>\n",
       "<table border=\"1\" class=\"dataframe\">\n",
       "  <thead>\n",
       "    <tr style=\"text-align: right;\">\n",
       "      <th></th>\n",
       "      <th>MultipleLines</th>\n",
       "      <th>InternetService</th>\n",
       "      <th>OnlineSecurity</th>\n",
       "      <th>OnlineBackup</th>\n",
       "      <th>DeviceProtection</th>\n",
       "      <th>TechSupport</th>\n",
       "      <th>StreamingTV</th>\n",
       "      <th>StreamingMovies</th>\n",
       "      <th>tenure</th>\n",
       "      <th>PhoneService</th>\n",
       "      <th>Contract</th>\n",
       "      <th>PaperlessBilling</th>\n",
       "      <th>PaymentMethod</th>\n",
       "      <th>MonthlyCharges</th>\n",
       "      <th>TotalCharges</th>\n",
       "      <th>Churn</th>\n",
       "      <th>gender</th>\n",
       "      <th>SeniorCitizen</th>\n",
       "      <th>Partner</th>\n",
       "      <th>Dependents</th>\n",
       "    </tr>\n",
       "  </thead>\n",
       "  <tbody>\n",
       "    <tr>\n",
       "      <th>0</th>\n",
       "      <td>No phone service</td>\n",
       "      <td>DSL</td>\n",
       "      <td>No</td>\n",
       "      <td>Yes</td>\n",
       "      <td>No</td>\n",
       "      <td>No</td>\n",
       "      <td>No</td>\n",
       "      <td>No</td>\n",
       "      <td>1</td>\n",
       "      <td>No</td>\n",
       "      <td>Month-to-month</td>\n",
       "      <td>Yes</td>\n",
       "      <td>Electronic check</td>\n",
       "      <td>29.85</td>\n",
       "      <td>29.85</td>\n",
       "      <td>No</td>\n",
       "      <td>Female</td>\n",
       "      <td>0</td>\n",
       "      <td>Yes</td>\n",
       "      <td>No</td>\n",
       "    </tr>\n",
       "    <tr>\n",
       "      <th>1</th>\n",
       "      <td>No</td>\n",
       "      <td>DSL</td>\n",
       "      <td>Yes</td>\n",
       "      <td>No</td>\n",
       "      <td>Yes</td>\n",
       "      <td>No</td>\n",
       "      <td>No</td>\n",
       "      <td>No</td>\n",
       "      <td>34</td>\n",
       "      <td>Yes</td>\n",
       "      <td>One year</td>\n",
       "      <td>No</td>\n",
       "      <td>Mailed check</td>\n",
       "      <td>56.95</td>\n",
       "      <td>1889.5</td>\n",
       "      <td>No</td>\n",
       "      <td>Male</td>\n",
       "      <td>0</td>\n",
       "      <td>No</td>\n",
       "      <td>No</td>\n",
       "    </tr>\n",
       "    <tr>\n",
       "      <th>2</th>\n",
       "      <td>No</td>\n",
       "      <td>DSL</td>\n",
       "      <td>Yes</td>\n",
       "      <td>Yes</td>\n",
       "      <td>No</td>\n",
       "      <td>No</td>\n",
       "      <td>No</td>\n",
       "      <td>No</td>\n",
       "      <td>2</td>\n",
       "      <td>Yes</td>\n",
       "      <td>Month-to-month</td>\n",
       "      <td>Yes</td>\n",
       "      <td>Mailed check</td>\n",
       "      <td>53.85</td>\n",
       "      <td>108.15</td>\n",
       "      <td>Yes</td>\n",
       "      <td>Male</td>\n",
       "      <td>0</td>\n",
       "      <td>No</td>\n",
       "      <td>No</td>\n",
       "    </tr>\n",
       "    <tr>\n",
       "      <th>3</th>\n",
       "      <td>No phone service</td>\n",
       "      <td>DSL</td>\n",
       "      <td>Yes</td>\n",
       "      <td>No</td>\n",
       "      <td>Yes</td>\n",
       "      <td>Yes</td>\n",
       "      <td>No</td>\n",
       "      <td>No</td>\n",
       "      <td>45</td>\n",
       "      <td>No</td>\n",
       "      <td>One year</td>\n",
       "      <td>No</td>\n",
       "      <td>Bank transfer (automatic)</td>\n",
       "      <td>42.30</td>\n",
       "      <td>1840.75</td>\n",
       "      <td>No</td>\n",
       "      <td>Male</td>\n",
       "      <td>0</td>\n",
       "      <td>No</td>\n",
       "      <td>No</td>\n",
       "    </tr>\n",
       "    <tr>\n",
       "      <th>4</th>\n",
       "      <td>No</td>\n",
       "      <td>Fiber optic</td>\n",
       "      <td>No</td>\n",
       "      <td>No</td>\n",
       "      <td>No</td>\n",
       "      <td>No</td>\n",
       "      <td>No</td>\n",
       "      <td>No</td>\n",
       "      <td>2</td>\n",
       "      <td>Yes</td>\n",
       "      <td>Month-to-month</td>\n",
       "      <td>Yes</td>\n",
       "      <td>Electronic check</td>\n",
       "      <td>70.70</td>\n",
       "      <td>151.65</td>\n",
       "      <td>Yes</td>\n",
       "      <td>Female</td>\n",
       "      <td>0</td>\n",
       "      <td>No</td>\n",
       "      <td>No</td>\n",
       "    </tr>\n",
       "  </tbody>\n",
       "</table>\n",
       "</div>"
      ],
      "text/plain": [
       "      MultipleLines InternetService OnlineSecurity OnlineBackup  \\\n",
       "0  No phone service             DSL             No          Yes   \n",
       "1                No             DSL            Yes           No   \n",
       "2                No             DSL            Yes          Yes   \n",
       "3  No phone service             DSL            Yes           No   \n",
       "4                No     Fiber optic             No           No   \n",
       "\n",
       "  DeviceProtection TechSupport StreamingTV StreamingMovies  tenure  \\\n",
       "0               No          No          No              No       1   \n",
       "1              Yes          No          No              No      34   \n",
       "2               No          No          No              No       2   \n",
       "3              Yes         Yes          No              No      45   \n",
       "4               No          No          No              No       2   \n",
       "\n",
       "  PhoneService        Contract PaperlessBilling              PaymentMethod  \\\n",
       "0           No  Month-to-month              Yes           Electronic check   \n",
       "1          Yes        One year               No               Mailed check   \n",
       "2          Yes  Month-to-month              Yes               Mailed check   \n",
       "3           No        One year               No  Bank transfer (automatic)   \n",
       "4          Yes  Month-to-month              Yes           Electronic check   \n",
       "\n",
       "   MonthlyCharges TotalCharges Churn  gender  SeniorCitizen Partner Dependents  \n",
       "0           29.85        29.85    No  Female              0     Yes         No  \n",
       "1           56.95       1889.5    No    Male              0      No         No  \n",
       "2           53.85       108.15   Yes    Male              0      No         No  \n",
       "3           42.30      1840.75    No    Male              0      No         No  \n",
       "4           70.70       151.65   Yes  Female              0      No         No  "
      ]
     },
     "execution_count": 229,
     "metadata": {},
     "output_type": "execute_result"
    }
   ],
   "source": [
    "tel_df.drop('customerID',axis=1, inplace=True)\n",
    "tel_df.head()"
   ]
  },
  {
   "cell_type": "markdown",
   "metadata": {},
   "source": [
    "# 11. Convert the objects into floats"
   ]
  },
  {
   "cell_type": "code",
   "execution_count": 230,
   "metadata": {},
   "outputs": [],
   "source": [
    "tel_df.TotalCharges=pd.to_numeric(tel_df.TotalCharges,errors='coerc')"
   ]
  },
  {
   "cell_type": "code",
   "execution_count": 231,
   "metadata": {},
   "outputs": [
    {
     "data": {
      "text/html": [
       "<div>\n",
       "<style scoped>\n",
       "    .dataframe tbody tr th:only-of-type {\n",
       "        vertical-align: middle;\n",
       "    }\n",
       "\n",
       "    .dataframe tbody tr th {\n",
       "        vertical-align: top;\n",
       "    }\n",
       "\n",
       "    .dataframe thead th {\n",
       "        text-align: right;\n",
       "    }\n",
       "</style>\n",
       "<table border=\"1\" class=\"dataframe\">\n",
       "  <thead>\n",
       "    <tr style=\"text-align: right;\">\n",
       "      <th></th>\n",
       "      <th>MultipleLines</th>\n",
       "      <th>InternetService</th>\n",
       "      <th>OnlineSecurity</th>\n",
       "      <th>OnlineBackup</th>\n",
       "      <th>DeviceProtection</th>\n",
       "      <th>TechSupport</th>\n",
       "      <th>StreamingTV</th>\n",
       "      <th>StreamingMovies</th>\n",
       "      <th>tenure</th>\n",
       "      <th>PhoneService</th>\n",
       "      <th>Contract</th>\n",
       "      <th>PaperlessBilling</th>\n",
       "      <th>PaymentMethod</th>\n",
       "      <th>MonthlyCharges</th>\n",
       "      <th>TotalCharges</th>\n",
       "      <th>Churn</th>\n",
       "      <th>gender</th>\n",
       "      <th>SeniorCitizen</th>\n",
       "      <th>Partner</th>\n",
       "      <th>Dependents</th>\n",
       "    </tr>\n",
       "  </thead>\n",
       "  <tbody>\n",
       "    <tr>\n",
       "      <th>0</th>\n",
       "      <td>No phone service</td>\n",
       "      <td>DSL</td>\n",
       "      <td>No</td>\n",
       "      <td>Yes</td>\n",
       "      <td>No</td>\n",
       "      <td>No</td>\n",
       "      <td>No</td>\n",
       "      <td>No</td>\n",
       "      <td>1</td>\n",
       "      <td>No</td>\n",
       "      <td>Month-to-month</td>\n",
       "      <td>Yes</td>\n",
       "      <td>Electronic check</td>\n",
       "      <td>29.85</td>\n",
       "      <td>29.85</td>\n",
       "      <td>No</td>\n",
       "      <td>Female</td>\n",
       "      <td>0</td>\n",
       "      <td>Yes</td>\n",
       "      <td>No</td>\n",
       "    </tr>\n",
       "    <tr>\n",
       "      <th>1</th>\n",
       "      <td>No</td>\n",
       "      <td>DSL</td>\n",
       "      <td>Yes</td>\n",
       "      <td>No</td>\n",
       "      <td>Yes</td>\n",
       "      <td>No</td>\n",
       "      <td>No</td>\n",
       "      <td>No</td>\n",
       "      <td>34</td>\n",
       "      <td>Yes</td>\n",
       "      <td>One year</td>\n",
       "      <td>No</td>\n",
       "      <td>Mailed check</td>\n",
       "      <td>56.95</td>\n",
       "      <td>1889.50</td>\n",
       "      <td>No</td>\n",
       "      <td>Male</td>\n",
       "      <td>0</td>\n",
       "      <td>No</td>\n",
       "      <td>No</td>\n",
       "    </tr>\n",
       "    <tr>\n",
       "      <th>2</th>\n",
       "      <td>No</td>\n",
       "      <td>DSL</td>\n",
       "      <td>Yes</td>\n",
       "      <td>Yes</td>\n",
       "      <td>No</td>\n",
       "      <td>No</td>\n",
       "      <td>No</td>\n",
       "      <td>No</td>\n",
       "      <td>2</td>\n",
       "      <td>Yes</td>\n",
       "      <td>Month-to-month</td>\n",
       "      <td>Yes</td>\n",
       "      <td>Mailed check</td>\n",
       "      <td>53.85</td>\n",
       "      <td>108.15</td>\n",
       "      <td>Yes</td>\n",
       "      <td>Male</td>\n",
       "      <td>0</td>\n",
       "      <td>No</td>\n",
       "      <td>No</td>\n",
       "    </tr>\n",
       "    <tr>\n",
       "      <th>3</th>\n",
       "      <td>No phone service</td>\n",
       "      <td>DSL</td>\n",
       "      <td>Yes</td>\n",
       "      <td>No</td>\n",
       "      <td>Yes</td>\n",
       "      <td>Yes</td>\n",
       "      <td>No</td>\n",
       "      <td>No</td>\n",
       "      <td>45</td>\n",
       "      <td>No</td>\n",
       "      <td>One year</td>\n",
       "      <td>No</td>\n",
       "      <td>Bank transfer (automatic)</td>\n",
       "      <td>42.30</td>\n",
       "      <td>1840.75</td>\n",
       "      <td>No</td>\n",
       "      <td>Male</td>\n",
       "      <td>0</td>\n",
       "      <td>No</td>\n",
       "      <td>No</td>\n",
       "    </tr>\n",
       "    <tr>\n",
       "      <th>4</th>\n",
       "      <td>No</td>\n",
       "      <td>Fiber optic</td>\n",
       "      <td>No</td>\n",
       "      <td>No</td>\n",
       "      <td>No</td>\n",
       "      <td>No</td>\n",
       "      <td>No</td>\n",
       "      <td>No</td>\n",
       "      <td>2</td>\n",
       "      <td>Yes</td>\n",
       "      <td>Month-to-month</td>\n",
       "      <td>Yes</td>\n",
       "      <td>Electronic check</td>\n",
       "      <td>70.70</td>\n",
       "      <td>151.65</td>\n",
       "      <td>Yes</td>\n",
       "      <td>Female</td>\n",
       "      <td>0</td>\n",
       "      <td>No</td>\n",
       "      <td>No</td>\n",
       "    </tr>\n",
       "  </tbody>\n",
       "</table>\n",
       "</div>"
      ],
      "text/plain": [
       "      MultipleLines InternetService OnlineSecurity OnlineBackup  \\\n",
       "0  No phone service             DSL             No          Yes   \n",
       "1                No             DSL            Yes           No   \n",
       "2                No             DSL            Yes          Yes   \n",
       "3  No phone service             DSL            Yes           No   \n",
       "4                No     Fiber optic             No           No   \n",
       "\n",
       "  DeviceProtection TechSupport StreamingTV StreamingMovies  tenure  \\\n",
       "0               No          No          No              No       1   \n",
       "1              Yes          No          No              No      34   \n",
       "2               No          No          No              No       2   \n",
       "3              Yes         Yes          No              No      45   \n",
       "4               No          No          No              No       2   \n",
       "\n",
       "  PhoneService        Contract PaperlessBilling              PaymentMethod  \\\n",
       "0           No  Month-to-month              Yes           Electronic check   \n",
       "1          Yes        One year               No               Mailed check   \n",
       "2          Yes  Month-to-month              Yes               Mailed check   \n",
       "3           No        One year               No  Bank transfer (automatic)   \n",
       "4          Yes  Month-to-month              Yes           Electronic check   \n",
       "\n",
       "   MonthlyCharges  TotalCharges Churn  gender  SeniorCitizen Partner  \\\n",
       "0           29.85         29.85    No  Female              0     Yes   \n",
       "1           56.95       1889.50    No    Male              0      No   \n",
       "2           53.85        108.15   Yes    Male              0      No   \n",
       "3           42.30       1840.75    No    Male              0      No   \n",
       "4           70.70        151.65   Yes  Female              0      No   \n",
       "\n",
       "  Dependents  \n",
       "0         No  \n",
       "1         No  \n",
       "2         No  \n",
       "3         No  \n",
       "4         No  "
      ]
     },
     "execution_count": 231,
     "metadata": {},
     "output_type": "execute_result"
    }
   ],
   "source": [
    "tel_df.head()"
   ]
  },
  {
   "cell_type": "code",
   "execution_count": 232,
   "metadata": {},
   "outputs": [
    {
     "name": "stdout",
     "output_type": "stream",
     "text": [
      "<class 'pandas.core.frame.DataFrame'>\n",
      "Int64Index: 7043 entries, 0 to 7042\n",
      "Data columns (total 20 columns):\n",
      "MultipleLines       7043 non-null object\n",
      "InternetService     7043 non-null object\n",
      "OnlineSecurity      7043 non-null object\n",
      "OnlineBackup        7043 non-null object\n",
      "DeviceProtection    7043 non-null object\n",
      "TechSupport         7043 non-null object\n",
      "StreamingTV         7043 non-null object\n",
      "StreamingMovies     7043 non-null object\n",
      "tenure              7043 non-null int64\n",
      "PhoneService        7043 non-null object\n",
      "Contract            7043 non-null object\n",
      "PaperlessBilling    7043 non-null object\n",
      "PaymentMethod       7043 non-null object\n",
      "MonthlyCharges      7043 non-null float64\n",
      "TotalCharges        7032 non-null float64\n",
      "Churn               7043 non-null object\n",
      "gender              7043 non-null object\n",
      "SeniorCitizen       7043 non-null int64\n",
      "Partner             7043 non-null object\n",
      "Dependents          7043 non-null object\n",
      "dtypes: float64(2), int64(2), object(16)\n",
      "memory usage: 1.1+ MB\n"
     ]
    }
   ],
   "source": [
    "tel_df.info()"
   ]
  },
  {
   "cell_type": "code",
   "execution_count": 233,
   "metadata": {},
   "outputs": [
    {
     "data": {
      "text/plain": [
       "MultipleLines        0\n",
       "InternetService      0\n",
       "OnlineSecurity       0\n",
       "OnlineBackup         0\n",
       "DeviceProtection     0\n",
       "TechSupport          0\n",
       "StreamingTV          0\n",
       "StreamingMovies      0\n",
       "tenure               0\n",
       "PhoneService         0\n",
       "Contract             0\n",
       "PaperlessBilling     0\n",
       "PaymentMethod        0\n",
       "MonthlyCharges       0\n",
       "TotalCharges        11\n",
       "Churn                0\n",
       "gender               0\n",
       "SeniorCitizen        0\n",
       "Partner              0\n",
       "Dependents           0\n",
       "dtype: int64"
      ]
     },
     "execution_count": 233,
     "metadata": {},
     "output_type": "execute_result"
    }
   ],
   "source": [
    "tel_df.isnull().sum()"
   ]
  },
  {
   "cell_type": "markdown",
   "metadata": {},
   "source": [
    "# 12. Replace the null values by mean"
   ]
  },
  {
   "cell_type": "code",
   "execution_count": 234,
   "metadata": {},
   "outputs": [],
   "source": [
    "tel_df=tel_df.fillna(value=tel_df.TotalCharges.mean())"
   ]
  },
  {
   "cell_type": "code",
   "execution_count": 235,
   "metadata": {},
   "outputs": [
    {
     "data": {
      "text/plain": [
       "MultipleLines       0\n",
       "InternetService     0\n",
       "OnlineSecurity      0\n",
       "OnlineBackup        0\n",
       "DeviceProtection    0\n",
       "TechSupport         0\n",
       "StreamingTV         0\n",
       "StreamingMovies     0\n",
       "tenure              0\n",
       "PhoneService        0\n",
       "Contract            0\n",
       "PaperlessBilling    0\n",
       "PaymentMethod       0\n",
       "MonthlyCharges      0\n",
       "TotalCharges        0\n",
       "Churn               0\n",
       "gender              0\n",
       "SeniorCitizen       0\n",
       "Partner             0\n",
       "Dependents          0\n",
       "dtype: int64"
      ]
     },
     "execution_count": 235,
     "metadata": {},
     "output_type": "execute_result"
    }
   ],
   "source": [
    "tel_df.isnull().sum()"
   ]
  },
  {
   "cell_type": "markdown",
   "metadata": {},
   "source": [
    "# 13. Create the dummy columns"
   ]
  },
  {
   "cell_type": "code",
   "execution_count": 236,
   "metadata": {},
   "outputs": [],
   "source": [
    "tel_df1=pd.get_dummies(tel_df,drop_first=True)"
   ]
  },
  {
   "cell_type": "code",
   "execution_count": 237,
   "metadata": {},
   "outputs": [
    {
     "data": {
      "text/plain": [
       "(7043, 31)"
      ]
     },
     "execution_count": 237,
     "metadata": {},
     "output_type": "execute_result"
    }
   ],
   "source": [
    "tel_df1.shape"
   ]
  },
  {
   "cell_type": "code",
   "execution_count": 238,
   "metadata": {},
   "outputs": [
    {
     "data": {
      "text/plain": [
       "tenure                                   0.239540\n",
       "MonthlyCharges                          -0.220524\n",
       "TotalCharges                             0.962394\n",
       "SeniorCitizen                            1.833633\n",
       "MultipleLines_No phone service           2.727153\n",
       "MultipleLines_Yes                        0.316610\n",
       "InternetService_Fiber optic              0.243494\n",
       "InternetService_No                       1.375769\n",
       "OnlineSecurity_No internet service       1.375769\n",
       "OnlineSecurity_Yes                       0.943722\n",
       "OnlineBackup_No internet service         1.375769\n",
       "OnlineBackup_Yes                         0.652817\n",
       "DeviceProtection_No internet service     1.375769\n",
       "DeviceProtection_Yes                     0.657450\n",
       "TechSupport_No internet service          1.375769\n",
       "TechSupport_Yes                          0.924630\n",
       "StreamingTV_No internet service          1.375769\n",
       "StreamingTV_Yes                          0.475581\n",
       "StreamingMovies_No internet service      1.375769\n",
       "StreamingMovies_Yes                      0.460199\n",
       "PhoneService_Yes                        -2.727153\n",
       "Contract_One year                        1.430637\n",
       "Contract_Two year                        1.213561\n",
       "PaperlessBilling_Yes                    -0.375396\n",
       "PaymentMethod_Credit card (automatic)    1.379837\n",
       "PaymentMethod_Electronic check           0.695541\n",
       "PaymentMethod_Mailed check               1.290981\n",
       "Churn_Yes                                1.063031\n",
       "gender_Male                             -0.019031\n",
       "Partner_Yes                              0.067922\n",
       "Dependents_Yes                           0.875199\n",
       "dtype: float64"
      ]
     },
     "execution_count": 238,
     "metadata": {},
     "output_type": "execute_result"
    }
   ],
   "source": [
    "tel_df1.skew()"
   ]
  },
  {
   "cell_type": "markdown",
   "metadata": {},
   "source": [
    "# 14. Create X and y"
   ]
  },
  {
   "cell_type": "code",
   "execution_count": 239,
   "metadata": {},
   "outputs": [],
   "source": [
    "X=tel_df1.drop(['Churn_Yes'],1)\n",
    "y=tel_df1.Churn_Yes"
   ]
  },
  {
   "cell_type": "markdown",
   "metadata": {},
   "source": [
    "# 15. Split the data into train and test"
   ]
  },
  {
   "cell_type": "code",
   "execution_count": 240,
   "metadata": {},
   "outputs": [],
   "source": [
    "from sklearn.model_selection import train_test_split"
   ]
  },
  {
   "cell_type": "code",
   "execution_count": 241,
   "metadata": {},
   "outputs": [],
   "source": [
    "X_train,X_test,y_train,y_test=train_test_split(X,y,test_size=0.3,random_state=101)"
   ]
  },
  {
   "cell_type": "markdown",
   "metadata": {},
   "source": [
    "# 16. Scalling"
   ]
  },
  {
   "cell_type": "code",
   "execution_count": 242,
   "metadata": {},
   "outputs": [],
   "source": [
    "from sklearn.preprocessing import StandardScaler\n",
    "sc=StandardScaler()"
   ]
  },
  {
   "cell_type": "code",
   "execution_count": 243,
   "metadata": {},
   "outputs": [],
   "source": [
    "X_train_scaled=sc.fit_transform(X_train)\n",
    "X_test_scaled=sc.transform(X_test)"
   ]
  },
  {
   "cell_type": "code",
   "execution_count": 244,
   "metadata": {},
   "outputs": [],
   "source": [
    "X_train_scaled=pd.DataFrame(X_train_scaled)"
   ]
  },
  {
   "cell_type": "code",
   "execution_count": 245,
   "metadata": {},
   "outputs": [],
   "source": [
    "X_train_scaled.columns=X_train.columns"
   ]
  },
  {
   "cell_type": "markdown",
   "metadata": {},
   "source": [
    "# 17.RFE"
   ]
  },
  {
   "cell_type": "code",
   "execution_count": 246,
   "metadata": {},
   "outputs": [],
   "source": [
    "from sklearn.linear_model import LogisticRegression\n",
    "lrmod=LogisticRegression()\n",
    "from sklearn.feature_selection import RFE\n",
    "rfe=RFE(lrmod,15)"
   ]
  },
  {
   "cell_type": "code",
   "execution_count": 247,
   "metadata": {},
   "outputs": [
    {
     "data": {
      "text/plain": [
       "RFE(estimator=LogisticRegression(C=1.0, class_weight=None, dual=False,\n",
       "                                 fit_intercept=True, intercept_scaling=1,\n",
       "                                 l1_ratio=None, max_iter=100,\n",
       "                                 multi_class='warn', n_jobs=None, penalty='l2',\n",
       "                                 random_state=None, solver='warn', tol=0.0001,\n",
       "                                 verbose=0, warm_start=False),\n",
       "    n_features_to_select=15, step=1, verbose=0)"
      ]
     },
     "execution_count": 247,
     "metadata": {},
     "output_type": "execute_result"
    }
   ],
   "source": [
    "rfe.fit(X_train_scaled,y_train)"
   ]
  },
  {
   "cell_type": "code",
   "execution_count": 248,
   "metadata": {},
   "outputs": [
    {
     "data": {
      "text/plain": [
       "array([ True,  True,  True, False, False,  True,  True,  True,  True,\n",
       "       False, False, False, False, False,  True, False,  True,  True,\n",
       "       False,  True, False,  True,  True,  True, False,  True, False,\n",
       "       False, False, False])"
      ]
     },
     "execution_count": 248,
     "metadata": {},
     "output_type": "execute_result"
    }
   ],
   "source": [
    "rfe.support_"
   ]
  },
  {
   "cell_type": "code",
   "execution_count": 249,
   "metadata": {},
   "outputs": [
    {
     "data": {
      "text/plain": [
       "[('tenure', True, 1),\n",
       " ('MonthlyCharges', True, 1),\n",
       " ('TotalCharges', True, 1),\n",
       " ('SeniorCitizen', False, 6),\n",
       " ('MultipleLines_No phone service', False, 4),\n",
       " ('MultipleLines_Yes', True, 1),\n",
       " ('InternetService_Fiber optic', True, 1),\n",
       " ('InternetService_No', True, 1),\n",
       " ('OnlineSecurity_No internet service', True, 1),\n",
       " ('OnlineSecurity_Yes', False, 3),\n",
       " ('OnlineBackup_No internet service', False, 7),\n",
       " ('OnlineBackup_Yes', False, 5),\n",
       " ('DeviceProtection_No internet service', False, 12),\n",
       " ('DeviceProtection_Yes', False, 15),\n",
       " ('TechSupport_No internet service', True, 1),\n",
       " ('TechSupport_Yes', False, 2),\n",
       " ('StreamingTV_No internet service', True, 1),\n",
       " ('StreamingTV_Yes', True, 1),\n",
       " ('StreamingMovies_No internet service', False, 10),\n",
       " ('StreamingMovies_Yes', True, 1),\n",
       " ('PhoneService_Yes', False, 8),\n",
       " ('Contract_One year', True, 1),\n",
       " ('Contract_Two year', True, 1),\n",
       " ('PaperlessBilling_Yes', True, 1),\n",
       " ('PaymentMethod_Credit card (automatic)', False, 9),\n",
       " ('PaymentMethod_Electronic check', True, 1),\n",
       " ('PaymentMethod_Mailed check', False, 13),\n",
       " ('gender_Male', False, 14),\n",
       " ('Partner_Yes', False, 16),\n",
       " ('Dependents_Yes', False, 11)]"
      ]
     },
     "execution_count": 249,
     "metadata": {},
     "output_type": "execute_result"
    }
   ],
   "source": [
    "list(zip(X_train.columns, rfe.support_, rfe.ranking_))"
   ]
  },
  {
   "cell_type": "markdown",
   "metadata": {},
   "source": [
    "# 18. State Model"
   ]
  },
  {
   "cell_type": "code",
   "execution_count": 250,
   "metadata": {},
   "outputs": [],
   "source": [
    "import statsmodels.api as sm"
   ]
  },
  {
   "cell_type": "code",
   "execution_count": 251,
   "metadata": {},
   "outputs": [],
   "source": [
    "X_train_scaled_sm=sm.add_constant(X_train_scaled)\n",
    "lr1=sm.GLM(list(y_train),X_train_scaled_sm, family=sm.families.Binomial()).fit()"
   ]
  },
  {
   "cell_type": "code",
   "execution_count": 252,
   "metadata": {},
   "outputs": [
    {
     "name": "stdout",
     "output_type": "stream",
     "text": [
      "                 Generalized Linear Model Regression Results                  \n",
      "==============================================================================\n",
      "Dep. Variable:                      y   No. Observations:                 4930\n",
      "Model:                            GLM   Df Residuals:                     4906\n",
      "Model Family:                Binomial   Df Model:                           23\n",
      "Link Function:                  logit   Scale:                          1.0000\n",
      "Method:                          IRLS   Log-Likelihood:                -2037.3\n",
      "Date:                Wed, 16 Oct 2019   Deviance:                       4074.5\n",
      "Time:                        15:17:07   Pearson chi2:                 5.64e+03\n",
      "No. Iterations:                     7                                         \n",
      "Covariance Type:            nonrobust                                         \n",
      "=========================================================================================================\n",
      "                                            coef    std err          z      P>|z|      [0.025      0.975]\n",
      "---------------------------------------------------------------------------------------------------------\n",
      "const                                    -1.7466      0.066    -26.414      0.000      -1.876      -1.617\n",
      "tenure                                   -1.3652      0.175     -7.790      0.000      -1.709      -1.022\n",
      "MonthlyCharges                           -0.7228      1.134     -0.637      0.524      -2.946       1.500\n",
      "TotalCharges                              0.6164      0.185      3.329      0.001       0.254       0.979\n",
      "SeniorCitizen                             0.0739      0.037      1.991      0.047       0.001       0.147\n",
      "MultipleLines_No phone service            0.0381      0.112      0.340      0.734      -0.182       0.258\n",
      "MultipleLines_Yes                         0.1531      0.104      1.474      0.140      -0.050       0.357\n",
      "InternetService_Fiber optic               0.7079      0.472      1.500      0.134      -0.217       1.633\n",
      "InternetService_No                       -0.0799      0.057     -1.412      0.158      -0.191       0.031\n",
      "OnlineSecurity_No internet service       -0.0799      0.057     -1.412      0.158      -0.191       0.031\n",
      "OnlineSecurity_Yes                       -0.0818      0.096     -0.849      0.396      -0.271       0.107\n",
      "OnlineBackup_No internet service         -0.0799      0.057     -1.412      0.158      -0.191       0.031\n",
      "OnlineBackup_Yes                         -0.0503      0.099     -0.507      0.612      -0.245       0.144\n",
      "DeviceProtection_No internet service     -0.0799      0.057     -1.412      0.158      -0.191       0.031\n",
      "DeviceProtection_Yes                      0.0308      0.100      0.308      0.758      -0.165       0.227\n",
      "TechSupport_No internet service          -0.0799      0.057     -1.412      0.158      -0.191       0.031\n",
      "TechSupport_Yes                          -0.1132      0.097     -1.163      0.245      -0.304       0.078\n",
      "StreamingTV_No internet service          -0.0799      0.057     -1.412      0.158      -0.191       0.031\n",
      "StreamingTV_Yes                           0.2565      0.190      1.353      0.176      -0.115       0.628\n",
      "StreamingMovies_No internet service      -0.0799      0.057     -1.412      0.158      -0.191       0.031\n",
      "StreamingMovies_Yes                       0.2021      0.190      1.063      0.288      -0.171       0.575\n",
      "PhoneService_Yes                         -0.0381      0.112     -0.340      0.734      -0.258       0.182\n",
      "Contract_One year                        -0.2474      0.052     -4.735      0.000      -0.350      -0.145\n",
      "Contract_Two year                        -0.6058      0.092     -6.577      0.000      -0.786      -0.425\n",
      "PaperlessBilling_Yes                      0.1774      0.044      4.051      0.000       0.092       0.263\n",
      "PaymentMethod_Credit card (automatic)    -0.0549      0.057     -0.964      0.335      -0.166       0.057\n",
      "PaymentMethod_Electronic check            0.1644      0.054      3.060      0.002       0.059       0.270\n",
      "PaymentMethod_Mailed check                0.0259      0.058      0.447      0.655      -0.088       0.140\n",
      "gender_Male                               0.0148      0.039      0.381      0.703      -0.061       0.091\n",
      "Partner_Yes                              -0.0051      0.047     -0.110      0.912      -0.096       0.086\n",
      "Dependents_Yes                           -0.0630      0.049     -1.279      0.201      -0.160       0.034\n",
      "=========================================================================================================\n"
     ]
    }
   ],
   "source": [
    "print(lr1.summary())"
   ]
  },
  {
   "cell_type": "code",
   "execution_count": 253,
   "metadata": {},
   "outputs": [],
   "source": [
    "col=X_train_scaled.columns"
   ]
  },
  {
   "cell_type": "code",
   "execution_count": 254,
   "metadata": {},
   "outputs": [],
   "source": [
    "col=col.drop(['MonthlyCharges'])"
   ]
  },
  {
   "cell_type": "code",
   "execution_count": 255,
   "metadata": {},
   "outputs": [],
   "source": [
    "X_train_scaled_sm=sm.add_constant(X_train_scaled[col])\n",
    "lr2=sm.GLM(list(y_train),X_train_scaled_sm,family=sm.families.Binomial()).fit()"
   ]
  },
  {
   "cell_type": "code",
   "execution_count": 256,
   "metadata": {},
   "outputs": [
    {
     "name": "stdout",
     "output_type": "stream",
     "text": [
      "                 Generalized Linear Model Regression Results                  \n",
      "==============================================================================\n",
      "Dep. Variable:                      y   No. Observations:                 4930\n",
      "Model:                            GLM   Df Residuals:                     4907\n",
      "Model Family:                Binomial   Df Model:                           22\n",
      "Link Function:                  logit   Scale:                          1.0000\n",
      "Method:                          IRLS   Log-Likelihood:                -2037.5\n",
      "Date:                Wed, 16 Oct 2019   Deviance:                       4074.9\n",
      "Time:                        15:17:08   Pearson chi2:                 5.65e+03\n",
      "No. Iterations:                   100                                         \n",
      "Covariance Type:            nonrobust                                         \n",
      "=========================================================================================================\n",
      "                                            coef    std err          z      P>|z|      [0.025      0.975]\n",
      "---------------------------------------------------------------------------------------------------------\n",
      "const                                    -1.7451      0.066    -26.503      0.000      -1.874      -1.616\n",
      "tenure                                   -1.3586      0.174     -7.789      0.000      -1.700      -1.017\n",
      "TotalCharges                              0.6084      0.184      3.303      0.001       0.247       0.969\n",
      "SeniorCitizen                             0.0735      0.037      1.981      0.048       0.001       0.146\n",
      "MultipleLines_No phone service            0.1081      0.023      4.670      0.000       0.063       0.154\n",
      "MultipleLines_Yes                         0.0941      0.047      2.004      0.045       0.002       0.186\n",
      "InternetService_Fiber optic               0.4096      0.058      7.061      0.000       0.296       0.523\n",
      "InternetService_No                       -0.0444      0.010     -4.542      0.000      -0.064      -0.025\n",
      "OnlineSecurity_No internet service       -0.0444      0.010     -4.542      0.000      -0.064      -0.025\n",
      "OnlineSecurity_Yes                       -0.1358      0.046     -2.957      0.003      -0.226      -0.046\n",
      "OnlineBackup_No internet service         -0.0444      0.010     -4.542      0.000      -0.064      -0.025\n",
      "OnlineBackup_Yes                         -0.1070      0.044     -2.437      0.015      -0.193      -0.021\n",
      "DeviceProtection_No internet service     -0.0444      0.010     -4.542      0.000      -0.064      -0.025\n",
      "DeviceProtection_Yes                     -0.0260      0.045     -0.575      0.565      -0.114       0.063\n",
      "TechSupport_No internet service          -0.0444      0.010     -4.542      0.000      -0.064      -0.025\n",
      "TechSupport_Yes                          -0.1677      0.047     -3.593      0.000      -0.259      -0.076\n",
      "StreamingTV_No internet service          -0.0444      0.010     -4.542      0.000      -0.064      -0.025\n",
      "StreamingTV_Yes                           0.1396      0.048      2.938      0.003       0.046       0.233\n",
      "StreamingMovies_No internet service      -0.0444      0.010     -4.542      0.000      -0.064      -0.025\n",
      "StreamingMovies_Yes                       0.0848      0.047      1.791      0.073      -0.008       0.178\n",
      "PhoneService_Yes                         -0.1081      0.023     -4.670      0.000      -0.154      -0.063\n",
      "Contract_One year                        -0.2477      0.052     -4.744      0.000      -0.350      -0.145\n",
      "Contract_Two year                        -0.6051      0.092     -6.585      0.000      -0.785      -0.425\n",
      "PaperlessBilling_Yes                      0.1779      0.044      4.065      0.000       0.092       0.264\n",
      "PaymentMethod_Credit card (automatic)    -0.0548      0.057     -0.962      0.336      -0.166       0.057\n",
      "PaymentMethod_Electronic check            0.1646      0.054      3.064      0.002       0.059       0.270\n",
      "PaymentMethod_Mailed check                0.0262      0.058      0.451      0.652      -0.088       0.140\n",
      "gender_Male                               0.0145      0.039      0.374      0.708      -0.062       0.091\n",
      "Partner_Yes                              -0.0045      0.047     -0.097      0.923      -0.096       0.087\n",
      "Dependents_Yes                           -0.0630      0.049     -1.278      0.201      -0.160       0.034\n",
      "=========================================================================================================\n"
     ]
    }
   ],
   "source": [
    "print(lr2.summary())"
   ]
  },
  {
   "cell_type": "code",
   "execution_count": 257,
   "metadata": {},
   "outputs": [],
   "source": [
    "col= col.drop('Partner_Yes')"
   ]
  },
  {
   "cell_type": "code",
   "execution_count": 258,
   "metadata": {},
   "outputs": [],
   "source": [
    "X_train_scaled=X_train_scaled[col]"
   ]
  },
  {
   "cell_type": "code",
   "execution_count": 259,
   "metadata": {},
   "outputs": [
    {
     "name": "stdout",
     "output_type": "stream",
     "text": [
      "                 Generalized Linear Model Regression Results                  \n",
      "==============================================================================\n",
      "Dep. Variable:                      y   No. Observations:                 4930\n",
      "Model:                            GLM   Df Residuals:                     4908\n",
      "Model Family:                Binomial   Df Model:                           21\n",
      "Link Function:                  logit   Scale:                          1.0000\n",
      "Method:                          IRLS   Log-Likelihood:                -2037.5\n",
      "Date:                Wed, 16 Oct 2019   Deviance:                       4075.0\n",
      "Time:                        15:17:09   Pearson chi2:                 5.65e+03\n",
      "No. Iterations:                   100                                         \n",
      "Covariance Type:            nonrobust                                         \n",
      "=========================================================================================================\n",
      "                                            coef    std err          z      P>|z|      [0.025      0.975]\n",
      "---------------------------------------------------------------------------------------------------------\n",
      "const                                    -1.7442      0.065    -26.838      0.000      -1.872      -1.617\n",
      "tenure                                   -1.3601      0.173     -7.875      0.000      -1.699      -1.022\n",
      "TotalCharges                              0.6089      0.183      3.334      0.001       0.251       0.967\n",
      "SeniorCitizen                             0.0732      0.037      1.988      0.047       0.001       0.145\n",
      "MultipleLines_No phone service            0.1081      0.023      4.695      0.000       0.063       0.153\n",
      "MultipleLines_Yes                         0.0940      0.047      2.011      0.044       0.002       0.186\n",
      "InternetService_Fiber optic               0.4093      0.058      7.092      0.000       0.296       0.522\n",
      "InternetService_No                       -0.0444      0.010     -4.555      0.000      -0.064      -0.025\n",
      "OnlineSecurity_No internet service       -0.0444      0.010     -4.555      0.000      -0.064      -0.025\n",
      "OnlineSecurity_Yes                       -0.1357      0.046     -2.983      0.003      -0.225      -0.047\n",
      "OnlineBackup_No internet service         -0.0444      0.010     -4.555      0.000      -0.064      -0.025\n",
      "OnlineBackup_Yes                         -0.1069      0.044     -2.451      0.014      -0.192      -0.021\n",
      "DeviceProtection_No internet service     -0.0444      0.010     -4.555      0.000      -0.064      -0.025\n",
      "DeviceProtection_Yes                     -0.0261      0.045     -0.581      0.561      -0.114       0.062\n",
      "TechSupport_No internet service          -0.0444      0.010     -4.555      0.000      -0.064      -0.025\n",
      "TechSupport_Yes                          -0.1676      0.046     -3.619      0.000      -0.258      -0.077\n",
      "StreamingTV_No internet service          -0.0444      0.010     -4.555      0.000      -0.064      -0.025\n",
      "StreamingTV_Yes                           0.1396      0.047      2.952      0.003       0.047       0.232\n",
      "StreamingMovies_No internet service      -0.0444      0.010     -4.555      0.000      -0.064      -0.025\n",
      "StreamingMovies_Yes                       0.0847      0.047      1.798      0.072      -0.008       0.177\n",
      "PhoneService_Yes                         -0.1081      0.023     -4.695      0.000      -0.153      -0.063\n",
      "Contract_One year                        -0.2476      0.052     -4.788      0.000      -0.349      -0.146\n",
      "Contract_Two year                        -0.6042      0.090     -6.716      0.000      -0.781      -0.428\n",
      "PaperlessBilling_Yes                      0.1780      0.044      4.090      0.000       0.093       0.263\n",
      "PaymentMethod_Credit card (automatic)    -0.0552      0.056     -0.980      0.327      -0.166       0.055\n",
      "PaymentMethod_Electronic check            0.1641      0.053      3.087      0.002       0.060       0.268\n",
      "PaymentMethod_Mailed check                0.0259      0.057      0.450      0.652      -0.087       0.138\n",
      "gender_Male                               0.0145      0.039      0.375      0.708      -0.061       0.090\n",
      "Dependents_Yes                           -0.0650      0.044     -1.466      0.143      -0.152       0.022\n",
      "=========================================================================================================\n"
     ]
    }
   ],
   "source": [
    "X_train_scaled_sm=sm.add_constant(X_train_scaled)\n",
    "lr3=sm.GLM(list(y_train),X_train_scaled_sm,family=sm.families.Binomial()).fit()\n",
    "print(lr3.summary())"
   ]
  },
  {
   "cell_type": "code",
   "execution_count": 260,
   "metadata": {},
   "outputs": [],
   "source": [
    "col=col.drop('gender_Male')"
   ]
  },
  {
   "cell_type": "code",
   "execution_count": 261,
   "metadata": {},
   "outputs": [],
   "source": [
    "\n",
    "\n",
    "\n",
    "X_train_scaled=X_train_scaled[col]"
   ]
  },
  {
   "cell_type": "code",
   "execution_count": 262,
   "metadata": {},
   "outputs": [
    {
     "name": "stdout",
     "output_type": "stream",
     "text": [
      "                 Generalized Linear Model Regression Results                  \n",
      "==============================================================================\n",
      "Dep. Variable:                      y   No. Observations:                 4930\n",
      "Model:                            GLM   Df Residuals:                     4909\n",
      "Model Family:                Binomial   Df Model:                           20\n",
      "Link Function:                  logit   Scale:                          1.0000\n",
      "Method:                          IRLS   Log-Likelihood:                -2037.5\n",
      "Date:                Wed, 16 Oct 2019   Deviance:                       4075.1\n",
      "Time:                        15:17:13   Pearson chi2:                 5.66e+03\n",
      "No. Iterations:                   100                                         \n",
      "Covariance Type:            nonrobust                                         \n",
      "=========================================================================================================\n",
      "                                            coef    std err          z      P>|z|      [0.025      0.975]\n",
      "---------------------------------------------------------------------------------------------------------\n",
      "const                                    -1.7444      0.066    -26.568      0.000      -1.873      -1.616\n",
      "tenure                                   -1.3594      0.173     -7.844      0.000      -1.699      -1.020\n",
      "TotalCharges                              0.6087      0.183      3.318      0.001       0.249       0.968\n",
      "SeniorCitizen                             0.0732      0.037      1.980      0.048       0.001       0.146\n",
      "MultipleLines_No phone service            0.1080      0.023      4.667      0.000       0.063       0.153\n",
      "MultipleLines_Yes                         0.0939      0.047      2.002      0.045       0.002       0.186\n",
      "InternetService_Fiber optic               0.4089      0.058      7.059      0.000       0.295       0.522\n",
      "InternetService_No                       -0.0444      0.010     -4.601      0.000      -0.063      -0.025\n",
      "OnlineSecurity_No internet service       -0.0444      0.010     -4.601      0.000      -0.063      -0.025\n",
      "OnlineSecurity_Yes                       -0.1365      0.046     -2.977      0.003      -0.226      -0.047\n",
      "OnlineBackup_No internet service         -0.0444      0.010     -4.601      0.000      -0.063      -0.025\n",
      "OnlineBackup_Yes                         -0.1076      0.044     -2.452      0.014      -0.194      -0.022\n",
      "DeviceProtection_No internet service     -0.0444      0.010     -4.601      0.000      -0.063      -0.025\n",
      "DeviceProtection_Yes                     -0.0260      0.045     -0.575      0.565      -0.114       0.062\n",
      "TechSupport_No internet service          -0.0444      0.010     -4.601      0.000      -0.063      -0.025\n",
      "TechSupport_Yes                          -0.1676      0.047     -3.593      0.000      -0.259      -0.076\n",
      "StreamingTV_No internet service          -0.0444      0.010     -4.601      0.000      -0.063      -0.025\n",
      "StreamingTV_Yes                           0.1391      0.048      2.927      0.003       0.046       0.232\n",
      "StreamingMovies_No internet service      -0.0444      0.010     -4.601      0.000      -0.063      -0.025\n",
      "StreamingMovies_Yes                       0.0847      0.047      1.788      0.074      -0.008       0.177\n",
      "PhoneService_Yes                         -0.1080      0.023     -4.667      0.000      -0.153      -0.063\n",
      "Contract_One year                        -0.2475      0.052     -4.755      0.000      -0.350      -0.146\n",
      "Contract_Two year                        -0.6052      0.092     -6.587      0.000      -0.785      -0.425\n",
      "PaperlessBilling_Yes                      0.1782      0.044      4.083      0.000       0.093       0.264\n",
      "PaymentMethod_Credit card (automatic)    -0.0544      0.057     -0.957      0.339      -0.166       0.057\n",
      "PaymentMethod_Electronic check            0.1645      0.054      3.065      0.002       0.059       0.270\n",
      "PaymentMethod_Mailed check                0.0269      0.058      0.465      0.642      -0.086       0.140\n",
      "Dependents_Yes                           -0.0650      0.044     -1.462      0.144      -0.152       0.022\n",
      "=========================================================================================================\n"
     ]
    }
   ],
   "source": [
    "X_train_scaled_sm=sm.add_constant(X_train_scaled)\n",
    "lr4=sm.GLM(list(y_train),X_train_scaled_sm,family=sm.families.Binomial()).fit()\n",
    "print(lr4.summary())"
   ]
  },
  {
   "cell_type": "code",
   "execution_count": 263,
   "metadata": {},
   "outputs": [],
   "source": [
    "col=col.drop('DeviceProtection_Yes')"
   ]
  },
  {
   "cell_type": "code",
   "execution_count": 264,
   "metadata": {},
   "outputs": [],
   "source": [
    "X_train_scaled=X_train_scaled[col]"
   ]
  },
  {
   "cell_type": "code",
   "execution_count": 265,
   "metadata": {},
   "outputs": [
    {
     "name": "stdout",
     "output_type": "stream",
     "text": [
      "                 Generalized Linear Model Regression Results                  \n",
      "==============================================================================\n",
      "Dep. Variable:                      y   No. Observations:                 4930\n",
      "Model:                            GLM   Df Residuals:                     4910\n",
      "Model Family:                Binomial   Df Model:                           19\n",
      "Link Function:                  logit   Scale:                          1.0000\n",
      "Method:                          IRLS   Log-Likelihood:                -2037.7\n",
      "Date:                Wed, 16 Oct 2019   Deviance:                       4075.4\n",
      "Time:                        15:17:14   Pearson chi2:                 5.66e+03\n",
      "No. Iterations:                   100                                         \n",
      "Covariance Type:            nonrobust                                         \n",
      "=========================================================================================================\n",
      "                                            coef    std err          z      P>|z|      [0.025      0.975]\n",
      "---------------------------------------------------------------------------------------------------------\n",
      "const                                    -1.7441      0.066    -26.275      0.000      -1.874      -1.614\n",
      "tenure                                   -1.3514      0.175     -7.725      0.000      -1.694      -1.009\n",
      "TotalCharges                              0.5932      0.184      3.232      0.001       0.234       0.953\n",
      "SeniorCitizen                             0.0730      0.037      1.974      0.048       0.001       0.145\n",
      "MultipleLines_No phone service            0.1074      0.023      4.641      0.000       0.062       0.153\n",
      "MultipleLines_Yes                         0.0947      0.047      2.018      0.044       0.003       0.187\n",
      "InternetService_Fiber optic               0.4101      0.058      7.080      0.000       0.297       0.524\n",
      "InternetService_No                       -0.0439      0.010     -4.499      0.000      -0.063      -0.025\n",
      "OnlineSecurity_No internet service       -0.0439      0.010     -4.499      0.000      -0.063      -0.025\n",
      "OnlineSecurity_Yes                       -0.1358      0.046     -2.963      0.003      -0.226      -0.046\n",
      "OnlineBackup_No internet service         -0.0439      0.010     -4.499      0.000      -0.063      -0.025\n",
      "OnlineBackup_Yes                         -0.1074      0.044     -2.449      0.014      -0.193      -0.021\n",
      "DeviceProtection_No internet service     -0.0439      0.010     -4.499      0.000      -0.063      -0.025\n",
      "TechSupport_No internet service          -0.0439      0.010     -4.499      0.000      -0.063      -0.025\n",
      "TechSupport_Yes                          -0.1687      0.047     -3.616      0.000      -0.260      -0.077\n",
      "StreamingTV_No internet service          -0.0439      0.010     -4.499      0.000      -0.063      -0.025\n",
      "StreamingTV_Yes                           0.1368      0.047      2.890      0.004       0.044       0.230\n",
      "StreamingMovies_No internet service      -0.0439      0.010     -4.499      0.000      -0.063      -0.025\n",
      "StreamingMovies_Yes                       0.0826      0.047      1.750      0.080      -0.010       0.175\n",
      "PhoneService_Yes                         -0.1074      0.023     -4.641      0.000      -0.153      -0.062\n",
      "Contract_One year                        -0.2503      0.052     -4.800      0.000      -0.353      -0.148\n",
      "Contract_Two year                        -0.6081      0.092     -6.622      0.000      -0.788      -0.428\n",
      "PaperlessBilling_Yes                      0.1785      0.044      4.077      0.000       0.093       0.264\n",
      "PaymentMethod_Credit card (automatic)    -0.0551      0.057     -0.969      0.333      -0.167       0.056\n",
      "PaymentMethod_Electronic check            0.1651      0.054      3.072      0.002       0.060       0.270\n",
      "PaymentMethod_Mailed check                0.0271      0.058      0.468      0.640      -0.087       0.141\n",
      "Dependents_Yes                           -0.0652      0.045     -1.458      0.145      -0.153       0.022\n",
      "=========================================================================================================\n"
     ]
    }
   ],
   "source": [
    "X_train_scaled_sm=sm.add_constant(X_train_scaled)\n",
    "lr5=sm.GLM(list(y_train),X_train_scaled_sm,family=sm.families.Binomial()).fit()\n",
    "print(lr5.summary())"
   ]
  },
  {
   "cell_type": "code",
   "execution_count": 266,
   "metadata": {},
   "outputs": [],
   "source": [
    "col=col.drop('PaymentMethod_Mailed check')"
   ]
  },
  {
   "cell_type": "code",
   "execution_count": 267,
   "metadata": {},
   "outputs": [],
   "source": [
    "X_train_scaled=X_train_scaled[col]"
   ]
  },
  {
   "cell_type": "code",
   "execution_count": 268,
   "metadata": {},
   "outputs": [
    {
     "name": "stdout",
     "output_type": "stream",
     "text": [
      "                 Generalized Linear Model Regression Results                  \n",
      "==============================================================================\n",
      "Dep. Variable:                      y   No. Observations:                 4930\n",
      "Model:                            GLM   Df Residuals:                     4911\n",
      "Model Family:                Binomial   Df Model:                           18\n",
      "Link Function:                  logit   Scale:                          1.0000\n",
      "Method:                          IRLS   Log-Likelihood:                -2037.8\n",
      "Date:                Wed, 16 Oct 2019   Deviance:                       4075.6\n",
      "Time:                        15:17:15   Pearson chi2:                 5.66e+03\n",
      "No. Iterations:                   100                                         \n",
      "Covariance Type:            nonrobust                                         \n",
      "=========================================================================================================\n",
      "                                            coef    std err          z      P>|z|      [0.025      0.975]\n",
      "---------------------------------------------------------------------------------------------------------\n",
      "const                                    -1.7446      0.066    -26.438      0.000      -1.874      -1.615\n",
      "tenure                                   -1.3627      0.172     -7.908      0.000      -1.700      -1.025\n",
      "TotalCharges                              0.6010      0.182      3.302      0.001       0.244       0.958\n",
      "SeniorCitizen                             0.0724      0.037      1.959      0.050   -2.47e-05       0.145\n",
      "MultipleLines_No phone service            0.1076      0.023      4.651      0.000       0.062       0.153\n",
      "MultipleLines_Yes                         0.0939      0.047      2.002      0.045       0.002       0.186\n",
      "InternetService_Fiber optic               0.4071      0.058      7.072      0.000       0.294       0.520\n",
      "InternetService_No                       -0.0434      0.010     -4.490      0.000      -0.062      -0.024\n",
      "OnlineSecurity_No internet service       -0.0434      0.010     -4.490      0.000      -0.062      -0.024\n",
      "OnlineSecurity_Yes                       -0.1359      0.046     -2.964      0.003      -0.226      -0.046\n",
      "OnlineBackup_No internet service         -0.0434      0.010     -4.490      0.000      -0.062      -0.024\n",
      "OnlineBackup_Yes                         -0.1079      0.044     -2.461      0.014      -0.194      -0.022\n",
      "DeviceProtection_No internet service     -0.0434      0.010     -4.490      0.000      -0.062      -0.024\n",
      "TechSupport_No internet service          -0.0434      0.010     -4.490      0.000      -0.062      -0.024\n",
      "TechSupport_Yes                          -0.1687      0.047     -3.616      0.000      -0.260      -0.077\n",
      "StreamingTV_No internet service          -0.0434      0.010     -4.490      0.000      -0.062      -0.024\n",
      "StreamingTV_Yes                           0.1362      0.047      2.879      0.004       0.043       0.229\n",
      "StreamingMovies_No internet service      -0.0434      0.010     -4.490      0.000      -0.062      -0.024\n",
      "StreamingMovies_Yes                       0.0817      0.047      1.733      0.083      -0.011       0.174\n",
      "PhoneService_Yes                         -0.1076      0.023     -4.651      0.000      -0.153      -0.062\n",
      "Contract_One year                        -0.2507      0.052     -4.819      0.000      -0.353      -0.149\n",
      "Contract_Two year                        -0.6089      0.092     -6.624      0.000      -0.789      -0.429\n",
      "PaperlessBilling_Yes                      0.1778      0.044      4.065      0.000       0.092       0.263\n",
      "PaymentMethod_Credit card (automatic)    -0.0680      0.050     -1.369      0.171      -0.165       0.029\n",
      "PaymentMethod_Electronic check            0.1500      0.043      3.500      0.000       0.066       0.234\n",
      "Dependents_Yes                           -0.0651      0.045     -1.458      0.145      -0.153       0.022\n",
      "=========================================================================================================\n"
     ]
    }
   ],
   "source": [
    "X_train_scaled_sm=sm.add_constant(X_train_scaled)\n",
    "lr6=sm.GLM(list(y_train),X_train_scaled_sm,family=sm.families.Binomial()).fit()\n",
    "print(lr6.summary())"
   ]
  },
  {
   "cell_type": "code",
   "execution_count": 269,
   "metadata": {},
   "outputs": [],
   "source": [
    "col=col.drop(['PaymentMethod_Credit card (automatic)'])"
   ]
  },
  {
   "cell_type": "code",
   "execution_count": 270,
   "metadata": {},
   "outputs": [],
   "source": [
    "X_train_scaled=X_train_scaled[col]"
   ]
  },
  {
   "cell_type": "code",
   "execution_count": 271,
   "metadata": {},
   "outputs": [],
   "source": [
    "X_train_scaled_sm=sm.add_constant(X_train_scaled)"
   ]
  },
  {
   "cell_type": "code",
   "execution_count": 272,
   "metadata": {},
   "outputs": [
    {
     "name": "stdout",
     "output_type": "stream",
     "text": [
      "                 Generalized Linear Model Regression Results                  \n",
      "==============================================================================\n",
      "Dep. Variable:                      y   No. Observations:                 4930\n",
      "Model:                            GLM   Df Residuals:                     4912\n",
      "Model Family:                Binomial   Df Model:                           17\n",
      "Link Function:                  logit   Scale:                          1.0000\n",
      "Method:                          IRLS   Log-Likelihood:                -2038.8\n",
      "Date:                Wed, 16 Oct 2019   Deviance:                       4077.5\n",
      "Time:                        15:17:17   Pearson chi2:                 5.67e+03\n",
      "No. Iterations:                   100                                         \n",
      "Covariance Type:            nonrobust                                         \n",
      "========================================================================================================\n",
      "                                           coef    std err          z      P>|z|      [0.025      0.975]\n",
      "--------------------------------------------------------------------------------------------------------\n",
      "const                                   -1.7426      0.065    -26.755      0.000      -1.870      -1.615\n",
      "tenure                                  -1.3794      0.171     -8.065      0.000      -1.715      -1.044\n",
      "TotalCharges                             0.6129      0.181      3.388      0.001       0.258       0.967\n",
      "SeniorCitizen                            0.0720      0.037      1.950      0.051      -0.000       0.144\n",
      "MultipleLines_No phone service           0.1073      0.023      4.638      0.000       0.062       0.153\n",
      "MultipleLines_Yes                        0.0935      0.047      2.000      0.046       0.002       0.185\n",
      "InternetService_Fiber optic              0.4021      0.057      7.020      0.000       0.290       0.514\n",
      "InternetService_No                      -0.0427      0.010     -4.467      0.000      -0.061      -0.024\n",
      "OnlineSecurity_No internet service      -0.0427      0.010     -4.467      0.000      -0.061      -0.024\n",
      "OnlineSecurity_Yes                      -0.1358      0.046     -2.963      0.003      -0.226      -0.046\n",
      "OnlineBackup_No internet service        -0.0427      0.010     -4.467      0.000      -0.061      -0.024\n",
      "OnlineBackup_Yes                        -0.1086      0.044     -2.476      0.013      -0.195      -0.023\n",
      "DeviceProtection_No internet service    -0.0427      0.010     -4.467      0.000      -0.061      -0.024\n",
      "TechSupport_No internet service         -0.0427      0.010     -4.467      0.000      -0.061      -0.024\n",
      "TechSupport_Yes                         -0.1700      0.047     -3.643      0.000      -0.261      -0.079\n",
      "StreamingTV_No internet service         -0.0427      0.010     -4.467      0.000      -0.061      -0.024\n",
      "StreamingTV_Yes                          0.1351      0.047      2.859      0.004       0.043       0.228\n",
      "StreamingMovies_No internet service     -0.0427      0.010     -4.467      0.000      -0.061      -0.024\n",
      "StreamingMovies_Yes                      0.0795      0.047      1.688      0.091      -0.013       0.172\n",
      "PhoneService_Yes                        -0.1073      0.023     -4.638      0.000      -0.153      -0.062\n",
      "Contract_One year                       -0.2496      0.052     -4.796      0.000      -0.352      -0.148\n",
      "Contract_Two year                       -0.6094      0.091     -6.690      0.000      -0.788      -0.431\n",
      "PaperlessBilling_Yes                     0.1754      0.044      4.024      0.000       0.090       0.261\n",
      "PaymentMethod_Electronic check           0.1744      0.039      4.475      0.000       0.098       0.251\n",
      "Dependents_Yes                          -0.0646      0.045     -1.448      0.148      -0.152       0.023\n",
      "========================================================================================================\n"
     ]
    }
   ],
   "source": [
    "lr7=sm.GLM(list(y_train),X_train_scaled_sm,family=sm.families.Binomial()).fit()\n",
    "print(lr7.summary())"
   ]
  },
  {
   "cell_type": "code",
   "execution_count": 273,
   "metadata": {},
   "outputs": [],
   "source": [
    "col=col.drop('Dependents_Yes')"
   ]
  },
  {
   "cell_type": "code",
   "execution_count": 274,
   "metadata": {},
   "outputs": [],
   "source": [
    "X_train_scaled=X_train_scaled[col]"
   ]
  },
  {
   "cell_type": "code",
   "execution_count": 275,
   "metadata": {},
   "outputs": [
    {
     "name": "stdout",
     "output_type": "stream",
     "text": [
      "                 Generalized Linear Model Regression Results                  \n",
      "==============================================================================\n",
      "Dep. Variable:                      y   No. Observations:                 4930\n",
      "Model:                            GLM   Df Residuals:                     4913\n",
      "Model Family:                Binomial   Df Model:                           16\n",
      "Link Function:                  logit   Scale:                          1.0000\n",
      "Method:                          IRLS   Log-Likelihood:                -2039.8\n",
      "Date:                Wed, 16 Oct 2019   Deviance:                       4079.6\n",
      "Time:                        15:17:18   Pearson chi2:                 5.66e+03\n",
      "No. Iterations:                   100                                         \n",
      "Covariance Type:            nonrobust                                         \n",
      "========================================================================================================\n",
      "                                           coef    std err          z      P>|z|      [0.025      0.975]\n",
      "--------------------------------------------------------------------------------------------------------\n",
      "const                                   -1.7430      0.066    -26.481      0.000      -1.872      -1.614\n",
      "tenure                                  -1.3887      0.171     -8.105      0.000      -1.725      -1.053\n",
      "TotalCharges                             0.6168      0.182      3.397      0.001       0.261       0.973\n",
      "SeniorCitizen                            0.0803      0.037      2.197      0.028       0.009       0.152\n",
      "MultipleLines_No phone service           0.1078      0.023      4.678      0.000       0.063       0.153\n",
      "MultipleLines_Yes                        0.0943      0.047      2.012      0.044       0.002       0.186\n",
      "InternetService_Fiber optic              0.4055      0.057      7.069      0.000       0.293       0.518\n",
      "InternetService_No                      -0.0429      0.010     -4.432      0.000      -0.062      -0.024\n",
      "OnlineSecurity_No internet service      -0.0429      0.010     -4.432      0.000      -0.062      -0.024\n",
      "OnlineSecurity_Yes                      -0.1370      0.046     -2.990      0.003      -0.227      -0.047\n",
      "OnlineBackup_No internet service        -0.0429      0.010     -4.432      0.000      -0.062      -0.024\n",
      "OnlineBackup_Yes                        -0.1101      0.044     -2.514      0.012      -0.196      -0.024\n",
      "DeviceProtection_No internet service    -0.0429      0.010     -4.432      0.000      -0.062      -0.024\n",
      "TechSupport_No internet service         -0.0429      0.010     -4.432      0.000      -0.062      -0.024\n",
      "TechSupport_Yes                         -0.1706      0.047     -3.663      0.000      -0.262      -0.079\n",
      "StreamingTV_No internet service         -0.0429      0.010     -4.432      0.000      -0.062      -0.024\n",
      "StreamingTV_Yes                          0.1338      0.047      2.833      0.005       0.041       0.226\n",
      "StreamingMovies_No internet service     -0.0429      0.010     -4.432      0.000      -0.062      -0.024\n",
      "StreamingMovies_Yes                      0.0813      0.047      1.728      0.084      -0.011       0.173\n",
      "PhoneService_Yes                        -0.1078      0.023     -4.678      0.000      -0.153      -0.063\n",
      "Contract_One year                       -0.2541      0.052     -4.888      0.000      -0.356      -0.152\n",
      "Contract_Two year                       -0.6190      0.091     -6.777      0.000      -0.798      -0.440\n",
      "PaperlessBilling_Yes                     0.1771      0.044      4.054      0.000       0.091       0.263\n",
      "PaymentMethod_Electronic check           0.1756      0.039      4.501      0.000       0.099       0.252\n",
      "========================================================================================================\n"
     ]
    }
   ],
   "source": [
    "X_train_scaled_sm=sm.add_constant(X_train_scaled)\n",
    "lr8=sm.GLM(list(y_train),X_train_scaled_sm,family=sm.families.Binomial()).fit()\n",
    "print(lr8.summary())"
   ]
  },
  {
   "cell_type": "code",
   "execution_count": 276,
   "metadata": {},
   "outputs": [],
   "source": [
    "col=col.drop('StreamingMovies_Yes')"
   ]
  },
  {
   "cell_type": "code",
   "execution_count": 277,
   "metadata": {},
   "outputs": [],
   "source": [
    "X_train_scaled=X_train_scaled[col]"
   ]
  },
  {
   "cell_type": "code",
   "execution_count": 278,
   "metadata": {},
   "outputs": [],
   "source": [
    "X_train_scaled_sm=sm.add_constant(X_train_scaled)\n",
    "lr9=sm.GLM(list(y_train),X_train_scaled_sm,family=sm.families.Binomial()).fit()"
   ]
  },
  {
   "cell_type": "code",
   "execution_count": 279,
   "metadata": {},
   "outputs": [
    {
     "name": "stdout",
     "output_type": "stream",
     "text": [
      "                 Generalized Linear Model Regression Results                  \n",
      "==============================================================================\n",
      "Dep. Variable:                      y   No. Observations:                 4930\n",
      "Model:                            GLM   Df Residuals:                     4914\n",
      "Model Family:                Binomial   Df Model:                           15\n",
      "Link Function:                  logit   Scale:                          1.0000\n",
      "Method:                          IRLS   Log-Likelihood:                -2041.3\n",
      "Date:                Wed, 16 Oct 2019   Deviance:                       4082.6\n",
      "Time:                        15:17:20   Pearson chi2:                 5.71e+03\n",
      "No. Iterations:                   100                                         \n",
      "Covariance Type:            nonrobust                                         \n",
      "========================================================================================================\n",
      "                                           coef    std err          z      P>|z|      [0.025      0.975]\n",
      "--------------------------------------------------------------------------------------------------------\n",
      "const                                   -1.7489      0.067    -26.295      0.000      -1.879      -1.619\n",
      "tenure                                  -1.4327      0.171     -8.381      0.000      -1.768      -1.098\n",
      "TotalCharges                             0.6837      0.178      3.835      0.000       0.334       1.033\n",
      "SeniorCitizen                            0.0812      0.036      2.224      0.026       0.010       0.153\n",
      "MultipleLines_No phone service           0.1114      0.023      4.815      0.000       0.066       0.157\n",
      "MultipleLines_Yes                        0.0930      0.047      1.987      0.047       0.001       0.185\n",
      "InternetService_Fiber optic              0.4074      0.057      7.098      0.000       0.295       0.520\n",
      "InternetService_No                      -0.0441      0.010     -4.609      0.000      -0.063      -0.025\n",
      "OnlineSecurity_No internet service      -0.0441      0.010     -4.609      0.000      -0.063      -0.025\n",
      "OnlineSecurity_Yes                      -0.1402      0.046     -3.056      0.002      -0.230      -0.050\n",
      "OnlineBackup_No internet service        -0.0441      0.010     -4.609      0.000      -0.063      -0.025\n",
      "OnlineBackup_Yes                        -0.1132      0.044     -2.583      0.010      -0.199      -0.027\n",
      "DeviceProtection_No internet service    -0.0441      0.010     -4.609      0.000      -0.063      -0.025\n",
      "TechSupport_No internet service         -0.0441      0.010     -4.609      0.000      -0.063      -0.025\n",
      "TechSupport_Yes                         -0.1681      0.047     -3.608      0.000      -0.259      -0.077\n",
      "StreamingTV_No internet service         -0.0441      0.010     -4.609      0.000      -0.063      -0.025\n",
      "StreamingTV_Yes                          0.1554      0.046      3.405      0.001       0.066       0.245\n",
      "StreamingMovies_No internet service     -0.0441      0.010     -4.609      0.000      -0.063      -0.025\n",
      "PhoneService_Yes                        -0.1114      0.023     -4.815      0.000      -0.157      -0.066\n",
      "Contract_One year                       -0.2487      0.052     -4.799      0.000      -0.350      -0.147\n",
      "Contract_Two year                       -0.6158      0.092     -6.682      0.000      -0.796      -0.435\n",
      "PaperlessBilling_Yes                     0.1799      0.044      4.122      0.000       0.094       0.265\n",
      "PaymentMethod_Electronic check           0.1797      0.039      4.619      0.000       0.103       0.256\n",
      "========================================================================================================\n"
     ]
    }
   ],
   "source": [
    "print(lr9.summary())"
   ]
  },
  {
   "cell_type": "code",
   "execution_count": 280,
   "metadata": {},
   "outputs": [
    {
     "data": {
      "text/plain": [
       "Index(['tenure', 'TotalCharges', 'SeniorCitizen',\n",
       "       'MultipleLines_No phone service', 'MultipleLines_Yes',\n",
       "       'InternetService_Fiber optic', 'InternetService_No',\n",
       "       'OnlineSecurity_No internet service', 'OnlineSecurity_Yes',\n",
       "       'OnlineBackup_No internet service', 'OnlineBackup_Yes',\n",
       "       'DeviceProtection_No internet service',\n",
       "       'TechSupport_No internet service', 'TechSupport_Yes',\n",
       "       'StreamingTV_No internet service', 'StreamingTV_Yes',\n",
       "       'StreamingMovies_No internet service', 'PhoneService_Yes',\n",
       "       'Contract_One year', 'Contract_Two year', 'PaperlessBilling_Yes',\n",
       "       'PaymentMethod_Electronic check'],\n",
       "      dtype='object')"
      ]
     },
     "execution_count": 280,
     "metadata": {},
     "output_type": "execute_result"
    }
   ],
   "source": [
    "col"
   ]
  },
  {
   "cell_type": "code",
   "execution_count": 281,
   "metadata": {},
   "outputs": [],
   "source": [
    "X_test_scaled=pd.DataFrame(X_test_scaled,columns=X_test.columns)"
   ]
  },
  {
   "cell_type": "code",
   "execution_count": 282,
   "metadata": {},
   "outputs": [],
   "source": [
    "X_test_scaled=X_test_scaled[col]"
   ]
  },
  {
   "cell_type": "markdown",
   "metadata": {},
   "source": [
    "# Logistic regression"
   ]
  },
  {
   "cell_type": "code",
   "execution_count": 283,
   "metadata": {},
   "outputs": [
    {
     "data": {
      "text/plain": [
       "LogisticRegression(C=1.0, class_weight=None, dual=False, fit_intercept=True,\n",
       "                   intercept_scaling=1, l1_ratio=None, max_iter=100,\n",
       "                   multi_class='warn', n_jobs=None, penalty='l2',\n",
       "                   random_state=None, solver='warn', tol=0.0001, verbose=0,\n",
       "                   warm_start=False)"
      ]
     },
     "execution_count": 283,
     "metadata": {},
     "output_type": "execute_result"
    }
   ],
   "source": [
    "lrmod.fit(X_train_scaled,y_train)"
   ]
  },
  {
   "cell_type": "code",
   "execution_count": 284,
   "metadata": {},
   "outputs": [],
   "source": [
    "y_train_lgr_pred=lrmod.predict(X_train_scaled)"
   ]
  },
  {
   "cell_type": "code",
   "execution_count": 285,
   "metadata": {},
   "outputs": [],
   "source": [
    "from sklearn import metrics"
   ]
  },
  {
   "cell_type": "code",
   "execution_count": 286,
   "metadata": {
    "scrolled": true
   },
   "outputs": [
    {
     "name": "stdout",
     "output_type": "stream",
     "text": [
      "              precision    recall  f1-score   support\n",
      "\n",
      "           0       0.85      0.90      0.87      3628\n",
      "           1       0.66      0.55      0.60      1302\n",
      "\n",
      "    accuracy                           0.81      4930\n",
      "   macro avg       0.75      0.73      0.74      4930\n",
      "weighted avg       0.80      0.81      0.80      4930\n",
      "\n"
     ]
    }
   ],
   "source": [
    "print(metrics.classification_report(y_train,y_train_lgr_pred))"
   ]
  },
  {
   "cell_type": "code",
   "execution_count": 287,
   "metadata": {},
   "outputs": [
    {
     "data": {
      "text/plain": [
       "array([[3257,  371],\n",
       "       [ 581,  721]], dtype=int64)"
      ]
     },
     "execution_count": 287,
     "metadata": {},
     "output_type": "execute_result"
    }
   ],
   "source": [
    "metrics.confusion_matrix(y_train,y_train_lgr_pred)"
   ]
  },
  {
   "cell_type": "code",
   "execution_count": 288,
   "metadata": {},
   "outputs": [
    {
     "data": {
      "text/plain": [
       "(4930, 22)"
      ]
     },
     "execution_count": 288,
     "metadata": {},
     "output_type": "execute_result"
    }
   ],
   "source": [
    "X_train_scaled.shape"
   ]
  },
  {
   "cell_type": "code",
   "execution_count": 289,
   "metadata": {},
   "outputs": [
    {
     "data": {
      "text/plain": [
       "(2113, 22)"
      ]
     },
     "execution_count": 289,
     "metadata": {},
     "output_type": "execute_result"
    }
   ],
   "source": [
    "X_test_scaled.shape"
   ]
  },
  {
   "cell_type": "code",
   "execution_count": 290,
   "metadata": {},
   "outputs": [],
   "source": [
    "y_test_lgr_pred=lrmod.predict(X_test_scaled)"
   ]
  },
  {
   "cell_type": "code",
   "execution_count": 291,
   "metadata": {},
   "outputs": [
    {
     "name": "stdout",
     "output_type": "stream",
     "text": [
      "              precision    recall  f1-score   support\n",
      "\n",
      "           0       0.84      0.90      0.87      1546\n",
      "           1       0.67      0.54      0.60       567\n",
      "\n",
      "    accuracy                           0.81      2113\n",
      "   macro avg       0.76      0.72      0.73      2113\n",
      "weighted avg       0.80      0.81      0.80      2113\n",
      "\n"
     ]
    }
   ],
   "source": [
    "print(metrics.classification_report(y_test,y_test_lgr_pred))"
   ]
  },
  {
   "cell_type": "code",
   "execution_count": 292,
   "metadata": {},
   "outputs": [
    {
     "data": {
      "text/plain": [
       "array([[1397,  149],\n",
       "       [ 263,  304]], dtype=int64)"
      ]
     },
     "execution_count": 292,
     "metadata": {},
     "output_type": "execute_result"
    }
   ],
   "source": [
    "metrics.confusion_matrix(y_test,y_test_lgr_pred)"
   ]
  },
  {
   "cell_type": "code",
   "execution_count": 293,
   "metadata": {},
   "outputs": [
    {
     "data": {
      "image/png": "[encoded data removed]",
      "text/plain": [
       "<Figure size 144x144 with 1 Axes>"
      ]
     },
     "metadata": {
      "needs_background": "light"
     },
     "output_type": "display_data"
    }
   ],
   "source": [
    "fpr, tpr, thresholds = metrics.roc_curve(y_test,y_test_lgr_pred,drop_intermediate=False)\n",
    "#roc_auc_score = metrics.roc_auc_score( y_train,y_train_lgr_pred)\n",
    "plt.figure(figsize=(2, 2))\n",
    "plt.plot( fpr, tpr, label='ROC curve (area = %0.2f)' % metrics.roc_auc_score( y_test,y_test_lgr_pred) )\n",
    "plt.plot([0, 1], [0, 1], 'k--')\n",
    "plt.xlim([0.0, 1.0])\n",
    "plt.ylim([0.0, 1.05])\n",
    "plt.xlabel('False Positive Rate or [1 - True Negative Rate]')\n",
    "plt.ylabel('True Positive Rate')\n",
    "plt.title('Receiver operating characteristic Curve')\n",
    "plt.legend(loc=\"lower right\")\n",
    "plt.show()"
   ]
  },
  {
   "cell_type": "code",
   "execution_count": null,
   "metadata": {},
   "outputs": [],
   "source": []
  },
  {
   "cell_type": "code",
   "execution_count": null,
   "metadata": {},
   "outputs": [],
   "source": []
  },
  {
   "cell_type": "markdown",
   "metadata": {},
   "source": [
    "# KNN"
   ]
  },
  {
   "cell_type": "code",
   "execution_count": 294,
   "metadata": {},
   "outputs": [],
   "source": [
    "from sklearn.neighbors import KNeighborsClassifier\n",
    "knn=KNeighborsClassifier(n_neighbors=50)"
   ]
  },
  {
   "cell_type": "markdown",
   "metadata": {},
   "source": [
    "## Train"
   ]
  },
  {
   "cell_type": "code",
   "execution_count": 295,
   "metadata": {},
   "outputs": [
    {
     "data": {
      "text/plain": [
       "KNeighborsClassifier(algorithm='auto', leaf_size=30, metric='minkowski',\n",
       "                     metric_params=None, n_jobs=None, n_neighbors=50, p=2,\n",
       "                     weights='uniform')"
      ]
     },
     "execution_count": 295,
     "metadata": {},
     "output_type": "execute_result"
    }
   ],
   "source": [
    "knn.fit(X_train_scaled,y_train)"
   ]
  },
  {
   "cell_type": "code",
   "execution_count": 296,
   "metadata": {},
   "outputs": [],
   "source": [
    "y_train_knn_pred=knn.predict(X_train_scaled)"
   ]
  },
  {
   "cell_type": "code",
   "execution_count": 297,
   "metadata": {},
   "outputs": [
    {
     "name": "stdout",
     "output_type": "stream",
     "text": [
      "              precision    recall  f1-score   support\n",
      "\n",
      "           0       0.85      0.88      0.87      3628\n",
      "           1       0.64      0.58      0.60      1302\n",
      "\n",
      "    accuracy                           0.80      4930\n",
      "   macro avg       0.74      0.73      0.74      4930\n",
      "weighted avg       0.80      0.80      0.80      4930\n",
      "\n"
     ]
    }
   ],
   "source": [
    "print(metrics.classification_report(y_train,y_train_knn_pred))"
   ]
  },
  {
   "cell_type": "code",
   "execution_count": 298,
   "metadata": {},
   "outputs": [
    {
     "data": {
      "text/plain": [
       "array([[3199,  429],\n",
       "       [ 553,  749]], dtype=int64)"
      ]
     },
     "execution_count": 298,
     "metadata": {},
     "output_type": "execute_result"
    }
   ],
   "source": [
    "metrics.confusion_matrix(y_train,y_train_knn_pred)"
   ]
  },
  {
   "cell_type": "markdown",
   "metadata": {},
   "source": [
    "## Test"
   ]
  },
  {
   "cell_type": "code",
   "execution_count": null,
   "metadata": {},
   "outputs": [],
   "source": []
  },
  {
   "cell_type": "code",
   "execution_count": 299,
   "metadata": {},
   "outputs": [],
   "source": [
    "y_test_knn_pred=knn.predict(X_test_scaled)"
   ]
  },
  {
   "cell_type": "code",
   "execution_count": 300,
   "metadata": {},
   "outputs": [
    {
     "name": "stdout",
     "output_type": "stream",
     "text": [
      "              precision    recall  f1-score   support\n",
      "\n",
      "           0       0.85      0.89      0.87      1546\n",
      "           1       0.65      0.56      0.60       567\n",
      "\n",
      "    accuracy                           0.80      2113\n",
      "   macro avg       0.75      0.72      0.74      2113\n",
      "weighted avg       0.79      0.80      0.80      2113\n",
      "\n"
     ]
    }
   ],
   "source": [
    "print(metrics.classification_report(y_test,y_test_knn_pred))"
   ]
  },
  {
   "cell_type": "code",
   "execution_count": 301,
   "metadata": {},
   "outputs": [
    {
     "data": {
      "text/plain": [
       "array([[1377,  169],\n",
       "       [ 250,  317]], dtype=int64)"
      ]
     },
     "execution_count": 301,
     "metadata": {},
     "output_type": "execute_result"
    }
   ],
   "source": [
    "metrics.confusion_matrix(y_test,y_test_knn_pred)"
   ]
  },
  {
   "cell_type": "code",
   "execution_count": 302,
   "metadata": {},
   "outputs": [
    {
     "data": {
      "image/png": "[encoded data removed]",
      "text/plain": [
       "<Figure size 360x360 with 1 Axes>"
      ]
     },
     "metadata": {
      "needs_background": "light"
     },
     "output_type": "display_data"
    }
   ],
   "source": [
    "fpr, tpr, thresholds = metrics.roc_curve(y_test,y_test_knn_pred,drop_intermediate=False)\n",
    "#roc_auc_score = metrics.roc_auc_score( y_train,y_train_lgr_pred)\n",
    "plt.figure(figsize=(5, 5))\n",
    "plt.plot( fpr, tpr, label='ROC curve (area = %0.2f)' % metrics.roc_auc_score( y_test,y_test_knn_pred) )\n",
    "plt.plot([0, 1], [0, 1], 'k--')\n",
    "plt.xlim([0.0, 1.0])\n",
    "plt.ylim([0.0, 1.05])\n",
    "plt.xlabel('False Positive Rate or [1 - True Negative Rate]')\n",
    "plt.ylabel('True Positive Rate')\n",
    "plt.title('Receiver operating characteristic Curve')\n",
    "plt.legend(loc=\"lower right\")\n",
    "plt.show()"
   ]
  },
  {
   "cell_type": "markdown",
   "metadata": {},
   "source": [
    "# SVM"
   ]
  },
  {
   "cell_type": "code",
   "execution_count": 303,
   "metadata": {},
   "outputs": [],
   "source": [
    "from sklearn.svm import SVC"
   ]
  },
  {
   "cell_type": "code",
   "execution_count": 304,
   "metadata": {},
   "outputs": [],
   "source": [
    "svc=SVC()"
   ]
  },
  {
   "cell_type": "markdown",
   "metadata": {},
   "source": [
    "## Train"
   ]
  },
  {
   "cell_type": "code",
   "execution_count": 305,
   "metadata": {},
   "outputs": [
    {
     "data": {
      "text/plain": [
       "SVC(C=1.0, cache_size=200, class_weight=None, coef0=0.0,\n",
       "    decision_function_shape='ovr', degree=3, gamma='auto_deprecated',\n",
       "    kernel='rbf', max_iter=-1, probability=False, random_state=None,\n",
       "    shrinking=True, tol=0.001, verbose=False)"
      ]
     },
     "execution_count": 305,
     "metadata": {},
     "output_type": "execute_result"
    }
   ],
   "source": [
    "svc.fit(X_train_scaled,y_train)"
   ]
  },
  {
   "cell_type": "code",
   "execution_count": 306,
   "metadata": {},
   "outputs": [],
   "source": [
    "y_train_svm_pred=svc.predict(X_train_scaled)"
   ]
  },
  {
   "cell_type": "code",
   "execution_count": 307,
   "metadata": {
    "scrolled": true
   },
   "outputs": [
    {
     "name": "stdout",
     "output_type": "stream",
     "text": [
      "              precision    recall  f1-score   support\n",
      "\n",
      "           0       0.84      0.91      0.87      3628\n",
      "           1       0.68      0.53      0.59      1302\n",
      "\n",
      "    accuracy                           0.81      4930\n",
      "   macro avg       0.76      0.72      0.73      4930\n",
      "weighted avg       0.80      0.81      0.80      4930\n",
      "\n"
     ]
    }
   ],
   "source": [
    "print(metrics.classification_report(y_train,y_train_svm_pred))"
   ]
  },
  {
   "cell_type": "code",
   "execution_count": 308,
   "metadata": {},
   "outputs": [
    {
     "data": {
      "text/plain": [
       "array([[3299,  329],\n",
       "       [ 614,  688]], dtype=int64)"
      ]
     },
     "execution_count": 308,
     "metadata": {},
     "output_type": "execute_result"
    }
   ],
   "source": [
    "metrics.confusion_matrix(y_train,y_train_svm_pred)"
   ]
  },
  {
   "cell_type": "markdown",
   "metadata": {},
   "source": [
    "## test"
   ]
  },
  {
   "cell_type": "code",
   "execution_count": null,
   "metadata": {},
   "outputs": [],
   "source": []
  },
  {
   "cell_type": "code",
   "execution_count": 309,
   "metadata": {},
   "outputs": [],
   "source": [
    "y_test_svm_pred=svc.predict(X_test_scaled)"
   ]
  },
  {
   "cell_type": "code",
   "execution_count": 310,
   "metadata": {},
   "outputs": [
    {
     "name": "stdout",
     "output_type": "stream",
     "text": [
      "              precision    recall  f1-score   support\n",
      "\n",
      "           0       0.83      0.91      0.87      1546\n",
      "           1       0.68      0.51      0.58       567\n",
      "\n",
      "    accuracy                           0.81      2113\n",
      "   macro avg       0.76      0.71      0.73      2113\n",
      "weighted avg       0.79      0.81      0.79      2113\n",
      "\n"
     ]
    }
   ],
   "source": [
    "print(metrics.classification_report(y_test,y_test_svm_pred))"
   ]
  },
  {
   "cell_type": "code",
   "execution_count": 311,
   "metadata": {},
   "outputs": [
    {
     "data": {
      "text/plain": [
       "array([[1414,  132],\n",
       "       [ 280,  287]], dtype=int64)"
      ]
     },
     "execution_count": 311,
     "metadata": {},
     "output_type": "execute_result"
    }
   ],
   "source": [
    "metrics.confusion_matrix(y_test,y_test_svm_pred)"
   ]
  },
  {
   "cell_type": "code",
   "execution_count": 312,
   "metadata": {},
   "outputs": [
    {
     "data": {
      "image/png": "[encoded data removed]",
      "text/plain": [
       "<Figure size 360x360 with 1 Axes>"
      ]
     },
     "metadata": {
      "needs_background": "light"
     },
     "output_type": "display_data"
    }
   ],
   "source": [
    "fpr, tpr, thresholds = metrics.roc_curve(y_test,y_test_svm_pred,drop_intermediate=False)\n",
    "#roc_auc_score = metrics.roc_auc_score( y_train,y_train_lgr_pred)\n",
    "plt.figure(figsize=(5, 5))\n",
    "plt.plot( fpr, tpr, label='ROC curve (area = %0.2f)' % metrics.roc_auc_score( y_test,y_test_svm_pred) )\n",
    "plt.plot([0, 1], [0, 1], 'k--')\n",
    "plt.xlim([0.0, 1.0])\n",
    "plt.ylim([0.0, 1.05])\n",
    "plt.xlabel('False Positive Rate or [1 - True Negative Rate]')\n",
    "plt.ylabel('True Positive Rate')\n",
    "plt.title('Receiver operating characteristic Curve')\n",
    "plt.legend(loc=\"lower right\")\n",
    "plt.show()"
   ]
  },
  {
   "cell_type": "markdown",
   "metadata": {},
   "source": [
    "# Dicision Tree"
   ]
  },
  {
   "cell_type": "code",
   "execution_count": 313,
   "metadata": {},
   "outputs": [],
   "source": [
    "from sklearn.tree import DecisionTreeClassifier"
   ]
  },
  {
   "cell_type": "markdown",
   "metadata": {},
   "source": [
    "## Gini"
   ]
  },
  {
   "cell_type": "code",
   "execution_count": 314,
   "metadata": {},
   "outputs": [
    {
     "data": {
      "text/plain": [
       "DecisionTreeClassifier(class_weight=None, criterion='gini', max_depth=None,\n",
       "                       max_features=None, max_leaf_nodes=None,\n",
       "                       min_impurity_decrease=0.0, min_impurity_split=None,\n",
       "                       min_samples_leaf=1, min_samples_split=2,\n",
       "                       min_weight_fraction_leaf=0.0, presort=False,\n",
       "                       random_state=None, splitter='best')"
      ]
     },
     "execution_count": 314,
     "metadata": {},
     "output_type": "execute_result"
    }
   ],
   "source": [
    "clf_gini=DecisionTreeClassifier(criterion='gini')\n",
    "clf_gini.fit(X_train_scaled,y_train)"
   ]
  },
  {
   "cell_type": "code",
   "execution_count": 315,
   "metadata": {},
   "outputs": [],
   "source": [
    "y_train_dt_gini_pred=clf_gini.predict(X_train_scaled)"
   ]
  },
  {
   "cell_type": "code",
   "execution_count": 316,
   "metadata": {},
   "outputs": [],
   "source": [
    "from sklearn import metrics"
   ]
  },
  {
   "cell_type": "code",
   "execution_count": 317,
   "metadata": {},
   "outputs": [
    {
     "name": "stdout",
     "output_type": "stream",
     "text": [
      "              precision    recall  f1-score   support\n",
      "\n",
      "           0       1.00      1.00      1.00      3628\n",
      "           1       1.00      0.99      0.99      1302\n",
      "\n",
      "    accuracy                           1.00      4930\n",
      "   macro avg       1.00      0.99      1.00      4930\n",
      "weighted avg       1.00      1.00      1.00      4930\n",
      "\n"
     ]
    }
   ],
   "source": [
    "print(metrics.classification_report(y_train,y_train_dt_gini_pred))"
   ]
  },
  {
   "cell_type": "code",
   "execution_count": 318,
   "metadata": {},
   "outputs": [
    {
     "data": {
      "text/plain": [
       "array([[3626,    2],\n",
       "       [  17, 1285]], dtype=int64)"
      ]
     },
     "execution_count": 318,
     "metadata": {},
     "output_type": "execute_result"
    }
   ],
   "source": [
    "metrics.confusion_matrix(y_train,y_train_dt_gini_pred)"
   ]
  },
  {
   "cell_type": "code",
   "execution_count": 319,
   "metadata": {},
   "outputs": [
    {
     "data": {
      "text/plain": [
       "0.9961460446247464"
      ]
     },
     "execution_count": 319,
     "metadata": {},
     "output_type": "execute_result"
    }
   ],
   "source": [
    "metrics.accuracy_score(y_train,y_train_dt_gini_pred)"
   ]
  },
  {
   "cell_type": "code",
   "execution_count": 320,
   "metadata": {},
   "outputs": [
    {
     "data": {
      "text/plain": [
       "0.9869431643625192"
      ]
     },
     "execution_count": 320,
     "metadata": {},
     "output_type": "execute_result"
    }
   ],
   "source": [
    "metrics.recall_score(y_train,y_train_dt_gini_pred)"
   ]
  },
  {
   "cell_type": "code",
   "execution_count": 321,
   "metadata": {},
   "outputs": [
    {
     "data": {
      "text/plain": [
       "0.9984459984459985"
      ]
     },
     "execution_count": 321,
     "metadata": {},
     "output_type": "execute_result"
    }
   ],
   "source": [
    "metrics.precision_score(y_train,y_train_dt_gini_pred)"
   ]
  },
  {
   "cell_type": "code",
   "execution_count": 322,
   "metadata": {},
   "outputs": [],
   "source": [
    "X_test_scaled=pd.DataFrame(X_test_scaled,columns=X_train.columns)"
   ]
  },
  {
   "cell_type": "code",
   "execution_count": 323,
   "metadata": {},
   "outputs": [],
   "source": [
    "X_test_scaled=X_test_scaled[col]"
   ]
  },
  {
   "cell_type": "code",
   "execution_count": null,
   "metadata": {},
   "outputs": [],
   "source": []
  },
  {
   "cell_type": "code",
   "execution_count": 324,
   "metadata": {},
   "outputs": [],
   "source": [
    "y_test_dt_gini_pred=clf_gini.predict(X_test_scaled)"
   ]
  },
  {
   "cell_type": "code",
   "execution_count": 325,
   "metadata": {},
   "outputs": [
    {
     "name": "stdout",
     "output_type": "stream",
     "text": [
      "              precision    recall  f1-score   support\n",
      "\n",
      "           0       0.81      0.83      0.82      1546\n",
      "           1       0.50      0.48      0.49       567\n",
      "\n",
      "    accuracy                           0.73      2113\n",
      "   macro avg       0.66      0.65      0.65      2113\n",
      "weighted avg       0.73      0.73      0.73      2113\n",
      "\n"
     ]
    }
   ],
   "source": [
    "print(metrics.classification_report(y_test,y_test_dt_gini_pred))"
   ]
  },
  {
   "cell_type": "code",
   "execution_count": 326,
   "metadata": {},
   "outputs": [
    {
     "data": {
      "text/plain": [
       "array([[1277,  269],\n",
       "       [ 296,  271]], dtype=int64)"
      ]
     },
     "execution_count": 326,
     "metadata": {},
     "output_type": "execute_result"
    }
   ],
   "source": [
    "metrics.confusion_matrix(y_test,y_test_dt_gini_pred)"
   ]
  },
  {
   "cell_type": "code",
   "execution_count": 327,
   "metadata": {},
   "outputs": [
    {
     "data": {
      "text/plain": [
       "0.7326076668244202"
      ]
     },
     "execution_count": 327,
     "metadata": {},
     "output_type": "execute_result"
    }
   ],
   "source": [
    "metrics.accuracy_score(y_test,y_test_dt_gini_pred)"
   ]
  },
  {
   "cell_type": "code",
   "execution_count": 328,
   "metadata": {},
   "outputs": [
    {
     "data": {
      "text/plain": [
       "0.47795414462081126"
      ]
     },
     "execution_count": 328,
     "metadata": {},
     "output_type": "execute_result"
    }
   ],
   "source": [
    "metrics.recall_score(y_test,y_test_dt_gini_pred)"
   ]
  },
  {
   "cell_type": "code",
   "execution_count": 329,
   "metadata": {},
   "outputs": [
    {
     "data": {
      "text/plain": [
       "0.5018518518518519"
      ]
     },
     "execution_count": 329,
     "metadata": {},
     "output_type": "execute_result"
    }
   ],
   "source": [
    "metrics.precision_score(y_test,y_test_dt_gini_pred)"
   ]
  },
  {
   "cell_type": "code",
   "execution_count": 330,
   "metadata": {},
   "outputs": [
    {
     "data": {
      "image/png": "[encoded data removed]",
      "text/plain": [
       "<Figure size 360x360 with 1 Axes>"
      ]
     },
     "metadata": {
      "needs_background": "light"
     },
     "output_type": "display_data"
    }
   ],
   "source": [
    "fpr, tpr, thresholds = metrics.roc_curve(y_test,y_test_dt_gini_pred,drop_intermediate=False)\n",
    "#roc_auc_score = metrics.roc_auc_score( y_train,y_train_lgr_pred)\n",
    "plt.figure(figsize=(5, 5))\n",
    "plt.plot( fpr, tpr, label='ROC curve (area = %0.2f)' % metrics.roc_auc_score( y_test,y_test_dt_gini_pred) )\n",
    "plt.plot([0, 1], [0, 1], 'k--')\n",
    "plt.xlim([0.0, 1.0])\n",
    "plt.ylim([0.0, 1.05])\n",
    "plt.xlabel('False Positive Rate or [1 - True Negative Rate]')\n",
    "plt.ylabel('True Positive Rate')\n",
    "plt.title('Receiver operating characteristic Curve')\n",
    "plt.legend(loc=\"lower right\")\n",
    "plt.show()"
   ]
  },
  {
   "cell_type": "markdown",
   "metadata": {},
   "source": [
    "## Entropy"
   ]
  },
  {
   "cell_type": "code",
   "execution_count": 331,
   "metadata": {},
   "outputs": [],
   "source": [
    "clf_entropy=DecisionTreeClassifier(criterion='entropy')"
   ]
  },
  {
   "cell_type": "code",
   "execution_count": 332,
   "metadata": {},
   "outputs": [
    {
     "data": {
      "text/plain": [
       "DecisionTreeClassifier(class_weight=None, criterion='entropy', max_depth=None,\n",
       "                       max_features=None, max_leaf_nodes=None,\n",
       "                       min_impurity_decrease=0.0, min_impurity_split=None,\n",
       "                       min_samples_leaf=1, min_samples_split=2,\n",
       "                       min_weight_fraction_leaf=0.0, presort=False,\n",
       "                       random_state=None, splitter='best')"
      ]
     },
     "execution_count": 332,
     "metadata": {},
     "output_type": "execute_result"
    }
   ],
   "source": [
    "clf_entropy.fit(X_train_scaled,y_train)"
   ]
  },
  {
   "cell_type": "code",
   "execution_count": 333,
   "metadata": {},
   "outputs": [],
   "source": [
    "y_train_dt_entropy_pred=clf_entropy.predict(X_train_scaled)"
   ]
  },
  {
   "cell_type": "code",
   "execution_count": 334,
   "metadata": {},
   "outputs": [
    {
     "name": "stdout",
     "output_type": "stream",
     "text": [
      "              precision    recall  f1-score   support\n",
      "\n",
      "           0       1.00      1.00      1.00      3628\n",
      "           1       1.00      0.99      0.99      1302\n",
      "\n",
      "    accuracy                           1.00      4930\n",
      "   macro avg       1.00      0.99      1.00      4930\n",
      "weighted avg       1.00      1.00      1.00      4930\n",
      "\n"
     ]
    }
   ],
   "source": [
    "print(metrics.classification_report(y_train,y_train_dt_entropy_pred))"
   ]
  },
  {
   "cell_type": "code",
   "execution_count": 335,
   "metadata": {},
   "outputs": [
    {
     "data": {
      "text/plain": [
       "array([[3626,    2],\n",
       "       [  17, 1285]], dtype=int64)"
      ]
     },
     "execution_count": 335,
     "metadata": {},
     "output_type": "execute_result"
    }
   ],
   "source": [
    "metrics.confusion_matrix(y_train,y_train_dt_entropy_pred)"
   ]
  },
  {
   "cell_type": "code",
   "execution_count": 336,
   "metadata": {},
   "outputs": [
    {
     "data": {
      "text/plain": [
       "0.9961460446247464"
      ]
     },
     "execution_count": 336,
     "metadata": {},
     "output_type": "execute_result"
    }
   ],
   "source": [
    "metrics.accuracy_score(y_train,y_train_dt_entropy_pred)"
   ]
  },
  {
   "cell_type": "code",
   "execution_count": 337,
   "metadata": {},
   "outputs": [
    {
     "data": {
      "text/plain": [
       "0.9869431643625192"
      ]
     },
     "execution_count": 337,
     "metadata": {},
     "output_type": "execute_result"
    }
   ],
   "source": [
    "metrics.recall_score(y_train,y_train_dt_entropy_pred)"
   ]
  },
  {
   "cell_type": "code",
   "execution_count": 338,
   "metadata": {},
   "outputs": [
    {
     "data": {
      "text/plain": [
       "0.9984459984459985"
      ]
     },
     "execution_count": 338,
     "metadata": {},
     "output_type": "execute_result"
    }
   ],
   "source": [
    "metrics.precision_score(y_train,y_train_dt_entropy_pred)"
   ]
  },
  {
   "cell_type": "code",
   "execution_count": null,
   "metadata": {},
   "outputs": [],
   "source": []
  },
  {
   "cell_type": "code",
   "execution_count": 339,
   "metadata": {},
   "outputs": [],
   "source": [
    "y_test_dt_entropy_pred=clf_entropy.predict(X_test_scaled)"
   ]
  },
  {
   "cell_type": "code",
   "execution_count": 340,
   "metadata": {},
   "outputs": [
    {
     "name": "stdout",
     "output_type": "stream",
     "text": [
      "              precision    recall  f1-score   support\n",
      "\n",
      "           0       0.81      0.83      0.82      1546\n",
      "           1       0.51      0.49      0.50       567\n",
      "\n",
      "    accuracy                           0.74      2113\n",
      "   macro avg       0.66      0.66      0.66      2113\n",
      "weighted avg       0.73      0.74      0.73      2113\n",
      "\n"
     ]
    }
   ],
   "source": [
    "print(metrics.classification_report(y_test,y_test_dt_entropy_pred))"
   ]
  },
  {
   "cell_type": "code",
   "execution_count": 341,
   "metadata": {},
   "outputs": [
    {
     "data": {
      "text/plain": [
       "array([[1281,  265],\n",
       "       [ 292,  275]], dtype=int64)"
      ]
     },
     "execution_count": 341,
     "metadata": {},
     "output_type": "execute_result"
    }
   ],
   "source": [
    "metrics.confusion_matrix(y_test,y_test_dt_entropy_pred)"
   ]
  },
  {
   "cell_type": "code",
   "execution_count": 342,
   "metadata": {},
   "outputs": [
    {
     "data": {
      "text/plain": [
       "0.7363937529578798"
      ]
     },
     "execution_count": 342,
     "metadata": {},
     "output_type": "execute_result"
    }
   ],
   "source": [
    "metrics.accuracy_score(y_test,y_test_dt_entropy_pred)"
   ]
  },
  {
   "cell_type": "code",
   "execution_count": 343,
   "metadata": {},
   "outputs": [
    {
     "data": {
      "text/plain": [
       "0.48500881834215165"
      ]
     },
     "execution_count": 343,
     "metadata": {},
     "output_type": "execute_result"
    }
   ],
   "source": [
    "metrics.recall_score(y_test,y_test_dt_entropy_pred)"
   ]
  },
  {
   "cell_type": "code",
   "execution_count": 344,
   "metadata": {},
   "outputs": [
    {
     "data": {
      "text/plain": [
       "0.5092592592592593"
      ]
     },
     "execution_count": 344,
     "metadata": {},
     "output_type": "execute_result"
    }
   ],
   "source": [
    "metrics.precision_score(y_test,y_test_dt_entropy_pred)"
   ]
  },
  {
   "cell_type": "code",
   "execution_count": 345,
   "metadata": {},
   "outputs": [
    {
     "data": {
      "image/png": "[encoded data removed]",
      "text/plain": [
       "<Figure size 360x360 with 1 Axes>"
      ]
     },
     "metadata": {
      "needs_background": "light"
     },
     "output_type": "display_data"
    }
   ],
   "source": [
    "fpr, tpr, thresholds = metrics.roc_curve(y_test,y_test_dt_entropy_pred,drop_intermediate=False)\n",
    "#roc_auc_score = metrics.roc_auc_score( y_train,y_train_lgr_pred)\n",
    "plt.figure(figsize=(5, 5))\n",
    "plt.plot( fpr, tpr, label='ROC curve (area = %0.2f)' % metrics.roc_auc_score( y_test,y_test_dt_entropy_pred) )\n",
    "plt.plot([0, 1], [0, 1], 'k--')\n",
    "plt.xlim([0.0, 1.0])\n",
    "plt.ylim([0.0, 1.05])\n",
    "plt.xlabel('False Positive Rate or [1 - True Negative Rate]')\n",
    "plt.ylabel('True Positive Rate')\n",
    "plt.title('Receiver operating characteristic Curve')\n",
    "plt.legend(loc=\"lower right\")\n",
    "plt.show()"
   ]
  },
  {
   "cell_type": "markdown",
   "metadata": {},
   "source": [
    "# Random forest"
   ]
  },
  {
   "cell_type": "code",
   "execution_count": 346,
   "metadata": {},
   "outputs": [],
   "source": [
    "from sklearn.ensemble import RandomForestClassifier"
   ]
  },
  {
   "cell_type": "code",
   "execution_count": 347,
   "metadata": {},
   "outputs": [],
   "source": [
    "rf=RandomForestClassifier(n_estimators=30)"
   ]
  },
  {
   "cell_type": "code",
   "execution_count": 348,
   "metadata": {},
   "outputs": [
    {
     "data": {
      "text/plain": [
       "RandomForestClassifier(bootstrap=True, class_weight=None, criterion='gini',\n",
       "                       max_depth=None, max_features='auto', max_leaf_nodes=None,\n",
       "                       min_impurity_decrease=0.0, min_impurity_split=None,\n",
       "                       min_samples_leaf=1, min_samples_split=2,\n",
       "                       min_weight_fraction_leaf=0.0, n_estimators=30,\n",
       "                       n_jobs=None, oob_score=False, random_state=None,\n",
       "                       verbose=0, warm_start=False)"
      ]
     },
     "execution_count": 348,
     "metadata": {},
     "output_type": "execute_result"
    }
   ],
   "source": [
    "rf.fit(X_train,y_train)"
   ]
  },
  {
   "cell_type": "code",
   "execution_count": 349,
   "metadata": {},
   "outputs": [],
   "source": [
    "y_train_rf_pred=rf.predict(X_train)"
   ]
  },
  {
   "cell_type": "code",
   "execution_count": 350,
   "metadata": {},
   "outputs": [
    {
     "name": "stdout",
     "output_type": "stream",
     "text": [
      "              precision    recall  f1-score   support\n",
      "\n",
      "           0       1.00      1.00      1.00      3628\n",
      "           1       1.00      0.99      0.99      1302\n",
      "\n",
      "    accuracy                           1.00      4930\n",
      "   macro avg       1.00      0.99      0.99      4930\n",
      "weighted avg       1.00      1.00      1.00      4930\n",
      "\n"
     ]
    }
   ],
   "source": [
    "print(metrics.classification_report(y_train,y_train_rf_pred))"
   ]
  },
  {
   "cell_type": "code",
   "execution_count": 351,
   "metadata": {},
   "outputs": [
    {
     "data": {
      "text/plain": [
       "array([[3623,    5],\n",
       "       [  17, 1285]], dtype=int64)"
      ]
     },
     "execution_count": 351,
     "metadata": {},
     "output_type": "execute_result"
    }
   ],
   "source": [
    "metrics.confusion_matrix(y_train,y_train_rf_pred)"
   ]
  },
  {
   "cell_type": "code",
   "execution_count": null,
   "metadata": {},
   "outputs": [],
   "source": []
  },
  {
   "cell_type": "code",
   "execution_count": 352,
   "metadata": {},
   "outputs": [],
   "source": [
    "y_test_rf_pred=rf.predict(X_test)"
   ]
  },
  {
   "cell_type": "code",
   "execution_count": 353,
   "metadata": {},
   "outputs": [
    {
     "name": "stdout",
     "output_type": "stream",
     "text": [
      "              precision    recall  f1-score   support\n",
      "\n",
      "           0       0.82      0.90      0.85      1546\n",
      "           1       0.62      0.45      0.52       567\n",
      "\n",
      "    accuracy                           0.78      2113\n",
      "   macro avg       0.72      0.67      0.69      2113\n",
      "weighted avg       0.76      0.78      0.76      2113\n",
      "\n"
     ]
    }
   ],
   "source": [
    "print(metrics.classification_report(y_test,y_test_rf_pred))"
   ]
  },
  {
   "cell_type": "code",
   "execution_count": 354,
   "metadata": {},
   "outputs": [
    {
     "data": {
      "text/plain": [
       "array([[1388,  158],\n",
       "       [ 313,  254]], dtype=int64)"
      ]
     },
     "execution_count": 354,
     "metadata": {},
     "output_type": "execute_result"
    }
   ],
   "source": [
    "metrics.confusion_matrix(y_test,y_test_rf_pred)"
   ]
  },
  {
   "cell_type": "code",
   "execution_count": 355,
   "metadata": {},
   "outputs": [
    {
     "data": {
      "image/png": "[encoded data removed]",
      "text/plain": [
       "<Figure size 360x360 with 1 Axes>"
      ]
     },
     "metadata": {
      "needs_background": "light"
     },
     "output_type": "display_data"
    }
   ],
   "source": [
    "fpr, tpr, thresholds = metrics.roc_curve(y_test,y_test_rf_pred,drop_intermediate=False)\n",
    "#roc_auc_score = metrics.roc_auc_score( y_train,y_train_lgr_pred)\n",
    "plt.figure(figsize=(5, 5))\n",
    "plt.plot( fpr, tpr, label='ROC curve (area = %0.2f)' % metrics.roc_auc_score( y_test,y_test_rf_pred) )\n",
    "plt.plot([0, 1], [0, 1], 'k--')\n",
    "plt.xlim([0.0, 1.0])\n",
    "plt.ylim([0.0, 1.05])\n",
    "plt.xlabel('False Positive Rate or [1 - True Negative Rate]')\n",
    "plt.ylabel('True Positive Rate')\n",
    "plt.title('Receiver operating characteristic Curve')\n",
    "plt.legend(loc=\"lower right\")\n",
    "plt.show()"
   ]
  },
  {
   "cell_type": "markdown",
   "metadata": {},
   "source": [
    "# XGboost"
   ]
  },
  {
   "cell_type": "code",
   "execution_count": 356,
   "metadata": {},
   "outputs": [],
   "source": [
    "from xgboost import XGBClassifier\n",
    "xgb=XGBClassifier()"
   ]
  },
  {
   "cell_type": "code",
   "execution_count": 357,
   "metadata": {},
   "outputs": [
    {
     "data": {
      "text/plain": [
       "XGBClassifier(base_score=0.5, booster='gbtree', colsample_bylevel=1,\n",
       "              colsample_bynode=1, colsample_bytree=1, gamma=0,\n",
       "              learning_rate=0.1, max_delta_step=0, max_depth=3,\n",
       "              min_child_weight=1, missing=None, n_estimators=100, n_jobs=1,\n",
       "              nthread=None, objective='binary:logistic', random_state=0,\n",
       "              reg_alpha=0, reg_lambda=1, scale_pos_weight=1, seed=None,\n",
       "              silent=None, subsample=1, verbosity=1)"
      ]
     },
     "execution_count": 357,
     "metadata": {},
     "output_type": "execute_result"
    }
   ],
   "source": [
    "xgb.fit(X_train_scaled,y_train)"
   ]
  },
  {
   "cell_type": "code",
   "execution_count": 358,
   "metadata": {},
   "outputs": [],
   "source": [
    "y_train_xgb_pred=xgb.predict(X_train_scaled)"
   ]
  },
  {
   "cell_type": "code",
   "execution_count": 359,
   "metadata": {},
   "outputs": [
    {
     "name": "stdout",
     "output_type": "stream",
     "text": [
      "              precision    recall  f1-score   support\n",
      "\n",
      "           0       0.85      0.91      0.88      3628\n",
      "           1       0.69      0.56      0.62      1302\n",
      "\n",
      "    accuracy                           0.82      4930\n",
      "   macro avg       0.77      0.73      0.75      4930\n",
      "weighted avg       0.81      0.82      0.81      4930\n",
      "\n"
     ]
    }
   ],
   "source": [
    "print(metrics.classification_report(y_train,y_train_xgb_pred))"
   ]
  },
  {
   "cell_type": "code",
   "execution_count": 360,
   "metadata": {},
   "outputs": [
    {
     "data": {
      "text/plain": [
       "array([[3306,  322],\n",
       "       [ 576,  726]], dtype=int64)"
      ]
     },
     "execution_count": 360,
     "metadata": {},
     "output_type": "execute_result"
    }
   ],
   "source": [
    "metrics.confusion_matrix(y_train,y_train_xgb_pred)"
   ]
  },
  {
   "cell_type": "code",
   "execution_count": null,
   "metadata": {},
   "outputs": [],
   "source": []
  },
  {
   "cell_type": "code",
   "execution_count": 361,
   "metadata": {},
   "outputs": [],
   "source": [
    "y_test_xgb_pred=xgb.predict(X_test_scaled)"
   ]
  },
  {
   "cell_type": "code",
   "execution_count": 362,
   "metadata": {},
   "outputs": [
    {
     "name": "stdout",
     "output_type": "stream",
     "text": [
      "              precision    recall  f1-score   support\n",
      "\n",
      "           0       0.84      0.92      0.88      1546\n",
      "           1       0.69      0.52      0.59       567\n",
      "\n",
      "    accuracy                           0.81      2113\n",
      "   macro avg       0.77      0.72      0.73      2113\n",
      "weighted avg       0.80      0.81      0.80      2113\n",
      "\n"
     ]
    }
   ],
   "source": [
    "print(metrics.classification_report(y_test,y_test_xgb_pred))"
   ]
  },
  {
   "cell_type": "code",
   "execution_count": 363,
   "metadata": {},
   "outputs": [
    {
     "data": {
      "text/plain": [
       "array([[1415,  131],\n",
       "       [ 273,  294]], dtype=int64)"
      ]
     },
     "execution_count": 363,
     "metadata": {},
     "output_type": "execute_result"
    }
   ],
   "source": [
    "metrics.confusion_matrix(y_test,y_test_xgb_pred)"
   ]
  },
  {
   "cell_type": "code",
   "execution_count": 364,
   "metadata": {},
   "outputs": [
    {
     "data": {
      "image/png": "[encoded data removed]",
      "text/plain": [
       "<Figure size 360x360 with 1 Axes>"
      ]
     },
     "metadata": {
      "needs_background": "light"
     },
     "output_type": "display_data"
    }
   ],
   "source": [
    "fpr, tpr, thresholds = metrics.roc_curve(y_test,y_test_xgb_pred,drop_intermediate=False)\n",
    "#roc_auc_score = metrics.roc_auc_score( y_train,y_train_lgr_pred)\n",
    "plt.figure(figsize=(5, 5))\n",
    "plt.plot( fpr, tpr, label='ROC curve (area = %0.2f)' % metrics.roc_auc_score( y_test,y_test_xgb_pred) )\n",
    "plt.plot([0, 1], [0, 1], 'k--')\n",
    "plt.xlim([0.0, 1.0])\n",
    "plt.ylim([0.0, 1.05])\n",
    "plt.xlabel('False Positive Rate or [1 - True Negative Rate]')\n",
    "plt.ylabel('True Positive Rate')\n",
    "plt.title('Receiver operating characteristic Curve')\n",
    "plt.legend(loc=\"lower right\")\n",
    "plt.show()"
   ]
  },
  {
   "cell_type": "markdown",
   "metadata": {},
   "source": [
    "# Visualization\n"
   ]
  },
  {
   "cell_type": "code",
   "execution_count": 365,
   "metadata": {},
   "outputs": [],
   "source": [
    "from sklearn.metrics import roc_curve,roc_auc_score"
   ]
  },
  {
   "cell_type": "code",
   "execution_count": 366,
   "metadata": {},
   "outputs": [],
   "source": [
    "models = [\n",
    "{\n",
    "    'label': 'Logistic Regression',\n",
    "    'model': LogisticRegression(),\n",
    "},\n",
    "{\n",
    "    'label': 'RandomForestClassifier',\n",
    "    'model': RandomForestClassifier(),\n",
    "},\n",
    "{\n",
    "    'label': 'DecisionTreeClassifier',\n",
    "    'model': DecisionTreeClassifier(),\n",
    "},\n",
    "{\n",
    "    'label': 'XGBClassifier',\n",
    "    'model': XGBClassifier(),\n",
    "},\n",
    "{\n",
    "    'label': 'SVM',\n",
    "    'model': SVC(probability=True),\n",
    "},\n",
    "{\n",
    "    'label': 'KNN',\n",
    "    'model': KNeighborsClassifier(n_neighbors=50),\n",
    "}\n",
    "]"
   ]
  },
  {
   "cell_type": "code",
   "execution_count": 367,
   "metadata": {
    "scrolled": true
   },
   "outputs": [
    {
     "data": {
      "image/png": "[encoded data removed]",
      "text/plain": [
       "<Figure size 1080x576 with 1 Axes>"
      ]
     },
     "metadata": {
      "needs_background": "light"
     },
     "output_type": "display_data"
    }
   ],
   "source": [
    "plt.figure(figsize=(15,8))\n",
    "\n",
    "# Add the models to the list that you want to view on the ROC plot\n",
    "\n",
    "# Below for loop iterates through your models list\n",
    "for m in models:\n",
    "    model = m['model'] # select the model\n",
    "    model.fit(X_train, y_train) # train the model\n",
    "    y_pred=model.predict(X_test) # predict the test data\n",
    "\n",
    "    #fpr,tpr,thresholds=roc_curve(y_test,model.predict_proba(X_test)[:,1])\n",
    "    auc = roc_auc_score(y_test,model.predict(X_test))\n",
    "# Now, plot the computed values\n",
    "plt.plot(fpr, tpr, label='%s ROC (area = %0.2f)' % (m['label'], auc))\n",
    "# Custom settings for the plot \n",
    "plt.plot([0, 1], [0, 1],'r--')\n",
    "plt.xlim([0.0, 1.0])\n",
    "plt.ylim([0.0, 1.05])\n",
    "plt.xlabel('1-Specificity(False Positive Rate)')\n",
    "plt.ylabel('Sensitivity(True Positive Rate)')\n",
    "plt.title('Receiver Operating Characteristic')\n",
    "plt.legend(loc=\"lower right\")\n",
    "plt.show()   # Display\n"
   ]
  },
  {
   "cell_type": "code",
   "execution_count": 368,
   "metadata": {},
   "outputs": [
    {
     "data": {
      "text/plain": [
       "Index(['tenure', 'TotalCharges', 'SeniorCitizen',\n",
       "       'MultipleLines_No phone service', 'MultipleLines_Yes',\n",
       "       'InternetService_Fiber optic', 'InternetService_No',\n",
       "       'OnlineSecurity_No internet service', 'OnlineSecurity_Yes',\n",
       "       'OnlineBackup_No internet service', 'OnlineBackup_Yes',\n",
       "       'DeviceProtection_No internet service',\n",
       "       'TechSupport_No internet service', 'TechSupport_Yes',\n",
       "       'StreamingTV_No internet service', 'StreamingTV_Yes',\n",
       "       'StreamingMovies_No internet service', 'PhoneService_Yes',\n",
       "       'Contract_One year', 'Contract_Two year', 'PaperlessBilling_Yes',\n",
       "       'PaymentMethod_Electronic check'],\n",
       "      dtype='object')"
      ]
     },
     "execution_count": 368,
     "metadata": {},
     "output_type": "execute_result"
    }
   ],
   "source": [
    "X_train_scaled.columns"
   ]
  },
  {
   "cell_type": "code",
   "execution_count": 369,
   "metadata": {},
   "outputs": [
    {
     "data": {
      "text/html": [
       "<div>\n",
       "<style scoped>\n",
       "    .dataframe tbody tr th:only-of-type {\n",
       "        vertical-align: middle;\n",
       "    }\n",
       "\n",
       "    .dataframe tbody tr th {\n",
       "        vertical-align: top;\n",
       "    }\n",
       "\n",
       "    .dataframe thead th {\n",
       "        text-align: right;\n",
       "    }\n",
       "</style>\n",
       "<table border=\"1\" class=\"dataframe\">\n",
       "  <thead>\n",
       "    <tr style=\"text-align: right;\">\n",
       "      <th></th>\n",
       "      <th>GiniValue</th>\n",
       "    </tr>\n",
       "  </thead>\n",
       "  <tbody>\n",
       "    <tr>\n",
       "      <th>TotalCharges</th>\n",
       "      <td>19.995812</td>\n",
       "    </tr>\n",
       "    <tr>\n",
       "      <th>tenure</th>\n",
       "      <td>17.381532</td>\n",
       "    </tr>\n",
       "    <tr>\n",
       "      <th>MonthlyCharges</th>\n",
       "      <td>16.687943</td>\n",
       "    </tr>\n",
       "    <tr>\n",
       "      <th>PaymentMethod_Electronic check</th>\n",
       "      <td>4.064728</td>\n",
       "    </tr>\n",
       "    <tr>\n",
       "      <th>InternetService_Fiber optic</th>\n",
       "      <td>3.566290</td>\n",
       "    </tr>\n",
       "    <tr>\n",
       "      <th>gender_Male</th>\n",
       "      <td>2.888785</td>\n",
       "    </tr>\n",
       "    <tr>\n",
       "      <th>PaperlessBilling_Yes</th>\n",
       "      <td>2.796639</td>\n",
       "    </tr>\n",
       "    <tr>\n",
       "      <th>OnlineBackup_Yes</th>\n",
       "      <td>2.520933</td>\n",
       "    </tr>\n",
       "    <tr>\n",
       "      <th>OnlineSecurity_Yes</th>\n",
       "      <td>2.427561</td>\n",
       "    </tr>\n",
       "    <tr>\n",
       "      <th>Contract_Two year</th>\n",
       "      <td>2.426383</td>\n",
       "    </tr>\n",
       "    <tr>\n",
       "      <th>Partner_Yes</th>\n",
       "      <td>2.294882</td>\n",
       "    </tr>\n",
       "    <tr>\n",
       "      <th>TechSupport_Yes</th>\n",
       "      <td>2.148524</td>\n",
       "    </tr>\n",
       "    <tr>\n",
       "      <th>MultipleLines_Yes</th>\n",
       "      <td>2.136842</td>\n",
       "    </tr>\n",
       "    <tr>\n",
       "      <th>SeniorCitizen</th>\n",
       "      <td>2.070389</td>\n",
       "    </tr>\n",
       "    <tr>\n",
       "      <th>DeviceProtection_Yes</th>\n",
       "      <td>2.047537</td>\n",
       "    </tr>\n",
       "    <tr>\n",
       "      <th>Dependents_Yes</th>\n",
       "      <td>1.918870</td>\n",
       "    </tr>\n",
       "    <tr>\n",
       "      <th>Contract_One year</th>\n",
       "      <td>1.793951</td>\n",
       "    </tr>\n",
       "    <tr>\n",
       "      <th>StreamingTV_Yes</th>\n",
       "      <td>1.707607</td>\n",
       "    </tr>\n",
       "    <tr>\n",
       "      <th>StreamingMovies_Yes</th>\n",
       "      <td>1.706069</td>\n",
       "    </tr>\n",
       "    <tr>\n",
       "      <th>PaymentMethod_Credit card (automatic)</th>\n",
       "      <td>1.397829</td>\n",
       "    </tr>\n",
       "    <tr>\n",
       "      <th>PaymentMethod_Mailed check</th>\n",
       "      <td>1.187010</td>\n",
       "    </tr>\n",
       "    <tr>\n",
       "      <th>OnlineBackup_No internet service</th>\n",
       "      <td>0.920626</td>\n",
       "    </tr>\n",
       "    <tr>\n",
       "      <th>TechSupport_No internet service</th>\n",
       "      <td>0.905030</td>\n",
       "    </tr>\n",
       "    <tr>\n",
       "      <th>StreamingMovies_No internet service</th>\n",
       "      <td>0.890902</td>\n",
       "    </tr>\n",
       "    <tr>\n",
       "      <th>DeviceProtection_No internet service</th>\n",
       "      <td>0.833754</td>\n",
       "    </tr>\n",
       "    <tr>\n",
       "      <th>MultipleLines_No phone service</th>\n",
       "      <td>0.497937</td>\n",
       "    </tr>\n",
       "    <tr>\n",
       "      <th>PhoneService_Yes</th>\n",
       "      <td>0.409138</td>\n",
       "    </tr>\n",
       "    <tr>\n",
       "      <th>InternetService_No</th>\n",
       "      <td>0.149567</td>\n",
       "    </tr>\n",
       "    <tr>\n",
       "      <th>StreamingTV_No internet service</th>\n",
       "      <td>0.149425</td>\n",
       "    </tr>\n",
       "    <tr>\n",
       "      <th>OnlineSecurity_No internet service</th>\n",
       "      <td>0.077503</td>\n",
       "    </tr>\n",
       "  </tbody>\n",
       "</table>\n",
       "</div>"
      ],
      "text/plain": [
       "                                       GiniValue\n",
       "TotalCharges                           19.995812\n",
       "tenure                                 17.381532\n",
       "MonthlyCharges                         16.687943\n",
       "PaymentMethod_Electronic check          4.064728\n",
       "InternetService_Fiber optic             3.566290\n",
       "gender_Male                             2.888785\n",
       "PaperlessBilling_Yes                    2.796639\n",
       "OnlineBackup_Yes                        2.520933\n",
       "OnlineSecurity_Yes                      2.427561\n",
       "Contract_Two year                       2.426383\n",
       "Partner_Yes                             2.294882\n",
       "TechSupport_Yes                         2.148524\n",
       "MultipleLines_Yes                       2.136842\n",
       "SeniorCitizen                           2.070389\n",
       "DeviceProtection_Yes                    2.047537\n",
       "Dependents_Yes                          1.918870\n",
       "Contract_One year                       1.793951\n",
       "StreamingTV_Yes                         1.707607\n",
       "StreamingMovies_Yes                     1.706069\n",
       "PaymentMethod_Credit card (automatic)   1.397829\n",
       "PaymentMethod_Mailed check              1.187010\n",
       "OnlineBackup_No internet service        0.920626\n",
       "TechSupport_No internet service         0.905030\n",
       "StreamingMovies_No internet service     0.890902\n",
       "DeviceProtection_No internet service    0.833754\n",
       "MultipleLines_No phone service          0.497937\n",
       "PhoneService_Yes                        0.409138\n",
       "InternetService_No                      0.149567\n",
       "StreamingTV_No internet service         0.149425\n",
       "OnlineSecurity_No internet service      0.077503"
      ]
     },
     "execution_count": 369,
     "metadata": {},
     "output_type": "execute_result"
    }
   ],
   "source": [
    "feature_importance=pd.DataFrame(data=rf.feature_importances_*100, columns=['GiniValue'])\n",
    "feature_importance=feature_importance.set_index(X_train.columns)\n",
    "feature_importance.sort_values(['GiniValue'],ascending=False,inplace=True)\n",
    "feature_importance"
   ]
  },
  {
   "cell_type": "code",
   "execution_count": 370,
   "metadata": {},
   "outputs": [
    {
     "data": {
      "text/plain": [
       "<matplotlib.axes._subplots.AxesSubplot at 0x26f00690dd8>"
      ]
     },
     "execution_count": 370,
     "metadata": {},
     "output_type": "execute_result"
    },
    {
     "data": {
      "image/png": "[encoded data removed]",
      "text/plain": [
       "<Figure size 432x288 with 1 Axes>"
      ]
     },
     "metadata": {
      "needs_background": "light"
     },
     "output_type": "display_data"
    }
   ],
   "source": [
    "feature_importance[-10:].plot(kind='barh')"
   ]
  },
  {
   "cell_type": "code",
   "execution_count": 371,
   "metadata": {},
   "outputs": [
    {
     "data": {
      "text/plain": [
       "Fiber optic    3096\n",
       "DSL            2421\n",
       "No             1526\n",
       "Name: InternetService, dtype: int64"
      ]
     },
     "execution_count": 371,
     "metadata": {},
     "output_type": "execute_result"
    }
   ],
   "source": [
    "tel_df.InternetService.value_counts()"
   ]
  },
  {
   "cell_type": "code",
   "execution_count": 372,
   "metadata": {},
   "outputs": [
    {
     "data": {
      "text/plain": [
       "Electronic check             2365\n",
       "Mailed check                 1612\n",
       "Bank transfer (automatic)    1544\n",
       "Credit card (automatic)      1522\n",
       "Name: PaymentMethod, dtype: int64"
      ]
     },
     "execution_count": 372,
     "metadata": {},
     "output_type": "execute_result"
    }
   ],
   "source": [
    "tel_df.PaymentMethod.value_counts()"
   ]
  },
  {
   "cell_type": "code",
   "execution_count": 373,
   "metadata": {},
   "outputs": [],
   "source": [
    "#plt.figure(figsize=(100,6))\n",
    "#sns.barplot(x= tel_df.TotalCharges,y=y)"
   ]
  },
  {
   "cell_type": "code",
   "execution_count": null,
   "metadata": {},
   "outputs": [],
   "source": []
  },
  {
   "cell_type": "code",
   "execution_count": 374,
   "metadata": {},
   "outputs": [
    {
     "data": {
      "text/plain": [
       "<matplotlib.axes._subplots.AxesSubplot at 0x26f00a3f6a0>"
      ]
     },
     "execution_count": 374,
     "metadata": {},
     "output_type": "execute_result"
    },
    {
     "data": {
      "image/png": "[encoded data removed]",
      "text/plain": [
       "<Figure size 432x288 with 1 Axes>"
      ]
     },
     "metadata": {
      "needs_background": "light"
     },
     "output_type": "display_data"
    }
   ],
   "source": [
    "sns.barplot(x=tel_df.InternetService,y=y)"
   ]
  },
  {
   "cell_type": "code",
   "execution_count": 375,
   "metadata": {},
   "outputs": [
    {
     "data": {
      "text/plain": [
       "<matplotlib.axes._subplots.AxesSubplot at 0x26f009df588>"
      ]
     },
     "execution_count": 375,
     "metadata": {},
     "output_type": "execute_result"
    },
    {
     "data": {
      "image/png": "[encoded data removed]",
      "text/plain": [
       "<Figure size 720x432 with 1 Axes>"
      ]
     },
     "metadata": {
      "needs_background": "light"
     },
     "output_type": "display_data"
    }
   ],
   "source": [
    "plt.figure(figsize=(10,6))\n",
    "sns.barplot(x=tel_df.PaymentMethod,y=y)"
   ]
  },
  {
   "cell_type": "code",
   "execution_count": 376,
   "metadata": {},
   "outputs": [
    {
     "data": {
      "text/plain": [
       "Text(0, 0.5, 'Churn_no')"
      ]
     },
     "execution_count": 376,
     "metadata": {},
     "output_type": "execute_result"
    },
    {
     "data": {
      "image/png": "[encoded data removed]",
      "text/plain": [
       "<Figure size 1440x360 with 3 Axes>"
      ]
     },
     "metadata": {
      "needs_background": "light"
     },
     "output_type": "display_data"
    },
    {
     "data": {
      "image/png": "[encoded data removed]",
      "text/plain": [
       "<Figure size 1440x360 with 3 Axes>"
      ]
     },
     "metadata": {
      "needs_background": "light"
     },
     "output_type": "display_data"
    }
   ],
   "source": [
    "fig,ax1=plt.subplots(1,3,figsize=(20,5))\n",
    "\n",
    "tel_df[tel_df.Churn=='Yes'][['tenure','MonthlyCharges', 'TotalCharges']].hist(bins=30, color='blue',ax=ax1)\n",
    "plt.ylabel('Churn_yes')\n",
    "fig,ax2=plt.subplots(1,3,figsize=(20,5))\n",
    "tel_df[tel_df.Churn=='No'][['tenure','MonthlyCharges', 'TotalCharges']].hist(bins=30, color='red',ax=ax2)\n",
    "plt.ylabel('Churn_no')\n"
   ]
  },
  {
   "cell_type": "code",
   "execution_count": 377,
   "metadata": {},
   "outputs": [],
   "source": [
    "#sns.distplot(tel_df.MonthlyCharges,y)"
   ]
  },
  {
   "cell_type": "code",
   "execution_count": 378,
   "metadata": {},
   "outputs": [
    {
     "data": {
      "text/plain": [
       "Yes    6361\n",
       "No      682\n",
       "Name: PhoneService, dtype: int64"
      ]
     },
     "execution_count": 378,
     "metadata": {},
     "output_type": "execute_result"
    }
   ],
   "source": [
    "tel_df.PhoneService.value_counts()"
   ]
  },
  {
   "cell_type": "code",
   "execution_count": 379,
   "metadata": {},
   "outputs": [
    {
     "data": {
      "text/plain": [
       "<matplotlib.axes._subplots.AxesSubplot at 0x26f039bde10>"
      ]
     },
     "execution_count": 379,
     "metadata": {},
     "output_type": "execute_result"
    },
    {
     "data": {
      "image/png": "[encoded data removed]",
      "text/plain": [
       "<Figure size 432x288 with 1 Axes>"
      ]
     },
     "metadata": {
      "needs_background": "light"
     },
     "output_type": "display_data"
    }
   ],
   "source": [
    "sns.countplot(x=tel_df.PhoneService,hue=tel_df.Churn)"
   ]
  },
  {
   "cell_type": "code",
   "execution_count": 380,
   "metadata": {},
   "outputs": [
    {
     "data": {
      "text/plain": [
       "No     5174\n",
       "Yes    1869\n",
       "Name: Churn, dtype: int64"
      ]
     },
     "execution_count": 380,
     "metadata": {},
     "output_type": "execute_result"
    }
   ],
   "source": [
    "tel_df.Churn.value_counts()"
   ]
  },
  {
   "cell_type": "code",
   "execution_count": 381,
   "metadata": {},
   "outputs": [
    {
     "data": {
      "text/plain": [
       "<matplotlib.axes._subplots.AxesSubplot at 0x26f03e151d0>"
      ]
     },
     "execution_count": 381,
     "metadata": {},
     "output_type": "execute_result"
    },
    {
     "data": {
      "image/png": "[encoded data removed]",
      "text/plain": [
       "<Figure size 432x288 with 1 Axes>"
      ]
     },
     "metadata": {
      "needs_background": "light"
     },
     "output_type": "display_data"
    }
   ],
   "source": [
    "sns.countplot(tel_df.Churn)"
   ]
  },
  {
   "cell_type": "code",
   "execution_count": 382,
   "metadata": {},
   "outputs": [
    {
     "data": {
      "text/plain": [
       "([<matplotlib.patches.Wedge at 0x26f00a3f0f0>,\n",
       "  <matplotlib.patches.Wedge at 0x26f009dfeb8>],\n",
       " [Text(-0.7393678277834757, 0.8144539368428056, 'No'),\n",
       "  Text(0.7393677515287918, -0.8144540060674139, 'Yes')],\n",
       " [Text(-0.4032915424273503, 0.44424760191425755, '73.46%'),\n",
       "  Text(0.4032915008338864, -0.4442476396731348, '26.54%')])"
      ]
     },
     "execution_count": 382,
     "metadata": {},
     "output_type": "execute_result"
    },
    {
     "data": {
      "image/png": "[encoded data removed]",
      "text/plain": [
       "<Figure size 720x720 with 1 Axes>"
      ]
     },
     "metadata": {},
     "output_type": "display_data"
    }
   ],
   "source": [
    "plt.figure(figsize=(10,10))\n",
    "plt.pie(tel_df.Churn.value_counts().values,labels=tel_df.Churn.value_counts().index,colors=[\"lime\",\"hotpink\"],autopct=\"%1.2f%%\")"
   ]
  },
  {
   "cell_type": "code",
   "execution_count": 383,
   "metadata": {},
   "outputs": [],
   "source": [
    "categorical_features = ['gender','SeniorCitizen','Partner','Dependents','PhoneService','MultipleLines','InternetService','OnlineSecurity','OnlineBackup','DeviceProtection','TechSupport','StreamingTV','StreamingMovies','Contract','PaperlessBilling','PaymentMethod']\n",
    "numerical_features = ['tenure', 'MonthlyCharges', 'TotalCharges']"
   ]
  },
  {
   "cell_type": "code",
   "execution_count": 384,
   "metadata": {},
   "outputs": [
    {
     "data": {
      "image/png": "[encoded data removed]",
      "text/plain": [
       "<Figure size 2160x2160 with 16 Axes>"
      ]
     },
     "metadata": {
      "needs_background": "light"
     },
     "output_type": "display_data"
    }
   ],
   "source": [
    "plt.figure(figsize=(30,30))\n",
    "c=1\n",
    "for features in categorical_features:\n",
    "    plt.subplot(4,4,c)\n",
    "    sns.barplot(x=tel_df[features],y=y)\n",
    "    c+=1\n",
    "    \n",
    "\n"
   ]
  },
  {
   "cell_type": "code",
   "execution_count": 385,
   "metadata": {},
   "outputs": [
    {
     "data": {
      "text/plain": [
       "Index(['MultipleLines', 'InternetService', 'OnlineSecurity', 'OnlineBackup',\n",
       "       'DeviceProtection', 'TechSupport', 'StreamingTV', 'StreamingMovies',\n",
       "       'tenure', 'PhoneService', 'Contract', 'PaperlessBilling',\n",
       "       'PaymentMethod', 'MonthlyCharges', 'TotalCharges', 'Churn', 'gender',\n",
       "       'SeniorCitizen', 'Partner', 'Dependents'],\n",
       "      dtype='object')"
      ]
     },
     "execution_count": 385,
     "metadata": {},
     "output_type": "execute_result"
    }
   ],
   "source": [
    "tel_df.columns"
   ]
  },
  {
   "cell_type": "code",
   "execution_count": 386,
   "metadata": {},
   "outputs": [
    {
     "data": {
      "text/plain": [
       "(7043, 20)"
      ]
     },
     "execution_count": 386,
     "metadata": {},
     "output_type": "execute_result"
    }
   ],
   "source": [
    "tel_df.shape"
   ]
  },
  {
   "cell_type": "code",
   "execution_count": 387,
   "metadata": {},
   "outputs": [
    {
     "name": "stdout",
     "output_type": "stream",
     "text": [
      "Requirement already satisfied: psutil in c:\\users\\anusr\\anaconda3\\lib\\site-packages (5.6.3)\n",
      "Requirement already satisfied: requests in c:\\users\\anusr\\anaconda3\\lib\\site-packages (2.22.0)\n",
      "Requirement already satisfied: idna<2.9,>=2.5 in c:\\users\\anusr\\anaconda3\\lib\\site-packages (from requests) (2.8)\n",
      "Requirement already satisfied: urllib3!=1.25.0,!=1.25.1,<1.26,>=1.21.1 in c:\\users\\anusr\\anaconda3\\lib\\site-packages (from requests) (1.24.2)\n",
      "Requirement already satisfied: certifi>=2017.4.17 in c:\\users\\anusr\\anaconda3\\lib\\site-packages (from requests) (2019.9.11)\n",
      "Requirement already satisfied: chardet<3.1.0,>=3.0.2 in c:\\users\\anusr\\anaconda3\\lib\\site-packages (from requests) (3.0.4)\n",
      "Note: you may need to restart the kernel to use updated packages.\n"
     ]
    }
   ],
   "source": [
    "pip install psutil requests"
   ]
  },
  {
   "cell_type": "code",
   "execution_count": 388,
   "metadata": {},
   "outputs": [],
   "source": [
    "\n",
    "from IPython.display import Image\n",
    "import plotly.graph_objects as go"
   ]
  },
  {
   "cell_type": "code",
   "execution_count": 389,
   "metadata": {},
   "outputs": [],
   "source": [
    "fig = go.Figure()"
   ]
  },
  {
   "cell_type": "code",
   "execution_count": null,
   "metadata": {},
   "outputs": [],
   "source": []
  },
  {
   "cell_type": "code",
   "execution_count": null,
   "metadata": {},
   "outputs": [],
   "source": []
  },
  {
   "cell_type": "code",
   "execution_count": 390,
   "metadata": {},
   "outputs": [
    {
     "data": {
      "image/png": "[encoded data removed]",
      "text/plain": [
       "<IPython.core.display.Image object>"
      ]
     },
     "execution_count": 390,
     "metadata": {},
     "output_type": "execute_result"
    }
   ],
   "source": [
    "img_bytes = fig.to_image(format=\"png\", width=600, height=350, scale=2)\n",
    "Image(img_bytes)"
   ]
  },
  {
   "cell_type": "code",
   "execution_count": null,
   "metadata": {},
   "outputs": [],
   "source": []
  }
 ],
 "metadata": {
  "kernelspec": {
   "display_name": "Python 3",
   "language": "python",
   "name": "python3"
  },
  "language_info": {
   "codemirror_mode": {
    "name": "ipython",
    "version": 3
   },
   "file_extension": ".py",
   "mimetype": "text/x-python",
   "name": "python",
   "nbconvert_exporter": "python",
   "pygments_lexer": "ipython3",
   "version": "3.7.3"
  }
 },
 "nbformat": 4,
 "nbformat_minor": 2
}
