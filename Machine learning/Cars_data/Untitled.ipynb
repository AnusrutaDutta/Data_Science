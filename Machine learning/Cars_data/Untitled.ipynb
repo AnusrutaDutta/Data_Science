{
 "cells": [
  {
   "cell_type": "code",
   "execution_count": 1,
   "metadata": {},
   "outputs": [],
   "source": [
    "import warnings\n",
    "warnings.filterwarnings('ignore')"
   ]
  },
  {
   "cell_type": "code",
   "execution_count": 3,
   "metadata": {},
   "outputs": [],
   "source": [
    "import numpy as np\n",
    "import pandas as pd\n",
    "import matplotlib.pyplot as plt\n",
    "import seaborn as sns\n",
    "%matplotlib inline"
   ]
  },
  {
   "cell_type": "markdown",
   "metadata": {},
   "source": [
    "# Importing the data"
   ]
  },
  {
   "cell_type": "code",
   "execution_count": 4,
   "metadata": {},
   "outputs": [
    {
     "data": {
      "text/html": [
       "<div>\n",
       "<style scoped>\n",
       "    .dataframe tbody tr th:only-of-type {\n",
       "        vertical-align: middle;\n",
       "    }\n",
       "\n",
       "    .dataframe tbody tr th {\n",
       "        vertical-align: top;\n",
       "    }\n",
       "\n",
       "    .dataframe thead th {\n",
       "        text-align: right;\n",
       "    }\n",
       "</style>\n",
       "<table border=\"1\" class=\"dataframe\">\n",
       "  <thead>\n",
       "    <tr style=\"text-align: right;\">\n",
       "      <th></th>\n",
       "      <th>model</th>\n",
       "      <th>mpg</th>\n",
       "      <th>cyl</th>\n",
       "      <th>disp</th>\n",
       "      <th>hp</th>\n",
       "      <th>drat</th>\n",
       "      <th>wt</th>\n",
       "      <th>qsec</th>\n",
       "      <th>vs</th>\n",
       "      <th>am</th>\n",
       "      <th>gear</th>\n",
       "      <th>carb</th>\n",
       "    </tr>\n",
       "  </thead>\n",
       "  <tbody>\n",
       "    <tr>\n",
       "      <th>0</th>\n",
       "      <td>Mazda RX4</td>\n",
       "      <td>21.0</td>\n",
       "      <td>6</td>\n",
       "      <td>160.0</td>\n",
       "      <td>110</td>\n",
       "      <td>3.90</td>\n",
       "      <td>2.620</td>\n",
       "      <td>16.46</td>\n",
       "      <td>0</td>\n",
       "      <td>1</td>\n",
       "      <td>4</td>\n",
       "      <td>4</td>\n",
       "    </tr>\n",
       "    <tr>\n",
       "      <th>1</th>\n",
       "      <td>Mazda RX4 Wag</td>\n",
       "      <td>21.0</td>\n",
       "      <td>6</td>\n",
       "      <td>160.0</td>\n",
       "      <td>110</td>\n",
       "      <td>3.90</td>\n",
       "      <td>2.875</td>\n",
       "      <td>17.02</td>\n",
       "      <td>0</td>\n",
       "      <td>1</td>\n",
       "      <td>4</td>\n",
       "      <td>4</td>\n",
       "    </tr>\n",
       "    <tr>\n",
       "      <th>2</th>\n",
       "      <td>Datsun 710</td>\n",
       "      <td>22.8</td>\n",
       "      <td>4</td>\n",
       "      <td>108.0</td>\n",
       "      <td>93</td>\n",
       "      <td>3.85</td>\n",
       "      <td>2.320</td>\n",
       "      <td>18.61</td>\n",
       "      <td>1</td>\n",
       "      <td>1</td>\n",
       "      <td>4</td>\n",
       "      <td>1</td>\n",
       "    </tr>\n",
       "    <tr>\n",
       "      <th>3</th>\n",
       "      <td>Hornet 4 Drive</td>\n",
       "      <td>21.4</td>\n",
       "      <td>6</td>\n",
       "      <td>258.0</td>\n",
       "      <td>110</td>\n",
       "      <td>3.08</td>\n",
       "      <td>3.215</td>\n",
       "      <td>19.44</td>\n",
       "      <td>1</td>\n",
       "      <td>0</td>\n",
       "      <td>3</td>\n",
       "      <td>1</td>\n",
       "    </tr>\n",
       "    <tr>\n",
       "      <th>4</th>\n",
       "      <td>Hornet Sportabout</td>\n",
       "      <td>18.7</td>\n",
       "      <td>8</td>\n",
       "      <td>360.0</td>\n",
       "      <td>175</td>\n",
       "      <td>3.15</td>\n",
       "      <td>3.440</td>\n",
       "      <td>17.02</td>\n",
       "      <td>0</td>\n",
       "      <td>0</td>\n",
       "      <td>3</td>\n",
       "      <td>2</td>\n",
       "    </tr>\n",
       "  </tbody>\n",
       "</table>\n",
       "</div>"
      ],
      "text/plain": [
       "               model   mpg  cyl   disp   hp  drat     wt   qsec  vs  am  gear  \\\n",
       "0          Mazda RX4  21.0    6  160.0  110  3.90  2.620  16.46   0   1     4   \n",
       "1      Mazda RX4 Wag  21.0    6  160.0  110  3.90  2.875  17.02   0   1     4   \n",
       "2         Datsun 710  22.8    4  108.0   93  3.85  2.320  18.61   1   1     4   \n",
       "3     Hornet 4 Drive  21.4    6  258.0  110  3.08  3.215  19.44   1   0     3   \n",
       "4  Hornet Sportabout  18.7    8  360.0  175  3.15  3.440  17.02   0   0     3   \n",
       "\n",
       "   carb  \n",
       "0     4  \n",
       "1     4  \n",
       "2     1  \n",
       "3     1  \n",
       "4     2  "
      ]
     },
     "execution_count": 4,
     "metadata": {},
     "output_type": "execute_result"
    }
   ],
   "source": [
    "cars=pd.read_csv('mtcars.csv')\n",
    "cars.head()"
   ]
  },
  {
   "cell_type": "code",
   "execution_count": 5,
   "metadata": {},
   "outputs": [
    {
     "data": {
      "text/plain": [
       "Index(['model', 'mpg', 'cyl', 'disp', 'hp', 'drat', 'wt', 'qsec', 'vs', 'am',\n",
       "       'gear', 'carb'],\n",
       "      dtype='object')"
      ]
     },
     "execution_count": 5,
     "metadata": {},
     "output_type": "execute_result"
    }
   ],
   "source": [
    "cars.columns"
   ]
  },
  {
   "cell_type": "code",
   "execution_count": 6,
   "metadata": {},
   "outputs": [
    {
     "data": {
      "text/plain": [
       "(32, 12)"
      ]
     },
     "execution_count": 6,
     "metadata": {},
     "output_type": "execute_result"
    }
   ],
   "source": [
    "cars.shape"
   ]
  },
  {
   "cell_type": "code",
   "execution_count": 7,
   "metadata": {},
   "outputs": [],
   "source": [
    "X=cars.drop(['model','am'],1)"
   ]
  },
  {
   "cell_type": "code",
   "execution_count": 48,
   "metadata": {},
   "outputs": [],
   "source": [
    "y=cars[['am']]"
   ]
  },
  {
   "cell_type": "code",
   "execution_count": 49,
   "metadata": {},
   "outputs": [],
   "source": [
    "from sklearn.model_selection import train_test_split"
   ]
  },
  {
   "cell_type": "code",
   "execution_count": 50,
   "metadata": {},
   "outputs": [],
   "source": [
    "X_train,X_test,y_train,y_test=train_test_split(X,y,test_size=0.3,random_state=101)"
   ]
  },
  {
   "cell_type": "code",
   "execution_count": 51,
   "metadata": {},
   "outputs": [],
   "source": [
    "from sklearn.preprocessing import StandardScaler"
   ]
  },
  {
   "cell_type": "code",
   "execution_count": 67,
   "metadata": {},
   "outputs": [
    {
     "data": {
      "text/html": [
       "<div>\n",
       "<style scoped>\n",
       "    .dataframe tbody tr th:only-of-type {\n",
       "        vertical-align: middle;\n",
       "    }\n",
       "\n",
       "    .dataframe tbody tr th {\n",
       "        vertical-align: top;\n",
       "    }\n",
       "\n",
       "    .dataframe thead th {\n",
       "        text-align: right;\n",
       "    }\n",
       "</style>\n",
       "<table border=\"1\" class=\"dataframe\">\n",
       "  <thead>\n",
       "    <tr style=\"text-align: right;\">\n",
       "      <th></th>\n",
       "      <th>mpg</th>\n",
       "      <th>cyl</th>\n",
       "      <th>disp</th>\n",
       "      <th>hp</th>\n",
       "      <th>drat</th>\n",
       "      <th>wt</th>\n",
       "      <th>qsec</th>\n",
       "      <th>vs</th>\n",
       "      <th>gear</th>\n",
       "      <th>carb</th>\n",
       "    </tr>\n",
       "  </thead>\n",
       "  <tbody>\n",
       "    <tr>\n",
       "      <th>18</th>\n",
       "      <td>1.924761</td>\n",
       "      <td>4</td>\n",
       "      <td>-1.399157</td>\n",
       "      <td>-1.494302</td>\n",
       "      <td>2.678060</td>\n",
       "      <td>-1.839505</td>\n",
       "      <td>0.302786</td>\n",
       "      <td>1</td>\n",
       "      <td>4</td>\n",
       "      <td>-0.603957</td>\n",
       "    </tr>\n",
       "    <tr>\n",
       "      <th>10</th>\n",
       "      <td>-0.251192</td>\n",
       "      <td>6</td>\n",
       "      <td>-0.599740</td>\n",
       "      <td>-0.423123</td>\n",
       "      <td>0.730221</td>\n",
       "      <td>0.137795</td>\n",
       "      <td>0.518582</td>\n",
       "      <td>1</td>\n",
       "      <td>4</td>\n",
       "      <td>0.661477</td>\n",
       "    </tr>\n",
       "    <tr>\n",
       "      <th>3</th>\n",
       "      <td>0.370509</td>\n",
       "      <td>6</td>\n",
       "      <td>0.186628</td>\n",
       "      <td>-0.619254</td>\n",
       "      <td>-0.889765</td>\n",
       "      <td>-0.105981</td>\n",
       "      <td>0.825240</td>\n",
       "      <td>1</td>\n",
       "      <td>3</td>\n",
       "      <td>-1.236674</td>\n",
       "    </tr>\n",
       "    <tr>\n",
       "      <th>1</th>\n",
       "      <td>0.301431</td>\n",
       "      <td>6</td>\n",
       "      <td>-0.665851</td>\n",
       "      <td>-0.619254</td>\n",
       "      <td>0.691650</td>\n",
       "      <td>-0.474355</td>\n",
       "      <td>-0.549041</td>\n",
       "      <td>0</td>\n",
       "      <td>4</td>\n",
       "      <td>0.661477</td>\n",
       "    </tr>\n",
       "    <tr>\n",
       "      <th>20</th>\n",
       "      <td>0.387778</td>\n",
       "      <td>4</td>\n",
       "      <td>-1.012932</td>\n",
       "      <td>-0.815385</td>\n",
       "      <td>0.305939</td>\n",
       "      <td>-0.918570</td>\n",
       "      <td>1.148934</td>\n",
       "      <td>1</td>\n",
       "      <td>3</td>\n",
       "      <td>-1.236674</td>\n",
       "    </tr>\n",
       "  </tbody>\n",
       "</table>\n",
       "</div>"
      ],
      "text/plain": [
       "         mpg  cyl      disp        hp      drat        wt      qsec  vs  gear  \\\n",
       "18  1.924761    4 -1.399157 -1.494302  2.678060 -1.839505  0.302786   1     4   \n",
       "10 -0.251192    6 -0.599740 -0.423123  0.730221  0.137795  0.518582   1     4   \n",
       "3   0.370509    6  0.186628 -0.619254 -0.889765 -0.105981  0.825240   1     3   \n",
       "1   0.301431    6 -0.665851 -0.619254  0.691650 -0.474355 -0.549041   0     4   \n",
       "20  0.387778    4 -1.012932 -0.815385  0.305939 -0.918570  1.148934   1     3   \n",
       "\n",
       "        carb  \n",
       "18 -0.603957  \n",
       "10  0.661477  \n",
       "3  -1.236674  \n",
       "1   0.661477  \n",
       "20 -1.236674  "
      ]
     },
     "execution_count": 67,
     "metadata": {},
     "output_type": "execute_result"
    }
   ],
   "source": [
    "scaler=StandardScaler()\n",
    "X_train[['mpg','disp','hp','drat','wt','qsec','carb']]= scaler.fit_transform(X_train[['mpg','disp','hp','drat','wt','qsec','carb']])\n",
    "X_train_scaled=X_train\n",
    "X_train_scaled.head()"
   ]
  },
  {
   "cell_type": "code",
   "execution_count": 68,
   "metadata": {},
   "outputs": [],
   "source": [
    "from sklearn.feature_selection import RFE\n"
   ]
  },
  {
   "cell_type": "code",
   "execution_count": 69,
   "metadata": {},
   "outputs": [
    {
     "data": {
      "text/plain": [
       "LogisticRegression(C=1.0, class_weight=None, dual=False, fit_intercept=True,\n",
       "                   intercept_scaling=1, l1_ratio=None, max_iter=100,\n",
       "                   multi_class='warn', n_jobs=None, penalty='l2',\n",
       "                   random_state=None, solver='warn', tol=0.0001, verbose=0,\n",
       "                   warm_start=False)"
      ]
     },
     "execution_count": 69,
     "metadata": {},
     "output_type": "execute_result"
    }
   ],
   "source": [
    "from sklearn.linear_model import LogisticRegression\n",
    "lr= LogisticRegression()\n",
    "lr.fit(X_train,y_train)\n"
   ]
  },
  {
   "cell_type": "code",
   "execution_count": 70,
   "metadata": {},
   "outputs": [],
   "source": [
    "rfe=RFE(lr,6)"
   ]
  },
  {
   "cell_type": "code",
   "execution_count": 71,
   "metadata": {},
   "outputs": [],
   "source": [
    "rfe=rfe.fit(X_train_scaled,y_train)"
   ]
  },
  {
   "cell_type": "code",
   "execution_count": 72,
   "metadata": {},
   "outputs": [
    {
     "data": {
      "text/plain": [
       "array([ True,  True, False, False, False,  True,  True, False,  True,\n",
       "        True])"
      ]
     },
     "execution_count": 72,
     "metadata": {},
     "output_type": "execute_result"
    }
   ],
   "source": [
    "rfe.support_"
   ]
  },
  {
   "cell_type": "code",
   "execution_count": 73,
   "metadata": {},
   "outputs": [
    {
     "data": {
      "text/plain": [
       "[('mpg', True, 1),\n",
       " ('cyl', True, 1),\n",
       " ('disp', False, 4),\n",
       " ('hp', False, 5),\n",
       " ('drat', False, 2),\n",
       " ('wt', True, 1),\n",
       " ('qsec', True, 1),\n",
       " ('vs', False, 3),\n",
       " ('gear', True, 1),\n",
       " ('carb', True, 1)]"
      ]
     },
     "execution_count": 73,
     "metadata": {},
     "output_type": "execute_result"
    }
   ],
   "source": [
    "list(zip(X_train.columns,rfe.support_,rfe.ranking_))"
   ]
  },
  {
   "cell_type": "code",
   "execution_count": 74,
   "metadata": {},
   "outputs": [],
   "source": [
    "selected_col=X_train_scaled.columns[rfe.support_]"
   ]
  },
  {
   "cell_type": "code",
   "execution_count": 75,
   "metadata": {},
   "outputs": [
    {
     "data": {
      "text/html": [
       "<div>\n",
       "<style scoped>\n",
       "    .dataframe tbody tr th:only-of-type {\n",
       "        vertical-align: middle;\n",
       "    }\n",
       "\n",
       "    .dataframe tbody tr th {\n",
       "        vertical-align: top;\n",
       "    }\n",
       "\n",
       "    .dataframe thead th {\n",
       "        text-align: right;\n",
       "    }\n",
       "</style>\n",
       "<table border=\"1\" class=\"dataframe\">\n",
       "  <thead>\n",
       "    <tr style=\"text-align: right;\">\n",
       "      <th></th>\n",
       "      <th>mpg</th>\n",
       "      <th>cyl</th>\n",
       "      <th>wt</th>\n",
       "      <th>qsec</th>\n",
       "      <th>gear</th>\n",
       "      <th>carb</th>\n",
       "    </tr>\n",
       "  </thead>\n",
       "  <tbody>\n",
       "    <tr>\n",
       "      <th>18</th>\n",
       "      <td>1.924761</td>\n",
       "      <td>4</td>\n",
       "      <td>-1.839505</td>\n",
       "      <td>0.302786</td>\n",
       "      <td>4</td>\n",
       "      <td>-0.603957</td>\n",
       "    </tr>\n",
       "    <tr>\n",
       "      <th>10</th>\n",
       "      <td>-0.251192</td>\n",
       "      <td>6</td>\n",
       "      <td>0.137795</td>\n",
       "      <td>0.518582</td>\n",
       "      <td>4</td>\n",
       "      <td>0.661477</td>\n",
       "    </tr>\n",
       "    <tr>\n",
       "      <th>3</th>\n",
       "      <td>0.370509</td>\n",
       "      <td>6</td>\n",
       "      <td>-0.105981</td>\n",
       "      <td>0.825240</td>\n",
       "      <td>3</td>\n",
       "      <td>-1.236674</td>\n",
       "    </tr>\n",
       "    <tr>\n",
       "      <th>1</th>\n",
       "      <td>0.301431</td>\n",
       "      <td>6</td>\n",
       "      <td>-0.474355</td>\n",
       "      <td>-0.549041</td>\n",
       "      <td>4</td>\n",
       "      <td>0.661477</td>\n",
       "    </tr>\n",
       "    <tr>\n",
       "      <th>20</th>\n",
       "      <td>0.387778</td>\n",
       "      <td>4</td>\n",
       "      <td>-0.918570</td>\n",
       "      <td>1.148934</td>\n",
       "      <td>3</td>\n",
       "      <td>-1.236674</td>\n",
       "    </tr>\n",
       "    <tr>\n",
       "      <th>27</th>\n",
       "      <td>1.924761</td>\n",
       "      <td>4</td>\n",
       "      <td>-1.950017</td>\n",
       "      <td>-0.617188</td>\n",
       "      <td>5</td>\n",
       "      <td>-0.603957</td>\n",
       "    </tr>\n",
       "    <tr>\n",
       "      <th>12</th>\n",
       "      <td>-0.337540</td>\n",
       "      <td>8</td>\n",
       "      <td>0.451996</td>\n",
       "      <td>-0.219668</td>\n",
       "      <td>3</td>\n",
       "      <td>0.028760</td>\n",
       "    </tr>\n",
       "    <tr>\n",
       "      <th>5</th>\n",
       "      <td>-0.199384</td>\n",
       "      <td>6</td>\n",
       "      <td>0.159464</td>\n",
       "      <td>1.268190</td>\n",
       "      <td>3</td>\n",
       "      <td>-1.236674</td>\n",
       "    </tr>\n",
       "    <tr>\n",
       "      <th>14</th>\n",
       "      <td>-1.529133</td>\n",
       "      <td>8</td>\n",
       "      <td>2.098844</td>\n",
       "      <td>-0.003872</td>\n",
       "      <td>3</td>\n",
       "      <td>0.661477</td>\n",
       "    </tr>\n",
       "    <tr>\n",
       "      <th>0</th>\n",
       "      <td>0.301431</td>\n",
       "      <td>6</td>\n",
       "      <td>-0.750635</td>\n",
       "      <td>-0.867057</td>\n",
       "      <td>4</td>\n",
       "      <td>0.661477</td>\n",
       "    </tr>\n",
       "    <tr>\n",
       "      <th>22</th>\n",
       "      <td>-0.700198</td>\n",
       "      <td>8</td>\n",
       "      <td>0.132378</td>\n",
       "      <td>-0.390034</td>\n",
       "      <td>3</td>\n",
       "      <td>-0.603957</td>\n",
       "    </tr>\n",
       "    <tr>\n",
       "      <th>4</th>\n",
       "      <td>-0.095767</td>\n",
       "      <td>8</td>\n",
       "      <td>0.137795</td>\n",
       "      <td>-0.549041</td>\n",
       "      <td>3</td>\n",
       "      <td>-0.603957</td>\n",
       "    </tr>\n",
       "    <tr>\n",
       "      <th>8</th>\n",
       "      <td>0.612281</td>\n",
       "      <td>4</td>\n",
       "      <td>-0.176406</td>\n",
       "      <td>2.790122</td>\n",
       "      <td>4</td>\n",
       "      <td>-0.603957</td>\n",
       "    </tr>\n",
       "    <tr>\n",
       "      <th>13</th>\n",
       "      <td>-0.700198</td>\n",
       "      <td>8</td>\n",
       "      <td>0.506169</td>\n",
       "      <td>0.007486</td>\n",
       "      <td>3</td>\n",
       "      <td>0.028760</td>\n",
       "    </tr>\n",
       "    <tr>\n",
       "      <th>9</th>\n",
       "      <td>-0.009420</td>\n",
       "      <td>6</td>\n",
       "      <td>0.137795</td>\n",
       "      <td>0.177851</td>\n",
       "      <td>4</td>\n",
       "      <td>0.661477</td>\n",
       "    </tr>\n",
       "    <tr>\n",
       "      <th>15</th>\n",
       "      <td>-1.529133</td>\n",
       "      <td>8</td>\n",
       "      <td>2.287364</td>\n",
       "      <td>-0.094734</td>\n",
       "      <td>3</td>\n",
       "      <td>0.661477</td>\n",
       "    </tr>\n",
       "    <tr>\n",
       "      <th>30</th>\n",
       "      <td>-0.734737</td>\n",
       "      <td>8</td>\n",
       "      <td>0.278644</td>\n",
       "      <td>-1.923323</td>\n",
       "      <td>5</td>\n",
       "      <td>3.192345</td>\n",
       "    </tr>\n",
       "    <tr>\n",
       "      <th>23</th>\n",
       "      <td>-1.028318</td>\n",
       "      <td>8</td>\n",
       "      <td>0.571176</td>\n",
       "      <td>-1.463336</td>\n",
       "      <td>3</td>\n",
       "      <td>0.661477</td>\n",
       "    </tr>\n",
       "    <tr>\n",
       "      <th>6</th>\n",
       "      <td>-0.855624</td>\n",
       "      <td>8</td>\n",
       "      <td>0.278644</td>\n",
       "      <td>-1.219146</td>\n",
       "      <td>3</td>\n",
       "      <td>0.661477</td>\n",
       "    </tr>\n",
       "    <tr>\n",
       "      <th>17</th>\n",
       "      <td>2.270150</td>\n",
       "      <td>4</td>\n",
       "      <td>-1.205685</td>\n",
       "      <td>0.842277</td>\n",
       "      <td>4</td>\n",
       "      <td>-1.236674</td>\n",
       "    </tr>\n",
       "    <tr>\n",
       "      <th>11</th>\n",
       "      <td>-0.492965</td>\n",
       "      <td>8</td>\n",
       "      <td>0.820370</td>\n",
       "      <td>-0.333245</td>\n",
       "      <td>3</td>\n",
       "      <td>0.028760</td>\n",
       "    </tr>\n",
       "    <tr>\n",
       "      <th>31</th>\n",
       "      <td>0.370509</td>\n",
       "      <td>4</td>\n",
       "      <td>-0.577283</td>\n",
       "      <td>0.348217</td>\n",
       "      <td>4</td>\n",
       "      <td>-0.603957</td>\n",
       "    </tr>\n",
       "  </tbody>\n",
       "</table>\n",
       "</div>"
      ],
      "text/plain": [
       "         mpg  cyl        wt      qsec  gear      carb\n",
       "18  1.924761    4 -1.839505  0.302786     4 -0.603957\n",
       "10 -0.251192    6  0.137795  0.518582     4  0.661477\n",
       "3   0.370509    6 -0.105981  0.825240     3 -1.236674\n",
       "1   0.301431    6 -0.474355 -0.549041     4  0.661477\n",
       "20  0.387778    4 -0.918570  1.148934     3 -1.236674\n",
       "27  1.924761    4 -1.950017 -0.617188     5 -0.603957\n",
       "12 -0.337540    8  0.451996 -0.219668     3  0.028760\n",
       "5  -0.199384    6  0.159464  1.268190     3 -1.236674\n",
       "14 -1.529133    8  2.098844 -0.003872     3  0.661477\n",
       "0   0.301431    6 -0.750635 -0.867057     4  0.661477\n",
       "22 -0.700198    8  0.132378 -0.390034     3 -0.603957\n",
       "4  -0.095767    8  0.137795 -0.549041     3 -0.603957\n",
       "8   0.612281    4 -0.176406  2.790122     4 -0.603957\n",
       "13 -0.700198    8  0.506169  0.007486     3  0.028760\n",
       "9  -0.009420    6  0.137795  0.177851     4  0.661477\n",
       "15 -1.529133    8  2.287364 -0.094734     3  0.661477\n",
       "30 -0.734737    8  0.278644 -1.923323     5  3.192345\n",
       "23 -1.028318    8  0.571176 -1.463336     3  0.661477\n",
       "6  -0.855624    8  0.278644 -1.219146     3  0.661477\n",
       "17  2.270150    4 -1.205685  0.842277     4 -1.236674\n",
       "11 -0.492965    8  0.820370 -0.333245     3  0.028760\n",
       "31  0.370509    4 -0.577283  0.348217     4 -0.603957"
      ]
     },
     "execution_count": 75,
     "metadata": {},
     "output_type": "execute_result"
    }
   ],
   "source": [
    "X_train_scaled_rfe=X_train[selected_col]\n",
    "X_train_scaled_rfe"
   ]
  },
  {
   "cell_type": "code",
   "execution_count": 114,
   "metadata": {},
   "outputs": [
    {
     "data": {
      "text/plain": [
       "LogisticRegression(C=1.0, class_weight=None, dual=False, fit_intercept=True,\n",
       "                   intercept_scaling=1, l1_ratio=None, max_iter=100,\n",
       "                   multi_class='warn', n_jobs=None, penalty='l2',\n",
       "                   random_state=None, solver='warn', tol=0.0001, verbose=0,\n",
       "                   warm_start=False)"
      ]
     },
     "execution_count": 114,
     "metadata": {},
     "output_type": "execute_result"
    }
   ],
   "source": [
    "lr.fit(X_train_scaled_rfe,y_train)"
   ]
  },
  {
   "cell_type": "code",
   "execution_count": 115,
   "metadata": {},
   "outputs": [],
   "source": [
    "y_pred_lr_train=lr.predict(X_train_scaled_rfe)"
   ]
  },
  {
   "cell_type": "code",
   "execution_count": 116,
   "metadata": {},
   "outputs": [
    {
     "name": "stdout",
     "output_type": "stream",
     "text": [
      "Acuracy: 1.0\n"
     ]
    }
   ],
   "source": [
    "print('Acuracy:',accuracy_score(y_train,y_pred_lr_train))"
   ]
  },
  {
   "cell_type": "code",
   "execution_count": 117,
   "metadata": {},
   "outputs": [
    {
     "name": "stdout",
     "output_type": "stream",
     "text": [
      "Confusion matrics [[15  0]\n",
      " [ 0  7]]\n"
     ]
    }
   ],
   "source": [
    "print('Confusion matrics',confusion_matrix(y_train,y_pred_lr_train))"
   ]
  },
  {
   "cell_type": "markdown",
   "metadata": {},
   "source": [
    "# State model"
   ]
  },
  {
   "cell_type": "code",
   "execution_count": 76,
   "metadata": {},
   "outputs": [],
   "source": [
    "import statsmodels.api as sm"
   ]
  },
  {
   "cell_type": "code",
   "execution_count": 77,
   "metadata": {},
   "outputs": [
    {
     "data": {
      "text/html": [
       "<div>\n",
       "<style scoped>\n",
       "    .dataframe tbody tr th:only-of-type {\n",
       "        vertical-align: middle;\n",
       "    }\n",
       "\n",
       "    .dataframe tbody tr th {\n",
       "        vertical-align: top;\n",
       "    }\n",
       "\n",
       "    .dataframe thead th {\n",
       "        text-align: right;\n",
       "    }\n",
       "</style>\n",
       "<table border=\"1\" class=\"dataframe\">\n",
       "  <thead>\n",
       "    <tr style=\"text-align: right;\">\n",
       "      <th></th>\n",
       "      <th>const</th>\n",
       "      <th>mpg</th>\n",
       "      <th>cyl</th>\n",
       "      <th>wt</th>\n",
       "      <th>qsec</th>\n",
       "      <th>gear</th>\n",
       "      <th>carb</th>\n",
       "    </tr>\n",
       "  </thead>\n",
       "  <tbody>\n",
       "    <tr>\n",
       "      <th>18</th>\n",
       "      <td>1.0</td>\n",
       "      <td>1.924761</td>\n",
       "      <td>4</td>\n",
       "      <td>-1.839505</td>\n",
       "      <td>0.302786</td>\n",
       "      <td>4</td>\n",
       "      <td>-0.603957</td>\n",
       "    </tr>\n",
       "    <tr>\n",
       "      <th>10</th>\n",
       "      <td>1.0</td>\n",
       "      <td>-0.251192</td>\n",
       "      <td>6</td>\n",
       "      <td>0.137795</td>\n",
       "      <td>0.518582</td>\n",
       "      <td>4</td>\n",
       "      <td>0.661477</td>\n",
       "    </tr>\n",
       "    <tr>\n",
       "      <th>3</th>\n",
       "      <td>1.0</td>\n",
       "      <td>0.370509</td>\n",
       "      <td>6</td>\n",
       "      <td>-0.105981</td>\n",
       "      <td>0.825240</td>\n",
       "      <td>3</td>\n",
       "      <td>-1.236674</td>\n",
       "    </tr>\n",
       "    <tr>\n",
       "      <th>1</th>\n",
       "      <td>1.0</td>\n",
       "      <td>0.301431</td>\n",
       "      <td>6</td>\n",
       "      <td>-0.474355</td>\n",
       "      <td>-0.549041</td>\n",
       "      <td>4</td>\n",
       "      <td>0.661477</td>\n",
       "    </tr>\n",
       "    <tr>\n",
       "      <th>20</th>\n",
       "      <td>1.0</td>\n",
       "      <td>0.387778</td>\n",
       "      <td>4</td>\n",
       "      <td>-0.918570</td>\n",
       "      <td>1.148934</td>\n",
       "      <td>3</td>\n",
       "      <td>-1.236674</td>\n",
       "    </tr>\n",
       "    <tr>\n",
       "      <th>27</th>\n",
       "      <td>1.0</td>\n",
       "      <td>1.924761</td>\n",
       "      <td>4</td>\n",
       "      <td>-1.950017</td>\n",
       "      <td>-0.617188</td>\n",
       "      <td>5</td>\n",
       "      <td>-0.603957</td>\n",
       "    </tr>\n",
       "    <tr>\n",
       "      <th>12</th>\n",
       "      <td>1.0</td>\n",
       "      <td>-0.337540</td>\n",
       "      <td>8</td>\n",
       "      <td>0.451996</td>\n",
       "      <td>-0.219668</td>\n",
       "      <td>3</td>\n",
       "      <td>0.028760</td>\n",
       "    </tr>\n",
       "    <tr>\n",
       "      <th>5</th>\n",
       "      <td>1.0</td>\n",
       "      <td>-0.199384</td>\n",
       "      <td>6</td>\n",
       "      <td>0.159464</td>\n",
       "      <td>1.268190</td>\n",
       "      <td>3</td>\n",
       "      <td>-1.236674</td>\n",
       "    </tr>\n",
       "    <tr>\n",
       "      <th>14</th>\n",
       "      <td>1.0</td>\n",
       "      <td>-1.529133</td>\n",
       "      <td>8</td>\n",
       "      <td>2.098844</td>\n",
       "      <td>-0.003872</td>\n",
       "      <td>3</td>\n",
       "      <td>0.661477</td>\n",
       "    </tr>\n",
       "    <tr>\n",
       "      <th>0</th>\n",
       "      <td>1.0</td>\n",
       "      <td>0.301431</td>\n",
       "      <td>6</td>\n",
       "      <td>-0.750635</td>\n",
       "      <td>-0.867057</td>\n",
       "      <td>4</td>\n",
       "      <td>0.661477</td>\n",
       "    </tr>\n",
       "    <tr>\n",
       "      <th>22</th>\n",
       "      <td>1.0</td>\n",
       "      <td>-0.700198</td>\n",
       "      <td>8</td>\n",
       "      <td>0.132378</td>\n",
       "      <td>-0.390034</td>\n",
       "      <td>3</td>\n",
       "      <td>-0.603957</td>\n",
       "    </tr>\n",
       "    <tr>\n",
       "      <th>4</th>\n",
       "      <td>1.0</td>\n",
       "      <td>-0.095767</td>\n",
       "      <td>8</td>\n",
       "      <td>0.137795</td>\n",
       "      <td>-0.549041</td>\n",
       "      <td>3</td>\n",
       "      <td>-0.603957</td>\n",
       "    </tr>\n",
       "    <tr>\n",
       "      <th>8</th>\n",
       "      <td>1.0</td>\n",
       "      <td>0.612281</td>\n",
       "      <td>4</td>\n",
       "      <td>-0.176406</td>\n",
       "      <td>2.790122</td>\n",
       "      <td>4</td>\n",
       "      <td>-0.603957</td>\n",
       "    </tr>\n",
       "    <tr>\n",
       "      <th>13</th>\n",
       "      <td>1.0</td>\n",
       "      <td>-0.700198</td>\n",
       "      <td>8</td>\n",
       "      <td>0.506169</td>\n",
       "      <td>0.007486</td>\n",
       "      <td>3</td>\n",
       "      <td>0.028760</td>\n",
       "    </tr>\n",
       "    <tr>\n",
       "      <th>9</th>\n",
       "      <td>1.0</td>\n",
       "      <td>-0.009420</td>\n",
       "      <td>6</td>\n",
       "      <td>0.137795</td>\n",
       "      <td>0.177851</td>\n",
       "      <td>4</td>\n",
       "      <td>0.661477</td>\n",
       "    </tr>\n",
       "    <tr>\n",
       "      <th>15</th>\n",
       "      <td>1.0</td>\n",
       "      <td>-1.529133</td>\n",
       "      <td>8</td>\n",
       "      <td>2.287364</td>\n",
       "      <td>-0.094734</td>\n",
       "      <td>3</td>\n",
       "      <td>0.661477</td>\n",
       "    </tr>\n",
       "    <tr>\n",
       "      <th>30</th>\n",
       "      <td>1.0</td>\n",
       "      <td>-0.734737</td>\n",
       "      <td>8</td>\n",
       "      <td>0.278644</td>\n",
       "      <td>-1.923323</td>\n",
       "      <td>5</td>\n",
       "      <td>3.192345</td>\n",
       "    </tr>\n",
       "    <tr>\n",
       "      <th>23</th>\n",
       "      <td>1.0</td>\n",
       "      <td>-1.028318</td>\n",
       "      <td>8</td>\n",
       "      <td>0.571176</td>\n",
       "      <td>-1.463336</td>\n",
       "      <td>3</td>\n",
       "      <td>0.661477</td>\n",
       "    </tr>\n",
       "    <tr>\n",
       "      <th>6</th>\n",
       "      <td>1.0</td>\n",
       "      <td>-0.855624</td>\n",
       "      <td>8</td>\n",
       "      <td>0.278644</td>\n",
       "      <td>-1.219146</td>\n",
       "      <td>3</td>\n",
       "      <td>0.661477</td>\n",
       "    </tr>\n",
       "    <tr>\n",
       "      <th>17</th>\n",
       "      <td>1.0</td>\n",
       "      <td>2.270150</td>\n",
       "      <td>4</td>\n",
       "      <td>-1.205685</td>\n",
       "      <td>0.842277</td>\n",
       "      <td>4</td>\n",
       "      <td>-1.236674</td>\n",
       "    </tr>\n",
       "    <tr>\n",
       "      <th>11</th>\n",
       "      <td>1.0</td>\n",
       "      <td>-0.492965</td>\n",
       "      <td>8</td>\n",
       "      <td>0.820370</td>\n",
       "      <td>-0.333245</td>\n",
       "      <td>3</td>\n",
       "      <td>0.028760</td>\n",
       "    </tr>\n",
       "    <tr>\n",
       "      <th>31</th>\n",
       "      <td>1.0</td>\n",
       "      <td>0.370509</td>\n",
       "      <td>4</td>\n",
       "      <td>-0.577283</td>\n",
       "      <td>0.348217</td>\n",
       "      <td>4</td>\n",
       "      <td>-0.603957</td>\n",
       "    </tr>\n",
       "  </tbody>\n",
       "</table>\n",
       "</div>"
      ],
      "text/plain": [
       "    const       mpg  cyl        wt      qsec  gear      carb\n",
       "18    1.0  1.924761    4 -1.839505  0.302786     4 -0.603957\n",
       "10    1.0 -0.251192    6  0.137795  0.518582     4  0.661477\n",
       "3     1.0  0.370509    6 -0.105981  0.825240     3 -1.236674\n",
       "1     1.0  0.301431    6 -0.474355 -0.549041     4  0.661477\n",
       "20    1.0  0.387778    4 -0.918570  1.148934     3 -1.236674\n",
       "27    1.0  1.924761    4 -1.950017 -0.617188     5 -0.603957\n",
       "12    1.0 -0.337540    8  0.451996 -0.219668     3  0.028760\n",
       "5     1.0 -0.199384    6  0.159464  1.268190     3 -1.236674\n",
       "14    1.0 -1.529133    8  2.098844 -0.003872     3  0.661477\n",
       "0     1.0  0.301431    6 -0.750635 -0.867057     4  0.661477\n",
       "22    1.0 -0.700198    8  0.132378 -0.390034     3 -0.603957\n",
       "4     1.0 -0.095767    8  0.137795 -0.549041     3 -0.603957\n",
       "8     1.0  0.612281    4 -0.176406  2.790122     4 -0.603957\n",
       "13    1.0 -0.700198    8  0.506169  0.007486     3  0.028760\n",
       "9     1.0 -0.009420    6  0.137795  0.177851     4  0.661477\n",
       "15    1.0 -1.529133    8  2.287364 -0.094734     3  0.661477\n",
       "30    1.0 -0.734737    8  0.278644 -1.923323     5  3.192345\n",
       "23    1.0 -1.028318    8  0.571176 -1.463336     3  0.661477\n",
       "6     1.0 -0.855624    8  0.278644 -1.219146     3  0.661477\n",
       "17    1.0  2.270150    4 -1.205685  0.842277     4 -1.236674\n",
       "11    1.0 -0.492965    8  0.820370 -0.333245     3  0.028760\n",
       "31    1.0  0.370509    4 -0.577283  0.348217     4 -0.603957"
      ]
     },
     "execution_count": 77,
     "metadata": {},
     "output_type": "execute_result"
    }
   ],
   "source": [
    "X_train_scaled_rfe_sm=sm.add_constant(X_train_scaled_rfe)\n",
    "X_train_scaled_rfe_sm"
   ]
  },
  {
   "cell_type": "code",
   "execution_count": 88,
   "metadata": {},
   "outputs": [],
   "source": [
    "y_train_scaled=scaler.fit_transform(y_train)"
   ]
  },
  {
   "cell_type": "code",
   "execution_count": 79,
   "metadata": {},
   "outputs": [
    {
     "data": {
      "text/plain": [
       "(22, 7)"
      ]
     },
     "execution_count": 79,
     "metadata": {},
     "output_type": "execute_result"
    }
   ],
   "source": [
    "X_train_scaled_rfe_sm.shape"
   ]
  },
  {
   "cell_type": "code",
   "execution_count": 90,
   "metadata": {},
   "outputs": [],
   "source": [
    "lgmod=sm.GLM(y_train_scaled,X_train_scaled_rfe_sm,family=sm.families.Binomial()).fit()"
   ]
  },
  {
   "cell_type": "code",
   "execution_count": 103,
   "metadata": {},
   "outputs": [
    {
     "name": "stdout",
     "output_type": "stream",
     "text": [
      "                 Generalized Linear Model Regression Results                  \n",
      "==============================================================================\n",
      "Dep. Variable:                      y   No. Observations:                   22\n",
      "Model:                            GLM   Df Residuals:                       15\n",
      "Model Family:                Binomial   Df Model:                            6\n",
      "Link Function:                  logit   Scale:                          1.0000\n",
      "Method:                          IRLS   Log-Likelihood:                    nan\n",
      "Date:                Wed, 11 Sep 2019   Deviance:                       1006.8\n",
      "Time:                        13:44:13   Pearson chi2:                 3.83e+16\n",
      "No. Iterations:                     3                                         \n",
      "Covariance Type:            nonrobust                                         \n",
      "==============================================================================\n",
      "                 coef    std err          z      P>|z|      [0.025      0.975]\n",
      "------------------------------------------------------------------------------\n",
      "const      -1.129e+16   3.22e+08  -3.51e+07      0.000   -1.13e+16   -1.13e+16\n",
      "mpg          2.18e+15   4.78e+07   4.56e+07      0.000    2.18e+15    2.18e+15\n",
      "cyl        -9.934e+14    2.6e+07  -3.83e+07      0.000   -9.93e+14   -9.93e+14\n",
      "wt          4.276e+14   4.21e+07   1.02e+07      0.000    4.28e+14    4.28e+14\n",
      "qsec       -2.855e+15      3e+07  -9.52e+07      0.000   -2.85e+15   -2.85e+15\n",
      "gear        4.159e+15   6.08e+07   6.84e+07      0.000    4.16e+15    4.16e+15\n",
      "carb       -5.548e+14    4.2e+07  -1.32e+07      0.000   -5.55e+14   -5.55e+14\n",
      "==============================================================================\n"
     ]
    }
   ],
   "source": [
    "print(lgmod.summary())"
   ]
  },
  {
   "cell_type": "code",
   "execution_count": null,
   "metadata": {},
   "outputs": [],
   "source": []
  },
  {
   "cell_type": "code",
   "execution_count": 91,
   "metadata": {},
   "outputs": [],
   "source": [
    "from statsmodels.stats.outliers_influence import variance_inflation_factor"
   ]
  },
  {
   "cell_type": "code",
   "execution_count": 92,
   "metadata": {},
   "outputs": [
    {
     "data": {
      "text/html": [
       "<div>\n",
       "<style scoped>\n",
       "    .dataframe tbody tr th:only-of-type {\n",
       "        vertical-align: middle;\n",
       "    }\n",
       "\n",
       "    .dataframe tbody tr th {\n",
       "        vertical-align: top;\n",
       "    }\n",
       "\n",
       "    .dataframe thead th {\n",
       "        text-align: right;\n",
       "    }\n",
       "</style>\n",
       "<table border=\"1\" class=\"dataframe\">\n",
       "  <thead>\n",
       "    <tr style=\"text-align: right;\">\n",
       "      <th></th>\n",
       "      <th>features</th>\n",
       "      <th>VIF</th>\n",
       "    </tr>\n",
       "  </thead>\n",
       "  <tbody>\n",
       "    <tr>\n",
       "      <th>1</th>\n",
       "      <td>cyl</td>\n",
       "      <td>53.000128</td>\n",
       "    </tr>\n",
       "    <tr>\n",
       "      <th>4</th>\n",
       "      <td>gear</td>\n",
       "      <td>51.485811</td>\n",
       "    </tr>\n",
       "    <tr>\n",
       "      <th>0</th>\n",
       "      <td>mpg</td>\n",
       "      <td>9.979705</td>\n",
       "    </tr>\n",
       "    <tr>\n",
       "      <th>2</th>\n",
       "      <td>wt</td>\n",
       "      <td>8.309261</td>\n",
       "    </tr>\n",
       "    <tr>\n",
       "      <th>5</th>\n",
       "      <td>carb</td>\n",
       "      <td>4.881569</td>\n",
       "    </tr>\n",
       "    <tr>\n",
       "      <th>3</th>\n",
       "      <td>qsec</td>\n",
       "      <td>3.894324</td>\n",
       "    </tr>\n",
       "  </tbody>\n",
       "</table>\n",
       "</div>"
      ],
      "text/plain": [
       "  features        VIF\n",
       "1      cyl  53.000128\n",
       "4     gear  51.485811\n",
       "0      mpg   9.979705\n",
       "2       wt   8.309261\n",
       "5     carb   4.881569\n",
       "3     qsec   3.894324"
      ]
     },
     "execution_count": 92,
     "metadata": {},
     "output_type": "execute_result"
    }
   ],
   "source": [
    "vif=pd.DataFrame()\n",
    "vif['features']=X_train_rfe.columns\n",
    "vif['VIF']=[variance_inflation_factor(X_train_rfe.values,i) for i in range(X_train_rfe.shape[1])]\n",
    "vif= vif.sort_values(by='VIF', ascending=False)\n",
    "vif"
   ]
  },
  {
   "cell_type": "code",
   "execution_count": 93,
   "metadata": {},
   "outputs": [],
   "source": [
    "y_pred=lgmod.predict(X_train_scaled_rfe_sm)"
   ]
  },
  {
   "cell_type": "code",
   "execution_count": 101,
   "metadata": {},
   "outputs": [
    {
     "data": {
      "text/plain": [
       "18    1.0\n",
       "10    0.0\n",
       "3     0.0\n",
       "1     1.0\n",
       "20    0.0\n",
       "27    1.0\n",
       "12    0.0\n",
       "5     0.0\n",
       "14    0.0\n",
       "0     1.0\n",
       "22    0.0\n",
       "4     0.0\n",
       "8     0.0\n",
       "13    0.0\n",
       "9     0.0\n",
       "15    0.0\n",
       "30    1.0\n",
       "23    0.0\n",
       "6     0.0\n",
       "17    1.0\n",
       "11    0.0\n",
       "31    1.0\n",
       "dtype: float64"
      ]
     },
     "execution_count": 101,
     "metadata": {},
     "output_type": "execute_result"
    }
   ],
   "source": [
    "y_pred"
   ]
  },
  {
   "cell_type": "code",
   "execution_count": 110,
   "metadata": {},
   "outputs": [
    {
     "data": {
      "text/html": [
       "<div>\n",
       "<style scoped>\n",
       "    .dataframe tbody tr th:only-of-type {\n",
       "        vertical-align: middle;\n",
       "    }\n",
       "\n",
       "    .dataframe tbody tr th {\n",
       "        vertical-align: top;\n",
       "    }\n",
       "\n",
       "    .dataframe thead th {\n",
       "        text-align: right;\n",
       "    }\n",
       "</style>\n",
       "<table border=\"1\" class=\"dataframe\">\n",
       "  <thead>\n",
       "    <tr style=\"text-align: right;\">\n",
       "      <th></th>\n",
       "      <th>0</th>\n",
       "    </tr>\n",
       "  </thead>\n",
       "  <tbody>\n",
       "    <tr>\n",
       "      <th>0</th>\n",
       "      <td>1.46385</td>\n",
       "    </tr>\n",
       "    <tr>\n",
       "      <th>1</th>\n",
       "      <td>-0.68313</td>\n",
       "    </tr>\n",
       "    <tr>\n",
       "      <th>2</th>\n",
       "      <td>-0.68313</td>\n",
       "    </tr>\n",
       "    <tr>\n",
       "      <th>3</th>\n",
       "      <td>1.46385</td>\n",
       "    </tr>\n",
       "    <tr>\n",
       "      <th>4</th>\n",
       "      <td>-0.68313</td>\n",
       "    </tr>\n",
       "    <tr>\n",
       "      <th>5</th>\n",
       "      <td>1.46385</td>\n",
       "    </tr>\n",
       "    <tr>\n",
       "      <th>6</th>\n",
       "      <td>-0.68313</td>\n",
       "    </tr>\n",
       "    <tr>\n",
       "      <th>7</th>\n",
       "      <td>-0.68313</td>\n",
       "    </tr>\n",
       "    <tr>\n",
       "      <th>8</th>\n",
       "      <td>-0.68313</td>\n",
       "    </tr>\n",
       "    <tr>\n",
       "      <th>9</th>\n",
       "      <td>1.46385</td>\n",
       "    </tr>\n",
       "    <tr>\n",
       "      <th>10</th>\n",
       "      <td>-0.68313</td>\n",
       "    </tr>\n",
       "    <tr>\n",
       "      <th>11</th>\n",
       "      <td>-0.68313</td>\n",
       "    </tr>\n",
       "    <tr>\n",
       "      <th>12</th>\n",
       "      <td>-0.68313</td>\n",
       "    </tr>\n",
       "    <tr>\n",
       "      <th>13</th>\n",
       "      <td>-0.68313</td>\n",
       "    </tr>\n",
       "    <tr>\n",
       "      <th>14</th>\n",
       "      <td>-0.68313</td>\n",
       "    </tr>\n",
       "    <tr>\n",
       "      <th>15</th>\n",
       "      <td>-0.68313</td>\n",
       "    </tr>\n",
       "    <tr>\n",
       "      <th>16</th>\n",
       "      <td>1.46385</td>\n",
       "    </tr>\n",
       "    <tr>\n",
       "      <th>17</th>\n",
       "      <td>-0.68313</td>\n",
       "    </tr>\n",
       "    <tr>\n",
       "      <th>18</th>\n",
       "      <td>-0.68313</td>\n",
       "    </tr>\n",
       "    <tr>\n",
       "      <th>19</th>\n",
       "      <td>1.46385</td>\n",
       "    </tr>\n",
       "    <tr>\n",
       "      <th>20</th>\n",
       "      <td>-0.68313</td>\n",
       "    </tr>\n",
       "    <tr>\n",
       "      <th>21</th>\n",
       "      <td>1.46385</td>\n",
       "    </tr>\n",
       "  </tbody>\n",
       "</table>\n",
       "</div>"
      ],
      "text/plain": [
       "          0\n",
       "0   1.46385\n",
       "1  -0.68313\n",
       "2  -0.68313\n",
       "3   1.46385\n",
       "4  -0.68313\n",
       "5   1.46385\n",
       "6  -0.68313\n",
       "7  -0.68313\n",
       "8  -0.68313\n",
       "9   1.46385\n",
       "10 -0.68313\n",
       "11 -0.68313\n",
       "12 -0.68313\n",
       "13 -0.68313\n",
       "14 -0.68313\n",
       "15 -0.68313\n",
       "16  1.46385\n",
       "17 -0.68313\n",
       "18 -0.68313\n",
       "19  1.46385\n",
       "20 -0.68313\n",
       "21  1.46385"
      ]
     },
     "execution_count": 110,
     "metadata": {},
     "output_type": "execute_result"
    }
   ],
   "source": [
    "y_train_scaled"
   ]
  },
  {
   "cell_type": "code",
   "execution_count": 94,
   "metadata": {},
   "outputs": [],
   "source": [
    "from sklearn.metrics import r2_score"
   ]
  },
  {
   "cell_type": "code",
   "execution_count": 100,
   "metadata": {},
   "outputs": [
    {
     "data": {
      "text/plain": [
       "0.6133591605417816"
      ]
     },
     "execution_count": 100,
     "metadata": {},
     "output_type": "execute_result"
    }
   ],
   "source": [
    "r2_score(y_train_scaled,y_pred)"
   ]
  },
  {
   "cell_type": "code",
   "execution_count": 104,
   "metadata": {},
   "outputs": [],
   "source": [
    "from sklearn.metrics import accuracy_score,confusion_matrix,classification_report"
   ]
  },
  {
   "cell_type": "code",
   "execution_count": 112,
   "metadata": {},
   "outputs": [
    {
     "name": "stdout",
     "output_type": "stream",
     "text": [
      " Acuracy Score:\n"
     ]
    },
    {
     "ename": "ValueError",
     "evalue": "Classification metrics can't handle a mix of continuous and binary targets",
     "output_type": "error",
     "traceback": [
      "\u001b[1;31m---------------------------------------------------------------------------\u001b[0m",
      "\u001b[1;31mValueError\u001b[0m                                Traceback (most recent call last)",
      "\u001b[1;32m<ipython-input-112-84ddebc98d2c>\u001b[0m in \u001b[0;36m<module>\u001b[1;34m\u001b[0m\n\u001b[0;32m      1\u001b[0m \u001b[0mprint\u001b[0m\u001b[1;33m(\u001b[0m\u001b[1;34m' Acuracy Score:'\u001b[0m\u001b[1;33m)\u001b[0m\u001b[1;33m\u001b[0m\u001b[1;33m\u001b[0m\u001b[0m\n\u001b[1;32m----> 2\u001b[1;33m \u001b[0mprint\u001b[0m\u001b[1;33m(\u001b[0m\u001b[0maccuracy_score\u001b[0m\u001b[1;33m(\u001b[0m\u001b[0my_train_scaled\u001b[0m\u001b[1;33m,\u001b[0m\u001b[0my_pred\u001b[0m\u001b[1;33m)\u001b[0m\u001b[1;33m)\u001b[0m\u001b[1;33m\u001b[0m\u001b[1;33m\u001b[0m\u001b[0m\n\u001b[0m",
      "\u001b[1;32m~\\Anaconda3\\lib\\site-packages\\sklearn\\metrics\\classification.py\u001b[0m in \u001b[0;36maccuracy_score\u001b[1;34m(y_true, y_pred, normalize, sample_weight)\u001b[0m\n\u001b[0;32m    174\u001b[0m \u001b[1;33m\u001b[0m\u001b[0m\n\u001b[0;32m    175\u001b[0m     \u001b[1;31m# Compute accuracy for each possible representation\u001b[0m\u001b[1;33m\u001b[0m\u001b[1;33m\u001b[0m\u001b[1;33m\u001b[0m\u001b[0m\n\u001b[1;32m--> 176\u001b[1;33m     \u001b[0my_type\u001b[0m\u001b[1;33m,\u001b[0m \u001b[0my_true\u001b[0m\u001b[1;33m,\u001b[0m \u001b[0my_pred\u001b[0m \u001b[1;33m=\u001b[0m \u001b[0m_check_targets\u001b[0m\u001b[1;33m(\u001b[0m\u001b[0my_true\u001b[0m\u001b[1;33m,\u001b[0m \u001b[0my_pred\u001b[0m\u001b[1;33m)\u001b[0m\u001b[1;33m\u001b[0m\u001b[1;33m\u001b[0m\u001b[0m\n\u001b[0m\u001b[0;32m    177\u001b[0m     \u001b[0mcheck_consistent_length\u001b[0m\u001b[1;33m(\u001b[0m\u001b[0my_true\u001b[0m\u001b[1;33m,\u001b[0m \u001b[0my_pred\u001b[0m\u001b[1;33m,\u001b[0m \u001b[0msample_weight\u001b[0m\u001b[1;33m)\u001b[0m\u001b[1;33m\u001b[0m\u001b[1;33m\u001b[0m\u001b[0m\n\u001b[0;32m    178\u001b[0m     \u001b[1;32mif\u001b[0m \u001b[0my_type\u001b[0m\u001b[1;33m.\u001b[0m\u001b[0mstartswith\u001b[0m\u001b[1;33m(\u001b[0m\u001b[1;34m'multilabel'\u001b[0m\u001b[1;33m)\u001b[0m\u001b[1;33m:\u001b[0m\u001b[1;33m\u001b[0m\u001b[1;33m\u001b[0m\u001b[0m\n",
      "\u001b[1;32m~\\Anaconda3\\lib\\site-packages\\sklearn\\metrics\\classification.py\u001b[0m in \u001b[0;36m_check_targets\u001b[1;34m(y_true, y_pred)\u001b[0m\n\u001b[0;32m     79\u001b[0m     \u001b[1;32mif\u001b[0m \u001b[0mlen\u001b[0m\u001b[1;33m(\u001b[0m\u001b[0my_type\u001b[0m\u001b[1;33m)\u001b[0m \u001b[1;33m>\u001b[0m \u001b[1;36m1\u001b[0m\u001b[1;33m:\u001b[0m\u001b[1;33m\u001b[0m\u001b[1;33m\u001b[0m\u001b[0m\n\u001b[0;32m     80\u001b[0m         raise ValueError(\"Classification metrics can't handle a mix of {0} \"\n\u001b[1;32m---> 81\u001b[1;33m                          \"and {1} targets\".format(type_true, type_pred))\n\u001b[0m\u001b[0;32m     82\u001b[0m \u001b[1;33m\u001b[0m\u001b[0m\n\u001b[0;32m     83\u001b[0m     \u001b[1;31m# We can't have more than one value on y_type => The set is no more needed\u001b[0m\u001b[1;33m\u001b[0m\u001b[1;33m\u001b[0m\u001b[1;33m\u001b[0m\u001b[0m\n",
      "\u001b[1;31mValueError\u001b[0m: Classification metrics can't handle a mix of continuous and binary targets"
     ]
    }
   ],
   "source": [
    "print(' Acuracy Score:')\n",
    "print(accuracy_score(y_train_scaled,y_pred))"
   ]
  },
  {
   "cell_type": "code",
   "execution_count": 118,
   "metadata": {},
   "outputs": [],
   "source": [
    "X_test[['mpg','disp','hp','drat','wt','qsec','carb']]= scaler.fit_transform(X_test[['mpg','disp','hp','drat','wt','qsec','carb']])"
   ]
  },
  {
   "cell_type": "code",
   "execution_count": 119,
   "metadata": {},
   "outputs": [],
   "source": [
    "X_test_rfe=X_test[X_train_scaled_rfe.columns]"
   ]
  },
  {
   "cell_type": "code",
   "execution_count": 121,
   "metadata": {},
   "outputs": [],
   "source": [
    "y_pred_lr_test=lr.predict(X_test_rfe)"
   ]
  },
  {
   "cell_type": "code",
   "execution_count": 122,
   "metadata": {},
   "outputs": [
    {
     "name": "stdout",
     "output_type": "stream",
     "text": [
      "Accuracy Score: 1.0\n"
     ]
    }
   ],
   "source": [
    "print('Accuracy Score:',accuracy_score(y_test,y_pred_lr_test))"
   ]
  },
  {
   "cell_type": "code",
   "execution_count": 124,
   "metadata": {},
   "outputs": [
    {
     "name": "stdout",
     "output_type": "stream",
     "text": [
      "confusion_matrix:\n",
      " [[4 0]\n",
      " [0 6]]\n"
     ]
    }
   ],
   "source": [
    "print('confusion_matrix:\\n',confusion_matrix(y_test,y_pred_lr_test))"
   ]
  },
  {
   "cell_type": "code",
   "execution_count": 125,
   "metadata": {},
   "outputs": [
    {
     "name": "stdout",
     "output_type": "stream",
     "text": [
      "Classification report:\n",
      "               precision    recall  f1-score   support\n",
      "\n",
      "           0       1.00      1.00      1.00         4\n",
      "           1       1.00      1.00      1.00         6\n",
      "\n",
      "    accuracy                           1.00        10\n",
      "   macro avg       1.00      1.00      1.00        10\n",
      "weighted avg       1.00      1.00      1.00        10\n",
      "\n"
     ]
    }
   ],
   "source": [
    "print('Classification report:\\n',classification_report(y_test,y_pred_lr_test))"
   ]
  },
  {
   "cell_type": "code",
   "execution_count": null,
   "metadata": {},
   "outputs": [],
   "source": []
  }
 ],
 "metadata": {
  "kernelspec": {
   "display_name": "Python 3",
   "language": "python",
   "name": "python3"
  },
  "language_info": {
   "codemirror_mode": {
    "name": "ipython",
    "version": 3
   },
   "file_extension": ".py",
   "mimetype": "text/x-python",
   "name": "python",
   "nbconvert_exporter": "python",
   "pygments_lexer": "ipython3",
   "version": "3.7.3"
  }
 },
 "nbformat": 4,
 "nbformat_minor": 2
}
