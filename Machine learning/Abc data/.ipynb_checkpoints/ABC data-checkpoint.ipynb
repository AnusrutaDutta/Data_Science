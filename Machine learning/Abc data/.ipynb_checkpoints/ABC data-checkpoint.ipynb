{
 "cells": [
  {
   "cell_type": "markdown",
   "metadata": {},
   "source": [
    "# Ignore Warnings"
   ]
  },
  {
   "cell_type": "code",
   "execution_count": 1,
   "metadata": {},
   "outputs": [],
   "source": [
    "import warnings\n",
    "warnings.filterwarnings('ignore')"
   ]
  },
  {
   "cell_type": "markdown",
   "metadata": {},
   "source": [
    "# import basic libraries"
   ]
  },
  {
   "cell_type": "code",
   "execution_count": 2,
   "metadata": {},
   "outputs": [],
   "source": [
    "import numpy as np\n",
    "import pandas as pd\n",
    "import matplotlib.pyplot as plt\n",
    "import seaborn as sns\n",
    "%matplotlib inline"
   ]
  },
  {
   "cell_type": "markdown",
   "metadata": {},
   "source": [
    "# Read the excel file"
   ]
  },
  {
   "cell_type": "code",
   "execution_count": 3,
   "metadata": {},
   "outputs": [
    {
     "data": {
      "text/html": [
       "<div>\n",
       "<style scoped>\n",
       "    .dataframe tbody tr th:only-of-type {\n",
       "        vertical-align: middle;\n",
       "    }\n",
       "\n",
       "    .dataframe tbody tr th {\n",
       "        vertical-align: top;\n",
       "    }\n",
       "\n",
       "    .dataframe thead th {\n",
       "        text-align: right;\n",
       "    }\n",
       "</style>\n",
       "<table border=\"1\" class=\"dataframe\">\n",
       "  <thead>\n",
       "    <tr style=\"text-align: right;\">\n",
       "      <th></th>\n",
       "      <th>EmpNumber</th>\n",
       "      <th>Age</th>\n",
       "      <th>Gender</th>\n",
       "      <th>EducationBackground</th>\n",
       "      <th>MaritalStatus</th>\n",
       "      <th>EmpDepartment</th>\n",
       "      <th>EmpJobRole</th>\n",
       "      <th>BusinessTravelFrequency</th>\n",
       "      <th>DistanceFromHome</th>\n",
       "      <th>EmpEducationLevel</th>\n",
       "      <th>...</th>\n",
       "      <th>EmpRelationshipSatisfaction</th>\n",
       "      <th>TotalWorkExperienceInYears</th>\n",
       "      <th>TrainingTimesLastYear</th>\n",
       "      <th>EmpWorkLifeBalance</th>\n",
       "      <th>ExperienceYearsAtThisCompany</th>\n",
       "      <th>ExperienceYearsInCurrentRole</th>\n",
       "      <th>YearsSinceLastPromotion</th>\n",
       "      <th>YearsWithCurrManager</th>\n",
       "      <th>Attrition</th>\n",
       "      <th>PerformanceRating</th>\n",
       "    </tr>\n",
       "  </thead>\n",
       "  <tbody>\n",
       "    <tr>\n",
       "      <th>0</th>\n",
       "      <td>E1001000</td>\n",
       "      <td>32</td>\n",
       "      <td>Male</td>\n",
       "      <td>Marketing</td>\n",
       "      <td>Single</td>\n",
       "      <td>Sales</td>\n",
       "      <td>Sales Executive</td>\n",
       "      <td>Travel_Rarely</td>\n",
       "      <td>10</td>\n",
       "      <td>3</td>\n",
       "      <td>...</td>\n",
       "      <td>4</td>\n",
       "      <td>10</td>\n",
       "      <td>2</td>\n",
       "      <td>2</td>\n",
       "      <td>10</td>\n",
       "      <td>7</td>\n",
       "      <td>0</td>\n",
       "      <td>8</td>\n",
       "      <td>No</td>\n",
       "      <td>3</td>\n",
       "    </tr>\n",
       "    <tr>\n",
       "      <th>1</th>\n",
       "      <td>E1001006</td>\n",
       "      <td>47</td>\n",
       "      <td>Male</td>\n",
       "      <td>Marketing</td>\n",
       "      <td>Single</td>\n",
       "      <td>Sales</td>\n",
       "      <td>Sales Executive</td>\n",
       "      <td>Travel_Rarely</td>\n",
       "      <td>14</td>\n",
       "      <td>4</td>\n",
       "      <td>...</td>\n",
       "      <td>4</td>\n",
       "      <td>20</td>\n",
       "      <td>2</td>\n",
       "      <td>3</td>\n",
       "      <td>7</td>\n",
       "      <td>7</td>\n",
       "      <td>1</td>\n",
       "      <td>7</td>\n",
       "      <td>No</td>\n",
       "      <td>3</td>\n",
       "    </tr>\n",
       "    <tr>\n",
       "      <th>2</th>\n",
       "      <td>E1001007</td>\n",
       "      <td>40</td>\n",
       "      <td>Male</td>\n",
       "      <td>Life Sciences</td>\n",
       "      <td>Married</td>\n",
       "      <td>Sales</td>\n",
       "      <td>Sales Executive</td>\n",
       "      <td>Travel_Frequently</td>\n",
       "      <td>5</td>\n",
       "      <td>4</td>\n",
       "      <td>...</td>\n",
       "      <td>3</td>\n",
       "      <td>20</td>\n",
       "      <td>2</td>\n",
       "      <td>3</td>\n",
       "      <td>18</td>\n",
       "      <td>13</td>\n",
       "      <td>1</td>\n",
       "      <td>12</td>\n",
       "      <td>No</td>\n",
       "      <td>4</td>\n",
       "    </tr>\n",
       "    <tr>\n",
       "      <th>3</th>\n",
       "      <td>E1001009</td>\n",
       "      <td>41</td>\n",
       "      <td>Male</td>\n",
       "      <td>Human Resources</td>\n",
       "      <td>Divorced</td>\n",
       "      <td>Human Resources</td>\n",
       "      <td>Manager</td>\n",
       "      <td>Travel_Rarely</td>\n",
       "      <td>10</td>\n",
       "      <td>4</td>\n",
       "      <td>...</td>\n",
       "      <td>2</td>\n",
       "      <td>23</td>\n",
       "      <td>2</td>\n",
       "      <td>2</td>\n",
       "      <td>21</td>\n",
       "      <td>6</td>\n",
       "      <td>12</td>\n",
       "      <td>6</td>\n",
       "      <td>No</td>\n",
       "      <td>3</td>\n",
       "    </tr>\n",
       "    <tr>\n",
       "      <th>4</th>\n",
       "      <td>E1001010</td>\n",
       "      <td>60</td>\n",
       "      <td>Male</td>\n",
       "      <td>Marketing</td>\n",
       "      <td>Single</td>\n",
       "      <td>Sales</td>\n",
       "      <td>Sales Executive</td>\n",
       "      <td>Travel_Rarely</td>\n",
       "      <td>16</td>\n",
       "      <td>4</td>\n",
       "      <td>...</td>\n",
       "      <td>4</td>\n",
       "      <td>10</td>\n",
       "      <td>1</td>\n",
       "      <td>3</td>\n",
       "      <td>2</td>\n",
       "      <td>2</td>\n",
       "      <td>2</td>\n",
       "      <td>2</td>\n",
       "      <td>No</td>\n",
       "      <td>3</td>\n",
       "    </tr>\n",
       "  </tbody>\n",
       "</table>\n",
       "<p>5 rows × 28 columns</p>\n",
       "</div>"
      ],
      "text/plain": [
       "  EmpNumber  Age Gender EducationBackground MaritalStatus    EmpDepartment  \\\n",
       "0  E1001000   32   Male           Marketing        Single            Sales   \n",
       "1  E1001006   47   Male           Marketing        Single            Sales   \n",
       "2  E1001007   40   Male       Life Sciences       Married            Sales   \n",
       "3  E1001009   41   Male     Human Resources      Divorced  Human Resources   \n",
       "4  E1001010   60   Male           Marketing        Single            Sales   \n",
       "\n",
       "        EmpJobRole BusinessTravelFrequency  DistanceFromHome  \\\n",
       "0  Sales Executive           Travel_Rarely                10   \n",
       "1  Sales Executive           Travel_Rarely                14   \n",
       "2  Sales Executive       Travel_Frequently                 5   \n",
       "3          Manager           Travel_Rarely                10   \n",
       "4  Sales Executive           Travel_Rarely                16   \n",
       "\n",
       "   EmpEducationLevel  ...  EmpRelationshipSatisfaction  \\\n",
       "0                  3  ...                            4   \n",
       "1                  4  ...                            4   \n",
       "2                  4  ...                            3   \n",
       "3                  4  ...                            2   \n",
       "4                  4  ...                            4   \n",
       "\n",
       "   TotalWorkExperienceInYears  TrainingTimesLastYear  EmpWorkLifeBalance  \\\n",
       "0                          10                      2                   2   \n",
       "1                          20                      2                   3   \n",
       "2                          20                      2                   3   \n",
       "3                          23                      2                   2   \n",
       "4                          10                      1                   3   \n",
       "\n",
       "   ExperienceYearsAtThisCompany  ExperienceYearsInCurrentRole  \\\n",
       "0                            10                             7   \n",
       "1                             7                             7   \n",
       "2                            18                            13   \n",
       "3                            21                             6   \n",
       "4                             2                             2   \n",
       "\n",
       "  YearsSinceLastPromotion  YearsWithCurrManager  Attrition  PerformanceRating  \n",
       "0                       0                     8         No                  3  \n",
       "1                       1                     7         No                  3  \n",
       "2                       1                    12         No                  4  \n",
       "3                      12                     6         No                  3  \n",
       "4                       2                     2         No                  3  \n",
       "\n",
       "[5 rows x 28 columns]"
      ]
     },
     "execution_count": 3,
     "metadata": {},
     "output_type": "execute_result"
    }
   ],
   "source": [
    "df=pd.read_excel('data_ABC.xls')\n",
    "df.head()"
   ]
  },
  {
   "cell_type": "code",
   "execution_count": 4,
   "metadata": {},
   "outputs": [
    {
     "data": {
      "text/plain": [
       "(1200, 28)"
      ]
     },
     "execution_count": 4,
     "metadata": {},
     "output_type": "execute_result"
    }
   ],
   "source": [
    "df.shape"
   ]
  },
  {
   "cell_type": "markdown",
   "metadata": {},
   "source": [
    "# Info of all columns"
   ]
  },
  {
   "cell_type": "code",
   "execution_count": 5,
   "metadata": {},
   "outputs": [
    {
     "name": "stdout",
     "output_type": "stream",
     "text": [
      "<class 'pandas.core.frame.DataFrame'>\n",
      "RangeIndex: 1200 entries, 0 to 1199\n",
      "Data columns (total 28 columns):\n",
      "EmpNumber                       1200 non-null object\n",
      "Age                             1200 non-null int64\n",
      "Gender                          1200 non-null object\n",
      "EducationBackground             1200 non-null object\n",
      "MaritalStatus                   1200 non-null object\n",
      "EmpDepartment                   1200 non-null object\n",
      "EmpJobRole                      1200 non-null object\n",
      "BusinessTravelFrequency         1200 non-null object\n",
      "DistanceFromHome                1200 non-null int64\n",
      "EmpEducationLevel               1200 non-null int64\n",
      "EmpEnvironmentSatisfaction      1200 non-null int64\n",
      "EmpHourlyRate                   1200 non-null int64\n",
      "EmpJobInvolvement               1200 non-null int64\n",
      "EmpJobLevel                     1200 non-null int64\n",
      "EmpJobSatisfaction              1200 non-null int64\n",
      "NumCompaniesWorked              1200 non-null int64\n",
      "OverTime                        1200 non-null object\n",
      "EmpLastSalaryHikePercent        1200 non-null int64\n",
      "EmpRelationshipSatisfaction     1200 non-null int64\n",
      "TotalWorkExperienceInYears      1200 non-null int64\n",
      "TrainingTimesLastYear           1200 non-null int64\n",
      "EmpWorkLifeBalance              1200 non-null int64\n",
      "ExperienceYearsAtThisCompany    1200 non-null int64\n",
      "ExperienceYearsInCurrentRole    1200 non-null int64\n",
      "YearsSinceLastPromotion         1200 non-null int64\n",
      "YearsWithCurrManager            1200 non-null int64\n",
      "Attrition                       1200 non-null object\n",
      "PerformanceRating               1200 non-null int64\n",
      "dtypes: int64(19), object(9)\n",
      "memory usage: 262.6+ KB\n"
     ]
    }
   ],
   "source": [
    "df.info()"
   ]
  },
  {
   "cell_type": "markdown",
   "metadata": {},
   "source": [
    "# Check Skiwness"
   ]
  },
  {
   "cell_type": "code",
   "execution_count": 6,
   "metadata": {},
   "outputs": [
    {
     "data": {
      "text/plain": [
       "Age                             0.384145\n",
       "DistanceFromHome                0.962956\n",
       "EmpEducationLevel              -0.250974\n",
       "EmpEnvironmentSatisfaction     -0.307665\n",
       "EmpHourlyRate                  -0.035165\n",
       "EmpJobInvolvement              -0.557846\n",
       "EmpJobLevel                     1.024053\n",
       "EmpJobSatisfaction             -0.324276\n",
       "NumCompaniesWorked              1.048635\n",
       "EmpLastSalaryHikePercent        0.808654\n",
       "EmpRelationshipSatisfaction    -0.318563\n",
       "TotalWorkExperienceInYears      1.086862\n",
       "TrainingTimesLastYear           0.532073\n",
       "EmpWorkLifeBalance             -0.539231\n",
       "ExperienceYearsAtThisCompany    1.789055\n",
       "ExperienceYearsInCurrentRole    0.888159\n",
       "YearsSinceLastPromotion         1.974932\n",
       "YearsWithCurrManager            0.813158\n",
       "PerformanceRating              -0.070576\n",
       "dtype: float64"
      ]
     },
     "execution_count": 6,
     "metadata": {},
     "output_type": "execute_result"
    }
   ],
   "source": [
    "df.skew()"
   ]
  },
  {
   "cell_type": "code",
   "execution_count": 7,
   "metadata": {},
   "outputs": [
    {
     "data": {
      "text/plain": [
       "<matplotlib.axes._subplots.AxesSubplot at 0x1ae98029e10>"
      ]
     },
     "execution_count": 7,
     "metadata": {},
     "output_type": "execute_result"
    },
    {
     "data": {
      "image/png": "[encoded data removed]",
      "text/plain": [
       "<Figure size 432x288 with 1 Axes>"
      ]
     },
     "metadata": {
      "needs_background": "light"
     },
     "output_type": "display_data"
    }
   ],
   "source": [
    "sns.distplot(df.NumCompaniesWorked)"
   ]
  },
  {
   "cell_type": "markdown",
   "metadata": {},
   "source": [
    "* Discrit data"
   ]
  },
  {
   "cell_type": "code",
   "execution_count": 8,
   "metadata": {},
   "outputs": [
    {
     "data": {
      "text/plain": [
       "<matplotlib.axes._subplots.AxesSubplot at 0x1ae9814b208>"
      ]
     },
     "execution_count": 8,
     "metadata": {},
     "output_type": "execute_result"
    },
    {
     "data": {
      "image/png": "[encoded data removed]",
      "text/plain": [
       "<Figure size 432x288 with 1 Axes>"
      ]
     },
     "metadata": {
      "needs_background": "light"
     },
     "output_type": "display_data"
    }
   ],
   "source": [
    "sns.distplot(df.TotalWorkExperienceInYears)"
   ]
  },
  {
   "cell_type": "code",
   "execution_count": 9,
   "metadata": {},
   "outputs": [
    {
     "data": {
      "text/plain": [
       "<matplotlib.axes._subplots.AxesSubplot at 0x1ae984baba8>"
      ]
     },
     "execution_count": 9,
     "metadata": {},
     "output_type": "execute_result"
    },
    {
     "data": {
      "image/png": "[encoded data removed]",
      "text/plain": [
       "<Figure size 432x288 with 1 Axes>"
      ]
     },
     "metadata": {
      "needs_background": "light"
     },
     "output_type": "display_data"
    }
   ],
   "source": [
    "sns.distplot(df.ExperienceYearsAtThisCompany)"
   ]
  },
  {
   "cell_type": "code",
   "execution_count": 10,
   "metadata": {},
   "outputs": [
    {
     "data": {
      "text/plain": [
       "<matplotlib.axes._subplots.AxesSubplot at 0x1ae9849dfd0>"
      ]
     },
     "execution_count": 10,
     "metadata": {},
     "output_type": "execute_result"
    },
    {
     "data": {
      "image/png": "[encoded data removed]",
      "text/plain": [
       "<Figure size 432x288 with 1 Axes>"
      ]
     },
     "metadata": {
      "needs_background": "light"
     },
     "output_type": "display_data"
    }
   ],
   "source": [
    "sns.distplot(df.YearsSinceLastPromotion)"
   ]
  },
  {
   "cell_type": "markdown",
   "metadata": {},
   "source": [
    "# Check null values"
   ]
  },
  {
   "cell_type": "code",
   "execution_count": 11,
   "metadata": {},
   "outputs": [
    {
     "data": {
      "text/plain": [
       "EmpNumber                       0\n",
       "Age                             0\n",
       "Gender                          0\n",
       "EducationBackground             0\n",
       "MaritalStatus                   0\n",
       "EmpDepartment                   0\n",
       "EmpJobRole                      0\n",
       "BusinessTravelFrequency         0\n",
       "DistanceFromHome                0\n",
       "EmpEducationLevel               0\n",
       "EmpEnvironmentSatisfaction      0\n",
       "EmpHourlyRate                   0\n",
       "EmpJobInvolvement               0\n",
       "EmpJobLevel                     0\n",
       "EmpJobSatisfaction              0\n",
       "NumCompaniesWorked              0\n",
       "OverTime                        0\n",
       "EmpLastSalaryHikePercent        0\n",
       "EmpRelationshipSatisfaction     0\n",
       "TotalWorkExperienceInYears      0\n",
       "TrainingTimesLastYear           0\n",
       "EmpWorkLifeBalance              0\n",
       "ExperienceYearsAtThisCompany    0\n",
       "ExperienceYearsInCurrentRole    0\n",
       "YearsSinceLastPromotion         0\n",
       "YearsWithCurrManager            0\n",
       "Attrition                       0\n",
       "PerformanceRating               0\n",
       "dtype: int64"
      ]
     },
     "execution_count": 11,
     "metadata": {},
     "output_type": "execute_result"
    }
   ],
   "source": [
    "df.isnull().sum()"
   ]
  },
  {
   "cell_type": "markdown",
   "metadata": {},
   "source": [
    "* No null values are there"
   ]
  },
  {
   "cell_type": "markdown",
   "metadata": {},
   "source": [
    "# Check description"
   ]
  },
  {
   "cell_type": "code",
   "execution_count": 12,
   "metadata": {},
   "outputs": [
    {
     "data": {
      "text/html": [
       "<div>\n",
       "<style scoped>\n",
       "    .dataframe tbody tr th:only-of-type {\n",
       "        vertical-align: middle;\n",
       "    }\n",
       "\n",
       "    .dataframe tbody tr th {\n",
       "        vertical-align: top;\n",
       "    }\n",
       "\n",
       "    .dataframe thead th {\n",
       "        text-align: right;\n",
       "    }\n",
       "</style>\n",
       "<table border=\"1\" class=\"dataframe\">\n",
       "  <thead>\n",
       "    <tr style=\"text-align: right;\">\n",
       "      <th></th>\n",
       "      <th>Age</th>\n",
       "      <th>DistanceFromHome</th>\n",
       "      <th>EmpEducationLevel</th>\n",
       "      <th>EmpEnvironmentSatisfaction</th>\n",
       "      <th>EmpHourlyRate</th>\n",
       "      <th>EmpJobInvolvement</th>\n",
       "      <th>EmpJobLevel</th>\n",
       "      <th>EmpJobSatisfaction</th>\n",
       "      <th>NumCompaniesWorked</th>\n",
       "      <th>EmpLastSalaryHikePercent</th>\n",
       "      <th>EmpRelationshipSatisfaction</th>\n",
       "      <th>TotalWorkExperienceInYears</th>\n",
       "      <th>TrainingTimesLastYear</th>\n",
       "      <th>EmpWorkLifeBalance</th>\n",
       "      <th>ExperienceYearsAtThisCompany</th>\n",
       "      <th>ExperienceYearsInCurrentRole</th>\n",
       "      <th>YearsSinceLastPromotion</th>\n",
       "      <th>YearsWithCurrManager</th>\n",
       "      <th>PerformanceRating</th>\n",
       "    </tr>\n",
       "  </thead>\n",
       "  <tbody>\n",
       "    <tr>\n",
       "      <th>count</th>\n",
       "      <td>1200.000000</td>\n",
       "      <td>1200.000000</td>\n",
       "      <td>1200.00000</td>\n",
       "      <td>1200.000000</td>\n",
       "      <td>1200.000000</td>\n",
       "      <td>1200.000000</td>\n",
       "      <td>1200.000000</td>\n",
       "      <td>1200.000000</td>\n",
       "      <td>1200.000000</td>\n",
       "      <td>1200.000000</td>\n",
       "      <td>1200.000000</td>\n",
       "      <td>1200.000000</td>\n",
       "      <td>1200.000000</td>\n",
       "      <td>1200.000000</td>\n",
       "      <td>1200.000000</td>\n",
       "      <td>1200.000000</td>\n",
       "      <td>1200.000000</td>\n",
       "      <td>1200.000000</td>\n",
       "      <td>1200.000000</td>\n",
       "    </tr>\n",
       "    <tr>\n",
       "      <th>mean</th>\n",
       "      <td>36.918333</td>\n",
       "      <td>9.165833</td>\n",
       "      <td>2.89250</td>\n",
       "      <td>2.715833</td>\n",
       "      <td>65.981667</td>\n",
       "      <td>2.731667</td>\n",
       "      <td>2.067500</td>\n",
       "      <td>2.732500</td>\n",
       "      <td>2.665000</td>\n",
       "      <td>15.222500</td>\n",
       "      <td>2.725000</td>\n",
       "      <td>11.330000</td>\n",
       "      <td>2.785833</td>\n",
       "      <td>2.744167</td>\n",
       "      <td>7.077500</td>\n",
       "      <td>4.291667</td>\n",
       "      <td>2.194167</td>\n",
       "      <td>4.105000</td>\n",
       "      <td>2.948333</td>\n",
       "    </tr>\n",
       "    <tr>\n",
       "      <th>std</th>\n",
       "      <td>9.087289</td>\n",
       "      <td>8.176636</td>\n",
       "      <td>1.04412</td>\n",
       "      <td>1.090599</td>\n",
       "      <td>20.211302</td>\n",
       "      <td>0.707164</td>\n",
       "      <td>1.107836</td>\n",
       "      <td>1.100888</td>\n",
       "      <td>2.469384</td>\n",
       "      <td>3.625918</td>\n",
       "      <td>1.075642</td>\n",
       "      <td>7.797228</td>\n",
       "      <td>1.263446</td>\n",
       "      <td>0.699374</td>\n",
       "      <td>6.236899</td>\n",
       "      <td>3.613744</td>\n",
       "      <td>3.221560</td>\n",
       "      <td>3.541576</td>\n",
       "      <td>0.518866</td>\n",
       "    </tr>\n",
       "    <tr>\n",
       "      <th>min</th>\n",
       "      <td>18.000000</td>\n",
       "      <td>1.000000</td>\n",
       "      <td>1.00000</td>\n",
       "      <td>1.000000</td>\n",
       "      <td>30.000000</td>\n",
       "      <td>1.000000</td>\n",
       "      <td>1.000000</td>\n",
       "      <td>1.000000</td>\n",
       "      <td>0.000000</td>\n",
       "      <td>11.000000</td>\n",
       "      <td>1.000000</td>\n",
       "      <td>0.000000</td>\n",
       "      <td>0.000000</td>\n",
       "      <td>1.000000</td>\n",
       "      <td>0.000000</td>\n",
       "      <td>0.000000</td>\n",
       "      <td>0.000000</td>\n",
       "      <td>0.000000</td>\n",
       "      <td>2.000000</td>\n",
       "    </tr>\n",
       "    <tr>\n",
       "      <th>1.5%</th>\n",
       "      <td>20.000000</td>\n",
       "      <td>1.000000</td>\n",
       "      <td>1.00000</td>\n",
       "      <td>1.000000</td>\n",
       "      <td>31.000000</td>\n",
       "      <td>1.000000</td>\n",
       "      <td>1.000000</td>\n",
       "      <td>1.000000</td>\n",
       "      <td>0.000000</td>\n",
       "      <td>11.000000</td>\n",
       "      <td>1.000000</td>\n",
       "      <td>1.000000</td>\n",
       "      <td>0.000000</td>\n",
       "      <td>1.000000</td>\n",
       "      <td>0.000000</td>\n",
       "      <td>0.000000</td>\n",
       "      <td>0.000000</td>\n",
       "      <td>0.000000</td>\n",
       "      <td>2.000000</td>\n",
       "    </tr>\n",
       "    <tr>\n",
       "      <th>25%</th>\n",
       "      <td>30.000000</td>\n",
       "      <td>2.000000</td>\n",
       "      <td>2.00000</td>\n",
       "      <td>2.000000</td>\n",
       "      <td>48.000000</td>\n",
       "      <td>2.000000</td>\n",
       "      <td>1.000000</td>\n",
       "      <td>2.000000</td>\n",
       "      <td>1.000000</td>\n",
       "      <td>12.000000</td>\n",
       "      <td>2.000000</td>\n",
       "      <td>6.000000</td>\n",
       "      <td>2.000000</td>\n",
       "      <td>2.000000</td>\n",
       "      <td>3.000000</td>\n",
       "      <td>2.000000</td>\n",
       "      <td>0.000000</td>\n",
       "      <td>2.000000</td>\n",
       "      <td>3.000000</td>\n",
       "    </tr>\n",
       "    <tr>\n",
       "      <th>50%</th>\n",
       "      <td>36.000000</td>\n",
       "      <td>7.000000</td>\n",
       "      <td>3.00000</td>\n",
       "      <td>3.000000</td>\n",
       "      <td>66.000000</td>\n",
       "      <td>3.000000</td>\n",
       "      <td>2.000000</td>\n",
       "      <td>3.000000</td>\n",
       "      <td>2.000000</td>\n",
       "      <td>14.000000</td>\n",
       "      <td>3.000000</td>\n",
       "      <td>10.000000</td>\n",
       "      <td>3.000000</td>\n",
       "      <td>3.000000</td>\n",
       "      <td>5.000000</td>\n",
       "      <td>3.000000</td>\n",
       "      <td>1.000000</td>\n",
       "      <td>3.000000</td>\n",
       "      <td>3.000000</td>\n",
       "    </tr>\n",
       "    <tr>\n",
       "      <th>75%</th>\n",
       "      <td>43.000000</td>\n",
       "      <td>14.000000</td>\n",
       "      <td>4.00000</td>\n",
       "      <td>4.000000</td>\n",
       "      <td>83.000000</td>\n",
       "      <td>3.000000</td>\n",
       "      <td>3.000000</td>\n",
       "      <td>4.000000</td>\n",
       "      <td>4.000000</td>\n",
       "      <td>18.000000</td>\n",
       "      <td>4.000000</td>\n",
       "      <td>15.000000</td>\n",
       "      <td>3.000000</td>\n",
       "      <td>3.000000</td>\n",
       "      <td>10.000000</td>\n",
       "      <td>7.000000</td>\n",
       "      <td>3.000000</td>\n",
       "      <td>7.000000</td>\n",
       "      <td>3.000000</td>\n",
       "    </tr>\n",
       "    <tr>\n",
       "      <th>99.7%</th>\n",
       "      <td>59.000000</td>\n",
       "      <td>29.000000</td>\n",
       "      <td>5.00000</td>\n",
       "      <td>4.000000</td>\n",
       "      <td>100.000000</td>\n",
       "      <td>4.000000</td>\n",
       "      <td>5.000000</td>\n",
       "      <td>4.000000</td>\n",
       "      <td>9.000000</td>\n",
       "      <td>25.000000</td>\n",
       "      <td>4.000000</td>\n",
       "      <td>37.000000</td>\n",
       "      <td>6.000000</td>\n",
       "      <td>4.000000</td>\n",
       "      <td>34.806000</td>\n",
       "      <td>17.000000</td>\n",
       "      <td>15.000000</td>\n",
       "      <td>17.000000</td>\n",
       "      <td>4.000000</td>\n",
       "    </tr>\n",
       "    <tr>\n",
       "      <th>max</th>\n",
       "      <td>60.000000</td>\n",
       "      <td>29.000000</td>\n",
       "      <td>5.00000</td>\n",
       "      <td>4.000000</td>\n",
       "      <td>100.000000</td>\n",
       "      <td>4.000000</td>\n",
       "      <td>5.000000</td>\n",
       "      <td>4.000000</td>\n",
       "      <td>9.000000</td>\n",
       "      <td>25.000000</td>\n",
       "      <td>4.000000</td>\n",
       "      <td>40.000000</td>\n",
       "      <td>6.000000</td>\n",
       "      <td>4.000000</td>\n",
       "      <td>40.000000</td>\n",
       "      <td>18.000000</td>\n",
       "      <td>15.000000</td>\n",
       "      <td>17.000000</td>\n",
       "      <td>4.000000</td>\n",
       "    </tr>\n",
       "  </tbody>\n",
       "</table>\n",
       "</div>"
      ],
      "text/plain": [
       "               Age  DistanceFromHome  EmpEducationLevel  \\\n",
       "count  1200.000000       1200.000000         1200.00000   \n",
       "mean     36.918333          9.165833            2.89250   \n",
       "std       9.087289          8.176636            1.04412   \n",
       "min      18.000000          1.000000            1.00000   \n",
       "1.5%     20.000000          1.000000            1.00000   \n",
       "25%      30.000000          2.000000            2.00000   \n",
       "50%      36.000000          7.000000            3.00000   \n",
       "75%      43.000000         14.000000            4.00000   \n",
       "99.7%    59.000000         29.000000            5.00000   \n",
       "max      60.000000         29.000000            5.00000   \n",
       "\n",
       "       EmpEnvironmentSatisfaction  EmpHourlyRate  EmpJobInvolvement  \\\n",
       "count                 1200.000000    1200.000000        1200.000000   \n",
       "mean                     2.715833      65.981667           2.731667   \n",
       "std                      1.090599      20.211302           0.707164   \n",
       "min                      1.000000      30.000000           1.000000   \n",
       "1.5%                     1.000000      31.000000           1.000000   \n",
       "25%                      2.000000      48.000000           2.000000   \n",
       "50%                      3.000000      66.000000           3.000000   \n",
       "75%                      4.000000      83.000000           3.000000   \n",
       "99.7%                    4.000000     100.000000           4.000000   \n",
       "max                      4.000000     100.000000           4.000000   \n",
       "\n",
       "       EmpJobLevel  EmpJobSatisfaction  NumCompaniesWorked  \\\n",
       "count  1200.000000         1200.000000         1200.000000   \n",
       "mean      2.067500            2.732500            2.665000   \n",
       "std       1.107836            1.100888            2.469384   \n",
       "min       1.000000            1.000000            0.000000   \n",
       "1.5%      1.000000            1.000000            0.000000   \n",
       "25%       1.000000            2.000000            1.000000   \n",
       "50%       2.000000            3.000000            2.000000   \n",
       "75%       3.000000            4.000000            4.000000   \n",
       "99.7%     5.000000            4.000000            9.000000   \n",
       "max       5.000000            4.000000            9.000000   \n",
       "\n",
       "       EmpLastSalaryHikePercent  EmpRelationshipSatisfaction  \\\n",
       "count               1200.000000                  1200.000000   \n",
       "mean                  15.222500                     2.725000   \n",
       "std                    3.625918                     1.075642   \n",
       "min                   11.000000                     1.000000   \n",
       "1.5%                  11.000000                     1.000000   \n",
       "25%                   12.000000                     2.000000   \n",
       "50%                   14.000000                     3.000000   \n",
       "75%                   18.000000                     4.000000   \n",
       "99.7%                 25.000000                     4.000000   \n",
       "max                   25.000000                     4.000000   \n",
       "\n",
       "       TotalWorkExperienceInYears  TrainingTimesLastYear  EmpWorkLifeBalance  \\\n",
       "count                 1200.000000            1200.000000         1200.000000   \n",
       "mean                    11.330000               2.785833            2.744167   \n",
       "std                      7.797228               1.263446            0.699374   \n",
       "min                      0.000000               0.000000            1.000000   \n",
       "1.5%                     1.000000               0.000000            1.000000   \n",
       "25%                      6.000000               2.000000            2.000000   \n",
       "50%                     10.000000               3.000000            3.000000   \n",
       "75%                     15.000000               3.000000            3.000000   \n",
       "99.7%                   37.000000               6.000000            4.000000   \n",
       "max                     40.000000               6.000000            4.000000   \n",
       "\n",
       "       ExperienceYearsAtThisCompany  ExperienceYearsInCurrentRole  \\\n",
       "count                   1200.000000                   1200.000000   \n",
       "mean                       7.077500                      4.291667   \n",
       "std                        6.236899                      3.613744   \n",
       "min                        0.000000                      0.000000   \n",
       "1.5%                       0.000000                      0.000000   \n",
       "25%                        3.000000                      2.000000   \n",
       "50%                        5.000000                      3.000000   \n",
       "75%                       10.000000                      7.000000   \n",
       "99.7%                     34.806000                     17.000000   \n",
       "max                       40.000000                     18.000000   \n",
       "\n",
       "       YearsSinceLastPromotion  YearsWithCurrManager  PerformanceRating  \n",
       "count              1200.000000           1200.000000        1200.000000  \n",
       "mean                  2.194167              4.105000           2.948333  \n",
       "std                   3.221560              3.541576           0.518866  \n",
       "min                   0.000000              0.000000           2.000000  \n",
       "1.5%                  0.000000              0.000000           2.000000  \n",
       "25%                   0.000000              2.000000           3.000000  \n",
       "50%                   1.000000              3.000000           3.000000  \n",
       "75%                   3.000000              7.000000           3.000000  \n",
       "99.7%                15.000000             17.000000           4.000000  \n",
       "max                  15.000000             17.000000           4.000000  "
      ]
     },
     "execution_count": 12,
     "metadata": {},
     "output_type": "execute_result"
    }
   ],
   "source": [
    "df.describe([0.015,0.25,0.5,0.75,0.997])"
   ]
  },
  {
   "cell_type": "markdown",
   "metadata": {},
   "source": [
    "* We cannot remove any row because there are very less number of rows are there and not so much outliers are there"
   ]
  },
  {
   "cell_type": "markdown",
   "metadata": {},
   "source": [
    "# Dummy columns"
   ]
  },
  {
   "cell_type": "code",
   "execution_count": 13,
   "metadata": {},
   "outputs": [
    {
     "data": {
      "text/plain": [
       "Life Sciences       492\n",
       "Medical             384\n",
       "Marketing           137\n",
       "Technical Degree    100\n",
       "Other                66\n",
       "Human Resources      21\n",
       "Name: EducationBackground, dtype: int64"
      ]
     },
     "execution_count": 13,
     "metadata": {},
     "output_type": "execute_result"
    }
   ],
   "source": [
    "df['EducationBackground'].value_counts()"
   ]
  },
  {
   "cell_type": "code",
   "execution_count": 14,
   "metadata": {},
   "outputs": [
    {
     "data": {
      "text/plain": [
       "Sales                     373\n",
       "Development               361\n",
       "Research & Development    343\n",
       "Human Resources            54\n",
       "Finance                    49\n",
       "Data Science               20\n",
       "Name: EmpDepartment, dtype: int64"
      ]
     },
     "execution_count": 14,
     "metadata": {},
     "output_type": "execute_result"
    }
   ],
   "source": [
    "df['EmpDepartment'].value_counts()"
   ]
  },
  {
   "cell_type": "code",
   "execution_count": 15,
   "metadata": {},
   "outputs": [
    {
     "data": {
      "text/plain": [
       "Travel_Rarely        846\n",
       "Travel_Frequently    222\n",
       "Non-Travel           132\n",
       "Name: BusinessTravelFrequency, dtype: int64"
      ]
     },
     "execution_count": 15,
     "metadata": {},
     "output_type": "execute_result"
    }
   ],
   "source": [
    "df.BusinessTravelFrequency.value_counts()"
   ]
  },
  {
   "cell_type": "code",
   "execution_count": 16,
   "metadata": {},
   "outputs": [],
   "source": [
    "df1=df.drop(['EmpNumber'],1)"
   ]
  },
  {
   "cell_type": "code",
   "execution_count": null,
   "metadata": {},
   "outputs": [],
   "source": []
  },
  {
   "cell_type": "code",
   "execution_count": 17,
   "metadata": {},
   "outputs": [],
   "source": [
    "df1=pd.get_dummies(df1,drop_first=True)"
   ]
  },
  {
   "cell_type": "code",
   "execution_count": 18,
   "metadata": {},
   "outputs": [
    {
     "data": {
      "text/plain": [
       "(1200, 54)"
      ]
     },
     "execution_count": 18,
     "metadata": {},
     "output_type": "execute_result"
    }
   ],
   "source": [
    "df1.shape"
   ]
  },
  {
   "cell_type": "code",
   "execution_count": 19,
   "metadata": {},
   "outputs": [
    {
     "data": {
      "text/plain": [
       "Index(['Age', 'DistanceFromHome', 'EmpEducationLevel',\n",
       "       'EmpEnvironmentSatisfaction', 'EmpHourlyRate', 'EmpJobInvolvement',\n",
       "       'EmpJobLevel', 'EmpJobSatisfaction', 'NumCompaniesWorked',\n",
       "       'EmpLastSalaryHikePercent', 'EmpRelationshipSatisfaction',\n",
       "       'TotalWorkExperienceInYears', 'TrainingTimesLastYear',\n",
       "       'EmpWorkLifeBalance', 'ExperienceYearsAtThisCompany',\n",
       "       'ExperienceYearsInCurrentRole', 'YearsSinceLastPromotion',\n",
       "       'YearsWithCurrManager', 'PerformanceRating', 'Gender_Male',\n",
       "       'EducationBackground_Life Sciences', 'EducationBackground_Marketing',\n",
       "       'EducationBackground_Medical', 'EducationBackground_Other',\n",
       "       'EducationBackground_Technical Degree', 'MaritalStatus_Married',\n",
       "       'MaritalStatus_Single', 'EmpDepartment_Development',\n",
       "       'EmpDepartment_Finance', 'EmpDepartment_Human Resources',\n",
       "       'EmpDepartment_Research & Development', 'EmpDepartment_Sales',\n",
       "       'EmpJobRole_Data Scientist', 'EmpJobRole_Delivery Manager',\n",
       "       'EmpJobRole_Developer', 'EmpJobRole_Finance Manager',\n",
       "       'EmpJobRole_Healthcare Representative', 'EmpJobRole_Human Resources',\n",
       "       'EmpJobRole_Laboratory Technician', 'EmpJobRole_Manager',\n",
       "       'EmpJobRole_Manager R&D', 'EmpJobRole_Manufacturing Director',\n",
       "       'EmpJobRole_Research Director', 'EmpJobRole_Research Scientist',\n",
       "       'EmpJobRole_Sales Executive', 'EmpJobRole_Sales Representative',\n",
       "       'EmpJobRole_Senior Developer', 'EmpJobRole_Senior Manager R&D',\n",
       "       'EmpJobRole_Technical Architect', 'EmpJobRole_Technical Lead',\n",
       "       'BusinessTravelFrequency_Travel_Frequently',\n",
       "       'BusinessTravelFrequency_Travel_Rarely', 'OverTime_Yes',\n",
       "       'Attrition_Yes'],\n",
       "      dtype='object')"
      ]
     },
     "execution_count": 19,
     "metadata": {},
     "output_type": "execute_result"
    }
   ],
   "source": [
    "df1.columns"
   ]
  },
  {
   "cell_type": "markdown",
   "metadata": {},
   "source": [
    "# Split into test and train"
   ]
  },
  {
   "cell_type": "code",
   "execution_count": 20,
   "metadata": {},
   "outputs": [],
   "source": [
    "from sklearn.model_selection import train_test_split"
   ]
  },
  {
   "cell_type": "code",
   "execution_count": 21,
   "metadata": {},
   "outputs": [],
   "source": [
    "X=df1.drop('PerformanceRating',axis=1)\n",
    "y=df1.PerformanceRating"
   ]
  },
  {
   "cell_type": "code",
   "execution_count": 22,
   "metadata": {},
   "outputs": [],
   "source": [
    "X_train,X_test,y_train,y_test=train_test_split(X,y,test_size=0.3,random_state=101)"
   ]
  },
  {
   "cell_type": "markdown",
   "metadata": {},
   "source": [
    "# Scalling"
   ]
  },
  {
   "cell_type": "code",
   "execution_count": 23,
   "metadata": {},
   "outputs": [],
   "source": [
    "from sklearn.preprocessing import StandardScaler\n",
    "sc=StandardScaler()"
   ]
  },
  {
   "cell_type": "code",
   "execution_count": 24,
   "metadata": {},
   "outputs": [],
   "source": [
    "X_train_scaled=sc.fit_transform(X_train)\n",
    "X_test_scaled=sc.transform(X_test)"
   ]
  },
  {
   "cell_type": "markdown",
   "metadata": {},
   "source": [
    "# Heatmap"
   ]
  },
  {
   "cell_type": "code",
   "execution_count": 25,
   "metadata": {},
   "outputs": [
    {
     "data": {
      "text/html": [
       "<div>\n",
       "<style scoped>\n",
       "    .dataframe tbody tr th:only-of-type {\n",
       "        vertical-align: middle;\n",
       "    }\n",
       "\n",
       "    .dataframe tbody tr th {\n",
       "        vertical-align: top;\n",
       "    }\n",
       "\n",
       "    .dataframe thead th {\n",
       "        text-align: right;\n",
       "    }\n",
       "</style>\n",
       "<table border=\"1\" class=\"dataframe\">\n",
       "  <thead>\n",
       "    <tr style=\"text-align: right;\">\n",
       "      <th></th>\n",
       "      <th>Age</th>\n",
       "      <th>DistanceFromHome</th>\n",
       "      <th>EmpEducationLevel</th>\n",
       "      <th>EmpEnvironmentSatisfaction</th>\n",
       "      <th>EmpHourlyRate</th>\n",
       "      <th>EmpJobInvolvement</th>\n",
       "      <th>EmpJobLevel</th>\n",
       "      <th>EmpJobSatisfaction</th>\n",
       "      <th>NumCompaniesWorked</th>\n",
       "      <th>EmpLastSalaryHikePercent</th>\n",
       "      <th>...</th>\n",
       "      <th>EmpJobRole_Sales Executive</th>\n",
       "      <th>EmpJobRole_Sales Representative</th>\n",
       "      <th>EmpJobRole_Senior Developer</th>\n",
       "      <th>EmpJobRole_Senior Manager R&amp;D</th>\n",
       "      <th>EmpJobRole_Technical Architect</th>\n",
       "      <th>EmpJobRole_Technical Lead</th>\n",
       "      <th>BusinessTravelFrequency_Travel_Frequently</th>\n",
       "      <th>BusinessTravelFrequency_Travel_Rarely</th>\n",
       "      <th>OverTime_Yes</th>\n",
       "      <th>Attrition_Yes</th>\n",
       "    </tr>\n",
       "  </thead>\n",
       "  <tbody>\n",
       "    <tr>\n",
       "      <th>Age</th>\n",
       "      <td>1.000000</td>\n",
       "      <td>0.020937</td>\n",
       "      <td>0.207313</td>\n",
       "      <td>0.013814</td>\n",
       "      <td>0.062867</td>\n",
       "      <td>0.027216</td>\n",
       "      <td>0.509139</td>\n",
       "      <td>-0.002436</td>\n",
       "      <td>0.284408</td>\n",
       "      <td>-0.006105</td>\n",
       "      <td>...</td>\n",
       "      <td>-0.018004</td>\n",
       "      <td>-0.175906</td>\n",
       "      <td>-0.002592</td>\n",
       "      <td>0.005966</td>\n",
       "      <td>-0.024610</td>\n",
       "      <td>0.033584</td>\n",
       "      <td>-0.033992</td>\n",
       "      <td>0.044678</td>\n",
       "      <td>0.051910</td>\n",
       "      <td>-0.189317</td>\n",
       "    </tr>\n",
       "    <tr>\n",
       "      <th>DistanceFromHome</th>\n",
       "      <td>0.020937</td>\n",
       "      <td>1.000000</td>\n",
       "      <td>0.045856</td>\n",
       "      <td>-0.017719</td>\n",
       "      <td>0.013730</td>\n",
       "      <td>0.003231</td>\n",
       "      <td>0.017270</td>\n",
       "      <td>-0.003036</td>\n",
       "      <td>-0.021411</td>\n",
       "      <td>0.044974</td>\n",
       "      <td>...</td>\n",
       "      <td>0.024471</td>\n",
       "      <td>-0.029538</td>\n",
       "      <td>0.030235</td>\n",
       "      <td>0.028001</td>\n",
       "      <td>-0.001554</td>\n",
       "      <td>-0.010074</td>\n",
       "      <td>-0.028573</td>\n",
       "      <td>-0.003420</td>\n",
       "      <td>0.024940</td>\n",
       "      <td>0.063248</td>\n",
       "    </tr>\n",
       "    <tr>\n",
       "      <th>EmpEducationLevel</th>\n",
       "      <td>0.207313</td>\n",
       "      <td>0.045856</td>\n",
       "      <td>1.000000</td>\n",
       "      <td>-0.037103</td>\n",
       "      <td>0.014095</td>\n",
       "      <td>0.027544</td>\n",
       "      <td>0.100734</td>\n",
       "      <td>0.000357</td>\n",
       "      <td>0.128674</td>\n",
       "      <td>0.002358</td>\n",
       "      <td>...</td>\n",
       "      <td>0.059322</td>\n",
       "      <td>-0.104893</td>\n",
       "      <td>-0.040823</td>\n",
       "      <td>0.047522</td>\n",
       "      <td>-0.002595</td>\n",
       "      <td>-0.017851</td>\n",
       "      <td>-0.016728</td>\n",
       "      <td>0.008658</td>\n",
       "      <td>-0.021119</td>\n",
       "      <td>-0.049118</td>\n",
       "    </tr>\n",
       "    <tr>\n",
       "      <th>EmpEnvironmentSatisfaction</th>\n",
       "      <td>0.013814</td>\n",
       "      <td>-0.017719</td>\n",
       "      <td>-0.037103</td>\n",
       "      <td>1.000000</td>\n",
       "      <td>-0.049501</td>\n",
       "      <td>0.004865</td>\n",
       "      <td>-0.008272</td>\n",
       "      <td>-0.004319</td>\n",
       "      <td>0.017270</td>\n",
       "      <td>-0.047271</td>\n",
       "      <td>...</td>\n",
       "      <td>-0.033454</td>\n",
       "      <td>-0.011140</td>\n",
       "      <td>0.055478</td>\n",
       "      <td>-0.018835</td>\n",
       "      <td>0.040043</td>\n",
       "      <td>0.047139</td>\n",
       "      <td>-0.019519</td>\n",
       "      <td>0.017441</td>\n",
       "      <td>0.064270</td>\n",
       "      <td>-0.123490</td>\n",
       "    </tr>\n",
       "    <tr>\n",
       "      <th>EmpHourlyRate</th>\n",
       "      <td>0.062867</td>\n",
       "      <td>0.013730</td>\n",
       "      <td>0.014095</td>\n",
       "      <td>-0.049501</td>\n",
       "      <td>1.000000</td>\n",
       "      <td>0.054741</td>\n",
       "      <td>-0.018606</td>\n",
       "      <td>-0.066417</td>\n",
       "      <td>0.040484</td>\n",
       "      <td>-0.015934</td>\n",
       "      <td>...</td>\n",
       "      <td>-0.029836</td>\n",
       "      <td>-0.010053</td>\n",
       "      <td>-0.012165</td>\n",
       "      <td>-0.021431</td>\n",
       "      <td>-0.055720</td>\n",
       "      <td>0.022542</td>\n",
       "      <td>-0.017095</td>\n",
       "      <td>0.026186</td>\n",
       "      <td>-0.032636</td>\n",
       "      <td>-0.026313</td>\n",
       "    </tr>\n",
       "    <tr>\n",
       "      <th>EmpJobInvolvement</th>\n",
       "      <td>0.027216</td>\n",
       "      <td>0.003231</td>\n",
       "      <td>0.027544</td>\n",
       "      <td>0.004865</td>\n",
       "      <td>0.054741</td>\n",
       "      <td>1.000000</td>\n",
       "      <td>-0.034349</td>\n",
       "      <td>-0.005501</td>\n",
       "      <td>0.018211</td>\n",
       "      <td>-0.001742</td>\n",
       "      <td>...</td>\n",
       "      <td>-0.018492</td>\n",
       "      <td>-0.037905</td>\n",
       "      <td>0.034471</td>\n",
       "      <td>-0.010346</td>\n",
       "      <td>0.013597</td>\n",
       "      <td>0.055183</td>\n",
       "      <td>0.047272</td>\n",
       "      <td>-0.007729</td>\n",
       "      <td>-0.011069</td>\n",
       "      <td>-0.153360</td>\n",
       "    </tr>\n",
       "    <tr>\n",
       "      <th>EmpJobLevel</th>\n",
       "      <td>0.509139</td>\n",
       "      <td>0.017270</td>\n",
       "      <td>0.100734</td>\n",
       "      <td>-0.008272</td>\n",
       "      <td>-0.018606</td>\n",
       "      <td>-0.034349</td>\n",
       "      <td>1.000000</td>\n",
       "      <td>-0.011853</td>\n",
       "      <td>0.127477</td>\n",
       "      <td>-0.020975</td>\n",
       "      <td>...</td>\n",
       "      <td>0.123940</td>\n",
       "      <td>-0.218709</td>\n",
       "      <td>-0.001885</td>\n",
       "      <td>-0.000085</td>\n",
       "      <td>-0.044196</td>\n",
       "      <td>-0.015320</td>\n",
       "      <td>-0.021289</td>\n",
       "      <td>0.036130</td>\n",
       "      <td>0.030012</td>\n",
       "      <td>-0.175763</td>\n",
       "    </tr>\n",
       "    <tr>\n",
       "      <th>EmpJobSatisfaction</th>\n",
       "      <td>-0.002436</td>\n",
       "      <td>-0.003036</td>\n",
       "      <td>0.000357</td>\n",
       "      <td>-0.004319</td>\n",
       "      <td>-0.066417</td>\n",
       "      <td>-0.005501</td>\n",
       "      <td>-0.011853</td>\n",
       "      <td>1.000000</td>\n",
       "      <td>-0.049865</td>\n",
       "      <td>0.031847</td>\n",
       "      <td>...</td>\n",
       "      <td>0.018543</td>\n",
       "      <td>-0.001765</td>\n",
       "      <td>0.014543</td>\n",
       "      <td>-0.006731</td>\n",
       "      <td>-0.001268</td>\n",
       "      <td>0.018012</td>\n",
       "      <td>0.033905</td>\n",
       "      <td>-0.037686</td>\n",
       "      <td>0.022315</td>\n",
       "      <td>-0.081783</td>\n",
       "    </tr>\n",
       "    <tr>\n",
       "      <th>NumCompaniesWorked</th>\n",
       "      <td>0.284408</td>\n",
       "      <td>-0.021411</td>\n",
       "      <td>0.128674</td>\n",
       "      <td>0.017270</td>\n",
       "      <td>0.040484</td>\n",
       "      <td>0.018211</td>\n",
       "      <td>0.127477</td>\n",
       "      <td>-0.049865</td>\n",
       "      <td>1.000000</td>\n",
       "      <td>-0.011788</td>\n",
       "      <td>...</td>\n",
       "      <td>-0.008529</td>\n",
       "      <td>-0.108600</td>\n",
       "      <td>0.010645</td>\n",
       "      <td>0.021347</td>\n",
       "      <td>-0.042803</td>\n",
       "      <td>0.068886</td>\n",
       "      <td>-0.030979</td>\n",
       "      <td>0.029175</td>\n",
       "      <td>-0.013888</td>\n",
       "      <td>0.037643</td>\n",
       "    </tr>\n",
       "    <tr>\n",
       "      <th>EmpLastSalaryHikePercent</th>\n",
       "      <td>-0.006105</td>\n",
       "      <td>0.044974</td>\n",
       "      <td>0.002358</td>\n",
       "      <td>-0.047271</td>\n",
       "      <td>-0.015934</td>\n",
       "      <td>-0.001742</td>\n",
       "      <td>-0.020975</td>\n",
       "      <td>0.031847</td>\n",
       "      <td>-0.011788</td>\n",
       "      <td>1.000000</td>\n",
       "      <td>...</td>\n",
       "      <td>-0.028673</td>\n",
       "      <td>0.015454</td>\n",
       "      <td>0.003873</td>\n",
       "      <td>0.007579</td>\n",
       "      <td>-0.034895</td>\n",
       "      <td>0.024350</td>\n",
       "      <td>-0.012669</td>\n",
       "      <td>-0.025831</td>\n",
       "      <td>-0.000778</td>\n",
       "      <td>-0.009448</td>\n",
       "    </tr>\n",
       "    <tr>\n",
       "      <th>EmpRelationshipSatisfaction</th>\n",
       "      <td>0.049749</td>\n",
       "      <td>-0.009509</td>\n",
       "      <td>-0.016690</td>\n",
       "      <td>-0.010504</td>\n",
       "      <td>0.008783</td>\n",
       "      <td>0.018037</td>\n",
       "      <td>0.002992</td>\n",
       "      <td>-0.022028</td>\n",
       "      <td>0.057917</td>\n",
       "      <td>-0.042892</td>\n",
       "      <td>...</td>\n",
       "      <td>0.000464</td>\n",
       "      <td>-0.033377</td>\n",
       "      <td>-0.002665</td>\n",
       "      <td>-0.047960</td>\n",
       "      <td>0.060302</td>\n",
       "      <td>-0.011286</td>\n",
       "      <td>0.036028</td>\n",
       "      <td>-0.039684</td>\n",
       "      <td>0.034146</td>\n",
       "      <td>-0.037179</td>\n",
       "    </tr>\n",
       "    <tr>\n",
       "      <th>TotalWorkExperienceInYears</th>\n",
       "      <td>0.680886</td>\n",
       "      <td>0.027306</td>\n",
       "      <td>0.151062</td>\n",
       "      <td>-0.012894</td>\n",
       "      <td>0.026034</td>\n",
       "      <td>-0.028851</td>\n",
       "      <td>0.784229</td>\n",
       "      <td>-0.026824</td>\n",
       "      <td>0.221505</td>\n",
       "      <td>-0.005933</td>\n",
       "      <td>...</td>\n",
       "      <td>-0.019485</td>\n",
       "      <td>-0.212085</td>\n",
       "      <td>0.037725</td>\n",
       "      <td>0.012559</td>\n",
       "      <td>-0.069232</td>\n",
       "      <td>-0.007046</td>\n",
       "      <td>-0.022651</td>\n",
       "      <td>0.041456</td>\n",
       "      <td>0.044233</td>\n",
       "      <td>-0.185226</td>\n",
       "    </tr>\n",
       "    <tr>\n",
       "      <th>TrainingTimesLastYear</th>\n",
       "      <td>-0.016053</td>\n",
       "      <td>-0.032082</td>\n",
       "      <td>-0.013674</td>\n",
       "      <td>0.001192</td>\n",
       "      <td>-0.024160</td>\n",
       "      <td>-0.025168</td>\n",
       "      <td>-0.000389</td>\n",
       "      <td>-0.028031</td>\n",
       "      <td>-0.050817</td>\n",
       "      <td>-0.013439</td>\n",
       "      <td>...</td>\n",
       "      <td>0.017105</td>\n",
       "      <td>0.039052</td>\n",
       "      <td>-0.019002</td>\n",
       "      <td>-0.010616</td>\n",
       "      <td>0.038984</td>\n",
       "      <td>-0.010783</td>\n",
       "      <td>0.017919</td>\n",
       "      <td>-0.002626</td>\n",
       "      <td>-0.061398</td>\n",
       "      <td>-0.035047</td>\n",
       "    </tr>\n",
       "    <tr>\n",
       "      <th>EmpWorkLifeBalance</th>\n",
       "      <td>-0.019563</td>\n",
       "      <td>-0.044788</td>\n",
       "      <td>0.010276</td>\n",
       "      <td>-0.000262</td>\n",
       "      <td>0.016189</td>\n",
       "      <td>-0.014129</td>\n",
       "      <td>0.049218</td>\n",
       "      <td>-0.018548</td>\n",
       "      <td>0.002489</td>\n",
       "      <td>-0.017001</td>\n",
       "      <td>...</td>\n",
       "      <td>0.028760</td>\n",
       "      <td>0.028944</td>\n",
       "      <td>-0.039206</td>\n",
       "      <td>-0.012473</td>\n",
       "      <td>-0.003274</td>\n",
       "      <td>-0.063161</td>\n",
       "      <td>0.030070</td>\n",
       "      <td>-0.043299</td>\n",
       "      <td>-0.027968</td>\n",
       "      <td>-0.068624</td>\n",
       "    </tr>\n",
       "    <tr>\n",
       "      <th>ExperienceYearsAtThisCompany</th>\n",
       "      <td>0.318852</td>\n",
       "      <td>0.021908</td>\n",
       "      <td>0.076332</td>\n",
       "      <td>-0.000561</td>\n",
       "      <td>-0.000399</td>\n",
       "      <td>-0.039720</td>\n",
       "      <td>0.540377</td>\n",
       "      <td>0.001807</td>\n",
       "      <td>-0.129797</td>\n",
       "      <td>-0.019830</td>\n",
       "      <td>...</td>\n",
       "      <td>0.047719</td>\n",
       "      <td>-0.163844</td>\n",
       "      <td>0.017706</td>\n",
       "      <td>0.002211</td>\n",
       "      <td>-0.055365</td>\n",
       "      <td>-0.006065</td>\n",
       "      <td>0.008536</td>\n",
       "      <td>-0.014821</td>\n",
       "      <td>0.004295</td>\n",
       "      <td>-0.142456</td>\n",
       "    </tr>\n",
       "    <tr>\n",
       "      <th>ExperienceYearsInCurrentRole</th>\n",
       "      <td>0.217163</td>\n",
       "      <td>0.019898</td>\n",
       "      <td>0.066672</td>\n",
       "      <td>0.025491</td>\n",
       "      <td>-0.011871</td>\n",
       "      <td>0.002910</td>\n",
       "      <td>0.399235</td>\n",
       "      <td>0.002018</td>\n",
       "      <td>-0.097271</td>\n",
       "      <td>-0.004957</td>\n",
       "      <td>...</td>\n",
       "      <td>0.101791</td>\n",
       "      <td>-0.153727</td>\n",
       "      <td>0.010009</td>\n",
       "      <td>0.024139</td>\n",
       "      <td>-0.069802</td>\n",
       "      <td>-0.002745</td>\n",
       "      <td>-0.023616</td>\n",
       "      <td>0.005185</td>\n",
       "      <td>-0.015674</td>\n",
       "      <td>-0.173895</td>\n",
       "    </tr>\n",
       "    <tr>\n",
       "      <th>YearsSinceLastPromotion</th>\n",
       "      <td>0.228199</td>\n",
       "      <td>0.013246</td>\n",
       "      <td>0.054313</td>\n",
       "      <td>0.010732</td>\n",
       "      <td>-0.010000</td>\n",
       "      <td>-0.019944</td>\n",
       "      <td>0.360880</td>\n",
       "      <td>-0.006508</td>\n",
       "      <td>-0.031656</td>\n",
       "      <td>-0.015911</td>\n",
       "      <td>...</td>\n",
       "      <td>0.051173</td>\n",
       "      <td>-0.084926</td>\n",
       "      <td>0.027839</td>\n",
       "      <td>0.011850</td>\n",
       "      <td>-0.031804</td>\n",
       "      <td>-0.019771</td>\n",
       "      <td>0.002596</td>\n",
       "      <td>-0.016606</td>\n",
       "      <td>0.000261</td>\n",
       "      <td>-0.057199</td>\n",
       "    </tr>\n",
       "    <tr>\n",
       "      <th>YearsWithCurrManager</th>\n",
       "      <td>0.205098</td>\n",
       "      <td>0.017860</td>\n",
       "      <td>0.088988</td>\n",
       "      <td>-0.011702</td>\n",
       "      <td>-0.004576</td>\n",
       "      <td>0.012924</td>\n",
       "      <td>0.374872</td>\n",
       "      <td>-0.022096</td>\n",
       "      <td>-0.109937</td>\n",
       "      <td>-0.007666</td>\n",
       "      <td>...</td>\n",
       "      <td>0.089434</td>\n",
       "      <td>-0.168104</td>\n",
       "      <td>0.009873</td>\n",
       "      <td>0.003019</td>\n",
       "      <td>-0.045548</td>\n",
       "      <td>-0.006708</td>\n",
       "      <td>0.010118</td>\n",
       "      <td>-0.025205</td>\n",
       "      <td>-0.028447</td>\n",
       "      <td>-0.158745</td>\n",
       "    </tr>\n",
       "    <tr>\n",
       "      <th>PerformanceRating</th>\n",
       "      <td>-0.040164</td>\n",
       "      <td>-0.046142</td>\n",
       "      <td>0.020529</td>\n",
       "      <td>0.395561</td>\n",
       "      <td>-0.043116</td>\n",
       "      <td>-0.010539</td>\n",
       "      <td>-0.076632</td>\n",
       "      <td>0.000606</td>\n",
       "      <td>0.020980</td>\n",
       "      <td>0.333722</td>\n",
       "      <td>...</td>\n",
       "      <td>-0.096385</td>\n",
       "      <td>-0.037512</td>\n",
       "      <td>0.021202</td>\n",
       "      <td>-0.032177</td>\n",
       "      <td>0.007631</td>\n",
       "      <td>0.045541</td>\n",
       "      <td>0.022634</td>\n",
       "      <td>-0.032731</td>\n",
       "      <td>0.050206</td>\n",
       "      <td>-0.039796</td>\n",
       "    </tr>\n",
       "    <tr>\n",
       "      <th>Gender_Male</th>\n",
       "      <td>-0.040107</td>\n",
       "      <td>-0.001507</td>\n",
       "      <td>-0.022960</td>\n",
       "      <td>0.000033</td>\n",
       "      <td>0.002218</td>\n",
       "      <td>0.010949</td>\n",
       "      <td>-0.050685</td>\n",
       "      <td>0.024680</td>\n",
       "      <td>-0.036675</td>\n",
       "      <td>-0.005319</td>\n",
       "      <td>...</td>\n",
       "      <td>-0.000510</td>\n",
       "      <td>-0.041632</td>\n",
       "      <td>0.029990</td>\n",
       "      <td>-0.000959</td>\n",
       "      <td>0.017249</td>\n",
       "      <td>0.010137</td>\n",
       "      <td>-0.013714</td>\n",
       "      <td>-0.026623</td>\n",
       "      <td>-0.038410</td>\n",
       "      <td>0.035758</td>\n",
       "    </tr>\n",
       "    <tr>\n",
       "      <th>EducationBackground_Life Sciences</th>\n",
       "      <td>0.020365</td>\n",
       "      <td>-0.017743</td>\n",
       "      <td>0.019302</td>\n",
       "      <td>-0.020500</td>\n",
       "      <td>0.042773</td>\n",
       "      <td>0.014430</td>\n",
       "      <td>-0.001851</td>\n",
       "      <td>0.042511</td>\n",
       "      <td>0.008114</td>\n",
       "      <td>0.016142</td>\n",
       "      <td>...</td>\n",
       "      <td>-0.083990</td>\n",
       "      <td>-0.060337</td>\n",
       "      <td>0.072232</td>\n",
       "      <td>-0.017538</td>\n",
       "      <td>0.002892</td>\n",
       "      <td>0.013740</td>\n",
       "      <td>-0.000087</td>\n",
       "      <td>-0.006910</td>\n",
       "      <td>-0.021306</td>\n",
       "      <td>-0.033274</td>\n",
       "    </tr>\n",
       "    <tr>\n",
       "      <th>EducationBackground_Marketing</th>\n",
       "      <td>0.045058</td>\n",
       "      <td>0.042411</td>\n",
       "      <td>0.067106</td>\n",
       "      <td>-0.009781</td>\n",
       "      <td>0.004736</td>\n",
       "      <td>-0.030540</td>\n",
       "      <td>0.096435</td>\n",
       "      <td>-0.031796</td>\n",
       "      <td>-0.007543</td>\n",
       "      <td>-0.010471</td>\n",
       "      <td>...</td>\n",
       "      <td>0.446641</td>\n",
       "      <td>0.147712</td>\n",
       "      <td>-0.076405</td>\n",
       "      <td>-0.040391</td>\n",
       "      <td>-0.027499</td>\n",
       "      <td>-0.064921</td>\n",
       "      <td>-0.009077</td>\n",
       "      <td>0.036861</td>\n",
       "      <td>0.004021</td>\n",
       "      <td>0.071354</td>\n",
       "    </tr>\n",
       "    <tr>\n",
       "      <th>EducationBackground_Medical</th>\n",
       "      <td>0.004791</td>\n",
       "      <td>0.009906</td>\n",
       "      <td>-0.083393</td>\n",
       "      <td>-0.014552</td>\n",
       "      <td>-0.022987</td>\n",
       "      <td>0.025374</td>\n",
       "      <td>-0.009550</td>\n",
       "      <td>0.015780</td>\n",
       "      <td>0.017833</td>\n",
       "      <td>-0.002681</td>\n",
       "      <td>...</td>\n",
       "      <td>-0.134331</td>\n",
       "      <td>-0.046657</td>\n",
       "      <td>-0.005615</td>\n",
       "      <td>0.003216</td>\n",
       "      <td>-0.005630</td>\n",
       "      <td>0.049377</td>\n",
       "      <td>0.004417</td>\n",
       "      <td>-0.018490</td>\n",
       "      <td>0.015839</td>\n",
       "      <td>-0.060113</td>\n",
       "    </tr>\n",
       "    <tr>\n",
       "      <th>EducationBackground_Other</th>\n",
       "      <td>-0.062217</td>\n",
       "      <td>-0.006237</td>\n",
       "      <td>0.042360</td>\n",
       "      <td>0.069592</td>\n",
       "      <td>-0.056412</td>\n",
       "      <td>-0.022184</td>\n",
       "      <td>-0.034510</td>\n",
       "      <td>-0.014433</td>\n",
       "      <td>-0.041301</td>\n",
       "      <td>0.030573</td>\n",
       "      <td>...</td>\n",
       "      <td>-0.024947</td>\n",
       "      <td>-0.028185</td>\n",
       "      <td>0.002513</td>\n",
       "      <td>0.038658</td>\n",
       "      <td>0.029519</td>\n",
       "      <td>-0.043627</td>\n",
       "      <td>0.007437</td>\n",
       "      <td>0.003767</td>\n",
       "      <td>0.028758</td>\n",
       "      <td>-0.018409</td>\n",
       "    </tr>\n",
       "    <tr>\n",
       "      <th>EducationBackground_Technical Degree</th>\n",
       "      <td>-0.044756</td>\n",
       "      <td>-0.032310</td>\n",
       "      <td>-0.026722</td>\n",
       "      <td>0.023279</td>\n",
       "      <td>0.014452</td>\n",
       "      <td>-0.026304</td>\n",
       "      <td>-0.064666</td>\n",
       "      <td>-0.036304</td>\n",
       "      <td>-0.021376</td>\n",
       "      <td>-0.027660</td>\n",
       "      <td>...</td>\n",
       "      <td>-0.083035</td>\n",
       "      <td>0.055045</td>\n",
       "      <td>-0.019745</td>\n",
       "      <td>0.047492</td>\n",
       "      <td>0.016497</td>\n",
       "      <td>0.014349</td>\n",
       "      <td>-0.019412</td>\n",
       "      <td>0.016529</td>\n",
       "      <td>-0.022608</td>\n",
       "      <td>0.077761</td>\n",
       "    </tr>\n",
       "    <tr>\n",
       "      <th>MaritalStatus_Married</th>\n",
       "      <td>0.078782</td>\n",
       "      <td>0.025816</td>\n",
       "      <td>-0.009762</td>\n",
       "      <td>-0.029582</td>\n",
       "      <td>0.018056</td>\n",
       "      <td>0.026144</td>\n",
       "      <td>0.049870</td>\n",
       "      <td>0.008498</td>\n",
       "      <td>-0.035528</td>\n",
       "      <td>0.006033</td>\n",
       "      <td>...</td>\n",
       "      <td>0.014823</td>\n",
       "      <td>-0.025224</td>\n",
       "      <td>0.002082</td>\n",
       "      <td>0.047432</td>\n",
       "      <td>-0.004320</td>\n",
       "      <td>-0.012929</td>\n",
       "      <td>-0.040413</td>\n",
       "      <td>0.075790</td>\n",
       "      <td>-0.011761</td>\n",
       "      <td>-0.109607</td>\n",
       "    </tr>\n",
       "    <tr>\n",
       "      <th>MaritalStatus_Single</th>\n",
       "      <td>-0.119111</td>\n",
       "      <td>-0.028782</td>\n",
       "      <td>0.026154</td>\n",
       "      <td>-0.009636</td>\n",
       "      <td>-0.020246</td>\n",
       "      <td>-0.047917</td>\n",
       "      <td>-0.095051</td>\n",
       "      <td>0.030390</td>\n",
       "      <td>-0.004603</td>\n",
       "      <td>0.004712</td>\n",
       "      <td>...</td>\n",
       "      <td>0.011123</td>\n",
       "      <td>0.076125</td>\n",
       "      <td>-0.049485</td>\n",
       "      <td>-0.012863</td>\n",
       "      <td>-0.005630</td>\n",
       "      <td>-0.001632</td>\n",
       "      <td>0.027420</td>\n",
       "      <td>-0.026324</td>\n",
       "      <td>-0.011605</td>\n",
       "      <td>0.186168</td>\n",
       "    </tr>\n",
       "    <tr>\n",
       "      <th>EmpDepartment_Development</th>\n",
       "      <td>-0.019107</td>\n",
       "      <td>-0.030205</td>\n",
       "      <td>-0.024709</td>\n",
       "      <td>-0.004027</td>\n",
       "      <td>-0.004981</td>\n",
       "      <td>0.053643</td>\n",
       "      <td>-0.076083</td>\n",
       "      <td>0.009193</td>\n",
       "      <td>0.040440</td>\n",
       "      <td>-0.003170</td>\n",
       "      <td>...</td>\n",
       "      <td>-0.353438</td>\n",
       "      <td>-0.162019</td>\n",
       "      <td>0.324458</td>\n",
       "      <td>-0.073800</td>\n",
       "      <td>0.116777</td>\n",
       "      <td>0.275687</td>\n",
       "      <td>-0.013032</td>\n",
       "      <td>0.029863</td>\n",
       "      <td>0.055053</td>\n",
       "      <td>-0.013028</td>\n",
       "    </tr>\n",
       "    <tr>\n",
       "      <th>EmpDepartment_Finance</th>\n",
       "      <td>-0.012052</td>\n",
       "      <td>0.068456</td>\n",
       "      <td>0.033356</td>\n",
       "      <td>0.022883</td>\n",
       "      <td>0.007274</td>\n",
       "      <td>0.042582</td>\n",
       "      <td>-0.023984</td>\n",
       "      <td>-0.014895</td>\n",
       "      <td>-0.029998</td>\n",
       "      <td>0.008246</td>\n",
       "      <td>...</td>\n",
       "      <td>-0.111173</td>\n",
       "      <td>-0.050963</td>\n",
       "      <td>-0.043913</td>\n",
       "      <td>-0.023214</td>\n",
       "      <td>-0.015805</td>\n",
       "      <td>-0.037312</td>\n",
       "      <td>-0.011549</td>\n",
       "      <td>0.022668</td>\n",
       "      <td>-0.022309</td>\n",
       "      <td>-0.050567</td>\n",
       "    </tr>\n",
       "    <tr>\n",
       "      <th>EmpDepartment_Human Resources</th>\n",
       "      <td>0.036028</td>\n",
       "      <td>-0.013257</td>\n",
       "      <td>0.022359</td>\n",
       "      <td>-0.017165</td>\n",
       "      <td>-0.002987</td>\n",
       "      <td>0.014160</td>\n",
       "      <td>-0.002341</td>\n",
       "      <td>-0.034904</td>\n",
       "      <td>0.040861</td>\n",
       "      <td>-0.028853</td>\n",
       "      <td>...</td>\n",
       "      <td>-0.116962</td>\n",
       "      <td>-0.053616</td>\n",
       "      <td>-0.046199</td>\n",
       "      <td>-0.024423</td>\n",
       "      <td>-0.016628</td>\n",
       "      <td>-0.039255</td>\n",
       "      <td>0.000104</td>\n",
       "      <td>0.008198</td>\n",
       "      <td>-0.016629</td>\n",
       "      <td>-0.000113</td>\n",
       "    </tr>\n",
       "    <tr>\n",
       "      <th>EmpDepartment_Research &amp; Development</th>\n",
       "      <td>0.038785</td>\n",
       "      <td>0.004992</td>\n",
       "      <td>-0.010829</td>\n",
       "      <td>0.034632</td>\n",
       "      <td>0.032619</td>\n",
       "      <td>-0.041649</td>\n",
       "      <td>-0.040228</td>\n",
       "      <td>-0.007119</td>\n",
       "      <td>0.007401</td>\n",
       "      <td>0.013579</td>\n",
       "      <td>...</td>\n",
       "      <td>-0.340876</td>\n",
       "      <td>-0.156261</td>\n",
       "      <td>-0.134644</td>\n",
       "      <td>0.177840</td>\n",
       "      <td>-0.048460</td>\n",
       "      <td>-0.114405</td>\n",
       "      <td>0.040589</td>\n",
       "      <td>-0.072051</td>\n",
       "      <td>-0.019831</td>\n",
       "      <td>-0.035694</td>\n",
       "    </tr>\n",
       "    <tr>\n",
       "      <th>EmpDepartment_Sales</th>\n",
       "      <td>-0.034200</td>\n",
       "      <td>-0.000409</td>\n",
       "      <td>0.015694</td>\n",
       "      <td>-0.039648</td>\n",
       "      <td>-0.022027</td>\n",
       "      <td>-0.045624</td>\n",
       "      <td>0.124907</td>\n",
       "      <td>0.020906</td>\n",
       "      <td>-0.044528</td>\n",
       "      <td>-0.012912</td>\n",
       "      <td>...</td>\n",
       "      <td>0.802304</td>\n",
       "      <td>0.367783</td>\n",
       "      <td>-0.142933</td>\n",
       "      <td>-0.075559</td>\n",
       "      <td>-0.051443</td>\n",
       "      <td>-0.121448</td>\n",
       "      <td>-0.018571</td>\n",
       "      <td>0.015931</td>\n",
       "      <td>-0.006813</td>\n",
       "      <td>0.074322</td>\n",
       "    </tr>\n",
       "    <tr>\n",
       "      <th>EmpJobRole_Data Scientist</th>\n",
       "      <td>0.015503</td>\n",
       "      <td>0.007712</td>\n",
       "      <td>-0.017775</td>\n",
       "      <td>0.027965</td>\n",
       "      <td>-0.024047</td>\n",
       "      <td>0.031003</td>\n",
       "      <td>0.003821</td>\n",
       "      <td>-0.003845</td>\n",
       "      <td>-0.029800</td>\n",
       "      <td>0.044092</td>\n",
       "      <td>...</td>\n",
       "      <td>-0.070148</td>\n",
       "      <td>-0.032156</td>\n",
       "      <td>-0.027708</td>\n",
       "      <td>-0.014647</td>\n",
       "      <td>-0.009972</td>\n",
       "      <td>-0.023543</td>\n",
       "      <td>-0.011735</td>\n",
       "      <td>0.041394</td>\n",
       "      <td>-0.041190</td>\n",
       "      <td>-0.017704</td>\n",
       "    </tr>\n",
       "    <tr>\n",
       "      <th>EmpJobRole_Delivery Manager</th>\n",
       "      <td>0.015656</td>\n",
       "      <td>0.014356</td>\n",
       "      <td>0.026401</td>\n",
       "      <td>0.056929</td>\n",
       "      <td>-0.041365</td>\n",
       "      <td>0.050001</td>\n",
       "      <td>0.016563</td>\n",
       "      <td>0.001598</td>\n",
       "      <td>0.047571</td>\n",
       "      <td>-0.017724</td>\n",
       "      <td>...</td>\n",
       "      <td>-0.054153</td>\n",
       "      <td>-0.024824</td>\n",
       "      <td>-0.021390</td>\n",
       "      <td>-0.011308</td>\n",
       "      <td>-0.007699</td>\n",
       "      <td>-0.018175</td>\n",
       "      <td>-0.047884</td>\n",
       "      <td>0.065013</td>\n",
       "      <td>0.027019</td>\n",
       "      <td>-0.041944</td>\n",
       "    </tr>\n",
       "    <tr>\n",
       "      <th>EmpJobRole_Developer</th>\n",
       "      <td>-0.030634</td>\n",
       "      <td>-0.037743</td>\n",
       "      <td>-0.007292</td>\n",
       "      <td>-0.063343</td>\n",
       "      <td>0.016015</td>\n",
       "      <td>0.018765</td>\n",
       "      <td>-0.075598</td>\n",
       "      <td>0.004058</td>\n",
       "      <td>0.017888</td>\n",
       "      <td>-0.007236</td>\n",
       "      <td>...</td>\n",
       "      <td>-0.266599</td>\n",
       "      <td>-0.122211</td>\n",
       "      <td>-0.105305</td>\n",
       "      <td>-0.055668</td>\n",
       "      <td>-0.037901</td>\n",
       "      <td>-0.089476</td>\n",
       "      <td>0.007235</td>\n",
       "      <td>0.025837</td>\n",
       "      <td>0.044063</td>\n",
       "      <td>0.029454</td>\n",
       "    </tr>\n",
       "    <tr>\n",
       "      <th>EmpJobRole_Finance Manager</th>\n",
       "      <td>-0.012052</td>\n",
       "      <td>0.068456</td>\n",
       "      <td>0.033356</td>\n",
       "      <td>0.022883</td>\n",
       "      <td>0.007274</td>\n",
       "      <td>0.042582</td>\n",
       "      <td>-0.023984</td>\n",
       "      <td>-0.014895</td>\n",
       "      <td>-0.029998</td>\n",
       "      <td>0.008246</td>\n",
       "      <td>...</td>\n",
       "      <td>-0.111173</td>\n",
       "      <td>-0.050963</td>\n",
       "      <td>-0.043913</td>\n",
       "      <td>-0.023214</td>\n",
       "      <td>-0.015805</td>\n",
       "      <td>-0.037312</td>\n",
       "      <td>-0.011549</td>\n",
       "      <td>0.022668</td>\n",
       "      <td>-0.022309</td>\n",
       "      <td>-0.050567</td>\n",
       "    </tr>\n",
       "    <tr>\n",
       "      <th>EmpJobRole_Healthcare Representative</th>\n",
       "      <td>0.055928</td>\n",
       "      <td>-0.013387</td>\n",
       "      <td>0.007556</td>\n",
       "      <td>0.001765</td>\n",
       "      <td>-0.005901</td>\n",
       "      <td>-0.015463</td>\n",
       "      <td>0.058775</td>\n",
       "      <td>0.008463</td>\n",
       "      <td>0.002178</td>\n",
       "      <td>-0.021571</td>\n",
       "      <td>...</td>\n",
       "      <td>-0.090607</td>\n",
       "      <td>-0.041535</td>\n",
       "      <td>-0.035789</td>\n",
       "      <td>-0.018919</td>\n",
       "      <td>-0.012881</td>\n",
       "      <td>-0.030410</td>\n",
       "      <td>-0.001378</td>\n",
       "      <td>0.019387</td>\n",
       "      <td>0.003271</td>\n",
       "      <td>-0.055842</td>\n",
       "    </tr>\n",
       "    <tr>\n",
       "      <th>EmpJobRole_Human Resources</th>\n",
       "      <td>-0.010781</td>\n",
       "      <td>-0.034595</td>\n",
       "      <td>0.007723</td>\n",
       "      <td>-0.029020</td>\n",
       "      <td>-0.009591</td>\n",
       "      <td>-0.005740</td>\n",
       "      <td>-0.091252</td>\n",
       "      <td>-0.035725</td>\n",
       "      <td>0.049890</td>\n",
       "      <td>-0.019379</td>\n",
       "      <td>...</td>\n",
       "      <td>-0.106354</td>\n",
       "      <td>-0.048754</td>\n",
       "      <td>-0.042009</td>\n",
       "      <td>-0.022208</td>\n",
       "      <td>-0.015120</td>\n",
       "      <td>-0.035695</td>\n",
       "      <td>0.007625</td>\n",
       "      <td>0.002645</td>\n",
       "      <td>-0.031165</td>\n",
       "      <td>0.016352</td>\n",
       "    </tr>\n",
       "    <tr>\n",
       "      <th>EmpJobRole_Laboratory Technician</th>\n",
       "      <td>-0.078707</td>\n",
       "      <td>0.012881</td>\n",
       "      <td>-0.018194</td>\n",
       "      <td>0.004037</td>\n",
       "      <td>0.030505</td>\n",
       "      <td>-0.035817</td>\n",
       "      <td>-0.178573</td>\n",
       "      <td>-0.029928</td>\n",
       "      <td>-0.008354</td>\n",
       "      <td>-0.028897</td>\n",
       "      <td>...</td>\n",
       "      <td>-0.127891</td>\n",
       "      <td>-0.058627</td>\n",
       "      <td>-0.050516</td>\n",
       "      <td>-0.026705</td>\n",
       "      <td>-0.018181</td>\n",
       "      <td>-0.042923</td>\n",
       "      <td>0.030182</td>\n",
       "      <td>-0.017241</td>\n",
       "      <td>-0.071841</td>\n",
       "      <td>0.036590</td>\n",
       "    </tr>\n",
       "    <tr>\n",
       "      <th>EmpJobRole_Manager</th>\n",
       "      <td>0.243837</td>\n",
       "      <td>0.004823</td>\n",
       "      <td>0.045449</td>\n",
       "      <td>0.020813</td>\n",
       "      <td>0.028000</td>\n",
       "      <td>-0.013529</td>\n",
       "      <td>0.431081</td>\n",
       "      <td>-0.005096</td>\n",
       "      <td>0.048676</td>\n",
       "      <td>0.009862</td>\n",
       "      <td>...</td>\n",
       "      <td>-0.113518</td>\n",
       "      <td>-0.052038</td>\n",
       "      <td>-0.044839</td>\n",
       "      <td>-0.023703</td>\n",
       "      <td>-0.016138</td>\n",
       "      <td>-0.038099</td>\n",
       "      <td>-0.047183</td>\n",
       "      <td>0.045699</td>\n",
       "      <td>-0.000023</td>\n",
       "      <td>-0.064679</td>\n",
       "    </tr>\n",
       "    <tr>\n",
       "      <th>EmpJobRole_Manager R&amp;D</th>\n",
       "      <td>0.051105</td>\n",
       "      <td>0.001674</td>\n",
       "      <td>-0.044262</td>\n",
       "      <td>0.002025</td>\n",
       "      <td>0.032656</td>\n",
       "      <td>0.027305</td>\n",
       "      <td>0.024240</td>\n",
       "      <td>0.000409</td>\n",
       "      <td>-0.006923</td>\n",
       "      <td>0.019754</td>\n",
       "      <td>...</td>\n",
       "      <td>-0.157082</td>\n",
       "      <td>-0.072008</td>\n",
       "      <td>-0.062046</td>\n",
       "      <td>-0.032800</td>\n",
       "      <td>-0.022331</td>\n",
       "      <td>-0.052720</td>\n",
       "      <td>0.012859</td>\n",
       "      <td>-0.029039</td>\n",
       "      <td>-0.004435</td>\n",
       "      <td>-0.016957</td>\n",
       "    </tr>\n",
       "    <tr>\n",
       "      <th>EmpJobRole_Manufacturing Director</th>\n",
       "      <td>0.058172</td>\n",
       "      <td>0.000329</td>\n",
       "      <td>-0.016857</td>\n",
       "      <td>0.057857</td>\n",
       "      <td>0.014530</td>\n",
       "      <td>-0.029881</td>\n",
       "      <td>0.086384</td>\n",
       "      <td>-0.010060</td>\n",
       "      <td>-0.006080</td>\n",
       "      <td>0.002330</td>\n",
       "      <td>...</td>\n",
       "      <td>-0.090607</td>\n",
       "      <td>-0.041535</td>\n",
       "      <td>-0.035789</td>\n",
       "      <td>-0.018919</td>\n",
       "      <td>-0.012881</td>\n",
       "      <td>-0.030410</td>\n",
       "      <td>0.011745</td>\n",
       "      <td>-0.014135</td>\n",
       "      <td>0.036820</td>\n",
       "      <td>-0.027168</td>\n",
       "    </tr>\n",
       "    <tr>\n",
       "      <th>EmpJobRole_Research Director</th>\n",
       "      <td>0.056260</td>\n",
       "      <td>-0.014008</td>\n",
       "      <td>0.038650</td>\n",
       "      <td>0.014692</td>\n",
       "      <td>0.018950</td>\n",
       "      <td>-0.046292</td>\n",
       "      <td>0.191207</td>\n",
       "      <td>0.018700</td>\n",
       "      <td>0.071305</td>\n",
       "      <td>-0.004103</td>\n",
       "      <td>...</td>\n",
       "      <td>-0.068343</td>\n",
       "      <td>-0.031329</td>\n",
       "      <td>-0.026995</td>\n",
       "      <td>-0.014270</td>\n",
       "      <td>-0.009716</td>\n",
       "      <td>-0.022937</td>\n",
       "      <td>0.008338</td>\n",
       "      <td>-0.020421</td>\n",
       "      <td>0.006019</td>\n",
       "      <td>-0.052934</td>\n",
       "    </tr>\n",
       "    <tr>\n",
       "      <th>EmpJobRole_Research Scientist</th>\n",
       "      <td>-0.048561</td>\n",
       "      <td>-0.004065</td>\n",
       "      <td>0.013938</td>\n",
       "      <td>0.002748</td>\n",
       "      <td>-0.008684</td>\n",
       "      <td>-0.006439</td>\n",
       "      <td>-0.184863</td>\n",
       "      <td>0.020388</td>\n",
       "      <td>-0.025081</td>\n",
       "      <td>0.033653</td>\n",
       "      <td>...</td>\n",
       "      <td>-0.141090</td>\n",
       "      <td>-0.064677</td>\n",
       "      <td>-0.055730</td>\n",
       "      <td>-0.029461</td>\n",
       "      <td>-0.020058</td>\n",
       "      <td>-0.047353</td>\n",
       "      <td>0.015370</td>\n",
       "      <td>-0.061781</td>\n",
       "      <td>0.032458</td>\n",
       "      <td>0.015101</td>\n",
       "    </tr>\n",
       "    <tr>\n",
       "      <th>EmpJobRole_Sales Executive</th>\n",
       "      <td>-0.018004</td>\n",
       "      <td>0.024471</td>\n",
       "      <td>0.059322</td>\n",
       "      <td>-0.033454</td>\n",
       "      <td>-0.029836</td>\n",
       "      <td>-0.018492</td>\n",
       "      <td>0.123940</td>\n",
       "      <td>0.018543</td>\n",
       "      <td>-0.008529</td>\n",
       "      <td>-0.028673</td>\n",
       "      <td>...</td>\n",
       "      <td>1.000000</td>\n",
       "      <td>-0.133086</td>\n",
       "      <td>-0.114676</td>\n",
       "      <td>-0.060622</td>\n",
       "      <td>-0.041273</td>\n",
       "      <td>-0.097438</td>\n",
       "      <td>-0.025440</td>\n",
       "      <td>0.007220</td>\n",
       "      <td>0.006898</td>\n",
       "      <td>0.022178</td>\n",
       "    </tr>\n",
       "    <tr>\n",
       "      <th>EmpJobRole_Sales Representative</th>\n",
       "      <td>-0.175906</td>\n",
       "      <td>-0.029538</td>\n",
       "      <td>-0.104893</td>\n",
       "      <td>-0.011140</td>\n",
       "      <td>-0.010053</td>\n",
       "      <td>-0.037905</td>\n",
       "      <td>-0.218709</td>\n",
       "      <td>-0.001765</td>\n",
       "      <td>-0.108600</td>\n",
       "      <td>0.015454</td>\n",
       "      <td>...</td>\n",
       "      <td>-0.133086</td>\n",
       "      <td>1.000000</td>\n",
       "      <td>-0.052568</td>\n",
       "      <td>-0.027789</td>\n",
       "      <td>-0.018920</td>\n",
       "      <td>-0.044667</td>\n",
       "      <td>0.048261</td>\n",
       "      <td>-0.020762</td>\n",
       "      <td>-0.025905</td>\n",
       "      <td>0.138633</td>\n",
       "    </tr>\n",
       "    <tr>\n",
       "      <th>EmpJobRole_Senior Developer</th>\n",
       "      <td>-0.002592</td>\n",
       "      <td>0.030235</td>\n",
       "      <td>-0.040823</td>\n",
       "      <td>0.055478</td>\n",
       "      <td>-0.012165</td>\n",
       "      <td>0.034471</td>\n",
       "      <td>-0.001885</td>\n",
       "      <td>0.014543</td>\n",
       "      <td>0.010645</td>\n",
       "      <td>0.003873</td>\n",
       "      <td>...</td>\n",
       "      <td>-0.114676</td>\n",
       "      <td>-0.052568</td>\n",
       "      <td>1.000000</td>\n",
       "      <td>-0.023945</td>\n",
       "      <td>-0.016303</td>\n",
       "      <td>-0.038487</td>\n",
       "      <td>0.004005</td>\n",
       "      <td>-0.014898</td>\n",
       "      <td>0.051228</td>\n",
       "      <td>-0.008214</td>\n",
       "    </tr>\n",
       "    <tr>\n",
       "      <th>EmpJobRole_Senior Manager R&amp;D</th>\n",
       "      <td>0.005966</td>\n",
       "      <td>0.028001</td>\n",
       "      <td>0.047522</td>\n",
       "      <td>-0.018835</td>\n",
       "      <td>-0.021431</td>\n",
       "      <td>-0.010346</td>\n",
       "      <td>-0.000085</td>\n",
       "      <td>-0.006731</td>\n",
       "      <td>0.021347</td>\n",
       "      <td>0.007579</td>\n",
       "      <td>...</td>\n",
       "      <td>-0.060622</td>\n",
       "      <td>-0.027789</td>\n",
       "      <td>-0.023945</td>\n",
       "      <td>1.000000</td>\n",
       "      <td>-0.008618</td>\n",
       "      <td>-0.020346</td>\n",
       "      <td>0.004346</td>\n",
       "      <td>-0.025904</td>\n",
       "      <td>-0.039711</td>\n",
       "      <td>-0.004748</td>\n",
       "    </tr>\n",
       "    <tr>\n",
       "      <th>EmpJobRole_Technical Architect</th>\n",
       "      <td>-0.024610</td>\n",
       "      <td>-0.001554</td>\n",
       "      <td>-0.002595</td>\n",
       "      <td>0.040043</td>\n",
       "      <td>-0.055720</td>\n",
       "      <td>0.013597</td>\n",
       "      <td>-0.044196</td>\n",
       "      <td>-0.001268</td>\n",
       "      <td>-0.042803</td>\n",
       "      <td>-0.034895</td>\n",
       "      <td>...</td>\n",
       "      <td>-0.041273</td>\n",
       "      <td>-0.018920</td>\n",
       "      <td>-0.016303</td>\n",
       "      <td>-0.008618</td>\n",
       "      <td>1.000000</td>\n",
       "      <td>-0.013852</td>\n",
       "      <td>-0.036495</td>\n",
       "      <td>0.025555</td>\n",
       "      <td>0.022594</td>\n",
       "      <td>0.029607</td>\n",
       "    </tr>\n",
       "    <tr>\n",
       "      <th>EmpJobRole_Technical Lead</th>\n",
       "      <td>0.033584</td>\n",
       "      <td>-0.010074</td>\n",
       "      <td>-0.017851</td>\n",
       "      <td>0.047139</td>\n",
       "      <td>0.022542</td>\n",
       "      <td>0.055183</td>\n",
       "      <td>-0.015320</td>\n",
       "      <td>0.018012</td>\n",
       "      <td>0.068886</td>\n",
       "      <td>0.024350</td>\n",
       "      <td>...</td>\n",
       "      <td>-0.097438</td>\n",
       "      <td>-0.044667</td>\n",
       "      <td>-0.038487</td>\n",
       "      <td>-0.020346</td>\n",
       "      <td>-0.013852</td>\n",
       "      <td>1.000000</td>\n",
       "      <td>-0.012623</td>\n",
       "      <td>-0.018679</td>\n",
       "      <td>-0.012306</td>\n",
       "      <td>-0.062081</td>\n",
       "    </tr>\n",
       "    <tr>\n",
       "      <th>BusinessTravelFrequency_Travel_Frequently</th>\n",
       "      <td>-0.033992</td>\n",
       "      <td>-0.028573</td>\n",
       "      <td>-0.016728</td>\n",
       "      <td>-0.019519</td>\n",
       "      <td>-0.017095</td>\n",
       "      <td>0.047272</td>\n",
       "      <td>-0.021289</td>\n",
       "      <td>0.033905</td>\n",
       "      <td>-0.030979</td>\n",
       "      <td>-0.012669</td>\n",
       "      <td>...</td>\n",
       "      <td>-0.025440</td>\n",
       "      <td>0.048261</td>\n",
       "      <td>0.004005</td>\n",
       "      <td>0.004346</td>\n",
       "      <td>-0.036495</td>\n",
       "      <td>-0.012623</td>\n",
       "      <td>1.000000</td>\n",
       "      <td>-0.736530</td>\n",
       "      <td>0.036242</td>\n",
       "      <td>0.115146</td>\n",
       "    </tr>\n",
       "    <tr>\n",
       "      <th>BusinessTravelFrequency_Travel_Rarely</th>\n",
       "      <td>0.044678</td>\n",
       "      <td>-0.003420</td>\n",
       "      <td>0.008658</td>\n",
       "      <td>0.017441</td>\n",
       "      <td>0.026186</td>\n",
       "      <td>-0.007729</td>\n",
       "      <td>0.036130</td>\n",
       "      <td>-0.037686</td>\n",
       "      <td>0.029175</td>\n",
       "      <td>-0.025831</td>\n",
       "      <td>...</td>\n",
       "      <td>0.007220</td>\n",
       "      <td>-0.020762</td>\n",
       "      <td>-0.014898</td>\n",
       "      <td>-0.025904</td>\n",
       "      <td>0.025555</td>\n",
       "      <td>-0.018679</td>\n",
       "      <td>-0.736530</td>\n",
       "      <td>1.000000</td>\n",
       "      <td>0.008562</td>\n",
       "      <td>-0.043648</td>\n",
       "    </tr>\n",
       "    <tr>\n",
       "      <th>OverTime_Yes</th>\n",
       "      <td>0.051910</td>\n",
       "      <td>0.024940</td>\n",
       "      <td>-0.021119</td>\n",
       "      <td>0.064270</td>\n",
       "      <td>-0.032636</td>\n",
       "      <td>-0.011069</td>\n",
       "      <td>0.030012</td>\n",
       "      <td>0.022315</td>\n",
       "      <td>-0.013888</td>\n",
       "      <td>-0.000778</td>\n",
       "      <td>...</td>\n",
       "      <td>0.006898</td>\n",
       "      <td>-0.025905</td>\n",
       "      <td>0.051228</td>\n",
       "      <td>-0.039711</td>\n",
       "      <td>0.022594</td>\n",
       "      <td>-0.012306</td>\n",
       "      <td>0.036242</td>\n",
       "      <td>0.008562</td>\n",
       "      <td>1.000000</td>\n",
       "      <td>0.224535</td>\n",
       "    </tr>\n",
       "    <tr>\n",
       "      <th>Attrition_Yes</th>\n",
       "      <td>-0.189317</td>\n",
       "      <td>0.063248</td>\n",
       "      <td>-0.049118</td>\n",
       "      <td>-0.123490</td>\n",
       "      <td>-0.026313</td>\n",
       "      <td>-0.153360</td>\n",
       "      <td>-0.175763</td>\n",
       "      <td>-0.081783</td>\n",
       "      <td>0.037643</td>\n",
       "      <td>-0.009448</td>\n",
       "      <td>...</td>\n",
       "      <td>0.022178</td>\n",
       "      <td>0.138633</td>\n",
       "      <td>-0.008214</td>\n",
       "      <td>-0.004748</td>\n",
       "      <td>0.029607</td>\n",
       "      <td>-0.062081</td>\n",
       "      <td>0.115146</td>\n",
       "      <td>-0.043648</td>\n",
       "      <td>0.224535</td>\n",
       "      <td>1.000000</td>\n",
       "    </tr>\n",
       "  </tbody>\n",
       "</table>\n",
       "<p>54 rows × 54 columns</p>\n",
       "</div>"
      ],
      "text/plain": [
       "                                                Age  DistanceFromHome  \\\n",
       "Age                                        1.000000          0.020937   \n",
       "DistanceFromHome                           0.020937          1.000000   \n",
       "EmpEducationLevel                          0.207313          0.045856   \n",
       "EmpEnvironmentSatisfaction                 0.013814         -0.017719   \n",
       "EmpHourlyRate                              0.062867          0.013730   \n",
       "EmpJobInvolvement                          0.027216          0.003231   \n",
       "EmpJobLevel                                0.509139          0.017270   \n",
       "EmpJobSatisfaction                        -0.002436         -0.003036   \n",
       "NumCompaniesWorked                         0.284408         -0.021411   \n",
       "EmpLastSalaryHikePercent                  -0.006105          0.044974   \n",
       "EmpRelationshipSatisfaction                0.049749         -0.009509   \n",
       "TotalWorkExperienceInYears                 0.680886          0.027306   \n",
       "TrainingTimesLastYear                     -0.016053         -0.032082   \n",
       "EmpWorkLifeBalance                        -0.019563         -0.044788   \n",
       "ExperienceYearsAtThisCompany               0.318852          0.021908   \n",
       "ExperienceYearsInCurrentRole               0.217163          0.019898   \n",
       "YearsSinceLastPromotion                    0.228199          0.013246   \n",
       "YearsWithCurrManager                       0.205098          0.017860   \n",
       "PerformanceRating                         -0.040164         -0.046142   \n",
       "Gender_Male                               -0.040107         -0.001507   \n",
       "EducationBackground_Life Sciences          0.020365         -0.017743   \n",
       "EducationBackground_Marketing              0.045058          0.042411   \n",
       "EducationBackground_Medical                0.004791          0.009906   \n",
       "EducationBackground_Other                 -0.062217         -0.006237   \n",
       "EducationBackground_Technical Degree      -0.044756         -0.032310   \n",
       "MaritalStatus_Married                      0.078782          0.025816   \n",
       "MaritalStatus_Single                      -0.119111         -0.028782   \n",
       "EmpDepartment_Development                 -0.019107         -0.030205   \n",
       "EmpDepartment_Finance                     -0.012052          0.068456   \n",
       "EmpDepartment_Human Resources              0.036028         -0.013257   \n",
       "EmpDepartment_Research & Development       0.038785          0.004992   \n",
       "EmpDepartment_Sales                       -0.034200         -0.000409   \n",
       "EmpJobRole_Data Scientist                  0.015503          0.007712   \n",
       "EmpJobRole_Delivery Manager                0.015656          0.014356   \n",
       "EmpJobRole_Developer                      -0.030634         -0.037743   \n",
       "EmpJobRole_Finance Manager                -0.012052          0.068456   \n",
       "EmpJobRole_Healthcare Representative       0.055928         -0.013387   \n",
       "EmpJobRole_Human Resources                -0.010781         -0.034595   \n",
       "EmpJobRole_Laboratory Technician          -0.078707          0.012881   \n",
       "EmpJobRole_Manager                         0.243837          0.004823   \n",
       "EmpJobRole_Manager R&D                     0.051105          0.001674   \n",
       "EmpJobRole_Manufacturing Director          0.058172          0.000329   \n",
       "EmpJobRole_Research Director               0.056260         -0.014008   \n",
       "EmpJobRole_Research Scientist             -0.048561         -0.004065   \n",
       "EmpJobRole_Sales Executive                -0.018004          0.024471   \n",
       "EmpJobRole_Sales Representative           -0.175906         -0.029538   \n",
       "EmpJobRole_Senior Developer               -0.002592          0.030235   \n",
       "EmpJobRole_Senior Manager R&D              0.005966          0.028001   \n",
       "EmpJobRole_Technical Architect            -0.024610         -0.001554   \n",
       "EmpJobRole_Technical Lead                  0.033584         -0.010074   \n",
       "BusinessTravelFrequency_Travel_Frequently -0.033992         -0.028573   \n",
       "BusinessTravelFrequency_Travel_Rarely      0.044678         -0.003420   \n",
       "OverTime_Yes                               0.051910          0.024940   \n",
       "Attrition_Yes                             -0.189317          0.063248   \n",
       "\n",
       "                                           EmpEducationLevel  \\\n",
       "Age                                                 0.207313   \n",
       "DistanceFromHome                                    0.045856   \n",
       "EmpEducationLevel                                   1.000000   \n",
       "EmpEnvironmentSatisfaction                         -0.037103   \n",
       "EmpHourlyRate                                       0.014095   \n",
       "EmpJobInvolvement                                   0.027544   \n",
       "EmpJobLevel                                         0.100734   \n",
       "EmpJobSatisfaction                                  0.000357   \n",
       "NumCompaniesWorked                                  0.128674   \n",
       "EmpLastSalaryHikePercent                            0.002358   \n",
       "EmpRelationshipSatisfaction                        -0.016690   \n",
       "TotalWorkExperienceInYears                          0.151062   \n",
       "TrainingTimesLastYear                              -0.013674   \n",
       "EmpWorkLifeBalance                                  0.010276   \n",
       "ExperienceYearsAtThisCompany                        0.076332   \n",
       "ExperienceYearsInCurrentRole                        0.066672   \n",
       "YearsSinceLastPromotion                             0.054313   \n",
       "YearsWithCurrManager                                0.088988   \n",
       "PerformanceRating                                   0.020529   \n",
       "Gender_Male                                        -0.022960   \n",
       "EducationBackground_Life Sciences                   0.019302   \n",
       "EducationBackground_Marketing                       0.067106   \n",
       "EducationBackground_Medical                        -0.083393   \n",
       "EducationBackground_Other                           0.042360   \n",
       "EducationBackground_Technical Degree               -0.026722   \n",
       "MaritalStatus_Married                              -0.009762   \n",
       "MaritalStatus_Single                                0.026154   \n",
       "EmpDepartment_Development                          -0.024709   \n",
       "EmpDepartment_Finance                               0.033356   \n",
       "EmpDepartment_Human Resources                       0.022359   \n",
       "EmpDepartment_Research & Development               -0.010829   \n",
       "EmpDepartment_Sales                                 0.015694   \n",
       "EmpJobRole_Data Scientist                          -0.017775   \n",
       "EmpJobRole_Delivery Manager                         0.026401   \n",
       "EmpJobRole_Developer                               -0.007292   \n",
       "EmpJobRole_Finance Manager                          0.033356   \n",
       "EmpJobRole_Healthcare Representative                0.007556   \n",
       "EmpJobRole_Human Resources                          0.007723   \n",
       "EmpJobRole_Laboratory Technician                   -0.018194   \n",
       "EmpJobRole_Manager                                  0.045449   \n",
       "EmpJobRole_Manager R&D                             -0.044262   \n",
       "EmpJobRole_Manufacturing Director                  -0.016857   \n",
       "EmpJobRole_Research Director                        0.038650   \n",
       "EmpJobRole_Research Scientist                       0.013938   \n",
       "EmpJobRole_Sales Executive                          0.059322   \n",
       "EmpJobRole_Sales Representative                    -0.104893   \n",
       "EmpJobRole_Senior Developer                        -0.040823   \n",
       "EmpJobRole_Senior Manager R&D                       0.047522   \n",
       "EmpJobRole_Technical Architect                     -0.002595   \n",
       "EmpJobRole_Technical Lead                          -0.017851   \n",
       "BusinessTravelFrequency_Travel_Frequently          -0.016728   \n",
       "BusinessTravelFrequency_Travel_Rarely               0.008658   \n",
       "OverTime_Yes                                       -0.021119   \n",
       "Attrition_Yes                                      -0.049118   \n",
       "\n",
       "                                           EmpEnvironmentSatisfaction  \\\n",
       "Age                                                          0.013814   \n",
       "DistanceFromHome                                            -0.017719   \n",
       "EmpEducationLevel                                           -0.037103   \n",
       "EmpEnvironmentSatisfaction                                   1.000000   \n",
       "EmpHourlyRate                                               -0.049501   \n",
       "EmpJobInvolvement                                            0.004865   \n",
       "EmpJobLevel                                                 -0.008272   \n",
       "EmpJobSatisfaction                                          -0.004319   \n",
       "NumCompaniesWorked                                           0.017270   \n",
       "EmpLastSalaryHikePercent                                    -0.047271   \n",
       "EmpRelationshipSatisfaction                                 -0.010504   \n",
       "TotalWorkExperienceInYears                                  -0.012894   \n",
       "TrainingTimesLastYear                                        0.001192   \n",
       "EmpWorkLifeBalance                                          -0.000262   \n",
       "ExperienceYearsAtThisCompany                                -0.000561   \n",
       "ExperienceYearsInCurrentRole                                 0.025491   \n",
       "YearsSinceLastPromotion                                      0.010732   \n",
       "YearsWithCurrManager                                        -0.011702   \n",
       "PerformanceRating                                            0.395561   \n",
       "Gender_Male                                                  0.000033   \n",
       "EducationBackground_Life Sciences                           -0.020500   \n",
       "EducationBackground_Marketing                               -0.009781   \n",
       "EducationBackground_Medical                                 -0.014552   \n",
       "EducationBackground_Other                                    0.069592   \n",
       "EducationBackground_Technical Degree                         0.023279   \n",
       "MaritalStatus_Married                                       -0.029582   \n",
       "MaritalStatus_Single                                        -0.009636   \n",
       "EmpDepartment_Development                                   -0.004027   \n",
       "EmpDepartment_Finance                                        0.022883   \n",
       "EmpDepartment_Human Resources                               -0.017165   \n",
       "EmpDepartment_Research & Development                         0.034632   \n",
       "EmpDepartment_Sales                                         -0.039648   \n",
       "EmpJobRole_Data Scientist                                    0.027965   \n",
       "EmpJobRole_Delivery Manager                                  0.056929   \n",
       "EmpJobRole_Developer                                        -0.063343   \n",
       "EmpJobRole_Finance Manager                                   0.022883   \n",
       "EmpJobRole_Healthcare Representative                         0.001765   \n",
       "EmpJobRole_Human Resources                                  -0.029020   \n",
       "EmpJobRole_Laboratory Technician                             0.004037   \n",
       "EmpJobRole_Manager                                           0.020813   \n",
       "EmpJobRole_Manager R&D                                       0.002025   \n",
       "EmpJobRole_Manufacturing Director                            0.057857   \n",
       "EmpJobRole_Research Director                                 0.014692   \n",
       "EmpJobRole_Research Scientist                                0.002748   \n",
       "EmpJobRole_Sales Executive                                  -0.033454   \n",
       "EmpJobRole_Sales Representative                             -0.011140   \n",
       "EmpJobRole_Senior Developer                                  0.055478   \n",
       "EmpJobRole_Senior Manager R&D                               -0.018835   \n",
       "EmpJobRole_Technical Architect                               0.040043   \n",
       "EmpJobRole_Technical Lead                                    0.047139   \n",
       "BusinessTravelFrequency_Travel_Frequently                   -0.019519   \n",
       "BusinessTravelFrequency_Travel_Rarely                        0.017441   \n",
       "OverTime_Yes                                                 0.064270   \n",
       "Attrition_Yes                                               -0.123490   \n",
       "\n",
       "                                           EmpHourlyRate  EmpJobInvolvement  \\\n",
       "Age                                             0.062867           0.027216   \n",
       "DistanceFromHome                                0.013730           0.003231   \n",
       "EmpEducationLevel                               0.014095           0.027544   \n",
       "EmpEnvironmentSatisfaction                     -0.049501           0.004865   \n",
       "EmpHourlyRate                                   1.000000           0.054741   \n",
       "EmpJobInvolvement                               0.054741           1.000000   \n",
       "EmpJobLevel                                    -0.018606          -0.034349   \n",
       "EmpJobSatisfaction                             -0.066417          -0.005501   \n",
       "NumCompaniesWorked                              0.040484           0.018211   \n",
       "EmpLastSalaryHikePercent                       -0.015934          -0.001742   \n",
       "EmpRelationshipSatisfaction                     0.008783           0.018037   \n",
       "TotalWorkExperienceInYears                      0.026034          -0.028851   \n",
       "TrainingTimesLastYear                          -0.024160          -0.025168   \n",
       "EmpWorkLifeBalance                              0.016189          -0.014129   \n",
       "ExperienceYearsAtThisCompany                   -0.000399          -0.039720   \n",
       "ExperienceYearsInCurrentRole                   -0.011871           0.002910   \n",
       "YearsSinceLastPromotion                        -0.010000          -0.019944   \n",
       "YearsWithCurrManager                           -0.004576           0.012924   \n",
       "PerformanceRating                              -0.043116          -0.010539   \n",
       "Gender_Male                                     0.002218           0.010949   \n",
       "EducationBackground_Life Sciences               0.042773           0.014430   \n",
       "EducationBackground_Marketing                   0.004736          -0.030540   \n",
       "EducationBackground_Medical                    -0.022987           0.025374   \n",
       "EducationBackground_Other                      -0.056412          -0.022184   \n",
       "EducationBackground_Technical Degree            0.014452          -0.026304   \n",
       "MaritalStatus_Married                           0.018056           0.026144   \n",
       "MaritalStatus_Single                           -0.020246          -0.047917   \n",
       "EmpDepartment_Development                      -0.004981           0.053643   \n",
       "EmpDepartment_Finance                           0.007274           0.042582   \n",
       "EmpDepartment_Human Resources                  -0.002987           0.014160   \n",
       "EmpDepartment_Research & Development            0.032619          -0.041649   \n",
       "EmpDepartment_Sales                            -0.022027          -0.045624   \n",
       "EmpJobRole_Data Scientist                      -0.024047           0.031003   \n",
       "EmpJobRole_Delivery Manager                    -0.041365           0.050001   \n",
       "EmpJobRole_Developer                            0.016015           0.018765   \n",
       "EmpJobRole_Finance Manager                      0.007274           0.042582   \n",
       "EmpJobRole_Healthcare Representative           -0.005901          -0.015463   \n",
       "EmpJobRole_Human Resources                     -0.009591          -0.005740   \n",
       "EmpJobRole_Laboratory Technician                0.030505          -0.035817   \n",
       "EmpJobRole_Manager                              0.028000          -0.013529   \n",
       "EmpJobRole_Manager R&D                          0.032656           0.027305   \n",
       "EmpJobRole_Manufacturing Director               0.014530          -0.029881   \n",
       "EmpJobRole_Research Director                    0.018950          -0.046292   \n",
       "EmpJobRole_Research Scientist                  -0.008684          -0.006439   \n",
       "EmpJobRole_Sales Executive                     -0.029836          -0.018492   \n",
       "EmpJobRole_Sales Representative                -0.010053          -0.037905   \n",
       "EmpJobRole_Senior Developer                    -0.012165           0.034471   \n",
       "EmpJobRole_Senior Manager R&D                  -0.021431          -0.010346   \n",
       "EmpJobRole_Technical Architect                 -0.055720           0.013597   \n",
       "EmpJobRole_Technical Lead                       0.022542           0.055183   \n",
       "BusinessTravelFrequency_Travel_Frequently      -0.017095           0.047272   \n",
       "BusinessTravelFrequency_Travel_Rarely           0.026186          -0.007729   \n",
       "OverTime_Yes                                   -0.032636          -0.011069   \n",
       "Attrition_Yes                                  -0.026313          -0.153360   \n",
       "\n",
       "                                           EmpJobLevel  EmpJobSatisfaction  \\\n",
       "Age                                           0.509139           -0.002436   \n",
       "DistanceFromHome                              0.017270           -0.003036   \n",
       "EmpEducationLevel                             0.100734            0.000357   \n",
       "EmpEnvironmentSatisfaction                   -0.008272           -0.004319   \n",
       "EmpHourlyRate                                -0.018606           -0.066417   \n",
       "EmpJobInvolvement                            -0.034349           -0.005501   \n",
       "EmpJobLevel                                   1.000000           -0.011853   \n",
       "EmpJobSatisfaction                           -0.011853            1.000000   \n",
       "NumCompaniesWorked                            0.127477           -0.049865   \n",
       "EmpLastSalaryHikePercent                     -0.020975            0.031847   \n",
       "EmpRelationshipSatisfaction                   0.002992           -0.022028   \n",
       "TotalWorkExperienceInYears                    0.784229           -0.026824   \n",
       "TrainingTimesLastYear                        -0.000389           -0.028031   \n",
       "EmpWorkLifeBalance                            0.049218           -0.018548   \n",
       "ExperienceYearsAtThisCompany                  0.540377            0.001807   \n",
       "ExperienceYearsInCurrentRole                  0.399235            0.002018   \n",
       "YearsSinceLastPromotion                       0.360880           -0.006508   \n",
       "YearsWithCurrManager                          0.374872           -0.022096   \n",
       "PerformanceRating                            -0.076632            0.000606   \n",
       "Gender_Male                                  -0.050685            0.024680   \n",
       "EducationBackground_Life Sciences            -0.001851            0.042511   \n",
       "EducationBackground_Marketing                 0.096435           -0.031796   \n",
       "EducationBackground_Medical                  -0.009550            0.015780   \n",
       "EducationBackground_Other                    -0.034510           -0.014433   \n",
       "EducationBackground_Technical Degree         -0.064666           -0.036304   \n",
       "MaritalStatus_Married                         0.049870            0.008498   \n",
       "MaritalStatus_Single                         -0.095051            0.030390   \n",
       "EmpDepartment_Development                    -0.076083            0.009193   \n",
       "EmpDepartment_Finance                        -0.023984           -0.014895   \n",
       "EmpDepartment_Human Resources                -0.002341           -0.034904   \n",
       "EmpDepartment_Research & Development         -0.040228           -0.007119   \n",
       "EmpDepartment_Sales                           0.124907            0.020906   \n",
       "EmpJobRole_Data Scientist                     0.003821           -0.003845   \n",
       "EmpJobRole_Delivery Manager                   0.016563            0.001598   \n",
       "EmpJobRole_Developer                         -0.075598            0.004058   \n",
       "EmpJobRole_Finance Manager                   -0.023984           -0.014895   \n",
       "EmpJobRole_Healthcare Representative          0.058775            0.008463   \n",
       "EmpJobRole_Human Resources                   -0.091252           -0.035725   \n",
       "EmpJobRole_Laboratory Technician             -0.178573           -0.029928   \n",
       "EmpJobRole_Manager                            0.431081           -0.005096   \n",
       "EmpJobRole_Manager R&D                        0.024240            0.000409   \n",
       "EmpJobRole_Manufacturing Director             0.086384           -0.010060   \n",
       "EmpJobRole_Research Director                  0.191207            0.018700   \n",
       "EmpJobRole_Research Scientist                -0.184863            0.020388   \n",
       "EmpJobRole_Sales Executive                    0.123940            0.018543   \n",
       "EmpJobRole_Sales Representative              -0.218709           -0.001765   \n",
       "EmpJobRole_Senior Developer                  -0.001885            0.014543   \n",
       "EmpJobRole_Senior Manager R&D                -0.000085           -0.006731   \n",
       "EmpJobRole_Technical Architect               -0.044196           -0.001268   \n",
       "EmpJobRole_Technical Lead                    -0.015320            0.018012   \n",
       "BusinessTravelFrequency_Travel_Frequently    -0.021289            0.033905   \n",
       "BusinessTravelFrequency_Travel_Rarely         0.036130           -0.037686   \n",
       "OverTime_Yes                                  0.030012            0.022315   \n",
       "Attrition_Yes                                -0.175763           -0.081783   \n",
       "\n",
       "                                           NumCompaniesWorked  \\\n",
       "Age                                                  0.284408   \n",
       "DistanceFromHome                                    -0.021411   \n",
       "EmpEducationLevel                                    0.128674   \n",
       "EmpEnvironmentSatisfaction                           0.017270   \n",
       "EmpHourlyRate                                        0.040484   \n",
       "EmpJobInvolvement                                    0.018211   \n",
       "EmpJobLevel                                          0.127477   \n",
       "EmpJobSatisfaction                                  -0.049865   \n",
       "NumCompaniesWorked                                   1.000000   \n",
       "EmpLastSalaryHikePercent                            -0.011788   \n",
       "EmpRelationshipSatisfaction                          0.057917   \n",
       "TotalWorkExperienceInYears                           0.221505   \n",
       "TrainingTimesLastYear                               -0.050817   \n",
       "EmpWorkLifeBalance                                   0.002489   \n",
       "ExperienceYearsAtThisCompany                        -0.129797   \n",
       "ExperienceYearsInCurrentRole                        -0.097271   \n",
       "YearsSinceLastPromotion                             -0.031656   \n",
       "YearsWithCurrManager                                -0.109937   \n",
       "PerformanceRating                                    0.020980   \n",
       "Gender_Male                                         -0.036675   \n",
       "EducationBackground_Life Sciences                    0.008114   \n",
       "EducationBackground_Marketing                       -0.007543   \n",
       "EducationBackground_Medical                          0.017833   \n",
       "EducationBackground_Other                           -0.041301   \n",
       "EducationBackground_Technical Degree                -0.021376   \n",
       "MaritalStatus_Married                               -0.035528   \n",
       "MaritalStatus_Single                                -0.004603   \n",
       "EmpDepartment_Development                            0.040440   \n",
       "EmpDepartment_Finance                               -0.029998   \n",
       "EmpDepartment_Human Resources                        0.040861   \n",
       "EmpDepartment_Research & Development                 0.007401   \n",
       "EmpDepartment_Sales                                 -0.044528   \n",
       "EmpJobRole_Data Scientist                           -0.029800   \n",
       "EmpJobRole_Delivery Manager                          0.047571   \n",
       "EmpJobRole_Developer                                 0.017888   \n",
       "EmpJobRole_Finance Manager                          -0.029998   \n",
       "EmpJobRole_Healthcare Representative                 0.002178   \n",
       "EmpJobRole_Human Resources                           0.049890   \n",
       "EmpJobRole_Laboratory Technician                    -0.008354   \n",
       "EmpJobRole_Manager                                   0.048676   \n",
       "EmpJobRole_Manager R&D                              -0.006923   \n",
       "EmpJobRole_Manufacturing Director                   -0.006080   \n",
       "EmpJobRole_Research Director                         0.071305   \n",
       "EmpJobRole_Research Scientist                       -0.025081   \n",
       "EmpJobRole_Sales Executive                          -0.008529   \n",
       "EmpJobRole_Sales Representative                     -0.108600   \n",
       "EmpJobRole_Senior Developer                          0.010645   \n",
       "EmpJobRole_Senior Manager R&D                        0.021347   \n",
       "EmpJobRole_Technical Architect                      -0.042803   \n",
       "EmpJobRole_Technical Lead                            0.068886   \n",
       "BusinessTravelFrequency_Travel_Frequently           -0.030979   \n",
       "BusinessTravelFrequency_Travel_Rarely                0.029175   \n",
       "OverTime_Yes                                        -0.013888   \n",
       "Attrition_Yes                                        0.037643   \n",
       "\n",
       "                                           EmpLastSalaryHikePercent  ...  \\\n",
       "Age                                                       -0.006105  ...   \n",
       "DistanceFromHome                                           0.044974  ...   \n",
       "EmpEducationLevel                                          0.002358  ...   \n",
       "EmpEnvironmentSatisfaction                                -0.047271  ...   \n",
       "EmpHourlyRate                                             -0.015934  ...   \n",
       "EmpJobInvolvement                                         -0.001742  ...   \n",
       "EmpJobLevel                                               -0.020975  ...   \n",
       "EmpJobSatisfaction                                         0.031847  ...   \n",
       "NumCompaniesWorked                                        -0.011788  ...   \n",
       "EmpLastSalaryHikePercent                                   1.000000  ...   \n",
       "EmpRelationshipSatisfaction                               -0.042892  ...   \n",
       "TotalWorkExperienceInYears                                -0.005933  ...   \n",
       "TrainingTimesLastYear                                     -0.013439  ...   \n",
       "EmpWorkLifeBalance                                        -0.017001  ...   \n",
       "ExperienceYearsAtThisCompany                              -0.019830  ...   \n",
       "ExperienceYearsInCurrentRole                              -0.004957  ...   \n",
       "YearsSinceLastPromotion                                   -0.015911  ...   \n",
       "YearsWithCurrManager                                      -0.007666  ...   \n",
       "PerformanceRating                                          0.333722  ...   \n",
       "Gender_Male                                               -0.005319  ...   \n",
       "EducationBackground_Life Sciences                          0.016142  ...   \n",
       "EducationBackground_Marketing                             -0.010471  ...   \n",
       "EducationBackground_Medical                               -0.002681  ...   \n",
       "EducationBackground_Other                                  0.030573  ...   \n",
       "EducationBackground_Technical Degree                      -0.027660  ...   \n",
       "MaritalStatus_Married                                      0.006033  ...   \n",
       "MaritalStatus_Single                                       0.004712  ...   \n",
       "EmpDepartment_Development                                 -0.003170  ...   \n",
       "EmpDepartment_Finance                                      0.008246  ...   \n",
       "EmpDepartment_Human Resources                             -0.028853  ...   \n",
       "EmpDepartment_Research & Development                       0.013579  ...   \n",
       "EmpDepartment_Sales                                       -0.012912  ...   \n",
       "EmpJobRole_Data Scientist                                  0.044092  ...   \n",
       "EmpJobRole_Delivery Manager                               -0.017724  ...   \n",
       "EmpJobRole_Developer                                      -0.007236  ...   \n",
       "EmpJobRole_Finance Manager                                 0.008246  ...   \n",
       "EmpJobRole_Healthcare Representative                      -0.021571  ...   \n",
       "EmpJobRole_Human Resources                                -0.019379  ...   \n",
       "EmpJobRole_Laboratory Technician                          -0.028897  ...   \n",
       "EmpJobRole_Manager                                         0.009862  ...   \n",
       "EmpJobRole_Manager R&D                                     0.019754  ...   \n",
       "EmpJobRole_Manufacturing Director                          0.002330  ...   \n",
       "EmpJobRole_Research Director                              -0.004103  ...   \n",
       "EmpJobRole_Research Scientist                              0.033653  ...   \n",
       "EmpJobRole_Sales Executive                                -0.028673  ...   \n",
       "EmpJobRole_Sales Representative                            0.015454  ...   \n",
       "EmpJobRole_Senior Developer                                0.003873  ...   \n",
       "EmpJobRole_Senior Manager R&D                              0.007579  ...   \n",
       "EmpJobRole_Technical Architect                            -0.034895  ...   \n",
       "EmpJobRole_Technical Lead                                  0.024350  ...   \n",
       "BusinessTravelFrequency_Travel_Frequently                 -0.012669  ...   \n",
       "BusinessTravelFrequency_Travel_Rarely                     -0.025831  ...   \n",
       "OverTime_Yes                                              -0.000778  ...   \n",
       "Attrition_Yes                                             -0.009448  ...   \n",
       "\n",
       "                                           EmpJobRole_Sales Executive  \\\n",
       "Age                                                         -0.018004   \n",
       "DistanceFromHome                                             0.024471   \n",
       "EmpEducationLevel                                            0.059322   \n",
       "EmpEnvironmentSatisfaction                                  -0.033454   \n",
       "EmpHourlyRate                                               -0.029836   \n",
       "EmpJobInvolvement                                           -0.018492   \n",
       "EmpJobLevel                                                  0.123940   \n",
       "EmpJobSatisfaction                                           0.018543   \n",
       "NumCompaniesWorked                                          -0.008529   \n",
       "EmpLastSalaryHikePercent                                    -0.028673   \n",
       "EmpRelationshipSatisfaction                                  0.000464   \n",
       "TotalWorkExperienceInYears                                  -0.019485   \n",
       "TrainingTimesLastYear                                        0.017105   \n",
       "EmpWorkLifeBalance                                           0.028760   \n",
       "ExperienceYearsAtThisCompany                                 0.047719   \n",
       "ExperienceYearsInCurrentRole                                 0.101791   \n",
       "YearsSinceLastPromotion                                      0.051173   \n",
       "YearsWithCurrManager                                         0.089434   \n",
       "PerformanceRating                                           -0.096385   \n",
       "Gender_Male                                                 -0.000510   \n",
       "EducationBackground_Life Sciences                           -0.083990   \n",
       "EducationBackground_Marketing                                0.446641   \n",
       "EducationBackground_Medical                                 -0.134331   \n",
       "EducationBackground_Other                                   -0.024947   \n",
       "EducationBackground_Technical Degree                        -0.083035   \n",
       "MaritalStatus_Married                                        0.014823   \n",
       "MaritalStatus_Single                                         0.011123   \n",
       "EmpDepartment_Development                                   -0.353438   \n",
       "EmpDepartment_Finance                                       -0.111173   \n",
       "EmpDepartment_Human Resources                               -0.116962   \n",
       "EmpDepartment_Research & Development                        -0.340876   \n",
       "EmpDepartment_Sales                                          0.802304   \n",
       "EmpJobRole_Data Scientist                                   -0.070148   \n",
       "EmpJobRole_Delivery Manager                                 -0.054153   \n",
       "EmpJobRole_Developer                                        -0.266599   \n",
       "EmpJobRole_Finance Manager                                  -0.111173   \n",
       "EmpJobRole_Healthcare Representative                        -0.090607   \n",
       "EmpJobRole_Human Resources                                  -0.106354   \n",
       "EmpJobRole_Laboratory Technician                            -0.127891   \n",
       "EmpJobRole_Manager                                          -0.113518   \n",
       "EmpJobRole_Manager R&D                                      -0.157082   \n",
       "EmpJobRole_Manufacturing Director                           -0.090607   \n",
       "EmpJobRole_Research Director                                -0.068343   \n",
       "EmpJobRole_Research Scientist                               -0.141090   \n",
       "EmpJobRole_Sales Executive                                   1.000000   \n",
       "EmpJobRole_Sales Representative                             -0.133086   \n",
       "EmpJobRole_Senior Developer                                 -0.114676   \n",
       "EmpJobRole_Senior Manager R&D                               -0.060622   \n",
       "EmpJobRole_Technical Architect                              -0.041273   \n",
       "EmpJobRole_Technical Lead                                   -0.097438   \n",
       "BusinessTravelFrequency_Travel_Frequently                   -0.025440   \n",
       "BusinessTravelFrequency_Travel_Rarely                        0.007220   \n",
       "OverTime_Yes                                                 0.006898   \n",
       "Attrition_Yes                                                0.022178   \n",
       "\n",
       "                                           EmpJobRole_Sales Representative  \\\n",
       "Age                                                              -0.175906   \n",
       "DistanceFromHome                                                 -0.029538   \n",
       "EmpEducationLevel                                                -0.104893   \n",
       "EmpEnvironmentSatisfaction                                       -0.011140   \n",
       "EmpHourlyRate                                                    -0.010053   \n",
       "EmpJobInvolvement                                                -0.037905   \n",
       "EmpJobLevel                                                      -0.218709   \n",
       "EmpJobSatisfaction                                               -0.001765   \n",
       "NumCompaniesWorked                                               -0.108600   \n",
       "EmpLastSalaryHikePercent                                          0.015454   \n",
       "EmpRelationshipSatisfaction                                      -0.033377   \n",
       "TotalWorkExperienceInYears                                       -0.212085   \n",
       "TrainingTimesLastYear                                             0.039052   \n",
       "EmpWorkLifeBalance                                                0.028944   \n",
       "ExperienceYearsAtThisCompany                                     -0.163844   \n",
       "ExperienceYearsInCurrentRole                                     -0.153727   \n",
       "YearsSinceLastPromotion                                          -0.084926   \n",
       "YearsWithCurrManager                                             -0.168104   \n",
       "PerformanceRating                                                -0.037512   \n",
       "Gender_Male                                                      -0.041632   \n",
       "EducationBackground_Life Sciences                                -0.060337   \n",
       "EducationBackground_Marketing                                     0.147712   \n",
       "EducationBackground_Medical                                      -0.046657   \n",
       "EducationBackground_Other                                        -0.028185   \n",
       "EducationBackground_Technical Degree                              0.055045   \n",
       "MaritalStatus_Married                                            -0.025224   \n",
       "MaritalStatus_Single                                              0.076125   \n",
       "EmpDepartment_Development                                        -0.162019   \n",
       "EmpDepartment_Finance                                            -0.050963   \n",
       "EmpDepartment_Human Resources                                    -0.053616   \n",
       "EmpDepartment_Research & Development                             -0.156261   \n",
       "EmpDepartment_Sales                                               0.367783   \n",
       "EmpJobRole_Data Scientist                                        -0.032156   \n",
       "EmpJobRole_Delivery Manager                                      -0.024824   \n",
       "EmpJobRole_Developer                                             -0.122211   \n",
       "EmpJobRole_Finance Manager                                       -0.050963   \n",
       "EmpJobRole_Healthcare Representative                             -0.041535   \n",
       "EmpJobRole_Human Resources                                       -0.048754   \n",
       "EmpJobRole_Laboratory Technician                                 -0.058627   \n",
       "EmpJobRole_Manager                                               -0.052038   \n",
       "EmpJobRole_Manager R&D                                           -0.072008   \n",
       "EmpJobRole_Manufacturing Director                                -0.041535   \n",
       "EmpJobRole_Research Director                                     -0.031329   \n",
       "EmpJobRole_Research Scientist                                    -0.064677   \n",
       "EmpJobRole_Sales Executive                                       -0.133086   \n",
       "EmpJobRole_Sales Representative                                   1.000000   \n",
       "EmpJobRole_Senior Developer                                      -0.052568   \n",
       "EmpJobRole_Senior Manager R&D                                    -0.027789   \n",
       "EmpJobRole_Technical Architect                                   -0.018920   \n",
       "EmpJobRole_Technical Lead                                        -0.044667   \n",
       "BusinessTravelFrequency_Travel_Frequently                         0.048261   \n",
       "BusinessTravelFrequency_Travel_Rarely                            -0.020762   \n",
       "OverTime_Yes                                                     -0.025905   \n",
       "Attrition_Yes                                                     0.138633   \n",
       "\n",
       "                                           EmpJobRole_Senior Developer  \\\n",
       "Age                                                          -0.002592   \n",
       "DistanceFromHome                                              0.030235   \n",
       "EmpEducationLevel                                            -0.040823   \n",
       "EmpEnvironmentSatisfaction                                    0.055478   \n",
       "EmpHourlyRate                                                -0.012165   \n",
       "EmpJobInvolvement                                             0.034471   \n",
       "EmpJobLevel                                                  -0.001885   \n",
       "EmpJobSatisfaction                                            0.014543   \n",
       "NumCompaniesWorked                                            0.010645   \n",
       "EmpLastSalaryHikePercent                                      0.003873   \n",
       "EmpRelationshipSatisfaction                                  -0.002665   \n",
       "TotalWorkExperienceInYears                                    0.037725   \n",
       "TrainingTimesLastYear                                        -0.019002   \n",
       "EmpWorkLifeBalance                                           -0.039206   \n",
       "ExperienceYearsAtThisCompany                                  0.017706   \n",
       "ExperienceYearsInCurrentRole                                  0.010009   \n",
       "YearsSinceLastPromotion                                       0.027839   \n",
       "YearsWithCurrManager                                          0.009873   \n",
       "PerformanceRating                                             0.021202   \n",
       "Gender_Male                                                   0.029990   \n",
       "EducationBackground_Life Sciences                             0.072232   \n",
       "EducationBackground_Marketing                                -0.076405   \n",
       "EducationBackground_Medical                                  -0.005615   \n",
       "EducationBackground_Other                                     0.002513   \n",
       "EducationBackground_Technical Degree                         -0.019745   \n",
       "MaritalStatus_Married                                         0.002082   \n",
       "MaritalStatus_Single                                         -0.049485   \n",
       "EmpDepartment_Development                                     0.324458   \n",
       "EmpDepartment_Finance                                        -0.043913   \n",
       "EmpDepartment_Human Resources                                -0.046199   \n",
       "EmpDepartment_Research & Development                         -0.134644   \n",
       "EmpDepartment_Sales                                          -0.142933   \n",
       "EmpJobRole_Data Scientist                                    -0.027708   \n",
       "EmpJobRole_Delivery Manager                                  -0.021390   \n",
       "EmpJobRole_Developer                                         -0.105305   \n",
       "EmpJobRole_Finance Manager                                   -0.043913   \n",
       "EmpJobRole_Healthcare Representative                         -0.035789   \n",
       "EmpJobRole_Human Resources                                   -0.042009   \n",
       "EmpJobRole_Laboratory Technician                             -0.050516   \n",
       "EmpJobRole_Manager                                           -0.044839   \n",
       "EmpJobRole_Manager R&D                                       -0.062046   \n",
       "EmpJobRole_Manufacturing Director                            -0.035789   \n",
       "EmpJobRole_Research Director                                 -0.026995   \n",
       "EmpJobRole_Research Scientist                                -0.055730   \n",
       "EmpJobRole_Sales Executive                                   -0.114676   \n",
       "EmpJobRole_Sales Representative                              -0.052568   \n",
       "EmpJobRole_Senior Developer                                   1.000000   \n",
       "EmpJobRole_Senior Manager R&D                                -0.023945   \n",
       "EmpJobRole_Technical Architect                               -0.016303   \n",
       "EmpJobRole_Technical Lead                                    -0.038487   \n",
       "BusinessTravelFrequency_Travel_Frequently                     0.004005   \n",
       "BusinessTravelFrequency_Travel_Rarely                        -0.014898   \n",
       "OverTime_Yes                                                  0.051228   \n",
       "Attrition_Yes                                                -0.008214   \n",
       "\n",
       "                                           EmpJobRole_Senior Manager R&D  \\\n",
       "Age                                                             0.005966   \n",
       "DistanceFromHome                                                0.028001   \n",
       "EmpEducationLevel                                               0.047522   \n",
       "EmpEnvironmentSatisfaction                                     -0.018835   \n",
       "EmpHourlyRate                                                  -0.021431   \n",
       "EmpJobInvolvement                                              -0.010346   \n",
       "EmpJobLevel                                                    -0.000085   \n",
       "EmpJobSatisfaction                                             -0.006731   \n",
       "NumCompaniesWorked                                              0.021347   \n",
       "EmpLastSalaryHikePercent                                        0.007579   \n",
       "EmpRelationshipSatisfaction                                    -0.047960   \n",
       "TotalWorkExperienceInYears                                      0.012559   \n",
       "TrainingTimesLastYear                                          -0.010616   \n",
       "EmpWorkLifeBalance                                             -0.012473   \n",
       "ExperienceYearsAtThisCompany                                    0.002211   \n",
       "ExperienceYearsInCurrentRole                                    0.024139   \n",
       "YearsSinceLastPromotion                                         0.011850   \n",
       "YearsWithCurrManager                                            0.003019   \n",
       "PerformanceRating                                              -0.032177   \n",
       "Gender_Male                                                    -0.000959   \n",
       "EducationBackground_Life Sciences                              -0.017538   \n",
       "EducationBackground_Marketing                                  -0.040391   \n",
       "EducationBackground_Medical                                     0.003216   \n",
       "EducationBackground_Other                                       0.038658   \n",
       "EducationBackground_Technical Degree                            0.047492   \n",
       "MaritalStatus_Married                                           0.047432   \n",
       "MaritalStatus_Single                                           -0.012863   \n",
       "EmpDepartment_Development                                      -0.073800   \n",
       "EmpDepartment_Finance                                          -0.023214   \n",
       "EmpDepartment_Human Resources                                  -0.024423   \n",
       "EmpDepartment_Research & Development                            0.177840   \n",
       "EmpDepartment_Sales                                            -0.075559   \n",
       "EmpJobRole_Data Scientist                                      -0.014647   \n",
       "EmpJobRole_Delivery Manager                                    -0.011308   \n",
       "EmpJobRole_Developer                                           -0.055668   \n",
       "EmpJobRole_Finance Manager                                     -0.023214   \n",
       "EmpJobRole_Healthcare Representative                           -0.018919   \n",
       "EmpJobRole_Human Resources                                     -0.022208   \n",
       "EmpJobRole_Laboratory Technician                               -0.026705   \n",
       "EmpJobRole_Manager                                             -0.023703   \n",
       "EmpJobRole_Manager R&D                                         -0.032800   \n",
       "EmpJobRole_Manufacturing Director                              -0.018919   \n",
       "EmpJobRole_Research Director                                   -0.014270   \n",
       "EmpJobRole_Research Scientist                                  -0.029461   \n",
       "EmpJobRole_Sales Executive                                     -0.060622   \n",
       "EmpJobRole_Sales Representative                                -0.027789   \n",
       "EmpJobRole_Senior Developer                                    -0.023945   \n",
       "EmpJobRole_Senior Manager R&D                                   1.000000   \n",
       "EmpJobRole_Technical Architect                                 -0.008618   \n",
       "EmpJobRole_Technical Lead                                      -0.020346   \n",
       "BusinessTravelFrequency_Travel_Frequently                       0.004346   \n",
       "BusinessTravelFrequency_Travel_Rarely                          -0.025904   \n",
       "OverTime_Yes                                                   -0.039711   \n",
       "Attrition_Yes                                                  -0.004748   \n",
       "\n",
       "                                           EmpJobRole_Technical Architect  \\\n",
       "Age                                                             -0.024610   \n",
       "DistanceFromHome                                                -0.001554   \n",
       "EmpEducationLevel                                               -0.002595   \n",
       "EmpEnvironmentSatisfaction                                       0.040043   \n",
       "EmpHourlyRate                                                   -0.055720   \n",
       "EmpJobInvolvement                                                0.013597   \n",
       "EmpJobLevel                                                     -0.044196   \n",
       "EmpJobSatisfaction                                              -0.001268   \n",
       "NumCompaniesWorked                                              -0.042803   \n",
       "EmpLastSalaryHikePercent                                        -0.034895   \n",
       "EmpRelationshipSatisfaction                                      0.060302   \n",
       "TotalWorkExperienceInYears                                      -0.069232   \n",
       "TrainingTimesLastYear                                            0.038984   \n",
       "EmpWorkLifeBalance                                              -0.003274   \n",
       "ExperienceYearsAtThisCompany                                    -0.055365   \n",
       "ExperienceYearsInCurrentRole                                    -0.069802   \n",
       "YearsSinceLastPromotion                                         -0.031804   \n",
       "YearsWithCurrManager                                            -0.045548   \n",
       "PerformanceRating                                                0.007631   \n",
       "Gender_Male                                                      0.017249   \n",
       "EducationBackground_Life Sciences                                0.002892   \n",
       "EducationBackground_Marketing                                   -0.027499   \n",
       "EducationBackground_Medical                                     -0.005630   \n",
       "EducationBackground_Other                                        0.029519   \n",
       "EducationBackground_Technical Degree                             0.016497   \n",
       "MaritalStatus_Married                                           -0.004320   \n",
       "MaritalStatus_Single                                            -0.005630   \n",
       "EmpDepartment_Development                                        0.116777   \n",
       "EmpDepartment_Finance                                           -0.015805   \n",
       "EmpDepartment_Human Resources                                   -0.016628   \n",
       "EmpDepartment_Research & Development                            -0.048460   \n",
       "EmpDepartment_Sales                                             -0.051443   \n",
       "EmpJobRole_Data Scientist                                       -0.009972   \n",
       "EmpJobRole_Delivery Manager                                     -0.007699   \n",
       "EmpJobRole_Developer                                            -0.037901   \n",
       "EmpJobRole_Finance Manager                                      -0.015805   \n",
       "EmpJobRole_Healthcare Representative                            -0.012881   \n",
       "EmpJobRole_Human Resources                                      -0.015120   \n",
       "EmpJobRole_Laboratory Technician                                -0.018181   \n",
       "EmpJobRole_Manager                                              -0.016138   \n",
       "EmpJobRole_Manager R&D                                          -0.022331   \n",
       "EmpJobRole_Manufacturing Director                               -0.012881   \n",
       "EmpJobRole_Research Director                                    -0.009716   \n",
       "EmpJobRole_Research Scientist                                   -0.020058   \n",
       "EmpJobRole_Sales Executive                                      -0.041273   \n",
       "EmpJobRole_Sales Representative                                 -0.018920   \n",
       "EmpJobRole_Senior Developer                                     -0.016303   \n",
       "EmpJobRole_Senior Manager R&D                                   -0.008618   \n",
       "EmpJobRole_Technical Architect                                   1.000000   \n",
       "EmpJobRole_Technical Lead                                       -0.013852   \n",
       "BusinessTravelFrequency_Travel_Frequently                       -0.036495   \n",
       "BusinessTravelFrequency_Travel_Rarely                            0.025555   \n",
       "OverTime_Yes                                                     0.022594   \n",
       "Attrition_Yes                                                    0.029607   \n",
       "\n",
       "                                           EmpJobRole_Technical Lead  \\\n",
       "Age                                                         0.033584   \n",
       "DistanceFromHome                                           -0.010074   \n",
       "EmpEducationLevel                                          -0.017851   \n",
       "EmpEnvironmentSatisfaction                                  0.047139   \n",
       "EmpHourlyRate                                               0.022542   \n",
       "EmpJobInvolvement                                           0.055183   \n",
       "EmpJobLevel                                                -0.015320   \n",
       "EmpJobSatisfaction                                          0.018012   \n",
       "NumCompaniesWorked                                          0.068886   \n",
       "EmpLastSalaryHikePercent                                    0.024350   \n",
       "EmpRelationshipSatisfaction                                -0.011286   \n",
       "TotalWorkExperienceInYears                                 -0.007046   \n",
       "TrainingTimesLastYear                                      -0.010783   \n",
       "EmpWorkLifeBalance                                         -0.063161   \n",
       "ExperienceYearsAtThisCompany                               -0.006065   \n",
       "ExperienceYearsInCurrentRole                               -0.002745   \n",
       "YearsSinceLastPromotion                                    -0.019771   \n",
       "YearsWithCurrManager                                       -0.006708   \n",
       "PerformanceRating                                           0.045541   \n",
       "Gender_Male                                                 0.010137   \n",
       "EducationBackground_Life Sciences                           0.013740   \n",
       "EducationBackground_Marketing                              -0.064921   \n",
       "EducationBackground_Medical                                 0.049377   \n",
       "EducationBackground_Other                                  -0.043627   \n",
       "EducationBackground_Technical Degree                        0.014349   \n",
       "MaritalStatus_Married                                      -0.012929   \n",
       "MaritalStatus_Single                                       -0.001632   \n",
       "EmpDepartment_Development                                   0.275687   \n",
       "EmpDepartment_Finance                                      -0.037312   \n",
       "EmpDepartment_Human Resources                              -0.039255   \n",
       "EmpDepartment_Research & Development                       -0.114405   \n",
       "EmpDepartment_Sales                                        -0.121448   \n",
       "EmpJobRole_Data Scientist                                  -0.023543   \n",
       "EmpJobRole_Delivery Manager                                -0.018175   \n",
       "EmpJobRole_Developer                                       -0.089476   \n",
       "EmpJobRole_Finance Manager                                 -0.037312   \n",
       "EmpJobRole_Healthcare Representative                       -0.030410   \n",
       "EmpJobRole_Human Resources                                 -0.035695   \n",
       "EmpJobRole_Laboratory Technician                           -0.042923   \n",
       "EmpJobRole_Manager                                         -0.038099   \n",
       "EmpJobRole_Manager R&D                                     -0.052720   \n",
       "EmpJobRole_Manufacturing Director                          -0.030410   \n",
       "EmpJobRole_Research Director                               -0.022937   \n",
       "EmpJobRole_Research Scientist                              -0.047353   \n",
       "EmpJobRole_Sales Executive                                 -0.097438   \n",
       "EmpJobRole_Sales Representative                            -0.044667   \n",
       "EmpJobRole_Senior Developer                                -0.038487   \n",
       "EmpJobRole_Senior Manager R&D                              -0.020346   \n",
       "EmpJobRole_Technical Architect                             -0.013852   \n",
       "EmpJobRole_Technical Lead                                   1.000000   \n",
       "BusinessTravelFrequency_Travel_Frequently                  -0.012623   \n",
       "BusinessTravelFrequency_Travel_Rarely                      -0.018679   \n",
       "OverTime_Yes                                               -0.012306   \n",
       "Attrition_Yes                                              -0.062081   \n",
       "\n",
       "                                           BusinessTravelFrequency_Travel_Frequently  \\\n",
       "Age                                                                        -0.033992   \n",
       "DistanceFromHome                                                           -0.028573   \n",
       "EmpEducationLevel                                                          -0.016728   \n",
       "EmpEnvironmentSatisfaction                                                 -0.019519   \n",
       "EmpHourlyRate                                                              -0.017095   \n",
       "EmpJobInvolvement                                                           0.047272   \n",
       "EmpJobLevel                                                                -0.021289   \n",
       "EmpJobSatisfaction                                                          0.033905   \n",
       "NumCompaniesWorked                                                         -0.030979   \n",
       "EmpLastSalaryHikePercent                                                   -0.012669   \n",
       "EmpRelationshipSatisfaction                                                 0.036028   \n",
       "TotalWorkExperienceInYears                                                 -0.022651   \n",
       "TrainingTimesLastYear                                                       0.017919   \n",
       "EmpWorkLifeBalance                                                          0.030070   \n",
       "ExperienceYearsAtThisCompany                                                0.008536   \n",
       "ExperienceYearsInCurrentRole                                               -0.023616   \n",
       "YearsSinceLastPromotion                                                     0.002596   \n",
       "YearsWithCurrManager                                                        0.010118   \n",
       "PerformanceRating                                                           0.022634   \n",
       "Gender_Male                                                                -0.013714   \n",
       "EducationBackground_Life Sciences                                          -0.000087   \n",
       "EducationBackground_Marketing                                              -0.009077   \n",
       "EducationBackground_Medical                                                 0.004417   \n",
       "EducationBackground_Other                                                   0.007437   \n",
       "EducationBackground_Technical Degree                                       -0.019412   \n",
       "MaritalStatus_Married                                                      -0.040413   \n",
       "MaritalStatus_Single                                                        0.027420   \n",
       "EmpDepartment_Development                                                  -0.013032   \n",
       "EmpDepartment_Finance                                                      -0.011549   \n",
       "EmpDepartment_Human Resources                                               0.000104   \n",
       "EmpDepartment_Research & Development                                        0.040589   \n",
       "EmpDepartment_Sales                                                        -0.018571   \n",
       "EmpJobRole_Data Scientist                                                  -0.011735   \n",
       "EmpJobRole_Delivery Manager                                                -0.047884   \n",
       "EmpJobRole_Developer                                                        0.007235   \n",
       "EmpJobRole_Finance Manager                                                 -0.011549   \n",
       "EmpJobRole_Healthcare Representative                                       -0.001378   \n",
       "EmpJobRole_Human Resources                                                  0.007625   \n",
       "EmpJobRole_Laboratory Technician                                            0.030182   \n",
       "EmpJobRole_Manager                                                         -0.047183   \n",
       "EmpJobRole_Manager R&D                                                      0.012859   \n",
       "EmpJobRole_Manufacturing Director                                           0.011745   \n",
       "EmpJobRole_Research Director                                                0.008338   \n",
       "EmpJobRole_Research Scientist                                               0.015370   \n",
       "EmpJobRole_Sales Executive                                                 -0.025440   \n",
       "EmpJobRole_Sales Representative                                             0.048261   \n",
       "EmpJobRole_Senior Developer                                                 0.004005   \n",
       "EmpJobRole_Senior Manager R&D                                               0.004346   \n",
       "EmpJobRole_Technical Architect                                             -0.036495   \n",
       "EmpJobRole_Technical Lead                                                  -0.012623   \n",
       "BusinessTravelFrequency_Travel_Frequently                                   1.000000   \n",
       "BusinessTravelFrequency_Travel_Rarely                                      -0.736530   \n",
       "OverTime_Yes                                                                0.036242   \n",
       "Attrition_Yes                                                               0.115146   \n",
       "\n",
       "                                           BusinessTravelFrequency_Travel_Rarely  \\\n",
       "Age                                                                     0.044678   \n",
       "DistanceFromHome                                                       -0.003420   \n",
       "EmpEducationLevel                                                       0.008658   \n",
       "EmpEnvironmentSatisfaction                                              0.017441   \n",
       "EmpHourlyRate                                                           0.026186   \n",
       "EmpJobInvolvement                                                      -0.007729   \n",
       "EmpJobLevel                                                             0.036130   \n",
       "EmpJobSatisfaction                                                     -0.037686   \n",
       "NumCompaniesWorked                                                      0.029175   \n",
       "EmpLastSalaryHikePercent                                               -0.025831   \n",
       "EmpRelationshipSatisfaction                                            -0.039684   \n",
       "TotalWorkExperienceInYears                                              0.041456   \n",
       "TrainingTimesLastYear                                                  -0.002626   \n",
       "EmpWorkLifeBalance                                                     -0.043299   \n",
       "ExperienceYearsAtThisCompany                                           -0.014821   \n",
       "ExperienceYearsInCurrentRole                                            0.005185   \n",
       "YearsSinceLastPromotion                                                -0.016606   \n",
       "YearsWithCurrManager                                                   -0.025205   \n",
       "PerformanceRating                                                      -0.032731   \n",
       "Gender_Male                                                            -0.026623   \n",
       "EducationBackground_Life Sciences                                      -0.006910   \n",
       "EducationBackground_Marketing                                           0.036861   \n",
       "EducationBackground_Medical                                            -0.018490   \n",
       "EducationBackground_Other                                               0.003767   \n",
       "EducationBackground_Technical Degree                                    0.016529   \n",
       "MaritalStatus_Married                                                   0.075790   \n",
       "MaritalStatus_Single                                                   -0.026324   \n",
       "EmpDepartment_Development                                               0.029863   \n",
       "EmpDepartment_Finance                                                   0.022668   \n",
       "EmpDepartment_Human Resources                                           0.008198   \n",
       "EmpDepartment_Research & Development                                   -0.072051   \n",
       "EmpDepartment_Sales                                                     0.015931   \n",
       "EmpJobRole_Data Scientist                                               0.041394   \n",
       "EmpJobRole_Delivery Manager                                             0.065013   \n",
       "EmpJobRole_Developer                                                    0.025837   \n",
       "EmpJobRole_Finance Manager                                              0.022668   \n",
       "EmpJobRole_Healthcare Representative                                    0.019387   \n",
       "EmpJobRole_Human Resources                                              0.002645   \n",
       "EmpJobRole_Laboratory Technician                                       -0.017241   \n",
       "EmpJobRole_Manager                                                      0.045699   \n",
       "EmpJobRole_Manager R&D                                                 -0.029039   \n",
       "EmpJobRole_Manufacturing Director                                      -0.014135   \n",
       "EmpJobRole_Research Director                                           -0.020421   \n",
       "EmpJobRole_Research Scientist                                          -0.061781   \n",
       "EmpJobRole_Sales Executive                                              0.007220   \n",
       "EmpJobRole_Sales Representative                                        -0.020762   \n",
       "EmpJobRole_Senior Developer                                            -0.014898   \n",
       "EmpJobRole_Senior Manager R&D                                          -0.025904   \n",
       "EmpJobRole_Technical Architect                                          0.025555   \n",
       "EmpJobRole_Technical Lead                                              -0.018679   \n",
       "BusinessTravelFrequency_Travel_Frequently                              -0.736530   \n",
       "BusinessTravelFrequency_Travel_Rarely                                   1.000000   \n",
       "OverTime_Yes                                                            0.008562   \n",
       "Attrition_Yes                                                          -0.043648   \n",
       "\n",
       "                                           OverTime_Yes  Attrition_Yes  \n",
       "Age                                            0.051910      -0.189317  \n",
       "DistanceFromHome                               0.024940       0.063248  \n",
       "EmpEducationLevel                             -0.021119      -0.049118  \n",
       "EmpEnvironmentSatisfaction                     0.064270      -0.123490  \n",
       "EmpHourlyRate                                 -0.032636      -0.026313  \n",
       "EmpJobInvolvement                             -0.011069      -0.153360  \n",
       "EmpJobLevel                                    0.030012      -0.175763  \n",
       "EmpJobSatisfaction                             0.022315      -0.081783  \n",
       "NumCompaniesWorked                            -0.013888       0.037643  \n",
       "EmpLastSalaryHikePercent                      -0.000778      -0.009448  \n",
       "EmpRelationshipSatisfaction                    0.034146      -0.037179  \n",
       "TotalWorkExperienceInYears                     0.044233      -0.185226  \n",
       "TrainingTimesLastYear                         -0.061398      -0.035047  \n",
       "EmpWorkLifeBalance                            -0.027968      -0.068624  \n",
       "ExperienceYearsAtThisCompany                   0.004295      -0.142456  \n",
       "ExperienceYearsInCurrentRole                  -0.015674      -0.173895  \n",
       "YearsSinceLastPromotion                        0.000261      -0.057199  \n",
       "YearsWithCurrManager                          -0.028447      -0.158745  \n",
       "PerformanceRating                              0.050206      -0.039796  \n",
       "Gender_Male                                   -0.038410       0.035758  \n",
       "EducationBackground_Life Sciences             -0.021306      -0.033274  \n",
       "EducationBackground_Marketing                  0.004021       0.071354  \n",
       "EducationBackground_Medical                    0.015839      -0.060113  \n",
       "EducationBackground_Other                      0.028758      -0.018409  \n",
       "EducationBackground_Technical Degree          -0.022608       0.077761  \n",
       "MaritalStatus_Married                         -0.011761      -0.109607  \n",
       "MaritalStatus_Single                          -0.011605       0.186168  \n",
       "EmpDepartment_Development                      0.055053      -0.013028  \n",
       "EmpDepartment_Finance                         -0.022309      -0.050567  \n",
       "EmpDepartment_Human Resources                 -0.016629      -0.000113  \n",
       "EmpDepartment_Research & Development          -0.019831      -0.035694  \n",
       "EmpDepartment_Sales                           -0.006813       0.074322  \n",
       "EmpJobRole_Data Scientist                     -0.041190      -0.017704  \n",
       "EmpJobRole_Delivery Manager                    0.027019      -0.041944  \n",
       "EmpJobRole_Developer                           0.044063       0.029454  \n",
       "EmpJobRole_Finance Manager                    -0.022309      -0.050567  \n",
       "EmpJobRole_Healthcare Representative           0.003271      -0.055842  \n",
       "EmpJobRole_Human Resources                    -0.031165       0.016352  \n",
       "EmpJobRole_Laboratory Technician              -0.071841       0.036590  \n",
       "EmpJobRole_Manager                            -0.000023      -0.064679  \n",
       "EmpJobRole_Manager R&D                        -0.004435      -0.016957  \n",
       "EmpJobRole_Manufacturing Director              0.036820      -0.027168  \n",
       "EmpJobRole_Research Director                   0.006019      -0.052934  \n",
       "EmpJobRole_Research Scientist                  0.032458       0.015101  \n",
       "EmpJobRole_Sales Executive                     0.006898       0.022178  \n",
       "EmpJobRole_Sales Representative               -0.025905       0.138633  \n",
       "EmpJobRole_Senior Developer                    0.051228      -0.008214  \n",
       "EmpJobRole_Senior Manager R&D                 -0.039711      -0.004748  \n",
       "EmpJobRole_Technical Architect                 0.022594       0.029607  \n",
       "EmpJobRole_Technical Lead                     -0.012306      -0.062081  \n",
       "BusinessTravelFrequency_Travel_Frequently      0.036242       0.115146  \n",
       "BusinessTravelFrequency_Travel_Rarely          0.008562      -0.043648  \n",
       "OverTime_Yes                                   1.000000       0.224535  \n",
       "Attrition_Yes                                  0.224535       1.000000  \n",
       "\n",
       "[54 rows x 54 columns]"
      ]
     },
     "execution_count": 25,
     "metadata": {},
     "output_type": "execute_result"
    }
   ],
   "source": [
    "df1.corr()"
   ]
  },
  {
   "cell_type": "code",
   "execution_count": null,
   "metadata": {},
   "outputs": [],
   "source": []
  },
  {
   "cell_type": "markdown",
   "metadata": {},
   "source": [
    "# Logistic regression"
   ]
  },
  {
   "cell_type": "code",
   "execution_count": 26,
   "metadata": {},
   "outputs": [],
   "source": [
    "from sklearn.linear_model import LogisticRegression\n",
    "lgr_model=LogisticRegression()"
   ]
  },
  {
   "cell_type": "markdown",
   "metadata": {},
   "source": [
    "### Train data"
   ]
  },
  {
   "cell_type": "code",
   "execution_count": 27,
   "metadata": {},
   "outputs": [
    {
     "data": {
      "text/plain": [
       "LogisticRegression(C=1.0, class_weight=None, dual=False, fit_intercept=True,\n",
       "                   intercept_scaling=1, l1_ratio=None, max_iter=100,\n",
       "                   multi_class='warn', n_jobs=None, penalty='l2',\n",
       "                   random_state=None, solver='warn', tol=0.0001, verbose=0,\n",
       "                   warm_start=False)"
      ]
     },
     "execution_count": 27,
     "metadata": {},
     "output_type": "execute_result"
    }
   ],
   "source": [
    "lgr_model.fit(X_train_scaled,y_train)"
   ]
  },
  {
   "cell_type": "code",
   "execution_count": 28,
   "metadata": {},
   "outputs": [],
   "source": [
    "y_train_lgr_pred=lgr_model.predict(X_train_scaled)"
   ]
  },
  {
   "cell_type": "code",
   "execution_count": 29,
   "metadata": {},
   "outputs": [],
   "source": [
    "from sklearn import metrics"
   ]
  },
  {
   "cell_type": "code",
   "execution_count": 30,
   "metadata": {},
   "outputs": [
    {
     "name": "stdout",
     "output_type": "stream",
     "text": [
      "              precision    recall  f1-score   support\n",
      "\n",
      "           2       0.75      0.61      0.67       142\n",
      "           3       0.86      0.94      0.90       598\n",
      "           4       0.84      0.58      0.69       100\n",
      "\n",
      "    accuracy                           0.84       840\n",
      "   macro avg       0.82      0.71      0.75       840\n",
      "weighted avg       0.84      0.84      0.84       840\n",
      "\n"
     ]
    }
   ],
   "source": [
    "print(metrics.classification_report(y_train,y_train_lgr_pred))"
   ]
  },
  {
   "cell_type": "code",
   "execution_count": 31,
   "metadata": {},
   "outputs": [
    {
     "data": {
      "text/plain": [
       "array([[ 87,  54,   1],\n",
       "       [ 25, 563,  10],\n",
       "       [  4,  38,  58]], dtype=int64)"
      ]
     },
     "execution_count": 31,
     "metadata": {},
     "output_type": "execute_result"
    }
   ],
   "source": [
    "metrics.confusion_matrix(y_train,y_train_lgr_pred)"
   ]
  },
  {
   "cell_type": "code",
   "execution_count": 32,
   "metadata": {},
   "outputs": [
    {
     "data": {
      "text/plain": [
       "0.8428571428571429"
      ]
     },
     "execution_count": 32,
     "metadata": {},
     "output_type": "execute_result"
    }
   ],
   "source": [
    "metrics.accuracy_score(y_train,y_train_lgr_pred)"
   ]
  },
  {
   "cell_type": "markdown",
   "metadata": {},
   "source": [
    "### Test data"
   ]
  },
  {
   "cell_type": "code",
   "execution_count": 33,
   "metadata": {},
   "outputs": [
    {
     "data": {
      "text/plain": [
       "LogisticRegression(C=1.0, class_weight=None, dual=False, fit_intercept=True,\n",
       "                   intercept_scaling=1, l1_ratio=None, max_iter=100,\n",
       "                   multi_class='warn', n_jobs=None, penalty='l2',\n",
       "                   random_state=None, solver='warn', tol=0.0001, verbose=0,\n",
       "                   warm_start=False)"
      ]
     },
     "execution_count": 33,
     "metadata": {},
     "output_type": "execute_result"
    }
   ],
   "source": [
    "lgr_model.fit(X_test_scaled,y_test)"
   ]
  },
  {
   "cell_type": "code",
   "execution_count": 34,
   "metadata": {},
   "outputs": [],
   "source": [
    "y_test_lgr_pred=lgr_model.predict(X_test_scaled)"
   ]
  },
  {
   "cell_type": "code",
   "execution_count": 35,
   "metadata": {},
   "outputs": [
    {
     "name": "stdout",
     "output_type": "stream",
     "text": [
      "              precision    recall  f1-score   support\n",
      "\n",
      "           2       0.84      0.73      0.78        52\n",
      "           3       0.91      0.96      0.93       276\n",
      "           4       0.83      0.59      0.69        32\n",
      "\n",
      "    accuracy                           0.89       360\n",
      "   macro avg       0.86      0.76      0.80       360\n",
      "weighted avg       0.89      0.89      0.89       360\n",
      "\n"
     ]
    }
   ],
   "source": [
    "print(metrics.classification_report(y_test,y_test_lgr_pred))"
   ]
  },
  {
   "cell_type": "code",
   "execution_count": 36,
   "metadata": {},
   "outputs": [
    {
     "data": {
      "text/plain": [
       "array([[ 38,  14,   0],\n",
       "       [  7, 265,   4],\n",
       "       [  0,  13,  19]], dtype=int64)"
      ]
     },
     "execution_count": 36,
     "metadata": {},
     "output_type": "execute_result"
    }
   ],
   "source": [
    "metrics.confusion_matrix(y_test,y_test_lgr_pred)"
   ]
  },
  {
   "cell_type": "code",
   "execution_count": 37,
   "metadata": {},
   "outputs": [
    {
     "data": {
      "text/plain": [
       "0.8944444444444445"
      ]
     },
     "execution_count": 37,
     "metadata": {},
     "output_type": "execute_result"
    }
   ],
   "source": [
    "metrics.accuracy_score(y_test,y_test_lgr_pred)"
   ]
  },
  {
   "cell_type": "markdown",
   "metadata": {},
   "source": [
    "# KNN"
   ]
  },
  {
   "cell_type": "code",
   "execution_count": 38,
   "metadata": {},
   "outputs": [],
   "source": [
    "from sklearn.neighbors import KNeighborsClassifier\n",
    "knn_class=KNeighborsClassifier(n_neighbors=10)"
   ]
  },
  {
   "cell_type": "markdown",
   "metadata": {},
   "source": [
    "### Train data"
   ]
  },
  {
   "cell_type": "code",
   "execution_count": 39,
   "metadata": {},
   "outputs": [
    {
     "data": {
      "text/plain": [
       "KNeighborsClassifier(algorithm='auto', leaf_size=30, metric='minkowski',\n",
       "                     metric_params=None, n_jobs=None, n_neighbors=10, p=2,\n",
       "                     weights='uniform')"
      ]
     },
     "execution_count": 39,
     "metadata": {},
     "output_type": "execute_result"
    }
   ],
   "source": [
    "knn_class.fit(X_train_scaled,y_train)"
   ]
  },
  {
   "cell_type": "code",
   "execution_count": 40,
   "metadata": {},
   "outputs": [],
   "source": [
    "y_train_knn_pred=knn_class.predict(X_train_scaled)"
   ]
  },
  {
   "cell_type": "code",
   "execution_count": 41,
   "metadata": {},
   "outputs": [
    {
     "name": "stdout",
     "output_type": "stream",
     "text": [
      "              precision    recall  f1-score   support\n",
      "\n",
      "           2       0.70      0.22      0.33       142\n",
      "           3       0.75      0.98      0.85       598\n",
      "           4       0.90      0.09      0.16       100\n",
      "\n",
      "    accuracy                           0.75       840\n",
      "   macro avg       0.78      0.43      0.45       840\n",
      "weighted avg       0.76      0.75      0.68       840\n",
      "\n"
     ]
    }
   ],
   "source": [
    "print(metrics.classification_report(y_train,y_train_knn_pred))"
   ]
  },
  {
   "cell_type": "code",
   "execution_count": 42,
   "metadata": {},
   "outputs": [
    {
     "data": {
      "text/plain": [
       "array([[ 31, 111,   0],\n",
       "       [  9, 588,   1],\n",
       "       [  4,  87,   9]], dtype=int64)"
      ]
     },
     "execution_count": 42,
     "metadata": {},
     "output_type": "execute_result"
    }
   ],
   "source": [
    "metrics.confusion_matrix(y_train,y_train_knn_pred)"
   ]
  },
  {
   "cell_type": "code",
   "execution_count": 43,
   "metadata": {},
   "outputs": [
    {
     "data": {
      "text/plain": [
       "0.7476190476190476"
      ]
     },
     "execution_count": 43,
     "metadata": {},
     "output_type": "execute_result"
    }
   ],
   "source": [
    "metrics.accuracy_score(y_train,y_train_knn_pred)"
   ]
  },
  {
   "cell_type": "markdown",
   "metadata": {},
   "source": [
    "### Test data"
   ]
  },
  {
   "cell_type": "code",
   "execution_count": 44,
   "metadata": {},
   "outputs": [
    {
     "data": {
      "text/plain": [
       "KNeighborsClassifier(algorithm='auto', leaf_size=30, metric='minkowski',\n",
       "                     metric_params=None, n_jobs=None, n_neighbors=10, p=2,\n",
       "                     weights='uniform')"
      ]
     },
     "execution_count": 44,
     "metadata": {},
     "output_type": "execute_result"
    }
   ],
   "source": [
    "knn_class.fit(X_test_scaled,y_test)"
   ]
  },
  {
   "cell_type": "code",
   "execution_count": 45,
   "metadata": {},
   "outputs": [],
   "source": [
    "y_test_knn_pred=knn_class.predict(X_test_scaled)"
   ]
  },
  {
   "cell_type": "code",
   "execution_count": 46,
   "metadata": {},
   "outputs": [
    {
     "name": "stdout",
     "output_type": "stream",
     "text": [
      "              precision    recall  f1-score   support\n",
      "\n",
      "           2       0.75      0.17      0.28        52\n",
      "           3       0.78      0.99      0.87       276\n",
      "           4       0.00      0.00      0.00        32\n",
      "\n",
      "    accuracy                           0.78       360\n",
      "   macro avg       0.51      0.39      0.39       360\n",
      "weighted avg       0.71      0.78      0.71       360\n",
      "\n"
     ]
    }
   ],
   "source": [
    "print(metrics.classification_report(y_test,y_test_knn_pred))"
   ]
  },
  {
   "cell_type": "code",
   "execution_count": 47,
   "metadata": {},
   "outputs": [
    {
     "data": {
      "text/plain": [
       "array([[  9,  43,   0],\n",
       "       [  3, 273,   0],\n",
       "       [  0,  32,   0]], dtype=int64)"
      ]
     },
     "execution_count": 47,
     "metadata": {},
     "output_type": "execute_result"
    }
   ],
   "source": [
    "metrics.confusion_matrix(y_test,y_test_knn_pred)"
   ]
  },
  {
   "cell_type": "code",
   "execution_count": 48,
   "metadata": {},
   "outputs": [
    {
     "data": {
      "text/plain": [
       "0.7833333333333333"
      ]
     },
     "execution_count": 48,
     "metadata": {},
     "output_type": "execute_result"
    }
   ],
   "source": [
    "metrics.accuracy_score(y_test,y_test_knn_pred)"
   ]
  },
  {
   "cell_type": "markdown",
   "metadata": {},
   "source": [
    "# Naive-bayes"
   ]
  },
  {
   "cell_type": "code",
   "execution_count": 49,
   "metadata": {},
   "outputs": [],
   "source": [
    "from sklearn.naive_bayes import GaussianNB\n",
    "nbm=GaussianNB()"
   ]
  },
  {
   "cell_type": "markdown",
   "metadata": {},
   "source": [
    "### Train data"
   ]
  },
  {
   "cell_type": "code",
   "execution_count": 50,
   "metadata": {},
   "outputs": [
    {
     "data": {
      "text/plain": [
       "GaussianNB(priors=None, var_smoothing=1e-09)"
      ]
     },
     "execution_count": 50,
     "metadata": {},
     "output_type": "execute_result"
    }
   ],
   "source": [
    "nbm.fit(X_train_scaled,y_train)"
   ]
  },
  {
   "cell_type": "code",
   "execution_count": 51,
   "metadata": {},
   "outputs": [],
   "source": [
    "y_train_nbg_pred=nbm.predict(X_train_scaled)"
   ]
  },
  {
   "cell_type": "code",
   "execution_count": 52,
   "metadata": {},
   "outputs": [
    {
     "name": "stdout",
     "output_type": "stream",
     "text": [
      "              precision    recall  f1-score   support\n",
      "\n",
      "           2       0.35      0.43      0.38       142\n",
      "           3       1.00      0.02      0.04       598\n",
      "           4       0.15      0.97      0.26       100\n",
      "\n",
      "    accuracy                           0.20       840\n",
      "   macro avg       0.50      0.47      0.23       840\n",
      "weighted avg       0.79      0.20      0.12       840\n",
      "\n"
     ]
    }
   ],
   "source": [
    "print(metrics.classification_report(y_train,y_train_nbg_pred))"
   ]
  },
  {
   "cell_type": "code",
   "execution_count": 53,
   "metadata": {},
   "outputs": [
    {
     "data": {
      "text/plain": [
       "array([[ 61,   0,  81],\n",
       "       [112,  11, 475],\n",
       "       [  3,   0,  97]], dtype=int64)"
      ]
     },
     "execution_count": 53,
     "metadata": {},
     "output_type": "execute_result"
    }
   ],
   "source": [
    "metrics.confusion_matrix(y_train,y_train_nbg_pred)"
   ]
  },
  {
   "cell_type": "code",
   "execution_count": 54,
   "metadata": {},
   "outputs": [
    {
     "data": {
      "text/plain": [
       "0.2011904761904762"
      ]
     },
     "execution_count": 54,
     "metadata": {},
     "output_type": "execute_result"
    }
   ],
   "source": [
    "metrics.accuracy_score(y_train,y_train_nbg_pred)"
   ]
  },
  {
   "cell_type": "markdown",
   "metadata": {},
   "source": [
    "# Decission Tree"
   ]
  },
  {
   "cell_type": "code",
   "execution_count": 55,
   "metadata": {},
   "outputs": [],
   "source": [
    "from sklearn.tree import DecisionTreeClassifier\n",
    "clf_gini=DecisionTreeClassifier(criterion='gini',random_state=101)"
   ]
  },
  {
   "cell_type": "markdown",
   "metadata": {},
   "source": [
    "## Gini"
   ]
  },
  {
   "cell_type": "markdown",
   "metadata": {},
   "source": [
    "### Train data"
   ]
  },
  {
   "cell_type": "code",
   "execution_count": 56,
   "metadata": {},
   "outputs": [
    {
     "data": {
      "text/plain": [
       "DecisionTreeClassifier(class_weight=None, criterion='gini', max_depth=None,\n",
       "                       max_features=None, max_leaf_nodes=None,\n",
       "                       min_impurity_decrease=0.0, min_impurity_split=None,\n",
       "                       min_samples_leaf=1, min_samples_split=2,\n",
       "                       min_weight_fraction_leaf=0.0, presort=False,\n",
       "                       random_state=101, splitter='best')"
      ]
     },
     "execution_count": 56,
     "metadata": {},
     "output_type": "execute_result"
    }
   ],
   "source": [
    "clf_gini.fit(X_train_scaled,y_train)"
   ]
  },
  {
   "cell_type": "code",
   "execution_count": 57,
   "metadata": {},
   "outputs": [],
   "source": [
    "y_train_dtg_pred=clf_gini.predict(X_train_scaled)"
   ]
  },
  {
   "cell_type": "code",
   "execution_count": 58,
   "metadata": {},
   "outputs": [
    {
     "name": "stdout",
     "output_type": "stream",
     "text": [
      "              precision    recall  f1-score   support\n",
      "\n",
      "           2       1.00      1.00      1.00       142\n",
      "           3       1.00      1.00      1.00       598\n",
      "           4       1.00      1.00      1.00       100\n",
      "\n",
      "    accuracy                           1.00       840\n",
      "   macro avg       1.00      1.00      1.00       840\n",
      "weighted avg       1.00      1.00      1.00       840\n",
      "\n"
     ]
    }
   ],
   "source": [
    "print(metrics.classification_report(y_train,y_train_dtg_pred))"
   ]
  },
  {
   "cell_type": "code",
   "execution_count": 59,
   "metadata": {},
   "outputs": [
    {
     "data": {
      "text/plain": [
       "array([[142,   0,   0],\n",
       "       [  0, 598,   0],\n",
       "       [  0,   0, 100]], dtype=int64)"
      ]
     },
     "execution_count": 59,
     "metadata": {},
     "output_type": "execute_result"
    }
   ],
   "source": [
    "metrics.confusion_matrix(y_train,y_train_dtg_pred)"
   ]
  },
  {
   "cell_type": "code",
   "execution_count": 60,
   "metadata": {},
   "outputs": [
    {
     "data": {
      "text/plain": [
       "1.0"
      ]
     },
     "execution_count": 60,
     "metadata": {},
     "output_type": "execute_result"
    }
   ],
   "source": [
    "metrics.accuracy_score(y_train,y_train_dtg_pred)"
   ]
  },
  {
   "cell_type": "markdown",
   "metadata": {},
   "source": [
    "### Test data"
   ]
  },
  {
   "cell_type": "code",
   "execution_count": 61,
   "metadata": {},
   "outputs": [
    {
     "data": {
      "text/plain": [
       "DecisionTreeClassifier(class_weight=None, criterion='gini', max_depth=None,\n",
       "                       max_features=None, max_leaf_nodes=None,\n",
       "                       min_impurity_decrease=0.0, min_impurity_split=None,\n",
       "                       min_samples_leaf=1, min_samples_split=2,\n",
       "                       min_weight_fraction_leaf=0.0, presort=False,\n",
       "                       random_state=101, splitter='best')"
      ]
     },
     "execution_count": 61,
     "metadata": {},
     "output_type": "execute_result"
    }
   ],
   "source": [
    "clf_gini.fit(X_test_scaled,y_test)"
   ]
  },
  {
   "cell_type": "code",
   "execution_count": 62,
   "metadata": {},
   "outputs": [],
   "source": [
    "y_test_dtg_pred=clf_gini.predict(X_test_scaled)"
   ]
  },
  {
   "cell_type": "code",
   "execution_count": 63,
   "metadata": {},
   "outputs": [
    {
     "name": "stdout",
     "output_type": "stream",
     "text": [
      "              precision    recall  f1-score   support\n",
      "\n",
      "           2       1.00      1.00      1.00        52\n",
      "           3       1.00      1.00      1.00       276\n",
      "           4       1.00      1.00      1.00        32\n",
      "\n",
      "    accuracy                           1.00       360\n",
      "   macro avg       1.00      1.00      1.00       360\n",
      "weighted avg       1.00      1.00      1.00       360\n",
      "\n"
     ]
    }
   ],
   "source": [
    "print(metrics.classification_report(y_test,y_test_dtg_pred))"
   ]
  },
  {
   "cell_type": "code",
   "execution_count": 64,
   "metadata": {},
   "outputs": [
    {
     "data": {
      "text/plain": [
       "array([[ 52,   0,   0],\n",
       "       [  0, 276,   0],\n",
       "       [  0,   0,  32]], dtype=int64)"
      ]
     },
     "execution_count": 64,
     "metadata": {},
     "output_type": "execute_result"
    }
   ],
   "source": [
    "metrics.confusion_matrix(y_test,y_test_dtg_pred)"
   ]
  },
  {
   "cell_type": "code",
   "execution_count": 65,
   "metadata": {},
   "outputs": [
    {
     "data": {
      "text/plain": [
       "1.0"
      ]
     },
     "execution_count": 65,
     "metadata": {},
     "output_type": "execute_result"
    }
   ],
   "source": [
    "metrics.accuracy_score(y_test,y_test_dtg_pred)"
   ]
  },
  {
   "cell_type": "markdown",
   "metadata": {},
   "source": [
    "## Entropy"
   ]
  },
  {
   "cell_type": "code",
   "execution_count": 66,
   "metadata": {},
   "outputs": [],
   "source": [
    "clf_entropy=DecisionTreeClassifier(criterion='entropy',random_state=101)"
   ]
  },
  {
   "cell_type": "markdown",
   "metadata": {},
   "source": [
    "### Train Data"
   ]
  },
  {
   "cell_type": "code",
   "execution_count": 67,
   "metadata": {},
   "outputs": [
    {
     "data": {
      "text/plain": [
       "DecisionTreeClassifier(class_weight=None, criterion='entropy', max_depth=None,\n",
       "                       max_features=None, max_leaf_nodes=None,\n",
       "                       min_impurity_decrease=0.0, min_impurity_split=None,\n",
       "                       min_samples_leaf=1, min_samples_split=2,\n",
       "                       min_weight_fraction_leaf=0.0, presort=False,\n",
       "                       random_state=101, splitter='best')"
      ]
     },
     "execution_count": 67,
     "metadata": {},
     "output_type": "execute_result"
    }
   ],
   "source": [
    "clf_entropy.fit(X_train_scaled,y_train)"
   ]
  },
  {
   "cell_type": "code",
   "execution_count": 68,
   "metadata": {},
   "outputs": [],
   "source": [
    "y_train_dte_pred=clf_entropy.predict(X_train_scaled)"
   ]
  },
  {
   "cell_type": "code",
   "execution_count": 69,
   "metadata": {},
   "outputs": [
    {
     "name": "stdout",
     "output_type": "stream",
     "text": [
      "              precision    recall  f1-score   support\n",
      "\n",
      "           2       1.00      1.00      1.00       142\n",
      "           3       1.00      1.00      1.00       598\n",
      "           4       1.00      1.00      1.00       100\n",
      "\n",
      "    accuracy                           1.00       840\n",
      "   macro avg       1.00      1.00      1.00       840\n",
      "weighted avg       1.00      1.00      1.00       840\n",
      "\n"
     ]
    }
   ],
   "source": [
    "print(metrics.classification_report(y_train,y_train_dte_pred))"
   ]
  },
  {
   "cell_type": "code",
   "execution_count": 70,
   "metadata": {},
   "outputs": [
    {
     "data": {
      "text/plain": [
       "array([[142,   0,   0],\n",
       "       [  0, 598,   0],\n",
       "       [  0,   0, 100]], dtype=int64)"
      ]
     },
     "execution_count": 70,
     "metadata": {},
     "output_type": "execute_result"
    }
   ],
   "source": [
    "metrics.confusion_matrix(y_train,y_train_dte_pred)"
   ]
  },
  {
   "cell_type": "code",
   "execution_count": 71,
   "metadata": {},
   "outputs": [
    {
     "data": {
      "text/plain": [
       "1.0"
      ]
     },
     "execution_count": 71,
     "metadata": {},
     "output_type": "execute_result"
    }
   ],
   "source": [
    "metrics.accuracy_score(y_train,y_train_dte_pred)"
   ]
  },
  {
   "cell_type": "markdown",
   "metadata": {},
   "source": [
    "### Test data"
   ]
  },
  {
   "cell_type": "code",
   "execution_count": 72,
   "metadata": {},
   "outputs": [
    {
     "data": {
      "text/plain": [
       "DecisionTreeClassifier(class_weight=None, criterion='entropy', max_depth=None,\n",
       "                       max_features=None, max_leaf_nodes=None,\n",
       "                       min_impurity_decrease=0.0, min_impurity_split=None,\n",
       "                       min_samples_leaf=1, min_samples_split=2,\n",
       "                       min_weight_fraction_leaf=0.0, presort=False,\n",
       "                       random_state=101, splitter='best')"
      ]
     },
     "execution_count": 72,
     "metadata": {},
     "output_type": "execute_result"
    }
   ],
   "source": [
    "clf_entropy.fit(X_test_scaled,y_test)"
   ]
  },
  {
   "cell_type": "code",
   "execution_count": 73,
   "metadata": {},
   "outputs": [],
   "source": [
    "y_test_dte_pred=clf_entropy.predict(X_test_scaled)"
   ]
  },
  {
   "cell_type": "code",
   "execution_count": 74,
   "metadata": {},
   "outputs": [
    {
     "name": "stdout",
     "output_type": "stream",
     "text": [
      "              precision    recall  f1-score   support\n",
      "\n",
      "           2       1.00      1.00      1.00        52\n",
      "           3       1.00      1.00      1.00       276\n",
      "           4       1.00      1.00      1.00        32\n",
      "\n",
      "    accuracy                           1.00       360\n",
      "   macro avg       1.00      1.00      1.00       360\n",
      "weighted avg       1.00      1.00      1.00       360\n",
      "\n"
     ]
    }
   ],
   "source": [
    "print(metrics.classification_report(y_test,y_test_dte_pred))"
   ]
  },
  {
   "cell_type": "code",
   "execution_count": 75,
   "metadata": {},
   "outputs": [
    {
     "data": {
      "text/plain": [
       "array([[ 52,   0,   0],\n",
       "       [  0, 276,   0],\n",
       "       [  0,   0,  32]], dtype=int64)"
      ]
     },
     "execution_count": 75,
     "metadata": {},
     "output_type": "execute_result"
    }
   ],
   "source": [
    "metrics.confusion_matrix(y_test,y_test_dte_pred)"
   ]
  },
  {
   "cell_type": "code",
   "execution_count": 76,
   "metadata": {},
   "outputs": [
    {
     "data": {
      "text/plain": [
       "1.0"
      ]
     },
     "execution_count": 76,
     "metadata": {},
     "output_type": "execute_result"
    }
   ],
   "source": [
    "metrics.accuracy_score(y_test,y_test_dte_pred)"
   ]
  },
  {
   "cell_type": "markdown",
   "metadata": {},
   "source": [
    "# Random forest"
   ]
  },
  {
   "cell_type": "code",
   "execution_count": 77,
   "metadata": {},
   "outputs": [],
   "source": [
    "from sklearn.ensemble import RandomForestClassifier"
   ]
  },
  {
   "cell_type": "code",
   "execution_count": 78,
   "metadata": {},
   "outputs": [],
   "source": [
    "rf_model=RandomForestClassifier(n_estimators=40,random_state=101)"
   ]
  },
  {
   "cell_type": "markdown",
   "metadata": {},
   "source": [
    "### Train data"
   ]
  },
  {
   "cell_type": "code",
   "execution_count": 79,
   "metadata": {},
   "outputs": [
    {
     "data": {
      "text/plain": [
       "RandomForestClassifier(bootstrap=True, class_weight=None, criterion='gini',\n",
       "                       max_depth=None, max_features='auto', max_leaf_nodes=None,\n",
       "                       min_impurity_decrease=0.0, min_impurity_split=None,\n",
       "                       min_samples_leaf=1, min_samples_split=2,\n",
       "                       min_weight_fraction_leaf=0.0, n_estimators=40,\n",
       "                       n_jobs=None, oob_score=False, random_state=101,\n",
       "                       verbose=0, warm_start=False)"
      ]
     },
     "execution_count": 79,
     "metadata": {},
     "output_type": "execute_result"
    }
   ],
   "source": [
    "rf_model.fit(X_train_scaled,y_train)"
   ]
  },
  {
   "cell_type": "code",
   "execution_count": 80,
   "metadata": {},
   "outputs": [],
   "source": [
    "y_train_rf_pred=rf_model.predict(X_train_scaled)"
   ]
  },
  {
   "cell_type": "code",
   "execution_count": 81,
   "metadata": {},
   "outputs": [
    {
     "name": "stdout",
     "output_type": "stream",
     "text": [
      "              precision    recall  f1-score   support\n",
      "\n",
      "           2       1.00      1.00      1.00       142\n",
      "           3       1.00      1.00      1.00       598\n",
      "           4       1.00      1.00      1.00       100\n",
      "\n",
      "    accuracy                           1.00       840\n",
      "   macro avg       1.00      1.00      1.00       840\n",
      "weighted avg       1.00      1.00      1.00       840\n",
      "\n"
     ]
    }
   ],
   "source": [
    "print(metrics.classification_report(y_train,y_train_rf_pred))"
   ]
  },
  {
   "cell_type": "code",
   "execution_count": 82,
   "metadata": {},
   "outputs": [
    {
     "data": {
      "text/plain": [
       "array([[142,   0,   0],\n",
       "       [  0, 598,   0],\n",
       "       [  0,   0, 100]], dtype=int64)"
      ]
     },
     "execution_count": 82,
     "metadata": {},
     "output_type": "execute_result"
    }
   ],
   "source": [
    "metrics.confusion_matrix(y_train,y_train_rf_pred)"
   ]
  },
  {
   "cell_type": "code",
   "execution_count": 83,
   "metadata": {},
   "outputs": [
    {
     "data": {
      "text/plain": [
       "1.0"
      ]
     },
     "execution_count": 83,
     "metadata": {},
     "output_type": "execute_result"
    }
   ],
   "source": [
    "metrics.accuracy_score(y_train,y_train_rf_pred)"
   ]
  },
  {
   "cell_type": "markdown",
   "metadata": {},
   "source": [
    "### Test data"
   ]
  },
  {
   "cell_type": "code",
   "execution_count": 84,
   "metadata": {},
   "outputs": [
    {
     "data": {
      "text/plain": [
       "RandomForestClassifier(bootstrap=True, class_weight=None, criterion='gini',\n",
       "                       max_depth=None, max_features='auto', max_leaf_nodes=None,\n",
       "                       min_impurity_decrease=0.0, min_impurity_split=None,\n",
       "                       min_samples_leaf=1, min_samples_split=2,\n",
       "                       min_weight_fraction_leaf=0.0, n_estimators=40,\n",
       "                       n_jobs=None, oob_score=False, random_state=101,\n",
       "                       verbose=0, warm_start=False)"
      ]
     },
     "execution_count": 84,
     "metadata": {},
     "output_type": "execute_result"
    }
   ],
   "source": [
    "rf_model.fit(X_test_scaled,y_test)"
   ]
  },
  {
   "cell_type": "code",
   "execution_count": 85,
   "metadata": {},
   "outputs": [],
   "source": [
    "y_test_rf_pred=rf_model.predict(X_test_scaled)"
   ]
  },
  {
   "cell_type": "code",
   "execution_count": 86,
   "metadata": {},
   "outputs": [
    {
     "name": "stdout",
     "output_type": "stream",
     "text": [
      "              precision    recall  f1-score   support\n",
      "\n",
      "           2       1.00      1.00      1.00        52\n",
      "           3       1.00      1.00      1.00       276\n",
      "           4       1.00      1.00      1.00        32\n",
      "\n",
      "    accuracy                           1.00       360\n",
      "   macro avg       1.00      1.00      1.00       360\n",
      "weighted avg       1.00      1.00      1.00       360\n",
      "\n"
     ]
    }
   ],
   "source": [
    "print(metrics.classification_report(y_test,y_test_rf_pred))"
   ]
  },
  {
   "cell_type": "code",
   "execution_count": 87,
   "metadata": {},
   "outputs": [
    {
     "data": {
      "text/plain": [
       "array([[ 52,   0,   0],\n",
       "       [  0, 276,   0],\n",
       "       [  0,   0,  32]], dtype=int64)"
      ]
     },
     "execution_count": 87,
     "metadata": {},
     "output_type": "execute_result"
    }
   ],
   "source": [
    "metrics.confusion_matrix(y_test,y_test_rf_pred)"
   ]
  },
  {
   "cell_type": "code",
   "execution_count": 88,
   "metadata": {},
   "outputs": [
    {
     "data": {
      "text/plain": [
       "1.0"
      ]
     },
     "execution_count": 88,
     "metadata": {},
     "output_type": "execute_result"
    }
   ],
   "source": [
    "metrics.accuracy_score(y_test,y_test_rf_pred)"
   ]
  },
  {
   "cell_type": "markdown",
   "metadata": {},
   "source": [
    "# Xgboost"
   ]
  },
  {
   "cell_type": "code",
   "execution_count": 89,
   "metadata": {},
   "outputs": [],
   "source": [
    "from xgboost import XGBClassifier\n",
    "classifire=XGBClassifier()"
   ]
  },
  {
   "cell_type": "markdown",
   "metadata": {},
   "source": [
    "### Train data"
   ]
  },
  {
   "cell_type": "code",
   "execution_count": 90,
   "metadata": {},
   "outputs": [
    {
     "data": {
      "text/plain": [
       "XGBClassifier(base_score=0.5, booster='gbtree', colsample_bylevel=1,\n",
       "              colsample_bynode=1, colsample_bytree=1, gamma=0,\n",
       "              learning_rate=0.1, max_delta_step=0, max_depth=3,\n",
       "              min_child_weight=1, missing=None, n_estimators=100, n_jobs=1,\n",
       "              nthread=None, objective='multi:softprob', random_state=0,\n",
       "              reg_alpha=0, reg_lambda=1, scale_pos_weight=1, seed=None,\n",
       "              silent=None, subsample=1, verbosity=1)"
      ]
     },
     "execution_count": 90,
     "metadata": {},
     "output_type": "execute_result"
    }
   ],
   "source": [
    "classifire.fit(X_train_scaled,y_train)"
   ]
  },
  {
   "cell_type": "code",
   "execution_count": 91,
   "metadata": {},
   "outputs": [],
   "source": [
    "y_train_xgb_pred=classifire.predict(X_train_scaled)"
   ]
  },
  {
   "cell_type": "code",
   "execution_count": 92,
   "metadata": {},
   "outputs": [
    {
     "name": "stdout",
     "output_type": "stream",
     "text": [
      "              precision    recall  f1-score   support\n",
      "\n",
      "           2       0.92      0.99      0.95       142\n",
      "           3       0.99      0.98      0.99       598\n",
      "           4       1.00      0.97      0.98       100\n",
      "\n",
      "    accuracy                           0.98       840\n",
      "   macro avg       0.97      0.98      0.97       840\n",
      "weighted avg       0.98      0.98      0.98       840\n",
      "\n"
     ]
    }
   ],
   "source": [
    "print(metrics.classification_report(y_train,y_train_xgb_pred))"
   ]
  },
  {
   "cell_type": "code",
   "execution_count": 93,
   "metadata": {},
   "outputs": [
    {
     "data": {
      "text/plain": [
       "array([[140,   2,   0],\n",
       "       [ 12, 586,   0],\n",
       "       [  0,   3,  97]], dtype=int64)"
      ]
     },
     "execution_count": 93,
     "metadata": {},
     "output_type": "execute_result"
    }
   ],
   "source": [
    "metrics.confusion_matrix(y_train,y_train_xgb_pred)"
   ]
  },
  {
   "cell_type": "code",
   "execution_count": 94,
   "metadata": {},
   "outputs": [
    {
     "data": {
      "text/plain": [
       "0.9797619047619047"
      ]
     },
     "execution_count": 94,
     "metadata": {},
     "output_type": "execute_result"
    }
   ],
   "source": [
    "metrics.accuracy_score(y_train,y_train_xgb_pred)"
   ]
  },
  {
   "cell_type": "markdown",
   "metadata": {},
   "source": [
    "# Test data"
   ]
  },
  {
   "cell_type": "code",
   "execution_count": 96,
   "metadata": {},
   "outputs": [
    {
     "data": {
      "text/plain": [
       "XGBClassifier(base_score=0.5, booster='gbtree', colsample_bylevel=1,\n",
       "              colsample_bynode=1, colsample_bytree=1, gamma=0,\n",
       "              learning_rate=0.1, max_delta_step=0, max_depth=3,\n",
       "              min_child_weight=1, missing=None, n_estimators=100, n_jobs=1,\n",
       "              nthread=None, objective='multi:softprob', random_state=0,\n",
       "              reg_alpha=0, reg_lambda=1, scale_pos_weight=1, seed=None,\n",
       "              silent=None, subsample=1, verbosity=1)"
      ]
     },
     "execution_count": 96,
     "metadata": {},
     "output_type": "execute_result"
    }
   ],
   "source": [
    "classifire.fit(X_test_scaled,y_test)"
   ]
  },
  {
   "cell_type": "code",
   "execution_count": 97,
   "metadata": {},
   "outputs": [],
   "source": [
    "y_test_xgb_pred=classifire.predict(X_test_scaled)"
   ]
  },
  {
   "cell_type": "code",
   "execution_count": 98,
   "metadata": {},
   "outputs": [
    {
     "name": "stdout",
     "output_type": "stream",
     "text": [
      "              precision    recall  f1-score   support\n",
      "\n",
      "           2       1.00      1.00      1.00        52\n",
      "           3       1.00      1.00      1.00       276\n",
      "           4       1.00      1.00      1.00        32\n",
      "\n",
      "    accuracy                           1.00       360\n",
      "   macro avg       1.00      1.00      1.00       360\n",
      "weighted avg       1.00      1.00      1.00       360\n",
      "\n"
     ]
    }
   ],
   "source": [
    "print(metrics.classification_report(y_test,y_test_xgb_pred))"
   ]
  },
  {
   "cell_type": "code",
   "execution_count": 99,
   "metadata": {},
   "outputs": [
    {
     "data": {
      "text/plain": [
       "array([[ 52,   0,   0],\n",
       "       [  0, 276,   0],\n",
       "       [  0,   0,  32]], dtype=int64)"
      ]
     },
     "execution_count": 99,
     "metadata": {},
     "output_type": "execute_result"
    }
   ],
   "source": [
    "metrics.confusion_matrix(y_test,y_test_xgb_pred)"
   ]
  },
  {
   "cell_type": "code",
   "execution_count": 100,
   "metadata": {},
   "outputs": [
    {
     "data": {
      "text/plain": [
       "1.0"
      ]
     },
     "execution_count": 100,
     "metadata": {},
     "output_type": "execute_result"
    }
   ],
   "source": [
    "metrics.accuracy_score(y_test,y_test_xgb_pred)"
   ]
  },
  {
   "cell_type": "markdown",
   "metadata": {},
   "source": [
    "# Visualization"
   ]
  },
  {
   "cell_type": "code",
   "execution_count": 102,
   "metadata": {},
   "outputs": [
    {
     "data": {
      "text/plain": [
       "<matplotlib.axes._subplots.AxesSubplot at 0x1aeab8cb908>"
      ]
     },
     "execution_count": 102,
     "metadata": {},
     "output_type": "execute_result"
    },
    {
     "data": {
      "image/png": "[encoded data removed]",
      "text/plain": [
       "<Figure size 432x288 with 1 Axes>"
      ]
     },
     "metadata": {
      "needs_background": "light"
     },
     "output_type": "display_data"
    }
   ],
   "source": [
    "sns.boxplot(x=df.PerformanceRating,y=df.Age)"
   ]
  },
  {
   "cell_type": "code",
   "execution_count": 103,
   "metadata": {},
   "outputs": [
    {
     "data": {
      "text/plain": [
       "<matplotlib.axes._subplots.AxesSubplot at 0x1aeaa6f32e8>"
      ]
     },
     "execution_count": 103,
     "metadata": {},
     "output_type": "execute_result"
    },
    {
     "data": {
      "image/png": "[encoded data removed]",
      "text/plain": [
       "<Figure size 432x288 with 1 Axes>"
      ]
     },
     "metadata": {
      "needs_background": "light"
     },
     "output_type": "display_data"
    }
   ],
   "source": [
    "sns.boxplot(x=df.PerformanceRating,y=df.TotalWorkExperienceInYears)"
   ]
  },
  {
   "cell_type": "code",
   "execution_count": 105,
   "metadata": {},
   "outputs": [
    {
     "data": {
      "text/plain": [
       "<matplotlib.axes._subplots.AxesSubplot at 0x1aeab167a20>"
      ]
     },
     "execution_count": 105,
     "metadata": {},
     "output_type": "execute_result"
    },
    {
     "data": {
      "image/png": "[encoded data removed]",
      "text/plain": [
       "<Figure size 432x288 with 1 Axes>"
      ]
     },
     "metadata": {
      "needs_background": "light"
     },
     "output_type": "display_data"
    }
   ],
   "source": [
    "sns.boxplot(x=df.PerformanceRating,y=df.ExperienceYearsAtThisCompany)"
   ]
  },
  {
   "cell_type": "code",
   "execution_count": 106,
   "metadata": {},
   "outputs": [
    {
     "data": {
      "text/plain": [
       "<matplotlib.axes._subplots.AxesSubplot at 0x1ae9b72bba8>"
      ]
     },
     "execution_count": 106,
     "metadata": {},
     "output_type": "execute_result"
    },
    {
     "data": {
      "image/png": "[encoded data removed]",
      "text/plain": [
       "<Figure size 432x288 with 1 Axes>"
      ]
     },
     "metadata": {
      "needs_background": "light"
     },
     "output_type": "display_data"
    }
   ],
   "source": [
    "sns.boxplot(x=df.PerformanceRating,y=df.ExperienceYearsInCurrentRole)"
   ]
  },
  {
   "cell_type": "code",
   "execution_count": 107,
   "metadata": {},
   "outputs": [
    {
     "data": {
      "text/plain": [
       "<matplotlib.axes._subplots.AxesSubplot at 0x1ae9be83940>"
      ]
     },
     "execution_count": 107,
     "metadata": {},
     "output_type": "execute_result"
    },
    {
     "data": {
      "image/png": "[encoded data removed]",
      "text/plain": [
       "<Figure size 432x288 with 1 Axes>"
      ]
     },
     "metadata": {
      "needs_background": "light"
     },
     "output_type": "display_data"
    }
   ],
   "source": [
    "sns.boxplot(x=df.PerformanceRating,y=df.YearsSinceLastPromotion)"
   ]
  },
  {
   "cell_type": "code",
   "execution_count": 108,
   "metadata": {},
   "outputs": [
    {
     "data": {
      "text/plain": [
       "<matplotlib.axes._subplots.AxesSubplot at 0x1ae9b7fb518>"
      ]
     },
     "execution_count": 108,
     "metadata": {},
     "output_type": "execute_result"
    },
    {
     "data": {
      "image/png": "[encoded data removed]",
      "text/plain": [
       "<Figure size 432x288 with 1 Axes>"
      ]
     },
     "metadata": {
      "needs_background": "light"
     },
     "output_type": "display_data"
    }
   ],
   "source": [
    "sns.boxplot(x=df.PerformanceRating,y=df.YearsWithCurrManager)"
   ]
  },
  {
   "cell_type": "code",
   "execution_count": null,
   "metadata": {},
   "outputs": [],
   "source": []
  }
 ],
 "metadata": {
  "kernelspec": {
   "display_name": "Python 3",
   "language": "python",
   "name": "python3"
  },
  "language_info": {
   "codemirror_mode": {
    "name": "ipython",
    "version": 3
   },
   "file_extension": ".py",
   "mimetype": "text/x-python",
   "name": "python",
   "nbconvert_exporter": "python",
   "pygments_lexer": "ipython3",
   "version": "3.7.3"
  }
 },
 "nbformat": 4,
 "nbformat_minor": 2
}
