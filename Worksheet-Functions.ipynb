{
 "cells": [
  {
   "cell_type": "markdown",
   "metadata": {},
   "source": [
    "## def Statements\n",
    "\n",
    "Let's see how to build out a function's syntax in Python. It has the following form:"
   ]
  },
  {
   "cell_type": "code",
   "execution_count": 1,
   "metadata": {},
   "outputs": [],
   "source": [
    "def name_of_function(arg1,arg2):\n",
    "    '''\n",
    "    This is where the function's Document String (docstring) goes\n",
    "    '''\n",
    "    # Do stuff here\n",
    "    # Return desired result"
   ]
  },
  {
   "cell_type": "markdown",
   "metadata": {},
   "source": [
    "### Example 1: A simple print 'hello' function"
   ]
  },
  {
   "cell_type": "code",
   "execution_count": 2,
   "metadata": {},
   "outputs": [],
   "source": [
    "def print_hello():\n",
    "    print('hello')"
   ]
  },
  {
   "cell_type": "markdown",
   "metadata": {},
   "source": [
    "Call the function:"
   ]
  },
  {
   "cell_type": "code",
   "execution_count": 3,
   "metadata": {},
   "outputs": [
    {
     "name": "stdout",
     "output_type": "stream",
     "text": [
      "hello\n"
     ]
    }
   ],
   "source": [
    "print_hello()"
   ]
  },
  {
   "cell_type": "markdown",
   "metadata": {},
   "source": [
    "### Example 2: A simple greeting function\n",
    "Let's write a function that greets people with their name."
   ]
  },
  {
   "cell_type": "code",
   "execution_count": 4,
   "metadata": {},
   "outputs": [],
   "source": [
    "\n"
   ]
  },
  {
   "cell_type": "code",
   "execution_count": 2,
   "metadata": {},
   "outputs": [],
   "source": [
    "\n"
   ]
  },
  {
   "cell_type": "code",
   "execution_count": 3,
   "metadata": {},
   "outputs": [
    {
     "name": "stdout",
     "output_type": "stream",
     "text": [
      "Hello  Jose\n"
     ]
    }
   ],
   "source": [
    "greeting1('Jose')"
   ]
  },
  {
   "cell_type": "markdown",
   "metadata": {},
   "source": [
    "## Using return\n",
    "Let's see some example that use a <code>return</code> statement. <code>return</code> allows a function to *return* a result that can then be stored as a variable, or used in whatever manner a user wants.\n",
    "\n",
    "### Example 3: Addition function"
   ]
  },
  {
   "cell_type": "code",
   "execution_count": 6,
   "metadata": {},
   "outputs": [],
   "source": [
    "def add_num(num1,num2):\n"
   ]
  },
  {
   "cell_type": "code",
   "execution_count": 7,
   "metadata": {},
   "outputs": [
    {
     "data": {
      "text/plain": [
       "9"
      ]
     },
     "execution_count": 7,
     "metadata": {},
     "output_type": "execute_result"
    }
   ],
   "source": []
  },
  {
   "cell_type": "code",
   "execution_count": 8,
   "metadata": {},
   "outputs": [],
   "source": [
    "# Can also save as variable due to return\n",
    "result = add_num(4,5)"
   ]
  },
  {
   "cell_type": "code",
   "execution_count": 9,
   "metadata": {},
   "outputs": [
    {
     "name": "stdout",
     "output_type": "stream",
     "text": [
      "9\n"
     ]
    }
   ],
   "source": [
    "print(result)"
   ]
  },
  {
   "cell_type": "markdown",
   "metadata": {},
   "source": [
    "What happens if we input two strings?"
   ]
  },
  {
   "cell_type": "markdown",
   "metadata": {},
   "source": [
    "#### write a function which identifies whether a number is a prime number or not"
   ]
  },
  {
   "cell_type": "code",
   "execution_count": 18,
   "metadata": {},
   "outputs": [],
   "source": [
    "def is_prime(num):\n",
    "    c=0\n",
    "    if num==0 or num==1:\n",
    "        print(num,'is not Prime')\n",
    "        return\n",
    "    for i in range(2,int(num/2)):\n",
    "        if num%i==0:\n",
    "            c+=1\n",
    "    if c==0:\n",
    "        print(num,'is Prime')\n",
    "    else:\n",
    "        print(num,'is not Prime')"
   ]
  },
  {
   "cell_type": "code",
   "execution_count": 19,
   "metadata": {},
   "outputs": [
    {
     "name": "stdout",
     "output_type": "stream",
     "text": [
      "16 is not Prime\n"
     ]
    }
   ],
   "source": [
    "is_prime(16)"
   ]
  },
  {
   "cell_type": "code",
   "execution_count": 21,
   "metadata": {},
   "outputs": [
    {
     "name": "stdout",
     "output_type": "stream",
     "text": [
      "17 is Prime\n"
     ]
    }
   ],
   "source": [
    "is_prime(17)"
   ]
  },
  {
   "cell_type": "markdown",
   "metadata": {},
   "source": [
    "# Exercise 1:"
   ]
  },
  {
   "cell_type": "markdown",
   "metadata": {},
   "source": [
    "#### Write a python function which takes a list of numbers as input and returns the maxmum and minimum number "
   ]
  },
  {
   "cell_type": "code",
   "execution_count": 28,
   "metadata": {},
   "outputs": [
    {
     "name": "stdout",
     "output_type": "stream",
     "text": [
      "(10.3,-2)\n"
     ]
    }
   ],
   "source": [
    "def max_min(lst):\n",
    "    min=lst[0]\n",
    "    max=lst[0]\n",
    "    for i in lst:\n",
    "        if min>i:\n",
    "            min=i\n",
    "        if max<i:\n",
    "            max=i\n",
    "    print('({},{})'.format(max,min))\n",
    "    \n",
    "max_min([-2,6,3,7,4,9.2,10.3])        \n",
    "        "
   ]
  },
  {
   "cell_type": "markdown",
   "metadata": {},
   "source": [
    "#### write a python function which takes two numbers and tells whether one number is divisible by the other"
   ]
  },
  {
   "cell_type": "code",
   "execution_count": 29,
   "metadata": {},
   "outputs": [
    {
     "name": "stdout",
     "output_type": "stream",
     "text": [
      "yes\n",
      "yes\n",
      "No\n"
     ]
    }
   ],
   "source": [
    "def divisible(x,y):\n",
    "    if x>y and x%y==0:\n",
    "        print('yes')\n",
    "    elif x<y and y%x==0:\n",
    "        print('yes')\n",
    "    else:\n",
    "        print('No')\n",
    "divisible(8,4) \n",
    "divisible(8,24) \n",
    "divisible(8,3) "
   ]
  },
  {
   "cell_type": "markdown",
   "metadata": {},
   "source": [
    "#### Write a Python function which takes a positive integer as argument and returns the sum of the squares of all the numbers equal to or less than the number."
   ]
  },
  {
   "cell_type": "code",
   "execution_count": 30,
   "metadata": {},
   "outputs": [
    {
     "name": "stdout",
     "output_type": "stream",
     "text": [
      "Sum of squares:  55\n"
     ]
    }
   ],
   "source": [
    "def sum_of_sq(n):\n",
    "    sq_sum=0\n",
    "    for i in range(1,n+1):\n",
    "        sq_sum+=(i**2)\n",
    "    return sq_sum\n",
    "\n",
    "print(\"Sum of squares: \",sum_of_sq(5))"
   ]
  },
  {
   "cell_type": "markdown",
   "metadata": {},
   "source": [
    "#### Write a Python function which takes a positive integer as argument and returns the sum of the cube of all the positive integers smaller than the specified number"
   ]
  },
  {
   "cell_type": "code",
   "execution_count": 31,
   "metadata": {},
   "outputs": [
    {
     "name": "stdout",
     "output_type": "stream",
     "text": [
      "Sum of cubes:  36\n"
     ]
    }
   ],
   "source": [
    "def sum_of_cubes(n):\n",
    "    sq_sum=0\n",
    "    for i in range(1,n+1):\n",
    "        sq_sum+=(i**3)\n",
    "    return sq_sum\n",
    "\n",
    "print(\"Sum of cubes: \",sum_of_cubes(3))"
   ]
  },
  {
   "cell_type": "markdown",
   "metadata": {},
   "source": [
    "# Function Exercise2:\n"
   ]
  },
  {
   "cell_type": "markdown",
   "metadata": {},
   "source": [
    "####  Write a Python function to multiply all the numbers in a list. \n",
    "\n",
    "Sample List : (8, 2, 3, -1, 7)\n",
    "Expected Output : -336 "
   ]
  },
  {
   "cell_type": "code",
   "execution_count": 33,
   "metadata": {},
   "outputs": [
    {
     "name": "stdout",
     "output_type": "stream",
     "text": [
      "-336\n"
     ]
    }
   ],
   "source": [
    "\n",
    "def mult_list(lst):\n",
    "    mult=1\n",
    "    for i in lst:\n",
    "        mult*=i\n",
    "    return mult\n",
    "\n",
    "lst=[8, 2, 3, -1, 7]\n",
    "print(mult_list(lst))\n"
   ]
  },
  {
   "cell_type": "markdown",
   "metadata": {},
   "source": [
    "####  Write a Python function to sum all the numbers in a list. \n",
    "Sample List : (8, 2, 3, 0, 7)\n",
    "Expected Output : 20 "
   ]
  },
  {
   "cell_type": "code",
   "execution_count": 34,
   "metadata": {},
   "outputs": [
    {
     "name": "stdout",
     "output_type": "stream",
     "text": [
      "20\n"
     ]
    }
   ],
   "source": [
    "def sum_list(lst):\n",
    "    sum=0\n",
    "    for i in lst:\n",
    "        sum+=i\n",
    "    return sum\n",
    "l=[8, 2, 3, 0, 7]\n",
    "print(sum_list(l))\n"
   ]
  },
  {
   "cell_type": "markdown",
   "metadata": {},
   "source": [
    "####  Write a Python function that accepts a non-negative  integer as argumen and calculates the factorial of the number"
   ]
  },
  {
   "cell_type": "code",
   "execution_count": 35,
   "metadata": {},
   "outputs": [
    {
     "name": "stdout",
     "output_type": "stream",
     "text": [
      "Enter a number: 7\n",
      "Factorial of 7 = 5040\n"
     ]
    }
   ],
   "source": [
    "def factorial(n):\n",
    "    fact=1\n",
    "    if n<0:\n",
    "        print(n,'should be a positive number')\n",
    "    elif n==0:\n",
    "        print('Factorial of',n,'=',1)\n",
    "    else:\n",
    "        for i in range(n,0,-1):\n",
    "            fact*=i\n",
    "        print('Factorial of',n,'=',fact)\n",
    "\n",
    "n=int(input('Enter a number: '))\n",
    "factorial(n)\n"
   ]
  },
  {
   "cell_type": "markdown",
   "metadata": {},
   "source": [
    "####  Write a Python program to reverse a string\n",
    "Sample String : \"1234abcd\"\n",
    "Expected Output : \"dcba4321\""
   ]
  },
  {
   "cell_type": "code",
   "execution_count": 38,
   "metadata": {},
   "outputs": [
    {
     "data": {
      "text/plain": [
       "'sdrow'"
      ]
     },
     "execution_count": 38,
     "metadata": {},
     "output_type": "execute_result"
    }
   ],
   "source": [
    "def reverse_str(st):\n",
    "    rev=''\n",
    "    for i in range(len(st)-1,-1,-1):\n",
    "        rev+=st[i]\n",
    "    return rev\n",
    "r=reverse_str('words')\n",
    "r\n",
    "        \n"
   ]
  },
  {
   "cell_type": "markdown",
   "metadata": {},
   "source": [
    "#### Write a Python funtion which takes a list of numbers as argument and prints the even numbers from the given list."
   ]
  },
  {
   "cell_type": "code",
   "execution_count": 40,
   "metadata": {},
   "outputs": [
    {
     "name": "stdout",
     "output_type": "stream",
     "text": [
      "[2, 4, 6, 8, 10]\n"
     ]
    }
   ],
   "source": [
    "def even_of_list(lst):\n",
    "    l=[]\n",
    "    for i in lst:\n",
    "        if i%2==0:\n",
    "          l.append(i)\n",
    "    return l\n",
    "lst=[1,2,3,4,5,6,7,8,9,10]\n",
    "print(even_of_list(lst))\n"
   ]
  },
  {
   "cell_type": "markdown",
   "metadata": {},
   "source": [
    "#### Write a Python function that accepts a string and calculate the number of upper case letters and lower case letters."
   ]
  },
  {
   "cell_type": "code",
   "execution_count": 44,
   "metadata": {},
   "outputs": [
    {
     "name": "stdout",
     "output_type": "stream",
     "text": [
      "No. of Upper case characters : 3\n",
      "No. of Lower case Characters : 13\n"
     ]
    }
   ],
   "source": [
    "def number_of_upper_lower(st):\n",
    "    c_upper=0\n",
    "    c_lower=0\n",
    "    for i in st:\n",
    "        if i>='A' and i<='Z':\n",
    "            c_upper+=1\n",
    "        elif i>='a' and i<='z':\n",
    "            c_lower+=1\n",
    "    print('No. of Upper case characters :',c_upper)\n",
    "    print('No. of Lower case Characters :',c_lower)\n",
    "s1='The quick Brown Fox'\n",
    "number_of_upper_lower(s1)\n"
   ]
  },
  {
   "cell_type": "markdown",
   "metadata": {},
   "source": [
    "#### Write a Python function that takes a list and returns a new list with unique elements of the first list."
   ]
  },
  {
   "cell_type": "code",
   "execution_count": 53,
   "metadata": {},
   "outputs": [
    {
     "name": "stdout",
     "output_type": "stream",
     "text": [
      "[1, 2, 3, 4, 5]\n"
     ]
    }
   ],
   "source": [
    "def unique_list(lst):\n",
    "    nl=[]\n",
    "    e = lst[0]\n",
    "    i=1\n",
    "    for i in range(1,len(lst)):\n",
    "        \n",
    "        if e!=lst[i]:\n",
    "            nl.append(e)\n",
    "            e=lst[i]\n",
    "    nl.append(e)\n",
    "    return nl\n",
    "\n",
    "print(unique_list([1,2,3,3,3,3,4,5])) "
   ]
  },
  {
   "cell_type": "markdown",
   "metadata": {},
   "source": [
    "#### Write a Python function to check whether a number is in a given range."
   ]
  },
  {
   "cell_type": "code",
   "execution_count": 12,
   "metadata": {},
   "outputs": [
    {
     "name": "stdout",
     "output_type": "stream",
     "text": [
      " 5 is in the range\n"
     ]
    }
   ],
   "source": [
    "def test_range()\n",
    "\n",
    "test_range(5)"
   ]
  },
  {
   "cell_type": "markdown",
   "metadata": {},
   "source": [
    "#### Write a Python function that checks whether a passed string is palindrome or not.\n",
    "\n",
    "Note: A palindrome is a word, phrase, or sequence that reads the same backward as forward, e.g., madam or nurses run."
   ]
  },
  {
   "cell_type": "code",
   "execution_count": 55,
   "metadata": {},
   "outputs": [
    {
     "name": "stdout",
     "output_type": "stream",
     "text": [
      "Palindrome\n",
      "Not Palindrome\n"
     ]
    }
   ],
   "source": [
    "def isPalindrome(st):\n",
    "    rev=''\n",
    "    for i in range(len(st)-1,-1,-1):\n",
    "        rev+=st[i]\n",
    "    if rev==st:\n",
    "        print('Palindrome')\n",
    "    else:\n",
    "        print('Not Palindrome')\n",
    "\n",
    "isPalindrome('aza') \n",
    "isPalindrome('asddg') "
   ]
  },
  {
   "cell_type": "markdown",
   "metadata": {},
   "source": [
    "#### Write a Python function to create and print a list where the values are square of numbers between 1 and 10 (both included)."
   ]
  },
  {
   "cell_type": "code",
   "execution_count": 56,
   "metadata": {},
   "outputs": [
    {
     "data": {
      "text/plain": [
       "[1, 4, 9, 16, 25, 36, 49, 64, 81, 100]"
      ]
     },
     "execution_count": 56,
     "metadata": {},
     "output_type": "execute_result"
    }
   ],
   "source": [
    "def print_square_Values():\n",
    "    l=[]\n",
    "    for i in range(1,11):\n",
    "        l.append(i**2)\n",
    "    return l\n",
    "\n",
    "\n",
    "print_square_Values()"
   ]
  },
  {
   "cell_type": "markdown",
   "metadata": {},
   "source": [
    "#### write fibonacci function 1,1,2,3,5,8 => fib(n) using recursion"
   ]
  },
  {
   "cell_type": "code",
   "execution_count": 71,
   "metadata": {},
   "outputs": [
    {
     "data": {
      "text/plain": [
       "233"
      ]
     },
     "execution_count": 71,
     "metadata": {},
     "output_type": "execute_result"
    }
   ],
   "source": [
    "def fib1(n):\n",
    "    if n<=1:\n",
    "        return 1\n",
    "    else:\n",
    "        f=fib1(n-1) + fib1(n-2)\n",
    "        return f\n",
    "\n",
    "fib1(12)"
   ]
  },
  {
   "cell_type": "markdown",
   "metadata": {},
   "source": [
    "#### write fibonacci function fib2 using iteration"
   ]
  },
  {
   "cell_type": "code",
   "execution_count": 61,
   "metadata": {},
   "outputs": [
    {
     "name": "stdout",
     "output_type": "stream",
     "text": [
      "0 1 1 2 3 5 8 13 21 34 55 "
     ]
    }
   ],
   "source": [
    "def fib2(n):\n",
    "    a=0\n",
    "    b=1\n",
    "    print(a,end=' ')\n",
    "    print(b,end=' ')\n",
    "    for i in range(2,n):\n",
    "        c=a+b\n",
    "        a=b\n",
    "        b=c\n",
    "        print(c,end=' ')\n",
    "\n",
    "\n",
    "fib2(11)    \n"
   ]
  },
  {
   "cell_type": "markdown",
   "metadata": {},
   "source": [
    "####  function that takes an argument and finds sum of squares of variable number of the argument"
   ]
  },
  {
   "cell_type": "code",
   "execution_count": 57,
   "metadata": {},
   "outputs": [],
   "source": [
    "def sumOfSquares(lst):\n",
    "    sum=0\n",
    "    for i in lst:\n",
    "        sum+=(i**2)\n",
    "    return sum"
   ]
  },
  {
   "cell_type": "code",
   "execution_count": 58,
   "metadata": {},
   "outputs": [
    {
     "name": "stdout",
     "output_type": "stream",
     "text": [
      "30\n"
     ]
    }
   ],
   "source": [
    "print(sumOfSquares([1,2,3,4]))"
   ]
  },
  {
   "cell_type": "code",
   "execution_count": 72,
   "metadata": {},
   "outputs": [
    {
     "data": {
      "text/plain": [
       "'C:\\\\Users\\\\anusr\\\\Anusrura-Testyantra'"
      ]
     },
     "execution_count": 72,
     "metadata": {},
     "output_type": "execute_result"
    }
   ],
   "source": [
    "%pwd"
   ]
  },
  {
   "cell_type": "code",
   "execution_count": null,
   "metadata": {},
   "outputs": [],
   "source": []
  }
 ],
 "metadata": {
  "kernelspec": {
   "display_name": "Python 3",
   "language": "python",
   "name": "python3"
  },
  "language_info": {
   "codemirror_mode": {
    "name": "ipython",
    "version": 3
   },
   "file_extension": ".py",
   "mimetype": "text/x-python",
   "name": "python",
   "nbconvert_exporter": "python",
   "pygments_lexer": "ipython3",
   "version": "3.7.3"
  }
 },
 "nbformat": 4,
 "nbformat_minor": 2
}
