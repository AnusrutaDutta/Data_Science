{
 "cells": [
  {
   "cell_type": "markdown",
   "metadata": {},
   "source": [
    "# Relational Operator"
   ]
  },
  {
   "cell_type": "code",
   "execution_count": 1,
   "metadata": {},
   "outputs": [
    {
     "data": {
      "text/plain": [
       "True"
      ]
     },
     "execution_count": 1,
     "metadata": {},
     "output_type": "execute_result"
    }
   ],
   "source": [
    "2==2"
   ]
  },
  {
   "cell_type": "code",
   "execution_count": 2,
   "metadata": {},
   "outputs": [
    {
     "data": {
      "text/plain": [
       "False"
      ]
     },
     "execution_count": 2,
     "metadata": {},
     "output_type": "execute_result"
    }
   ],
   "source": [
    "1==0"
   ]
  },
  {
   "cell_type": "code",
   "execution_count": 3,
   "metadata": {},
   "outputs": [
    {
     "data": {
      "text/plain": [
       "True"
      ]
     },
     "execution_count": 3,
     "metadata": {},
     "output_type": "execute_result"
    }
   ],
   "source": [
    "1!=3"
   ]
  },
  {
   "cell_type": "code",
   "execution_count": 9,
   "metadata": {},
   "outputs": [
    {
     "name": "stdout",
     "output_type": "stream",
     "text": [
      "Enter Your Name: Anusruta\n",
      "Welcome! What is your name?\n"
     ]
    }
   ],
   "source": [
    "name=input(\"Enter Your Name: \")\n",
    "if name=='Sam':\n",
    "    print('Welcome Sam')\n",
    "elif name=='Gorge':\n",
    "    print('Welcome Gorge')\n",
    "else:\n",
    "    print('Welcome! What is your name?')"
   ]
  },
  {
   "cell_type": "code",
   "execution_count": 15,
   "metadata": {},
   "outputs": [
    {
     "name": "stdout",
     "output_type": "stream",
     "text": [
      "Enter three numbers:\n",
      "40\n",
      "60\n",
      "20\n",
      "Median is 40\n"
     ]
    }
   ],
   "source": [
    "print('Enter three numbers:')\n",
    "n1 = input()\n",
    "n2 = input()\n",
    "n3 = input()\n",
    "if(n1<n2 and n2<n3 or n1>n2 and n2>n3):\n",
    "    print('Median is',n2)\n",
    "elif(n2<n1 and n1<n3 or n2>n1 and n1>n3):\n",
    "    print('Median is',n1)\n",
    "else:\n",
    "    print('Median is',n3)\n"
   ]
  },
  {
   "cell_type": "markdown",
   "metadata": {},
   "source": [
    "* Summer = june 20th to september 19th\n",
    "* Autumn = September 20th to Dec 19th\n",
    "* winter = dec 20th to march 19th\n",
    "* spring = march 20th to june 19th"
   ]
  },
  {
   "cell_type": "code",
   "execution_count": 33,
   "metadata": {},
   "outputs": [
    {
     "name": "stdout",
     "output_type": "stream",
     "text": [
      "Enter the day number 1\n",
      "Enter the no. of month 1\n",
      "Season = Winter\n"
     ]
    }
   ],
   "source": [
    "\n",
    "date = int(input('Enter the day number '))\n",
    "month = int(input('Enter the no. of month '))\n",
    "if month>12:\n",
    "    print('Invalid Month input')\n",
    "elif (month==4 or month==6 or month==9 or month==11) and date>30:\n",
    "    print('Invalid Date input')\n",
    "elif month==2 and date>28:\n",
    "    print('Invalid Date input')\n",
    "elif date>31:\n",
    "    print('Invalid Date input')\n",
    "elif ((month==6 and date>=20)or month>6) and ((month==9 and date<20) or month<9):\n",
    "    print('Season = Summer')\n",
    "elif ((month==9 and date>=20)or month>9) and ((month==12 and date<20) or month<12):\n",
    "    print('Season = Autumn')\n",
    "elif (month==12 and date>=20) and (month==3 and date<20) or month<3:\n",
    "    print('Season = Winter')\n",
    "elif ((month==3 and date>=20)or month>3) and ((month==6 and date<20)or month<6):\n",
    "    print('Season = Spring')"
   ]
  },
  {
   "cell_type": "markdown",
   "metadata": {},
   "source": [
    "## While loop"
   ]
  },
  {
   "cell_type": "code",
   "execution_count": 4,
   "metadata": {},
   "outputs": [],
   "source": [
    "x = 10\n",
    "while x>=10:\n",
    "    if x%2!=0:\n",
    "        print(x)\n",
    "    x-=1"
   ]
  },
  {
   "cell_type": "markdown",
   "metadata": {},
   "source": [
    "# Range"
   ]
  },
  {
   "cell_type": "code",
   "execution_count": 3,
   "metadata": {},
   "outputs": [
    {
     "data": {
      "text/plain": [
       "[11, 10, 9, 8, 7, 6, 5, 4, 3, 2, 1, 0]"
      ]
     },
     "execution_count": 3,
     "metadata": {},
     "output_type": "execute_result"
    }
   ],
   "source": [
    "list(range(11,-1,-1))"
   ]
  },
  {
   "cell_type": "code",
   "execution_count": 5,
   "metadata": {},
   "outputs": [
    {
     "name": "stdout",
     "output_type": "stream",
     "text": [
      "0 10\n",
      "1 23\n",
      "2 45\n",
      "3 67\n",
      "4 89\n",
      "5 34\n"
     ]
    }
   ],
   "source": [
    "lst = [10,23,45,67,89,34]\n",
    "for index,value in enumerate(lst):\n",
    "    print(index,value)"
   ]
  },
  {
   "cell_type": "code",
   "execution_count": 6,
   "metadata": {},
   "outputs": [
    {
     "name": "stdout",
     "output_type": "stream",
     "text": [
      "4\n"
     ]
    }
   ],
   "source": [
    "for index,value in enumerate(lst):\n",
    "    if value==89:\n",
    "        print(index)"
   ]
  },
  {
   "cell_type": "code",
   "execution_count": null,
   "metadata": {},
   "outputs": [],
   "source": []
  }
 ],
 "metadata": {
  "kernelspec": {
   "display_name": "Python 3",
   "language": "python",
   "name": "python3"
  },
  "language_info": {
   "codemirror_mode": {
    "name": "ipython",
    "version": 3
   },
   "file_extension": ".py",
   "mimetype": "text/x-python",
   "name": "python",
   "nbconvert_exporter": "python",
   "pygments_lexer": "ipython3",
   "version": "3.7.3"
  }
 },
 "nbformat": 4,
 "nbformat_minor": 2
}
